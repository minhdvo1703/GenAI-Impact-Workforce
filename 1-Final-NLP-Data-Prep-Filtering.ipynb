{
 "cells": [
  {
   "cell_type": "markdown",
   "id": "acbb4a95-5f5c-4d50-9b90-9c21c655e015",
   "metadata": {
    "id": "AXFJlWjSmGv_",
    "tags": []
   },
   "source": [
    "### Minh Vo\n",
    "### ADSP 32018 - Natural Language Processing and Cognitive Computing (Autumn 23)\n",
    "### FINAL PROJECT"
   ]
  },
  {
   "cell_type": "markdown",
   "id": "68443ecf-cd74-4b3d-88d3-4a7a652373b4",
   "metadata": {
    "tags": []
   },
   "source": [
    "### Data Preprocessing & Cleaning"
   ]
  },
  {
   "cell_type": "code",
   "execution_count": 1,
   "id": "541be70b-a0c5-4a67-b3e5-a56f1bfed80c",
   "metadata": {},
   "outputs": [],
   "source": [
    "# !pip install pandarallel\n",
    "# !pip install nltk\n",
    "# !pip install textblob\n",
    "# !pip install spacy\n",
    "# !pip install google-cloud-storage"
   ]
  },
  {
   "cell_type": "code",
   "execution_count": 2,
   "id": "21e94090-8ebd-4acb-a135-070eecd5b3fc",
   "metadata": {
    "tags": []
   },
   "outputs": [
    {
     "name": "stderr",
     "output_type": "stream",
     "text": [
      "[nltk_data] Downloading package averaged_perceptron_tagger to\n",
      "[nltk_data]     /home/jupyter/nltk_data...\n",
      "[nltk_data]   Package averaged_perceptron_tagger is already up-to-\n",
      "[nltk_data]       date!\n",
      "[nltk_data] Downloading package wordnet to /home/jupyter/nltk_data...\n",
      "[nltk_data]   Package wordnet is already up-to-date!\n",
      "[nltk_data] Downloading package punkt to /home/jupyter/nltk_data...\n",
      "[nltk_data]   Package punkt is already up-to-date!\n"
     ]
    }
   ],
   "source": [
    "import time\n",
    "import math\n",
    "import re\n",
    "import string\n",
    "import pandas as pd\n",
    "import matplotlib.pyplot as plt\n",
    "import seaborn as sns\n",
    "from textblob import TextBlob\n",
    "from google.cloud import storage\n",
    "import os\n",
    "\n",
    "import nltk as nltk\n",
    "from nltk.corpus import stopwords\n",
    "from nltk.stem import WordNetLemmatizer\n",
    "from nltk.corpus import wordnet\n",
    "from nltk.tokenize import word_tokenize\n",
    "\n",
    "nltk.download('averaged_perceptron_tagger')\n",
    "nltk.download('wordnet')\n",
    "nltk.download('punkt')\n",
    "\n",
    "\n",
    "import spacy\n",
    "from spacy import displacy\n",
    "\n",
    "import warnings\n",
    "warnings.filterwarnings('ignore')\n",
    "warnings.simplefilter('once')\n",
    "warnings.simplefilter('ignore')\n",
    "warnings.filterwarnings(\"ignore\", category=FutureWarning)\n",
    "warnings.filterwarnings(\"ignore\", category=DeprecationWarning)\n",
    "warnings.filterwarnings(action='ignore', category=UserWarning, module='gensim')\n",
    "\n",
    "pd.set_option('display.max_rows', 100)\n",
    "pd.set_option('display.max_columns', None)\n",
    "pd.set_option('display.max_colwidth', 500)"
   ]
  },
  {
   "cell_type": "code",
   "execution_count": 3,
   "id": "8382f835-ab98-4c5e-9134-c9062db99f9f",
   "metadata": {
    "colab": {
     "base_uri": "https://localhost:8080/"
    },
    "id": "SeY1xoLc6d2Y",
    "outputId": "2a30d38d-ab62-4ae1-b96b-4675d669532b",
    "tags": []
   },
   "outputs": [
    {
     "name": "stdout",
     "output_type": "stream",
     "text": [
      "Available CPUs: 96\n"
     ]
    }
   ],
   "source": [
    "import multiprocessing\n",
    "from pandarallel import pandarallel\n",
    "\n",
    "num_processors = multiprocessing.cpu_count()\n",
    "print(f'Available CPUs: {num_processors}')"
   ]
  },
  {
   "cell_type": "code",
   "execution_count": 4,
   "id": "587945ce-9f90-4fb0-8223-41b4c98388bb",
   "metadata": {
    "colab": {
     "base_uri": "https://localhost:8080/"
    },
    "id": "oUvI9x6w6ewG",
    "outputId": "a06d7d95-8443-44d9-d730-a0bafcd82901",
    "tags": []
   },
   "outputs": [
    {
     "name": "stdout",
     "output_type": "stream",
     "text": [
      "INFO: Pandarallel will run on 95 workers.\n",
      "INFO: Pandarallel will use standard multiprocessing data transfer (pipe) to transfer data between the main process and workers.\n"
     ]
    }
   ],
   "source": [
    "pandarallel.initialize(nb_workers=num_processors-1, use_memory_fs=False)\n",
    "workers=num_processors"
   ]
  },
  {
   "cell_type": "markdown",
   "id": "e00c65be-7b48-48db-8dfc-25246a0ea6a4",
   "metadata": {},
   "source": [
    "#### News Data Loading"
   ]
  },
  {
   "cell_type": "code",
   "execution_count": 5,
   "id": "4a13ccd9-5435-4586-a436-f36edc454b25",
   "metadata": {
    "tags": []
   },
   "outputs": [
    {
     "name": "stdout",
     "output_type": "stream",
     "text": [
      "Data contains 199,677 news articles\n",
      "CPU times: user 6.66 s, sys: 4.59 s, total: 11.3 s\n",
      "Wall time: 27 s\n"
     ]
    },
    {
     "data": {
      "text/html": [
       "<div>\n",
       "<style scoped>\n",
       "    .dataframe tbody tr th:only-of-type {\n",
       "        vertical-align: middle;\n",
       "    }\n",
       "\n",
       "    .dataframe tbody tr th {\n",
       "        vertical-align: top;\n",
       "    }\n",
       "\n",
       "    .dataframe thead th {\n",
       "        text-align: right;\n",
       "    }\n",
       "</style>\n",
       "<table border=\"1\" class=\"dataframe\">\n",
       "  <thead>\n",
       "    <tr style=\"text-align: right;\">\n",
       "      <th></th>\n",
       "      <th>url</th>\n",
       "      <th>date</th>\n",
       "      <th>language</th>\n",
       "      <th>title</th>\n",
       "      <th>text</th>\n",
       "    </tr>\n",
       "  </thead>\n",
       "  <tbody>\n",
       "    <tr>\n",
       "      <th>0</th>\n",
       "      <td>http://galusaustralis.com/2020/02/486473/legaltech-artificial-intelligence-market-2019-technology-advancement-and-future-scope-casetext-inc-catalyst-repository-systems-ebrevia/</td>\n",
       "      <td>2020-02-26</td>\n",
       "      <td>en</td>\n",
       "      <td>LegalTech Artificial Intelligence Market 2019 Technology Advancement and Future Scope – Casetext Inc., Catalyst Repository Systems, eBREVIA – Galus Australis</td>\n",
       "      <td>LegalTech Artificial Intelligence Market 2019 Technology Advancement and Future Scope – Casetext Inc., Catalyst Repository Systems, eBREVIA – Galus Australis          \\n\\nGalus Australis\\n\\nBusinessGeneral NewsHealthcareIndustryInternationalLifestyleSci-Tech\\n\\nWednesday, February 26 2020\\n\\nTrending\\n\\nNeedle Counters Market Comprehensive Study by Companies Medline Industries, Boen Healthcare\\nSkin Scrub Trays Market Comprehensive Study by Companies Medline Industries, BD, Deroyal\\nGlobal P...</td>\n",
       "    </tr>\n",
       "    <tr>\n",
       "      <th>1</th>\n",
       "      <td>http://spaceref.com/astronomy/observation-simulation-and-ai-join-forces-to-reveal-a-clear-universe.html</td>\n",
       "      <td>2021-07-05</td>\n",
       "      <td>en</td>\n",
       "      <td>Observation, Simulation, And AI Join Forces To Reveal A Clear Universe - SpaceRef</td>\n",
       "      <td>\\n\\nObservation, Simulation, And AI Join Forces To Reveal A Clear Universe - SpaceRef\\n\\n \\nHome |\\nNASA Watch\\nSpaceRef Business\\nAstrobiology Web\\nAdvertising\\nAdd an Event\\nSign up for our Daily Newsletter \\n\\n \\n\\n\\nInternational Space Station\\nNASA Hack Space\\nCalendar\\nMissions\\nSpace Weather \\n                           \\n           \\nObservation, Simulation, And AI Join Forces To Reveal A Clear Universe\\n\\n\\n             Press Release - Source: NATIONAL INSTITUTES OF NATURAL SCIENCES...</td>\n",
       "    </tr>\n",
       "    <tr>\n",
       "      <th>2</th>\n",
       "      <td>http://usweekly.com/news/17/40964/Artificial-intelligence-yields-new-antibiotic.html</td>\n",
       "      <td>2020-02-23</td>\n",
       "      <td>en</td>\n",
       "      <td>Artificial intelligence yields new antibiotic - USweekly</td>\n",
       "      <td>\\n\\n\\nArtificial intelligence yields new antibiotic - USweekly\\n﻿Sunday, 23 February 2020\\nSend search form\\n \\n\\nTodays news\\nWorld\\nU.S. National\\nPolitics\\nBusiness\\nTechnology\\nSports\\nEntertainment\\nBeauty &amp; Health\\nLiving &amp; Travel\\nScience\\nWeather\\nOdd news\\nShopping\\n\\n \\n\\n\\nArtificial intelligence yields new antibiotic\\nAdded: 21.02.2020 21:19 | 35 views | 0 comments\\nSource: www.slideshare.netUsing a machine-learning algorithm, researchers have identified a powerful new antibiotic...</td>\n",
       "    </tr>\n",
       "  </tbody>\n",
       "</table>\n",
       "</div>"
      ],
      "text/plain": [
       "                                                                                                                                                                                url  \\\n",
       "0  http://galusaustralis.com/2020/02/486473/legaltech-artificial-intelligence-market-2019-technology-advancement-and-future-scope-casetext-inc-catalyst-repository-systems-ebrevia/   \n",
       "1                                                                           http://spaceref.com/astronomy/observation-simulation-and-ai-join-forces-to-reveal-a-clear-universe.html   \n",
       "2                                                                                              http://usweekly.com/news/17/40964/Artificial-intelligence-yields-new-antibiotic.html   \n",
       "\n",
       "         date language  \\\n",
       "0  2020-02-26       en   \n",
       "1  2021-07-05       en   \n",
       "2  2020-02-23       en   \n",
       "\n",
       "                                                                                                                                                           title  \\\n",
       "0  LegalTech Artificial Intelligence Market 2019 Technology Advancement and Future Scope – Casetext Inc., Catalyst Repository Systems, eBREVIA – Galus Australis   \n",
       "1                                                                              Observation, Simulation, And AI Join Forces To Reveal A Clear Universe - SpaceRef   \n",
       "2                                                                                                       Artificial intelligence yields new antibiotic - USweekly   \n",
       "\n",
       "                                                                                                                                                                                                                                                                                                                                                                                                                                                                                                                  text  \n",
       "0  LegalTech Artificial Intelligence Market 2019 Technology Advancement and Future Scope – Casetext Inc., Catalyst Repository Systems, eBREVIA – Galus Australis          \\n\\nGalus Australis\\n\\nBusinessGeneral NewsHealthcareIndustryInternationalLifestyleSci-Tech\\n\\nWednesday, February 26 2020\\n\\nTrending\\n\\nNeedle Counters Market Comprehensive Study by Companies Medline Industries, Boen Healthcare\\nSkin Scrub Trays Market Comprehensive Study by Companies Medline Industries, BD, Deroyal\\nGlobal P...  \n",
       "1  \\n\\nObservation, Simulation, And AI Join Forces To Reveal A Clear Universe - SpaceRef\\n\\n \\nHome |\\nNASA Watch\\nSpaceRef Business\\nAstrobiology Web\\nAdvertising\\nAdd an Event\\nSign up for our Daily Newsletter \\n\\n \\n\\n\\nInternational Space Station\\nNASA Hack Space\\nCalendar\\nMissions\\nSpace Weather \\n                           \\n           \\nObservation, Simulation, And AI Join Forces To Reveal A Clear Universe\\n\\n\\n             Press Release - Source: NATIONAL INSTITUTES OF NATURAL SCIENCES...  \n",
       "2  \\n\\n\\nArtificial intelligence yields new antibiotic - USweekly\\n﻿Sunday, 23 February 2020\\nSend search form\\n \\n\\nTodays news\\nWorld\\nU.S. National\\nPolitics\\nBusiness\\nTechnology\\nSports\\nEntertainment\\nBeauty & Health\\nLiving & Travel\\nScience\\nWeather\\nOdd news\\nShopping\\n\\n \\n\\n\\nArtificial intelligence yields new antibiotic\\nAdded: 21.02.2020 21:19 | 35 views | 0 comments\\nSource: www.slideshare.netUsing a machine-learning algorithm, researchers have identified a powerful new antibiotic...  "
      ]
     },
     "execution_count": 5,
     "metadata": {},
     "output_type": "execute_result"
    }
   ],
   "source": [
    "%%time\n",
    "\n",
    "news_path = 'https://storage.googleapis.com/msca-bdp-data-open/news_final_project/news_final_project.parquet'\n",
    "news_df_final = pd.read_parquet(news_path, engine = 'pyarrow')\n",
    "\n",
    "print(f'Data contains {news_df_final.shape[0]:,.0f} news articles')\n",
    "news_df_final.head(3)"
   ]
  },
  {
   "cell_type": "code",
   "execution_count": 6,
   "id": "4aeb1ace-1488-47a6-8c65-40121dccb83b",
   "metadata": {},
   "outputs": [
    {
     "name": "stdout",
     "output_type": "stream",
     "text": [
      "<class 'pandas.core.frame.DataFrame'>\n",
      "RangeIndex: 199677 entries, 0 to 199676\n",
      "Data columns (total 5 columns):\n",
      " #   Column    Non-Null Count   Dtype \n",
      "---  ------    --------------   ----- \n",
      " 0   url       199677 non-null  object\n",
      " 1   date      199677 non-null  object\n",
      " 2   language  199677 non-null  object\n",
      " 3   title     199677 non-null  object\n",
      " 4   text      199677 non-null  object\n",
      "dtypes: object(5)\n",
      "memory usage: 7.6+ MB\n"
     ]
    }
   ],
   "source": [
    "news_df_final.info()"
   ]
  },
  {
   "cell_type": "code",
   "execution_count": 7,
   "id": "5da53035-95d5-44ee-95b9-7c24a1210eda",
   "metadata": {
    "tags": []
   },
   "outputs": [
    {
     "data": {
      "text/plain": [
       "url         0\n",
       "date        0\n",
       "language    0\n",
       "title       0\n",
       "text        0\n",
       "dtype: int64"
      ]
     },
     "execution_count": 7,
     "metadata": {},
     "output_type": "execute_result"
    }
   ],
   "source": [
    "news_df_final.isna().sum()"
   ]
  },
  {
   "cell_type": "markdown",
   "id": "72a54d84-512b-4cba-8e24-86b60fd20698",
   "metadata": {
    "tags": []
   },
   "source": [
    "#### EDA"
   ]
  },
  {
   "cell_type": "markdown",
   "id": "89fc6739-feda-492d-9e27-1cc605d9f43a",
   "metadata": {
    "toc-hr-collapsed": true
   },
   "source": [
    "##### Top News Sources"
   ]
  },
  {
   "cell_type": "code",
   "execution_count": 8,
   "id": "1001deb8-a07f-42c8-a58a-12d66d2277fb",
   "metadata": {},
   "outputs": [
    {
     "data": {
      "text/html": [
       "<div>\n",
       "<style scoped>\n",
       "    .dataframe tbody tr th:only-of-type {\n",
       "        vertical-align: middle;\n",
       "    }\n",
       "\n",
       "    .dataframe tbody tr th {\n",
       "        vertical-align: top;\n",
       "    }\n",
       "\n",
       "    .dataframe thead th {\n",
       "        text-align: right;\n",
       "    }\n",
       "</style>\n",
       "<table border=\"1\" class=\"dataframe\">\n",
       "  <thead>\n",
       "    <tr style=\"text-align: right;\">\n",
       "      <th></th>\n",
       "      <th>url</th>\n",
       "      <th>domain</th>\n",
       "    </tr>\n",
       "  </thead>\n",
       "  <tbody>\n",
       "    <tr>\n",
       "      <th>0</th>\n",
       "      <td>http://galusaustralis.com/2020/02/486473/legaltech-artificial-intelligence-market-2019-technology-advancement-and-future-scope-casetext-inc-catalyst-repository-systems-ebrevia/</td>\n",
       "      <td>galusaustralis</td>\n",
       "    </tr>\n",
       "    <tr>\n",
       "      <th>1</th>\n",
       "      <td>http://spaceref.com/astronomy/observation-simulation-and-ai-join-forces-to-reveal-a-clear-universe.html</td>\n",
       "      <td>spaceref</td>\n",
       "    </tr>\n",
       "    <tr>\n",
       "      <th>2</th>\n",
       "      <td>http://usweekly.com/news/17/40964/Artificial-intelligence-yields-new-antibiotic.html</td>\n",
       "      <td>usweekly</td>\n",
       "    </tr>\n",
       "    <tr>\n",
       "      <th>3</th>\n",
       "      <td>http://www.dataweek.co.za/12835r</td>\n",
       "      <td>dataweek</td>\n",
       "    </tr>\n",
       "    <tr>\n",
       "      <th>4</th>\n",
       "      <td>http://www.huewire.com/how-you-should-validate-machine-learning-models-by-patryk-miziula-phd-jul-2023/</td>\n",
       "      <td>huewire</td>\n",
       "    </tr>\n",
       "  </tbody>\n",
       "</table>\n",
       "</div>"
      ],
      "text/plain": [
       "                                                                                                                                                                                url  \\\n",
       "0  http://galusaustralis.com/2020/02/486473/legaltech-artificial-intelligence-market-2019-technology-advancement-and-future-scope-casetext-inc-catalyst-repository-systems-ebrevia/   \n",
       "1                                                                           http://spaceref.com/astronomy/observation-simulation-and-ai-join-forces-to-reveal-a-clear-universe.html   \n",
       "2                                                                                              http://usweekly.com/news/17/40964/Artificial-intelligence-yields-new-antibiotic.html   \n",
       "3                                                                                                                                                  http://www.dataweek.co.za/12835r   \n",
       "4                                                                            http://www.huewire.com/how-you-should-validate-machine-learning-models-by-patryk-miziula-phd-jul-2023/   \n",
       "\n",
       "           domain  \n",
       "0  galusaustralis  \n",
       "1        spaceref  \n",
       "2        usweekly  \n",
       "3        dataweek  \n",
       "4         huewire  "
      ]
     },
     "execution_count": 8,
     "metadata": {},
     "output_type": "execute_result"
    }
   ],
   "source": [
    "# extract the domain names (news sources) from the URLs\n",
    "from urllib.parse import urlparse\n",
    "\n",
    "def extract_domain_from_url(url):\n",
    "    parsed_url = urlparse(url)\n",
    "    domain_parts = parsed_url.netloc.split('.')\n",
    "    \n",
    "    if len(domain_parts) > 1 and domain_parts[0] == 'www':\n",
    "        return domain_parts[1]\n",
    "    else:\n",
    "        return domain_parts[0]\n",
    "\n",
    "news_df_final2 = news_df_final.copy()\n",
    "news_df_final2['domain'] = news_df_final2['url'].apply(extract_domain_from_url)\n",
    "news_df_final2[['url', 'domain']].head()"
   ]
  },
  {
   "cell_type": "code",
   "execution_count": 9,
   "id": "a070480b-21ca-485e-92e1-c20035233745",
   "metadata": {},
   "outputs": [
    {
     "data": {
      "text/plain": [
       "prnewswire           3966\n",
       "einpresswire         2369\n",
       "newsbreak            2268\n",
       "citylife             2020\n",
       "forbes               1922\n",
       "venturebeat          1681\n",
       "wfmz                 1400\n",
       "producthunt          1396\n",
       "nasdaq               1395\n",
       "finance              1182\n",
       "finanznachrichten    1146\n",
       "globenewswire        1087\n",
       "dailymail            1036\n",
       "exbulletin            901\n",
       "mccourier             862\n",
       "bisouv                814\n",
       "murphyshockeylaw      788\n",
       "breakinglatest        751\n",
       "news                  720\n",
       "thehindu              704\n",
       "Name: domain, dtype: int64"
      ]
     },
     "execution_count": 9,
     "metadata": {},
     "output_type": "execute_result"
    }
   ],
   "source": [
    "news_df_final2.domain.value_counts().head(20)"
   ]
  },
  {
   "cell_type": "code",
   "execution_count": 10,
   "id": "55df47af-c426-4978-b1e4-a20d44eb96a5",
   "metadata": {},
   "outputs": [
    {
     "data": {
      "image/png": "[encoded data removed]",
      "text/plain": [
       "<Figure size 500x600 with 1 Axes>"
      ]
     },
     "metadata": {},
     "output_type": "display_data"
    }
   ],
   "source": [
    "# Get the top news sources\n",
    "top_news_sources = news_df_final2['domain'].value_counts().head(10)\n",
    "top_news_sources = top_news_sources.sort_values()\n",
    "\n",
    "plt.figure(figsize=(5,6))\n",
    "top_news_sources.plot(kind='barh')\n",
    "plt.xlabel('News Source Domain')\n",
    "plt.ylabel('Number of Articles')\n",
    "plt.title('Top News Sources')\n",
    "# plt.xticks(rotation=45, ha='right')  # Rotate x-axis labels for better readability\n",
    "plt.tight_layout()\n",
    "plt.show()"
   ]
  },
  {
   "cell_type": "markdown",
   "id": "695a4fe6-800b-452b-93c9-67aabd4be4f1",
   "metadata": {},
   "source": [
    "##### News Distribution Over Time"
   ]
  },
  {
   "cell_type": "code",
   "execution_count": 11,
   "id": "b2d668a0-5169-4c3a-9b2e-708f00250583",
   "metadata": {},
   "outputs": [
    {
     "data": {
      "image/png": "[encoded data removed]",
      "text/plain": [
       "<Figure size 600x400 with 1 Axes>"
      ]
     },
     "metadata": {},
     "output_type": "display_data"
    }
   ],
   "source": [
    "# Convert the 'date' column to a datetime data type\n",
    "news_df_final2['date'] = pd.to_datetime(news_df_final2['date'])\n",
    "\n",
    "# Extract year and month from the 'date' column\n",
    "news_df_final2['year'] = news_df_final2['date'].dt.year\n",
    "news_df_final2['month'] = news_df_final2['date'].dt.month\n",
    "\n",
    "# Plot news distribution by year\n",
    "plt.figure(figsize=(6,4))\n",
    "news_df_final2['year'].value_counts().sort_index().plot(kind='bar')\n",
    "plt.xlabel('Year')\n",
    "plt.ylabel('Number of Articles')\n",
    "plt.title('News Distribution by Year')\n",
    "plt.xticks(rotation=0)\n",
    "plt.tight_layout()\n",
    "plt.show()"
   ]
  },
  {
   "cell_type": "code",
   "execution_count": 12,
   "id": "c55d149a-c487-4eb4-876d-9603bc8e318b",
   "metadata": {},
   "outputs": [
    {
     "data": {
      "image/png": "[encoded data removed]",
      "text/plain": [
       "<Figure size 1200x500 with 1 Axes>"
      ]
     },
     "metadata": {},
     "output_type": "display_data"
    }
   ],
   "source": [
    "# Group by year and month, and count the number of articles in each group\n",
    "news_distribution = news_df_final2.groupby(['year', 'month']).size().reset_index(name='count')\n",
    "# Combine year and month into a single column for plotting\n",
    "news_distribution['year_month'] = news_distribution['year'].astype(str) + '-' + news_distribution['month'].astype(str).str.zfill(2)\n",
    "\n",
    "plt.figure(figsize=(12,5))\n",
    "plt.plot(news_distribution['year_month'], news_distribution['count'], marker='o', linestyle='-')\n",
    "plt.xlabel('Year-Month')\n",
    "plt.ylabel('Number of Articles')\n",
    "plt.title('News Distribution Over Time (Year-Month)')\n",
    "plt.xticks(rotation=90)\n",
    "plt.grid(True)\n",
    "plt.tight_layout()\n",
    "plt.show()"
   ]
  },
  {
   "cell_type": "markdown",
   "id": "3f9ac272-1a91-47ff-89b3-5909a1d228cc",
   "metadata": {},
   "source": [
    "#### Clean News Data"
   ]
  },
  {
   "cell_type": "code",
   "execution_count": 13,
   "id": "55c33190-d1ef-47cb-b83e-51c4839294ac",
   "metadata": {
    "tags": []
   },
   "outputs": [
    {
     "data": {
      "text/plain": [
       "array(['en'], dtype=object)"
      ]
     },
     "execution_count": 13,
     "metadata": {},
     "output_type": "execute_result"
    }
   ],
   "source": [
    "news_df_final['language'].unique()"
   ]
  },
  {
   "cell_type": "code",
   "execution_count": 14,
   "id": "8221a6e8-1ee3-4035-b377-f2b3b43fe015",
   "metadata": {
    "tags": []
   },
   "outputs": [
    {
     "data": {
      "text/html": [
       "<div>\n",
       "<style scoped>\n",
       "    .dataframe tbody tr th:only-of-type {\n",
       "        vertical-align: middle;\n",
       "    }\n",
       "\n",
       "    .dataframe tbody tr th {\n",
       "        vertical-align: top;\n",
       "    }\n",
       "\n",
       "    .dataframe thead th {\n",
       "        text-align: right;\n",
       "    }\n",
       "</style>\n",
       "<table border=\"1\" class=\"dataframe\">\n",
       "  <thead>\n",
       "    <tr style=\"text-align: right;\">\n",
       "      <th></th>\n",
       "      <th>url</th>\n",
       "      <th>date</th>\n",
       "      <th>language</th>\n",
       "      <th>title</th>\n",
       "      <th>text</th>\n",
       "    </tr>\n",
       "  </thead>\n",
       "  <tbody>\n",
       "    <tr>\n",
       "      <th>56528</th>\n",
       "      <td>https://www.coursera.org/lecture/ai-for-everyone/week-4-introduction-CSHbd</td>\n",
       "      <td>2022-05-29</td>\n",
       "      <td>en</td>\n",
       "      <td>Week 4 Introduction - AI and Society | Coursera</td>\n",
       "      <td>Week 4 Introduction - AI and Society | Coursera\\n ExploreOnline DegreesFind your New CareerFor EnterpriseFor UniversitiesBrowseTop CoursesLog InJoin for FreeListWeek 4 IntroductionLoading...AI For EveryoneDeepLearning.AIFilled StarFilled StarFilled StarFilled StarFilled Star4.8 (36,026 ratings) | 780K Students EnrolledEnroll for FreeThis CourseVideo TranscriptAI is not only for engineers. If you want your organization to become better at using AI, this is the course to tell everyone--especia...</td>\n",
       "    </tr>\n",
       "    <tr>\n",
       "      <th>69027</th>\n",
       "      <td>https://www.topbuzztrends.com/the-aging-of-disney-princesses-exploring-the-impact-of-artificial-intelligence/</td>\n",
       "      <td>2023-09-14</td>\n",
       "      <td>en</td>\n",
       "      <td>The Aging of Disney Princesses: Exploring the Impact of Artificial Intelligence - Top Buzz Trends</td>\n",
       "      <td>\\nThe Aging of Disney Princesses: Exploring the Impact of Artificial Intelligence - Top Buzz Trends\\n\\n \\n\\n \\n \\nNo Result \\n\\n View All Result \\n \\n \\n\\n      \\n \\nEntertainment\\nBusiness\\nGaming\\n\\nTech\\n\\nCrypto\\nMore\\n\\nNetflix\\n\\nAmazon Prime\\n\\nMax\\n\\nCelebrity News\\nMovies\\nTV Shows\\nParamount+\\nDisney+\\n\\nHulu\\nApple TV\\nGoogle TV\\nPolitics\\nSports\\n \\n\\nEntertainment\\nBusiness\\nGaming\\n\\nTech\\n\\nCrypto\\nMore\\n\\nNetflix\\n\\nAmazon Prime\\n\\nMax\\n\\nCelebrity News\\nMovies\\nTV Shows\\nPa...</td>\n",
       "    </tr>\n",
       "    <tr>\n",
       "      <th>29208</th>\n",
       "      <td>https://www.artnews.com/art-news/news/ai-white-house-artists-automation-karla-ortiz-1234655354/</td>\n",
       "      <td>2023-01-26</td>\n",
       "      <td>en</td>\n",
       "      <td>Policymakers in D.C. Don’t Appear To Be Focused On Artists’ AI Concerns – ARTnews.com</td>\n",
       "      <td>\\nPolicymakers in D.C. Don’t Appear To Be Focused On Artists’ AI Concerns – ARTnews.com\\n \\n\\n \\n \\n \\n \\n\\n \\n\\n\\n \\n\\n\\t\\t\\tSkip to main content\\t\\t\\n\\n\\tFollow Us\\n\\nIcon Link\\nPlus Icon\\nIcon Link\\nPlus Icon\\nIcon Link\\nPlus Icon\\nIcon Link\\nPlus Icon\\nIcon Link\\nPlus Icon\\nIcon Link\\nPlus Icon\\n\\n\\tNewsletters\\n\\n\\nPlus Icon\\nClick to Expand Search Input\\n ARTnews\\n\\tEst. 1902\\n\\tSubscribe\\n\\tTO ART IN AMERICA\\n\\nPlus Icon\\nClick to expand the Mega Menu\\n\\n\\tNews\\n\\t\\n\\n\\tMarket\\n\\t\\n\\n...</td>\n",
       "    </tr>\n",
       "  </tbody>\n",
       "</table>\n",
       "</div>"
      ],
      "text/plain": [
       "                                                                                                                 url  \\\n",
       "56528                                     https://www.coursera.org/lecture/ai-for-everyone/week-4-introduction-CSHbd   \n",
       "69027  https://www.topbuzztrends.com/the-aging-of-disney-princesses-exploring-the-impact-of-artificial-intelligence/   \n",
       "29208                https://www.artnews.com/art-news/news/ai-white-house-artists-automation-karla-ortiz-1234655354/   \n",
       "\n",
       "             date language  \\\n",
       "56528  2022-05-29       en   \n",
       "69027  2023-09-14       en   \n",
       "29208  2023-01-26       en   \n",
       "\n",
       "                                                                                                   title  \\\n",
       "56528                                                    Week 4 Introduction - AI and Society | Coursera   \n",
       "69027  The Aging of Disney Princesses: Exploring the Impact of Artificial Intelligence - Top Buzz Trends   \n",
       "29208              Policymakers in D.C. Don’t Appear To Be Focused On Artists’ AI Concerns – ARTnews.com   \n",
       "\n",
       "                                                                                                                                                                                                                                                                                                                                                                                                                                                                                                                      text  \n",
       "56528  Week 4 Introduction - AI and Society | Coursera\\n ExploreOnline DegreesFind your New CareerFor EnterpriseFor UniversitiesBrowseTop CoursesLog InJoin for FreeListWeek 4 IntroductionLoading...AI For EveryoneDeepLearning.AIFilled StarFilled StarFilled StarFilled StarFilled Star4.8 (36,026 ratings) | 780K Students EnrolledEnroll for FreeThis CourseVideo TranscriptAI is not only for engineers. If you want your organization to become better at using AI, this is the course to tell everyone--especia...  \n",
       "69027   \\nThe Aging of Disney Princesses: Exploring the Impact of Artificial Intelligence - Top Buzz Trends\\n\\n \\n\\n \\n \\nNo Result \\n\\n View All Result \\n \\n \\n\\n      \\n \\nEntertainment\\nBusiness\\nGaming\\n\\nTech\\n\\nCrypto\\nMore\\n\\nNetflix\\n\\nAmazon Prime\\n\\nMax\\n\\nCelebrity News\\nMovies\\nTV Shows\\nParamount+\\nDisney+\\n\\nHulu\\nApple TV\\nGoogle TV\\nPolitics\\nSports\\n \\n\\nEntertainment\\nBusiness\\nGaming\\n\\nTech\\n\\nCrypto\\nMore\\n\\nNetflix\\n\\nAmazon Prime\\n\\nMax\\n\\nCelebrity News\\nMovies\\nTV Shows\\nPa...  \n",
       "29208  \\nPolicymakers in D.C. Don’t Appear To Be Focused On Artists’ AI Concerns – ARTnews.com\\n \\n\\n \\n \\n \\n \\n\\n \\n\\n\\n \\n\\n\\t\\t\\tSkip to main content\\t\\t\\n\\n\\tFollow Us\\n\\nIcon Link\\nPlus Icon\\nIcon Link\\nPlus Icon\\nIcon Link\\nPlus Icon\\nIcon Link\\nPlus Icon\\nIcon Link\\nPlus Icon\\nIcon Link\\nPlus Icon\\n\\n\\tNewsletters\\n\\n\\nPlus Icon\\nClick to Expand Search Input\\n ARTnews\\n\\tEst. 1902\\n\\tSubscribe\\n\\tTO ART IN AMERICA\\n\\nPlus Icon\\nClick to expand the Mega Menu\\n\\n\\tNews\\n\\t\\n\\n\\tMarket\\n\\t\\n\\n...  "
      ]
     },
     "execution_count": 14,
     "metadata": {},
     "output_type": "execute_result"
    }
   ],
   "source": [
    "# Extract articles in english language\n",
    "news_eng = news_df_final[news_df_final['language'] == 'en']\n",
    "news_eng.sample(n = 3, random_state = 42)"
   ]
  },
  {
   "cell_type": "markdown",
   "id": "f6c6f4bf-14ce-4771-ba40-223f834b83b2",
   "metadata": {},
   "source": [
    "Clean-up the noise, by eliminating newlines, tabs, remnants of web crawls, and other irrelevant text"
   ]
  },
  {
   "cell_type": "code",
   "execution_count": 15,
   "id": "f36412f3-349b-4c5d-a0e0-4012c8d40276",
   "metadata": {},
   "outputs": [],
   "source": [
    "stopwords = set(nltk.corpus.stopwords.words('english'))"
   ]
  },
  {
   "cell_type": "code",
   "execution_count": 16,
   "id": "727c9e40-8660-409b-9c1f-8caa2b875a5b",
   "metadata": {
    "tags": []
   },
   "outputs": [],
   "source": [
    "def clean_news_text(text):\n",
    "    # Convert text to lowercase\n",
    "    cleaned_text = text.lower()\n",
    "    \n",
    "    # Remove URL\n",
    "    cleaned_text = re.sub(r'http\\S+|www\\S+|https\\S+', '', str(cleaned_text))\n",
    "    \n",
    "    # Remove emails\n",
    "    cleaned_text = re.sub(r'\\S*@\\S*\\s?', '', str(cleaned_text))\n",
    "    \n",
    "    # Remove newline characters and tab characters\n",
    "    cleaned_text = re.sub(r'[\\n\\t]', ' ', cleaned_text)\n",
    "    \n",
    "    # Remove number\n",
    "    cleaned_text = re.sub(r'\\d+', '', cleaned_text)\n",
    "    \n",
    "    # Remove punctuation\n",
    "    cleaned_text = re.sub(r'[^\\w\\s]', '', cleaned_text)\n",
    "    \n",
    "    # Remove characters other than words (whitespace, underscore, etc)\n",
    "    cleaned_text = re.sub(r'[^\\w\\s]|_', '', cleaned_text)\n",
    "    \n",
    "    # Preserve words with hyphens and underscores\n",
    "    # Remove other special characters\n",
    "    cleaned_text = re.sub(r'[^\\w\\s-]', '', cleaned_text)\n",
    "    \n",
    "    # Remove multiple spaces\n",
    "    cleaned_text = re.sub(r'\\s+', ' ', cleaned_text).strip()\n",
    "\n",
    "    # Remove stopwords\n",
    "    cleaned_text = \" \".join([word for word in cleaned_text.split() if word not in stopwords])\n",
    "    \n",
    "    # Remove words longer than 14 characters\n",
    "    cleaned_text = ' '.join([word for word in cleaned_text.split() if len(word) < 14])\n",
    "\n",
    "    return cleaned_text"
   ]
  },
  {
   "cell_type": "code",
   "execution_count": 17,
   "id": "544d613a-3706-45f3-8264-c79d87868466",
   "metadata": {
    "tags": []
   },
   "outputs": [
    {
     "name": "stdout",
     "output_type": "stream",
     "text": [
      "INFO: Pandarallel will run on 48 workers.\n",
      "INFO: Pandarallel will use Memory file system to transfer data between the main process and workers.\n"
     ]
    }
   ],
   "source": [
    "# Applying cleaning & tokenizing functions to both news' title and text\n",
    "pandarallel.initialize()\n",
    "\n",
    "news_eng[\"cleaned_title\"] = news_eng[\"title\"].parallel_apply(clean_news_text)\n",
    "news_eng[\"cleaned_text\"] = news_eng[\"text\"].parallel_apply(clean_news_text)"
   ]
  },
  {
   "cell_type": "markdown",
   "id": "61490c72-97fc-45fb-9906-eeae585d62b9",
   "metadata": {},
   "source": [
    "News Title"
   ]
  },
  {
   "cell_type": "code",
   "execution_count": 18,
   "id": "e49b87d8-a586-42d2-97be-1c09600f418e",
   "metadata": {
    "tags": []
   },
   "outputs": [
    {
     "data": {
      "text/html": [
       "<div>\n",
       "<style scoped>\n",
       "    .dataframe tbody tr th:only-of-type {\n",
       "        vertical-align: middle;\n",
       "    }\n",
       "\n",
       "    .dataframe tbody tr th {\n",
       "        vertical-align: top;\n",
       "    }\n",
       "\n",
       "    .dataframe thead th {\n",
       "        text-align: right;\n",
       "    }\n",
       "</style>\n",
       "<table border=\"1\" class=\"dataframe\">\n",
       "  <thead>\n",
       "    <tr style=\"text-align: right;\">\n",
       "      <th></th>\n",
       "      <th>title</th>\n",
       "      <th>cleaned_title</th>\n",
       "    </tr>\n",
       "  </thead>\n",
       "  <tbody>\n",
       "    <tr>\n",
       "      <th>56528</th>\n",
       "      <td>Week 4 Introduction - AI and Society | Coursera</td>\n",
       "      <td>week introduction ai society coursera</td>\n",
       "    </tr>\n",
       "    <tr>\n",
       "      <th>69027</th>\n",
       "      <td>The Aging of Disney Princesses: Exploring the Impact of Artificial Intelligence - Top Buzz Trends</td>\n",
       "      <td>aging disney princesses exploring impact artificial intelligence top buzz trends</td>\n",
       "    </tr>\n",
       "    <tr>\n",
       "      <th>29208</th>\n",
       "      <td>Policymakers in D.C. Don’t Appear To Be Focused On Artists’ AI Concerns – ARTnews.com</td>\n",
       "      <td>policymakers dc dont appear focused artists ai concerns artnewscom</td>\n",
       "    </tr>\n",
       "    <tr>\n",
       "      <th>44287</th>\n",
       "      <td>Our AI future: heaven, hell, hype and hogwash</td>\n",
       "      <td>ai future heaven hell hype hogwash</td>\n",
       "    </tr>\n",
       "    <tr>\n",
       "      <th>65519</th>\n",
       "      <td>bne IntelliNews - Bulgaria to develop AI research centre in partnership with Google, AWS</td>\n",
       "      <td>bne intellinews bulgaria develop ai research centre partnership google aws</td>\n",
       "    </tr>\n",
       "  </tbody>\n",
       "</table>\n",
       "</div>"
      ],
      "text/plain": [
       "                                                                                                   title  \\\n",
       "56528                                                    Week 4 Introduction - AI and Society | Coursera   \n",
       "69027  The Aging of Disney Princesses: Exploring the Impact of Artificial Intelligence - Top Buzz Trends   \n",
       "29208              Policymakers in D.C. Don’t Appear To Be Focused On Artists’ AI Concerns – ARTnews.com   \n",
       "44287                                                      Our AI future: heaven, hell, hype and hogwash   \n",
       "65519           bne IntelliNews - Bulgaria to develop AI research centre in partnership with Google, AWS   \n",
       "\n",
       "                                                                          cleaned_title  \n",
       "56528                                             week introduction ai society coursera  \n",
       "69027  aging disney princesses exploring impact artificial intelligence top buzz trends  \n",
       "29208                policymakers dc dont appear focused artists ai concerns artnewscom  \n",
       "44287                                                ai future heaven hell hype hogwash  \n",
       "65519        bne intellinews bulgaria develop ai research centre partnership google aws  "
      ]
     },
     "execution_count": 18,
     "metadata": {},
     "output_type": "execute_result"
    }
   ],
   "source": [
    "news_eng[[\"title\",\"cleaned_title\"]].sample(n = 5, random_state = 42)"
   ]
  },
  {
   "cell_type": "markdown",
   "id": "5bd91aca-29c3-4a33-8bc4-0fd545bb8061",
   "metadata": {},
   "source": [
    "News Text"
   ]
  },
  {
   "cell_type": "code",
   "execution_count": 19,
   "id": "d98fa688-7f2c-4eb0-9916-7d9e1a5eda93",
   "metadata": {
    "tags": []
   },
   "outputs": [
    {
     "data": {
      "text/html": [
       "<div>\n",
       "<style scoped>\n",
       "    .dataframe tbody tr th:only-of-type {\n",
       "        vertical-align: middle;\n",
       "    }\n",
       "\n",
       "    .dataframe tbody tr th {\n",
       "        vertical-align: top;\n",
       "    }\n",
       "\n",
       "    .dataframe thead th {\n",
       "        text-align: right;\n",
       "    }\n",
       "</style>\n",
       "<table border=\"1\" class=\"dataframe\">\n",
       "  <thead>\n",
       "    <tr style=\"text-align: right;\">\n",
       "      <th></th>\n",
       "      <th>text</th>\n",
       "      <th>cleaned_text</th>\n",
       "    </tr>\n",
       "  </thead>\n",
       "  <tbody>\n",
       "    <tr>\n",
       "      <th>56528</th>\n",
       "      <td>Week 4 Introduction - AI and Society | Coursera\\n ExploreOnline DegreesFind your New CareerFor EnterpriseFor UniversitiesBrowseTop CoursesLog InJoin for FreeListWeek 4 IntroductionLoading...AI For EveryoneDeepLearning.AIFilled StarFilled StarFilled StarFilled StarFilled Star4.8 (36,026 ratings) | 780K Students EnrolledEnroll for FreeThis CourseVideo TranscriptAI is not only for engineers. If you want your organization to become better at using AI, this is the course to tell everyone--especia...</td>\n",
       "      <td>week introduction ai society coursera exploreonline degreesfind new careerfor enterprisefor courseslog injoin freelistweek starfilled starfilled starfilled starfilled star ratings k students freethis coursevideo transcriptai engineers want organization become better using ai course tell nontechnical colleaguesto take course learn meaning behind common ai terminology including neural networks machine learning deep learning data science ai realistically canand cannotdo spot opportunities apply...</td>\n",
       "    </tr>\n",
       "    <tr>\n",
       "      <th>69027</th>\n",
       "      <td>\\nThe Aging of Disney Princesses: Exploring the Impact of Artificial Intelligence - Top Buzz Trends\\n\\n \\n\\n \\n \\nNo Result \\n\\n View All Result \\n \\n \\n\\n      \\n \\nEntertainment\\nBusiness\\nGaming\\n\\nTech\\n\\nCrypto\\nMore\\n\\nNetflix\\n\\nAmazon Prime\\n\\nMax\\n\\nCelebrity News\\nMovies\\nTV Shows\\nParamount+\\nDisney+\\n\\nHulu\\nApple TV\\nGoogle TV\\nPolitics\\nSports\\n \\n\\nEntertainment\\nBusiness\\nGaming\\n\\nTech\\n\\nCrypto\\nMore\\n\\nNetflix\\n\\nAmazon Prime\\n\\nMax\\n\\nCelebrity News\\nMovies\\nTV Shows\\nPa...</td>\n",
       "      <td>aging disney princesses exploring impact artificial intelligence top buzz trends result view result entertainment business gaming tech crypto netflix amazon prime max celebrity news movies tv shows paramount disney hulu apple tv google tv politics sports entertainment business gaming tech crypto netflix amazon prime max celebrity news movies tv shows paramount disney hulu apple tv google tv politics sports result view result entertainment business gaming tech crypto home entertainment aging ...</td>\n",
       "    </tr>\n",
       "    <tr>\n",
       "      <th>29208</th>\n",
       "      <td>\\nPolicymakers in D.C. Don’t Appear To Be Focused On Artists’ AI Concerns – ARTnews.com\\n \\n\\n \\n \\n \\n \\n\\n \\n\\n\\n \\n\\n\\t\\t\\tSkip to main content\\t\\t\\n\\n\\tFollow Us\\n\\nIcon Link\\nPlus Icon\\nIcon Link\\nPlus Icon\\nIcon Link\\nPlus Icon\\nIcon Link\\nPlus Icon\\nIcon Link\\nPlus Icon\\nIcon Link\\nPlus Icon\\n\\n\\tNewsletters\\n\\n\\nPlus Icon\\nClick to Expand Search Input\\n ARTnews\\n\\tEst. 1902\\n\\tSubscribe\\n\\tTO ART IN AMERICA\\n\\nPlus Icon\\nClick to expand the Mega Menu\\n\\n\\tNews\\n\\t\\n\\n\\tMarket\\n\\t\\n\\n...</td>\n",
       "      <td>policymakers dc dont appear focused artists ai concerns artnewscom skip main content follow us icon link plus icon icon link plus icon icon link plus icon icon link plus icon icon link plus icon icon link plus icon newsletters plus icon click expand search input artnews est subscribe art america plus icon click expand mega menu news market artists artnews recommends top collectors travel artnews art america plus icon click expand mega menu menu read next adrian burrell explores difficultyand...</td>\n",
       "    </tr>\n",
       "    <tr>\n",
       "      <th>44287</th>\n",
       "      <td>\\n\\nOur AI future: heaven, hell, hype and hogwash\\n\\n \\n\\n \\n\\n \\n\\n\\t\\t\\tClose\\t\\t\\n\\nAccount\\nSign In/Register\\nSign In \\n\\n\\nSearch for:\\n \\n\\t\\t\\tSearch\\t\\t\\nLatest\\nPopular\\nNewsletters\\nPodcasts\\n \\n\\nFacebook\\nInstagram\\nTwitter\\n \\n\\nMy Account\\n\\nSearch\\nLatestPopular\\n\\nNewsCultureArtsComedyScience\\n\\nFeatures:\\nStrange CustomsParentingTABOOSecular SymphonyThe Color Of Disbelief\\nAudio:\\nPodcastsOn The Go ArticlesAdd Your Voice\\n\\nNewslettersWriter Alerts\\n\\nAbout Us\\nOur Contribut...</td>\n",
       "      <td>ai future heaven hell hype hogwash close account sign inregister sign search search latest popular newsletters podcasts facebook instagram twitter account search latestpopular features strange symphonythe color disbelief audio podcastson go articlesadd voice alerts us inspiredhelp support onlysky close account search latestpopular features strange symphonythe color disbelief audio podcastson go articlesadd voice alerts us inspiredhelp support onlysky skip content menu facebook instagram twit...</td>\n",
       "    </tr>\n",
       "    <tr>\n",
       "      <th>65519</th>\n",
       "      <td>\\n\\nbne IntelliNews - Bulgaria to develop AI research centre in partnership with Google, AWS \\n\\n \\n\\n \\n\\n                                Eastern Europe                                \\n\\nBelarus                                                        \\n\\n\\nRussia                                                        \\n\\n\\nUkraine                                                        \\nFeatures\\nMinsk switches its rhetoric in fear of a domestic political revival\\nNews\\nEBRD warns that 2022...</td>\n",
       "      <td>bne intellinews bulgaria develop ai research centre partnership google aws eastern europe belarus russia ukraine features minsk switches rhetoric fear domestic political revival news ebrd warns results significantly affected ukraine conflict features belarusians struggle home abroad features ebrd slashes growth forecasts nations embroiled war enter recession opinion fpri bmb russia know dealing news warsaw plans house ukrainian refugees former russian spy town news hungary circumvent eu sanc...</td>\n",
       "    </tr>\n",
       "  </tbody>\n",
       "</table>\n",
       "</div>"
      ],
      "text/plain": [
       "                                                                                                                                                                                                                                                                                                                                                                                                                                                                                                                      text  \\\n",
       "56528  Week 4 Introduction - AI and Society | Coursera\\n ExploreOnline DegreesFind your New CareerFor EnterpriseFor UniversitiesBrowseTop CoursesLog InJoin for FreeListWeek 4 IntroductionLoading...AI For EveryoneDeepLearning.AIFilled StarFilled StarFilled StarFilled StarFilled Star4.8 (36,026 ratings) | 780K Students EnrolledEnroll for FreeThis CourseVideo TranscriptAI is not only for engineers. If you want your organization to become better at using AI, this is the course to tell everyone--especia...   \n",
       "69027   \\nThe Aging of Disney Princesses: Exploring the Impact of Artificial Intelligence - Top Buzz Trends\\n\\n \\n\\n \\n \\nNo Result \\n\\n View All Result \\n \\n \\n\\n      \\n \\nEntertainment\\nBusiness\\nGaming\\n\\nTech\\n\\nCrypto\\nMore\\n\\nNetflix\\n\\nAmazon Prime\\n\\nMax\\n\\nCelebrity News\\nMovies\\nTV Shows\\nParamount+\\nDisney+\\n\\nHulu\\nApple TV\\nGoogle TV\\nPolitics\\nSports\\n \\n\\nEntertainment\\nBusiness\\nGaming\\n\\nTech\\n\\nCrypto\\nMore\\n\\nNetflix\\n\\nAmazon Prime\\n\\nMax\\n\\nCelebrity News\\nMovies\\nTV Shows\\nPa...   \n",
       "29208  \\nPolicymakers in D.C. Don’t Appear To Be Focused On Artists’ AI Concerns – ARTnews.com\\n \\n\\n \\n \\n \\n \\n\\n \\n\\n\\n \\n\\n\\t\\t\\tSkip to main content\\t\\t\\n\\n\\tFollow Us\\n\\nIcon Link\\nPlus Icon\\nIcon Link\\nPlus Icon\\nIcon Link\\nPlus Icon\\nIcon Link\\nPlus Icon\\nIcon Link\\nPlus Icon\\nIcon Link\\nPlus Icon\\n\\n\\tNewsletters\\n\\n\\nPlus Icon\\nClick to Expand Search Input\\n ARTnews\\n\\tEst. 1902\\n\\tSubscribe\\n\\tTO ART IN AMERICA\\n\\nPlus Icon\\nClick to expand the Mega Menu\\n\\n\\tNews\\n\\t\\n\\n\\tMarket\\n\\t\\n\\n...   \n",
       "44287  \\n\\nOur AI future: heaven, hell, hype and hogwash\\n\\n \\n\\n \\n\\n \\n\\n\\t\\t\\tClose\\t\\t\\n\\nAccount\\nSign In/Register\\nSign In \\n\\n\\nSearch for:\\n \\n\\t\\t\\tSearch\\t\\t\\nLatest\\nPopular\\nNewsletters\\nPodcasts\\n \\n\\nFacebook\\nInstagram\\nTwitter\\n \\n\\nMy Account\\n\\nSearch\\nLatestPopular\\n\\nNewsCultureArtsComedyScience\\n\\nFeatures:\\nStrange CustomsParentingTABOOSecular SymphonyThe Color Of Disbelief\\nAudio:\\nPodcastsOn The Go ArticlesAdd Your Voice\\n\\nNewslettersWriter Alerts\\n\\nAbout Us\\nOur Contribut...   \n",
       "65519  \\n\\nbne IntelliNews - Bulgaria to develop AI research centre in partnership with Google, AWS \\n\\n \\n\\n \\n\\n                                Eastern Europe                                \\n\\nBelarus                                                        \\n\\n\\nRussia                                                        \\n\\n\\nUkraine                                                        \\nFeatures\\nMinsk switches its rhetoric in fear of a domestic political revival\\nNews\\nEBRD warns that 2022...   \n",
       "\n",
       "                                                                                                                                                                                                                                                                                                                                                                                                                                                                                                              cleaned_text  \n",
       "56528  week introduction ai society coursera exploreonline degreesfind new careerfor enterprisefor courseslog injoin freelistweek starfilled starfilled starfilled starfilled star ratings k students freethis coursevideo transcriptai engineers want organization become better using ai course tell nontechnical colleaguesto take course learn meaning behind common ai terminology including neural networks machine learning deep learning data science ai realistically canand cannotdo spot opportunities apply...  \n",
       "69027  aging disney princesses exploring impact artificial intelligence top buzz trends result view result entertainment business gaming tech crypto netflix amazon prime max celebrity news movies tv shows paramount disney hulu apple tv google tv politics sports entertainment business gaming tech crypto netflix amazon prime max celebrity news movies tv shows paramount disney hulu apple tv google tv politics sports result view result entertainment business gaming tech crypto home entertainment aging ...  \n",
       "29208  policymakers dc dont appear focused artists ai concerns artnewscom skip main content follow us icon link plus icon icon link plus icon icon link plus icon icon link plus icon icon link plus icon icon link plus icon newsletters plus icon click expand search input artnews est subscribe art america plus icon click expand mega menu news market artists artnews recommends top collectors travel artnews art america plus icon click expand mega menu menu read next adrian burrell explores difficultyand...  \n",
       "44287  ai future heaven hell hype hogwash close account sign inregister sign search search latest popular newsletters podcasts facebook instagram twitter account search latestpopular features strange symphonythe color disbelief audio podcastson go articlesadd voice alerts us inspiredhelp support onlysky close account search latestpopular features strange symphonythe color disbelief audio podcastson go articlesadd voice alerts us inspiredhelp support onlysky skip content menu facebook instagram twit...  \n",
       "65519  bne intellinews bulgaria develop ai research centre partnership google aws eastern europe belarus russia ukraine features minsk switches rhetoric fear domestic political revival news ebrd warns results significantly affected ukraine conflict features belarusians struggle home abroad features ebrd slashes growth forecasts nations embroiled war enter recession opinion fpri bmb russia know dealing news warsaw plans house ukrainian refugees former russian spy town news hungary circumvent eu sanc...  "
      ]
     },
     "execution_count": 19,
     "metadata": {},
     "output_type": "execute_result"
    }
   ],
   "source": [
    "news_eng[[\"text\",\"cleaned_text\"]].sample(n = 5, random_state = 42)"
   ]
  },
  {
   "cell_type": "markdown",
   "id": "1a339b6c-9c53-409a-a830-5f23e554bc0e",
   "metadata": {},
   "source": [
    "Since news title are also included in news text, I will only use news text for future analysis."
   ]
  },
  {
   "cell_type": "code",
   "execution_count": 20,
   "id": "9e4202e7-853b-41b6-a794-f32e236bd4af",
   "metadata": {},
   "outputs": [],
   "source": [
    "# list of web remnants words\n",
    "remove_words = [\n",
    "    'AdBlock', 'Ad', 'Refresh', 'page', 'Search', 'Login', 'Register', 'Subscribe', 'Advertisement', 'Sponsored', 'Recommended', 'Read more', 'Read Next', 'Related Articles',\n",
    "    'You may also like', 'Recommended for you', 'Join us', 'All rights reserved', 'Leave a comment', 'Privacy rights', 'Follow us', 'Follow on', 'Follow me', 'Followers',\n",
    "    'Followed by', 'Followed by', 'Likes', 'Liked by', 'Retweets', 'Retweeted by', 'Reply', 'Retweet', 'Replying to', 'Twitter', 'Facebook', 'LinkedIn', 'Share', 'Shares', \n",
    "    'Comment(s)','Comments', 'Comment', 'Save', 'Bookmark', 'Download', 'Print', 'Email', 'More from', 'Latest News', 'Breaking News', 'Subscribe now', 'Sign up', 'Sign in',\n",
    "    'Sign out', 'Sign in with', 'Login with', 'Create account', 'Forgot password', 'Privacy policy', 'Terms of service', 'Contact us', 'About us', 'Our team', 'Newsletter', \n",
    "    'Our story', 'Advertise with us', 'Work with us', 'Jobs at', 'Careers at', 'Powered by', 'Content by', 'Supported by', 'Made by', 'Designed by',\n",
    "    'Developed by', 'Copyright', '©', 'http', 'https', 'www', 'com', 'net', 'org', 'edu', 'gov', 'info', 'biz', 'co', 'uk', 'us', 'ca', 'au', 'io', 'html', 'php',\n",
    "    'aspx', 'jsp', 'xml', 'jpg', 'png', 'gif', 'pdf', 'doc', 'ppt', 'xls', 'mp3', 'avi', 'mp4', 'mov', 'swf', 'js', 'css', '404', '403', '500', '503', 'error',\n",
    "    'click', 'here', 'click here', 'home', 'skip', 'link', 'icon', 'menu', 'expand', 'collapse', 'plus', 'browse'\n",
    "]"
   ]
  },
  {
   "cell_type": "code",
   "execution_count": 21,
   "id": "6ced1f6a-26bc-41cb-a48e-44d7994fcce4",
   "metadata": {},
   "outputs": [],
   "source": [
    "# Remove specified web remnants words from the text.\n",
    "def remove_web_remnants(text):\n",
    "    # Tokenize the text into words\n",
    "    words = text.split()\n",
    "\n",
    "    # Remove web remnants words from the list of words (case-insensitive)\n",
    "    filtered_words = [word for word in words if word.lower() not in set(word.lower() for word in remove_words)]\n",
    "\n",
    "    # Rejoin the filtered words into a cleaned text\n",
    "    cleaned_text = ' '.join(filtered_words)\n",
    "\n",
    "    return cleaned_text"
   ]
  },
  {
   "cell_type": "code",
   "execution_count": 22,
   "id": "79d17dfe-17dd-4313-9f1d-aa73398886d6",
   "metadata": {},
   "outputs": [
    {
     "name": "stdout",
     "output_type": "stream",
     "text": [
      "INFO: Pandarallel will run on 48 workers.\n",
      "INFO: Pandarallel will use Memory file system to transfer data between the main process and workers.\n"
     ]
    }
   ],
   "source": [
    "pandarallel.initialize()\n",
    "\n",
    "news_eng[\"cleaned_title\"] = news_eng[\"cleaned_title\"].parallel_apply(remove_web_remnants)\n",
    "news_eng[\"cleaned_text\"] = news_eng[\"cleaned_text\"].parallel_apply(remove_web_remnants)"
   ]
  },
  {
   "cell_type": "code",
   "execution_count": 23,
   "id": "9228aa5f-86ab-4dff-99ce-d6fc31fa1f38",
   "metadata": {},
   "outputs": [
    {
     "data": {
      "text/html": [
       "<div>\n",
       "<style scoped>\n",
       "    .dataframe tbody tr th:only-of-type {\n",
       "        vertical-align: middle;\n",
       "    }\n",
       "\n",
       "    .dataframe tbody tr th {\n",
       "        vertical-align: top;\n",
       "    }\n",
       "\n",
       "    .dataframe thead th {\n",
       "        text-align: right;\n",
       "    }\n",
       "</style>\n",
       "<table border=\"1\" class=\"dataframe\">\n",
       "  <thead>\n",
       "    <tr style=\"text-align: right;\">\n",
       "      <th></th>\n",
       "      <th>url</th>\n",
       "      <th>date</th>\n",
       "      <th>language</th>\n",
       "      <th>title</th>\n",
       "      <th>text</th>\n",
       "      <th>cleaned_title</th>\n",
       "      <th>cleaned_text</th>\n",
       "    </tr>\n",
       "  </thead>\n",
       "  <tbody>\n",
       "    <tr>\n",
       "      <th>56528</th>\n",
       "      <td>https://www.coursera.org/lecture/ai-for-everyone/week-4-introduction-CSHbd</td>\n",
       "      <td>2022-05-29</td>\n",
       "      <td>en</td>\n",
       "      <td>Week 4 Introduction - AI and Society | Coursera</td>\n",
       "      <td>Week 4 Introduction - AI and Society | Coursera\\n ExploreOnline DegreesFind your New CareerFor EnterpriseFor UniversitiesBrowseTop CoursesLog InJoin for FreeListWeek 4 IntroductionLoading...AI For EveryoneDeepLearning.AIFilled StarFilled StarFilled StarFilled StarFilled Star4.8 (36,026 ratings) | 780K Students EnrolledEnroll for FreeThis CourseVideo TranscriptAI is not only for engineers. If you want your organization to become better at using AI, this is the course to tell everyone--especia...</td>\n",
       "      <td>week introduction ai society coursera</td>\n",
       "      <td>week introduction ai society coursera exploreonline degreesfind new careerfor enterprisefor courseslog injoin freelistweek starfilled starfilled starfilled starfilled star ratings k students freethis coursevideo transcriptai engineers want organization become better using ai course tell nontechnical colleaguesto take course learn meaning behind common ai terminology including neural networks machine learning deep learning data science ai realistically canand cannotdo spot opportunities apply...</td>\n",
       "    </tr>\n",
       "    <tr>\n",
       "      <th>69027</th>\n",
       "      <td>https://www.topbuzztrends.com/the-aging-of-disney-princesses-exploring-the-impact-of-artificial-intelligence/</td>\n",
       "      <td>2023-09-14</td>\n",
       "      <td>en</td>\n",
       "      <td>The Aging of Disney Princesses: Exploring the Impact of Artificial Intelligence - Top Buzz Trends</td>\n",
       "      <td>\\nThe Aging of Disney Princesses: Exploring the Impact of Artificial Intelligence - Top Buzz Trends\\n\\n \\n\\n \\n \\nNo Result \\n\\n View All Result \\n \\n \\n\\n      \\n \\nEntertainment\\nBusiness\\nGaming\\n\\nTech\\n\\nCrypto\\nMore\\n\\nNetflix\\n\\nAmazon Prime\\n\\nMax\\n\\nCelebrity News\\nMovies\\nTV Shows\\nParamount+\\nDisney+\\n\\nHulu\\nApple TV\\nGoogle TV\\nPolitics\\nSports\\n \\n\\nEntertainment\\nBusiness\\nGaming\\n\\nTech\\n\\nCrypto\\nMore\\n\\nNetflix\\n\\nAmazon Prime\\n\\nMax\\n\\nCelebrity News\\nMovies\\nTV Shows\\nPa...</td>\n",
       "      <td>aging disney princesses exploring impact artificial intelligence top buzz trends</td>\n",
       "      <td>aging disney princesses exploring impact artificial intelligence top buzz trends result view result entertainment business gaming tech crypto netflix amazon prime max celebrity news movies tv shows paramount disney hulu apple tv google tv politics sports entertainment business gaming tech crypto netflix amazon prime max celebrity news movies tv shows paramount disney hulu apple tv google tv politics sports result view result entertainment business gaming tech crypto entertainment aging disne...</td>\n",
       "    </tr>\n",
       "    <tr>\n",
       "      <th>29208</th>\n",
       "      <td>https://www.artnews.com/art-news/news/ai-white-house-artists-automation-karla-ortiz-1234655354/</td>\n",
       "      <td>2023-01-26</td>\n",
       "      <td>en</td>\n",
       "      <td>Policymakers in D.C. Don’t Appear To Be Focused On Artists’ AI Concerns – ARTnews.com</td>\n",
       "      <td>\\nPolicymakers in D.C. Don’t Appear To Be Focused On Artists’ AI Concerns – ARTnews.com\\n \\n\\n \\n \\n \\n \\n\\n \\n\\n\\n \\n\\n\\t\\t\\tSkip to main content\\t\\t\\n\\n\\tFollow Us\\n\\nIcon Link\\nPlus Icon\\nIcon Link\\nPlus Icon\\nIcon Link\\nPlus Icon\\nIcon Link\\nPlus Icon\\nIcon Link\\nPlus Icon\\nIcon Link\\nPlus Icon\\n\\n\\tNewsletters\\n\\n\\nPlus Icon\\nClick to Expand Search Input\\n ARTnews\\n\\tEst. 1902\\n\\tSubscribe\\n\\tTO ART IN AMERICA\\n\\nPlus Icon\\nClick to expand the Mega Menu\\n\\n\\tNews\\n\\t\\n\\n\\tMarket\\n\\t\\n\\n...</td>\n",
       "      <td>policymakers dc dont appear focused artists ai concerns artnewscom</td>\n",
       "      <td>policymakers dc dont appear focused artists ai concerns artnewscom main content follow newsletters input artnews est art america mega news market artists artnews recommends top collectors travel artnews art america mega read next adrian burrell explores difficultyand promiseof escaping black american history artnews art america input artnews news policymakers dc dont appear focused artists artificial intelligence concerns shanti escalantede mattei shanti escalantede mattei stories shanti vie...</td>\n",
       "    </tr>\n",
       "  </tbody>\n",
       "</table>\n",
       "</div>"
      ],
      "text/plain": [
       "                                                                                                                 url  \\\n",
       "56528                                     https://www.coursera.org/lecture/ai-for-everyone/week-4-introduction-CSHbd   \n",
       "69027  https://www.topbuzztrends.com/the-aging-of-disney-princesses-exploring-the-impact-of-artificial-intelligence/   \n",
       "29208                https://www.artnews.com/art-news/news/ai-white-house-artists-automation-karla-ortiz-1234655354/   \n",
       "\n",
       "             date language  \\\n",
       "56528  2022-05-29       en   \n",
       "69027  2023-09-14       en   \n",
       "29208  2023-01-26       en   \n",
       "\n",
       "                                                                                                   title  \\\n",
       "56528                                                    Week 4 Introduction - AI and Society | Coursera   \n",
       "69027  The Aging of Disney Princesses: Exploring the Impact of Artificial Intelligence - Top Buzz Trends   \n",
       "29208              Policymakers in D.C. Don’t Appear To Be Focused On Artists’ AI Concerns – ARTnews.com   \n",
       "\n",
       "                                                                                                                                                                                                                                                                                                                                                                                                                                                                                                                      text  \\\n",
       "56528  Week 4 Introduction - AI and Society | Coursera\\n ExploreOnline DegreesFind your New CareerFor EnterpriseFor UniversitiesBrowseTop CoursesLog InJoin for FreeListWeek 4 IntroductionLoading...AI For EveryoneDeepLearning.AIFilled StarFilled StarFilled StarFilled StarFilled Star4.8 (36,026 ratings) | 780K Students EnrolledEnroll for FreeThis CourseVideo TranscriptAI is not only for engineers. If you want your organization to become better at using AI, this is the course to tell everyone--especia...   \n",
       "69027   \\nThe Aging of Disney Princesses: Exploring the Impact of Artificial Intelligence - Top Buzz Trends\\n\\n \\n\\n \\n \\nNo Result \\n\\n View All Result \\n \\n \\n\\n      \\n \\nEntertainment\\nBusiness\\nGaming\\n\\nTech\\n\\nCrypto\\nMore\\n\\nNetflix\\n\\nAmazon Prime\\n\\nMax\\n\\nCelebrity News\\nMovies\\nTV Shows\\nParamount+\\nDisney+\\n\\nHulu\\nApple TV\\nGoogle TV\\nPolitics\\nSports\\n \\n\\nEntertainment\\nBusiness\\nGaming\\n\\nTech\\n\\nCrypto\\nMore\\n\\nNetflix\\n\\nAmazon Prime\\n\\nMax\\n\\nCelebrity News\\nMovies\\nTV Shows\\nPa...   \n",
       "29208  \\nPolicymakers in D.C. Don’t Appear To Be Focused On Artists’ AI Concerns – ARTnews.com\\n \\n\\n \\n \\n \\n \\n\\n \\n\\n\\n \\n\\n\\t\\t\\tSkip to main content\\t\\t\\n\\n\\tFollow Us\\n\\nIcon Link\\nPlus Icon\\nIcon Link\\nPlus Icon\\nIcon Link\\nPlus Icon\\nIcon Link\\nPlus Icon\\nIcon Link\\nPlus Icon\\nIcon Link\\nPlus Icon\\n\\n\\tNewsletters\\n\\n\\nPlus Icon\\nClick to Expand Search Input\\n ARTnews\\n\\tEst. 1902\\n\\tSubscribe\\n\\tTO ART IN AMERICA\\n\\nPlus Icon\\nClick to expand the Mega Menu\\n\\n\\tNews\\n\\t\\n\\n\\tMarket\\n\\t\\n\\n...   \n",
       "\n",
       "                                                                          cleaned_title  \\\n",
       "56528                                             week introduction ai society coursera   \n",
       "69027  aging disney princesses exploring impact artificial intelligence top buzz trends   \n",
       "29208                policymakers dc dont appear focused artists ai concerns artnewscom   \n",
       "\n",
       "                                                                                                                                                                                                                                                                                                                                                                                                                                                                                                              cleaned_text  \n",
       "56528  week introduction ai society coursera exploreonline degreesfind new careerfor enterprisefor courseslog injoin freelistweek starfilled starfilled starfilled starfilled star ratings k students freethis coursevideo transcriptai engineers want organization become better using ai course tell nontechnical colleaguesto take course learn meaning behind common ai terminology including neural networks machine learning deep learning data science ai realistically canand cannotdo spot opportunities apply...  \n",
       "69027  aging disney princesses exploring impact artificial intelligence top buzz trends result view result entertainment business gaming tech crypto netflix amazon prime max celebrity news movies tv shows paramount disney hulu apple tv google tv politics sports entertainment business gaming tech crypto netflix amazon prime max celebrity news movies tv shows paramount disney hulu apple tv google tv politics sports result view result entertainment business gaming tech crypto entertainment aging disne...  \n",
       "29208  policymakers dc dont appear focused artists ai concerns artnewscom main content follow newsletters input artnews est art america mega news market artists artnews recommends top collectors travel artnews art america mega read next adrian burrell explores difficultyand promiseof escaping black american history artnews art america input artnews news policymakers dc dont appear focused artists artificial intelligence concerns shanti escalantede mattei shanti escalantede mattei stories shanti vie...  "
      ]
     },
     "execution_count": 23,
     "metadata": {},
     "output_type": "execute_result"
    }
   ],
   "source": [
    "news_eng.sample(n = 3, random_state = 42)"
   ]
  },
  {
   "cell_type": "markdown",
   "id": "06df589b-338c-4965-9189-86455b4d24c4",
   "metadata": {},
   "source": [
    "#### Detect Duplicated Articles"
   ]
  },
  {
   "cell_type": "code",
   "execution_count": 24,
   "id": "7cf2bed2-b51b-43e6-9fec-101c34dfbf39",
   "metadata": {},
   "outputs": [
    {
     "data": {
      "image/png": "[encoded data removed]",
      "text/plain": [
       "<Figure size 800x600 with 1 Axes>"
      ]
     },
     "metadata": {},
     "output_type": "display_data"
    }
   ],
   "source": [
    "# Detect duplicate articles based on the 'cleaned_text' column\n",
    "duplicates = news_eng[news_eng.duplicated(subset='cleaned_text', keep=False)]\n",
    "\n",
    "# Get non-duplicated articles\n",
    "non_duplicates = news_eng.drop_duplicates(subset='cleaned_text', keep=False)\n",
    "\n",
    "# Count the number of duplicates and non-duplicates\n",
    "num_duplicates = len(duplicates)\n",
    "num_non_duplicates = len(non_duplicates)\n",
    "\n",
    "# Create a bar plot to visualize the counts\n",
    "plt.figure(figsize=(8, 6))\n",
    "plt.bar(['Duplicate Articles', 'Non-Duplicate Articles'], [num_duplicates, num_non_duplicates])\n",
    "plt.xlabel('Article Type')\n",
    "plt.ylabel('Number of Articles')\n",
    "plt.title('Number of Duplicate and Non-Duplicate Articles')\n",
    "\n",
    "# Display the numbers on the plot\n",
    "for i, count in enumerate([num_duplicates, num_non_duplicates]):\n",
    "    plt.text(i, count, str(count), ha='center', va='bottom')\n",
    "\n",
    "plt.show()"
   ]
  },
  {
   "cell_type": "code",
   "execution_count": 25,
   "id": "709163e7-d582-4373-a5b3-fec68398fbf2",
   "metadata": {},
   "outputs": [
    {
     "name": "stdout",
     "output_type": "stream",
     "text": [
      "False    197028\n",
      "Name: cleaned_text, dtype: int64\n"
     ]
    }
   ],
   "source": [
    "duplicates = non_duplicates['cleaned_text'].duplicated()\n",
    "duplicate_count = duplicates.value_counts()\n",
    "print(duplicate_count)"
   ]
  },
  {
   "cell_type": "code",
   "execution_count": 26,
   "id": "21841e92-db44-48d8-b221-8a758c5ee1a5",
   "metadata": {},
   "outputs": [],
   "source": [
    "#gsutil mb -l us-east1 gs://<minhvo-nlp-final>"
   ]
  },
  {
   "cell_type": "code",
   "execution_count": 27,
   "id": "ca3e25c7-72cb-4b02-9dfe-75a44573833f",
   "metadata": {},
   "outputs": [],
   "source": [
    "# non_duplicates.to_parquet('cleaned_non_duplicate_data.parquet')\n",
    "\n",
    "# bucket_name = 'minhvo-nlp-final'\n",
    "# file_path = 'cleaned_non_duplicate_data.parquet'\n",
    "\n",
    "# storage_client = storage.Client()\n",
    "# bucket = storage_client.get_bucket(bucket_name)\n",
    "# blob = bucket.blob(file_path)\n",
    "# blob.upload_from_filename(file_path)\n",
    "\n",
    "cleaned_non_duplicates_df = non_duplicates.copy()"
   ]
  },
  {
   "cell_type": "code",
   "execution_count": 28,
   "id": "141a717f-4997-49c9-8d24-f1eddd935218",
   "metadata": {},
   "outputs": [],
   "source": [
    "cleaned_non_duplicates_df = pd.read_parquet('cleaned_non_duplicate_data.parquet', engine = 'pyarrow')"
   ]
  },
  {
   "cell_type": "code",
   "execution_count": 29,
   "id": "44e17045-a0e6-46d5-87d9-e15f68c101a3",
   "metadata": {},
   "outputs": [
    {
     "name": "stdout",
     "output_type": "stream",
     "text": [
      "(197028, 7)\n"
     ]
    },
    {
     "data": {
      "text/html": [
       "<div>\n",
       "<style scoped>\n",
       "    .dataframe tbody tr th:only-of-type {\n",
       "        vertical-align: middle;\n",
       "    }\n",
       "\n",
       "    .dataframe tbody tr th {\n",
       "        vertical-align: top;\n",
       "    }\n",
       "\n",
       "    .dataframe thead th {\n",
       "        text-align: right;\n",
       "    }\n",
       "</style>\n",
       "<table border=\"1\" class=\"dataframe\">\n",
       "  <thead>\n",
       "    <tr style=\"text-align: right;\">\n",
       "      <th></th>\n",
       "      <th>url</th>\n",
       "      <th>date</th>\n",
       "      <th>language</th>\n",
       "      <th>title</th>\n",
       "      <th>text</th>\n",
       "      <th>cleaned_title</th>\n",
       "      <th>cleaned_text</th>\n",
       "    </tr>\n",
       "  </thead>\n",
       "  <tbody>\n",
       "    <tr>\n",
       "      <th>0</th>\n",
       "      <td>http://galusaustralis.com/2020/02/486473/legaltech-artificial-intelligence-market-2019-technology-advancement-and-future-scope-casetext-inc-catalyst-repository-systems-ebrevia/</td>\n",
       "      <td>2020-02-26</td>\n",
       "      <td>en</td>\n",
       "      <td>LegalTech Artificial Intelligence Market 2019 Technology Advancement and Future Scope – Casetext Inc., Catalyst Repository Systems, eBREVIA – Galus Australis</td>\n",
       "      <td>LegalTech Artificial Intelligence Market 2019 Technology Advancement and Future Scope – Casetext Inc., Catalyst Repository Systems, eBREVIA – Galus Australis          \\n\\nGalus Australis\\n\\nBusinessGeneral NewsHealthcareIndustryInternationalLifestyleSci-Tech\\n\\nWednesday, February 26 2020\\n\\nTrending\\n\\nNeedle Counters Market Comprehensive Study by Companies Medline Industries, Boen Healthcare\\nSkin Scrub Trays Market Comprehensive Study by Companies Medline Industries, BD, Deroyal\\nGlobal P...</td>\n",
       "      <td>legaltech artificial intelligence market technology advancement future scope casetext inc catalyst repository systems ebrevia galus australis</td>\n",
       "      <td>legaltech artificial intelligence market technology advancement future scope casetext inc catalyst repository systems ebrevia galus australis galus australis wednesday february trending needle counters market comprehensive study companies medline industries boen healthcare skin scrub trays market comprehensive study companies medline industries bd deroyal global portable handheld electronic game machine market outlook business insights apollo games sony aristocrat leisure igt infectious dise...</td>\n",
       "    </tr>\n",
       "    <tr>\n",
       "      <th>1</th>\n",
       "      <td>http://spaceref.com/astronomy/observation-simulation-and-ai-join-forces-to-reveal-a-clear-universe.html</td>\n",
       "      <td>2021-07-05</td>\n",
       "      <td>en</td>\n",
       "      <td>Observation, Simulation, And AI Join Forces To Reveal A Clear Universe - SpaceRef</td>\n",
       "      <td>\\n\\nObservation, Simulation, And AI Join Forces To Reveal A Clear Universe - SpaceRef\\n\\n \\nHome |\\nNASA Watch\\nSpaceRef Business\\nAstrobiology Web\\nAdvertising\\nAdd an Event\\nSign up for our Daily Newsletter \\n\\n \\n\\n\\nInternational Space Station\\nNASA Hack Space\\nCalendar\\nMissions\\nSpace Weather \\n                           \\n           \\nObservation, Simulation, And AI Join Forces To Reveal A Clear Universe\\n\\n\\n             Press Release - Source: NATIONAL INSTITUTES OF NATURAL SCIENCES...</td>\n",
       "      <td>observation simulation ai join forces reveal clear universe spaceref</td>\n",
       "      <td>observation simulation ai join forces reveal clear universe spaceref nasa watch spaceref business astrobiology web advertising add event sign daily international space station nasa hack space calendar missions space weather observation simulation ai join forces reveal clear universe press release source national institutes natural sciences posted july pm view using ai driven data analysis peel back noise find actual shape universe credit institute statistical mathematics japanese astronomers...</td>\n",
       "    </tr>\n",
       "  </tbody>\n",
       "</table>\n",
       "</div>"
      ],
      "text/plain": [
       "                                                                                                                                                                                url  \\\n",
       "0  http://galusaustralis.com/2020/02/486473/legaltech-artificial-intelligence-market-2019-technology-advancement-and-future-scope-casetext-inc-catalyst-repository-systems-ebrevia/   \n",
       "1                                                                           http://spaceref.com/astronomy/observation-simulation-and-ai-join-forces-to-reveal-a-clear-universe.html   \n",
       "\n",
       "         date language  \\\n",
       "0  2020-02-26       en   \n",
       "1  2021-07-05       en   \n",
       "\n",
       "                                                                                                                                                           title  \\\n",
       "0  LegalTech Artificial Intelligence Market 2019 Technology Advancement and Future Scope – Casetext Inc., Catalyst Repository Systems, eBREVIA – Galus Australis   \n",
       "1                                                                              Observation, Simulation, And AI Join Forces To Reveal A Clear Universe - SpaceRef   \n",
       "\n",
       "                                                                                                                                                                                                                                                                                                                                                                                                                                                                                                                  text  \\\n",
       "0  LegalTech Artificial Intelligence Market 2019 Technology Advancement and Future Scope – Casetext Inc., Catalyst Repository Systems, eBREVIA – Galus Australis          \\n\\nGalus Australis\\n\\nBusinessGeneral NewsHealthcareIndustryInternationalLifestyleSci-Tech\\n\\nWednesday, February 26 2020\\n\\nTrending\\n\\nNeedle Counters Market Comprehensive Study by Companies Medline Industries, Boen Healthcare\\nSkin Scrub Trays Market Comprehensive Study by Companies Medline Industries, BD, Deroyal\\nGlobal P...   \n",
       "1  \\n\\nObservation, Simulation, And AI Join Forces To Reveal A Clear Universe - SpaceRef\\n\\n \\nHome |\\nNASA Watch\\nSpaceRef Business\\nAstrobiology Web\\nAdvertising\\nAdd an Event\\nSign up for our Daily Newsletter \\n\\n \\n\\n\\nInternational Space Station\\nNASA Hack Space\\nCalendar\\nMissions\\nSpace Weather \\n                           \\n           \\nObservation, Simulation, And AI Join Forces To Reveal A Clear Universe\\n\\n\\n             Press Release - Source: NATIONAL INSTITUTES OF NATURAL SCIENCES...   \n",
       "\n",
       "                                                                                                                                   cleaned_title  \\\n",
       "0  legaltech artificial intelligence market technology advancement future scope casetext inc catalyst repository systems ebrevia galus australis   \n",
       "1                                                                           observation simulation ai join forces reveal clear universe spaceref   \n",
       "\n",
       "                                                                                                                                                                                                                                                                                                                                                                                                                                                                                                          cleaned_text  \n",
       "0  legaltech artificial intelligence market technology advancement future scope casetext inc catalyst repository systems ebrevia galus australis galus australis wednesday february trending needle counters market comprehensive study companies medline industries boen healthcare skin scrub trays market comprehensive study companies medline industries bd deroyal global portable handheld electronic game machine market outlook business insights apollo games sony aristocrat leisure igt infectious dise...  \n",
       "1  observation simulation ai join forces reveal clear universe spaceref nasa watch spaceref business astrobiology web advertising add event sign daily international space station nasa hack space calendar missions space weather observation simulation ai join forces reveal clear universe press release source national institutes natural sciences posted july pm view using ai driven data analysis peel back noise find actual shape universe credit institute statistical mathematics japanese astronomers...  "
      ]
     },
     "execution_count": 29,
     "metadata": {},
     "output_type": "execute_result"
    }
   ],
   "source": [
    "print(cleaned_non_duplicates_df.shape)\n",
    "cleaned_non_duplicates_df.head(2)"
   ]
  },
  {
   "cell_type": "markdown",
   "id": "514b978d-8e54-4c20-9d27-e28f4e697965",
   "metadata": {
    "tags": []
   },
   "source": [
    "### Data Filtering"
   ]
  },
  {
   "cell_type": "markdown",
   "id": "3fb1f092-d8f4-4628-9972-3c494c2a483b",
   "metadata": {},
   "source": [
    "#### Discard Irrelevant Articles"
   ]
  },
  {
   "cell_type": "code",
   "execution_count": 30,
   "id": "3e692442-c996-4227-8e2d-98abc2992209",
   "metadata": {},
   "outputs": [],
   "source": [
    "key_words = ['data science', 'machine learning', 'artificial intelligence', 'ml', 'ai', \n",
    "             'natural language processing', 'reinforcement learning', 'computer vision', 'chatgpt']"
   ]
  },
  {
   "cell_type": "code",
   "execution_count": 31,
   "id": "d6f3f488-4e02-411f-bade-a98318b3549b",
   "metadata": {},
   "outputs": [],
   "source": [
    "# function to filter out irrelevant articles\n",
    "def contains_keywords(text):\n",
    "    for keyword in key_words:\n",
    "        if keyword in text.lower():\n",
    "            return True\n",
    "    return False"
   ]
  },
  {
   "cell_type": "code",
   "execution_count": 32,
   "id": "52c0f475-192d-4cad-a875-99634a1516e5",
   "metadata": {},
   "outputs": [
    {
     "name": "stdout",
     "output_type": "stream",
     "text": [
      "(196851, 7)\n",
      "Number of articles to be discarded: 177\n"
     ]
    }
   ],
   "source": [
    "# Count the number of articles that will be discarded\n",
    "discarded_count = len(cleaned_non_duplicates_df) - len(cleaned_non_duplicates_df[cleaned_non_duplicates_df['cleaned_text'].apply(contains_keywords)])\n",
    "\n",
    "# Apply the function to filter out irrelevant articles\n",
    "cleaned_news_df2 = cleaned_non_duplicates_df[cleaned_non_duplicates_df['cleaned_text'].apply(contains_keywords)]\n",
    "print(cleaned_news_df2.shape)\n",
    "\n",
    "# Display the number of articles that will be discarded\n",
    "print(f\"Number of articles to be discarded: {discarded_count}\")"
   ]
  },
  {
   "cell_type": "markdown",
   "id": "2794f823-19ec-4ff5-887d-70267b8055e3",
   "metadata": {},
   "source": [
    "#### News Articles' Length Distribution"
   ]
  },
  {
   "cell_type": "code",
   "execution_count": 33,
   "id": "93ddbc76-a1a3-460c-a878-0e77d628de0b",
   "metadata": {},
   "outputs": [
    {
     "data": {
      "text/html": [
       "<div>\n",
       "<style scoped>\n",
       "    .dataframe tbody tr th:only-of-type {\n",
       "        vertical-align: middle;\n",
       "    }\n",
       "\n",
       "    .dataframe tbody tr th {\n",
       "        vertical-align: top;\n",
       "    }\n",
       "\n",
       "    .dataframe thead th {\n",
       "        text-align: right;\n",
       "    }\n",
       "</style>\n",
       "<table border=\"1\" class=\"dataframe\">\n",
       "  <thead>\n",
       "    <tr style=\"text-align: right;\">\n",
       "      <th></th>\n",
       "      <th>cleaned_text</th>\n",
       "      <th>text_word_count</th>\n",
       "    </tr>\n",
       "  </thead>\n",
       "  <tbody>\n",
       "    <tr>\n",
       "      <th>28902</th>\n",
       "      <td>things know may fbi new mexico shooting gas prices debt limit ai national wsiltvcom main content permission edit article edit close instagram site sign log dashboard logout account dashboard profile saved items logout news consumer watch crime courts tornado recovery health medical minute news morning politics illinois capitol news live streaming video wsiltv news app coronavirus shot local vaccine information coronavirus top stories weather weather project tornado closings delays submit clo...</td>\n",
       "      <td>974</td>\n",
       "    </tr>\n",
       "    <tr>\n",
       "      <th>71843</th>\n",
       "      <td>artificial intelligence hollywood offering actors frightening script quotes news mutual fund navstrending stockssuzlon energy ineh suzlon senco gold inew senco apple inea reliance microsoft hello loginhello loginloginor signupmy accountmy profile portfoliomy watchlistmy credit scoremy messagesmy alertsmy profile promy portfoliomy watchlistmy credit scoremy messagesmy usdownload appfollow indicesstock actionall statstop gainerstop losersonly buyersonly sellers week high week lowprice shockers...</td>\n",
       "      <td>1085</td>\n",
       "    </tr>\n",
       "    <tr>\n",
       "      <th>40120</th>\n",
       "      <td>usaf retracts claim ai drone killed operator sim jump navigation logincreate new form herehome dennis faas usaf retracts claim ai drone killed operator sim usaf retracts claim ai drone killed operator sim dennis faas june pm edt air force usaf official previously claimed air force conducted simulated test ai drone killed human operator retracting statement stating misspoke usafs chief ai test operations colonel tucker cinco hamilton clarified test described hypothetical thought experiment ra...</td>\n",
       "      <td>884</td>\n",
       "    </tr>\n",
       "  </tbody>\n",
       "</table>\n",
       "</div>"
      ],
      "text/plain": [
       "                                                                                                                                                                                                                                                                                                                                                                                                                                                                                                              cleaned_text  \\\n",
       "28902  things know may fbi new mexico shooting gas prices debt limit ai national wsiltvcom main content permission edit article edit close instagram site sign log dashboard logout account dashboard profile saved items logout news consumer watch crime courts tornado recovery health medical minute news morning politics illinois capitol news live streaming video wsiltv news app coronavirus shot local vaccine information coronavirus top stories weather weather project tornado closings delays submit clo...   \n",
       "71843  artificial intelligence hollywood offering actors frightening script quotes news mutual fund navstrending stockssuzlon energy ineh suzlon senco gold inew senco apple inea reliance microsoft hello loginhello loginloginor signupmy accountmy profile portfoliomy watchlistmy credit scoremy messagesmy alertsmy profile promy portfoliomy watchlistmy credit scoremy messagesmy usdownload appfollow indicesstock actionall statstop gainerstop losersonly buyersonly sellers week high week lowprice shockers...   \n",
       "40120  usaf retracts claim ai drone killed operator sim jump navigation logincreate new form herehome dennis faas usaf retracts claim ai drone killed operator sim usaf retracts claim ai drone killed operator sim dennis faas june pm edt air force usaf official previously claimed air force conducted simulated test ai drone killed human operator retracting statement stating misspoke usafs chief ai test operations colonel tucker cinco hamilton clarified test described hypothetical thought experiment ra...   \n",
       "\n",
       "       text_word_count  \n",
       "28902              974  \n",
       "71843             1085  \n",
       "40120              884  "
      ]
     },
     "execution_count": 33,
     "metadata": {},
     "output_type": "execute_result"
    }
   ],
   "source": [
    "cleaned_news_df2[\"text_word_count\"] = cleaned_news_df2[\"cleaned_text\"].apply(lambda x: len(str(x).split()))\n",
    "cleaned_news_df2[[\"cleaned_text\", \"text_word_count\"]].sample(n = 3, random_state = 42)"
   ]
  },
  {
   "cell_type": "code",
   "execution_count": 34,
   "id": "b431d5ae-4a19-4434-baf5-503d71bda945",
   "metadata": {},
   "outputs": [
    {
     "data": {
      "text/plain": [
       "count    196851.000000\n",
       "mean        769.724436\n",
       "std         592.433790\n",
       "min           3.000000\n",
       "25%         457.000000\n",
       "50%         635.000000\n",
       "75%         939.000000\n",
       "max       29413.000000\n",
       "Name: text_word_count, dtype: float64"
      ]
     },
     "execution_count": 34,
     "metadata": {},
     "output_type": "execute_result"
    }
   ],
   "source": [
    "cleaned_news_df2.text_word_count.describe()"
   ]
  },
  {
   "cell_type": "code",
   "execution_count": 35,
   "id": "5f3e9ac5-a434-4da2-841a-c3ffc7f74372",
   "metadata": {},
   "outputs": [
    {
     "data": {
      "image/png": "[encoded data removed]",
      "text/plain": [
       "<Figure size 700x500 with 1 Axes>"
      ]
     },
     "metadata": {},
     "output_type": "display_data"
    }
   ],
   "source": [
    "plt.figure(figsize=(7,5))\n",
    "sns.histplot(data=cleaned_news_df2, x='text_word_count', bins=50, kde=True)\n",
    "plt.title('Distribution of News Text Length')\n",
    "plt.xlabel('Word Count')\n",
    "plt.ylabel('Frequency')\n",
    "plt.show()"
   ]
  },
  {
   "cell_type": "markdown",
   "id": "b6ae5203-e976-4092-9113-bead6d51246f",
   "metadata": {},
   "source": [
    "**Keeping articles with maximum 2500 words for analysis**"
   ]
  },
  {
   "cell_type": "code",
   "execution_count": 36,
   "id": "c31de4cd-5de3-49c1-a44c-5cc2289c4f0b",
   "metadata": {},
   "outputs": [
    {
     "name": "stdout",
     "output_type": "stream",
     "text": [
      "(194333, 8)\n"
     ]
    }
   ],
   "source": [
    "print(cleaned_news_df2[cleaned_news_df2['text_word_count'] <= 2500].shape)"
   ]
  },
  {
   "cell_type": "code",
   "execution_count": 37,
   "id": "d2aa455d-2674-4dd0-8fe7-279f86455114",
   "metadata": {},
   "outputs": [
    {
     "data": {
      "image/png": "[encoded data removed]",
      "text/plain": [
       "<Figure size 700x500 with 1 Axes>"
      ]
     },
     "metadata": {},
     "output_type": "display_data"
    }
   ],
   "source": [
    "max_length_text = cleaned_news_df2[cleaned_news_df2['text_word_count'] <= 2500]\n",
    "\n",
    "plt.figure(figsize=(7,5))\n",
    "sns.histplot(data = max_length_text, x = 'text_word_count', bins=50, kde=True)\n",
    "plt.title('Distribution of News Text Length within 2500 words')\n",
    "plt.xlabel('Word Count')\n",
    "plt.ylabel('Frequency')\n",
    "plt.show()"
   ]
  },
  {
   "cell_type": "code",
   "execution_count": 38,
   "id": "824687b0-f9d9-4349-9d6f-1d48a37cf496",
   "metadata": {},
   "outputs": [
    {
     "name": "stdout",
     "output_type": "stream",
     "text": [
      "<class 'pandas.core.frame.DataFrame'>\n",
      "Int64Index: 191487 entries, 0 to 199676\n",
      "Data columns (total 8 columns):\n",
      " #   Column           Non-Null Count   Dtype \n",
      "---  ------           --------------   ----- \n",
      " 0   url              191487 non-null  object\n",
      " 1   date             191487 non-null  object\n",
      " 2   language         191487 non-null  object\n",
      " 3   title            191487 non-null  object\n",
      " 4   text             191487 non-null  object\n",
      " 5   cleaned_title    191487 non-null  object\n",
      " 6   cleaned_text     191487 non-null  object\n",
      " 7   text_word_count  191487 non-null  int64 \n",
      "dtypes: int64(1), object(7)\n",
      "memory usage: 13.1+ MB\n"
     ]
    }
   ],
   "source": [
    "# Discard too short articles (under 120 words)\n",
    "max_length_text = max_length_text[max_length_text['text_word_count'] > 120]\n",
    "max_length_text.info()"
   ]
  },
  {
   "cell_type": "code",
   "execution_count": 39,
   "id": "52940207-dd25-446b-afb4-b3a79c06f828",
   "metadata": {},
   "outputs": [
    {
     "data": {
      "text/plain": [
       "count    191487.000000\n",
       "mean        734.331150\n",
       "std         379.388738\n",
       "min         121.000000\n",
       "25%         462.000000\n",
       "50%         636.000000\n",
       "75%         928.000000\n",
       "max        2500.000000\n",
       "Name: text_word_count, dtype: float64"
      ]
     },
     "execution_count": 39,
     "metadata": {},
     "output_type": "execute_result"
    }
   ],
   "source": [
    "max_length_text.text_word_count.describe()"
   ]
  },
  {
   "cell_type": "code",
   "execution_count": 40,
   "id": "bb177975-8ddd-40a9-b4a3-d195130b95cc",
   "metadata": {},
   "outputs": [],
   "source": [
    "max_length_text.to_parquet(\"cleaned_news_df2.parquet\")\n",
    "\n",
    "bucket_name = 'minhvo-nlp-final'\n",
    "file_path = 'cleaned_news_df2.parquet'\n",
    "\n",
    "storage_client = storage.Client()\n",
    "bucket = storage_client.get_bucket(bucket_name)\n",
    "blob = bucket.blob(file_path)\n",
    "blob.upload_from_filename(file_path)"
   ]
  },
  {
   "cell_type": "markdown",
   "id": "7a365ed6-5198-4a9f-933a-58ea99b4e6ba",
   "metadata": {},
   "source": [
    "#### Text Standardization (using POS tagging and lemmatization)"
   ]
  },
  {
   "cell_type": "code",
   "execution_count": 41,
   "id": "e28e02c0-665c-492f-95fe-4e0a63116aa9",
   "metadata": {},
   "outputs": [],
   "source": [
    "cleaned_news_df2 = pd.read_parquet('cleaned_news_df2.parquet', engine = 'pyarrow')"
   ]
  },
  {
   "cell_type": "code",
   "execution_count": 42,
   "id": "20b36d5f-1121-41ac-93cb-1f08b649bac4",
   "metadata": {},
   "outputs": [
    {
     "name": "stdout",
     "output_type": "stream",
     "text": [
      "(191487, 8)\n"
     ]
    },
    {
     "data": {
      "text/html": [
       "<div>\n",
       "<style scoped>\n",
       "    .dataframe tbody tr th:only-of-type {\n",
       "        vertical-align: middle;\n",
       "    }\n",
       "\n",
       "    .dataframe tbody tr th {\n",
       "        vertical-align: top;\n",
       "    }\n",
       "\n",
       "    .dataframe thead th {\n",
       "        text-align: right;\n",
       "    }\n",
       "</style>\n",
       "<table border=\"1\" class=\"dataframe\">\n",
       "  <thead>\n",
       "    <tr style=\"text-align: right;\">\n",
       "      <th></th>\n",
       "      <th>url</th>\n",
       "      <th>date</th>\n",
       "      <th>language</th>\n",
       "      <th>title</th>\n",
       "      <th>text</th>\n",
       "      <th>cleaned_title</th>\n",
       "      <th>cleaned_text</th>\n",
       "      <th>text_word_count</th>\n",
       "    </tr>\n",
       "  </thead>\n",
       "  <tbody>\n",
       "    <tr>\n",
       "      <th>0</th>\n",
       "      <td>http://galusaustralis.com/2020/02/486473/legaltech-artificial-intelligence-market-2019-technology-advancement-and-future-scope-casetext-inc-catalyst-repository-systems-ebrevia/</td>\n",
       "      <td>2020-02-26</td>\n",
       "      <td>en</td>\n",
       "      <td>LegalTech Artificial Intelligence Market 2019 Technology Advancement and Future Scope – Casetext Inc., Catalyst Repository Systems, eBREVIA – Galus Australis</td>\n",
       "      <td>LegalTech Artificial Intelligence Market 2019 Technology Advancement and Future Scope – Casetext Inc., Catalyst Repository Systems, eBREVIA – Galus Australis          \\n\\nGalus Australis\\n\\nBusinessGeneral NewsHealthcareIndustryInternationalLifestyleSci-Tech\\n\\nWednesday, February 26 2020\\n\\nTrending\\n\\nNeedle Counters Market Comprehensive Study by Companies Medline Industries, Boen Healthcare\\nSkin Scrub Trays Market Comprehensive Study by Companies Medline Industries, BD, Deroyal\\nGlobal P...</td>\n",
       "      <td>legaltech artificial intelligence market technology advancement future scope casetext inc catalyst repository systems ebrevia galus australis</td>\n",
       "      <td>legaltech artificial intelligence market technology advancement future scope casetext inc catalyst repository systems ebrevia galus australis galus australis wednesday february trending needle counters market comprehensive study companies medline industries boen healthcare skin scrub trays market comprehensive study companies medline industries bd deroyal global portable handheld electronic game machine market outlook business insights apollo games sony aristocrat leisure igt infectious dise...</td>\n",
       "      <td>666</td>\n",
       "    </tr>\n",
       "    <tr>\n",
       "      <th>1</th>\n",
       "      <td>http://spaceref.com/astronomy/observation-simulation-and-ai-join-forces-to-reveal-a-clear-universe.html</td>\n",
       "      <td>2021-07-05</td>\n",
       "      <td>en</td>\n",
       "      <td>Observation, Simulation, And AI Join Forces To Reveal A Clear Universe - SpaceRef</td>\n",
       "      <td>\\n\\nObservation, Simulation, And AI Join Forces To Reveal A Clear Universe - SpaceRef\\n\\n \\nHome |\\nNASA Watch\\nSpaceRef Business\\nAstrobiology Web\\nAdvertising\\nAdd an Event\\nSign up for our Daily Newsletter \\n\\n \\n\\n\\nInternational Space Station\\nNASA Hack Space\\nCalendar\\nMissions\\nSpace Weather \\n                           \\n           \\nObservation, Simulation, And AI Join Forces To Reveal A Clear Universe\\n\\n\\n             Press Release - Source: NATIONAL INSTITUTES OF NATURAL SCIENCES...</td>\n",
       "      <td>observation simulation ai join forces reveal clear universe spaceref</td>\n",
       "      <td>observation simulation ai join forces reveal clear universe spaceref nasa watch spaceref business astrobiology web advertising add event sign daily international space station nasa hack space calendar missions space weather observation simulation ai join forces reveal clear universe press release source national institutes natural sciences posted july pm view using ai driven data analysis peel back noise find actual shape universe credit institute statistical mathematics japanese astronomers...</td>\n",
       "      <td>587</td>\n",
       "    </tr>\n",
       "  </tbody>\n",
       "</table>\n",
       "</div>"
      ],
      "text/plain": [
       "                                                                                                                                                                                url  \\\n",
       "0  http://galusaustralis.com/2020/02/486473/legaltech-artificial-intelligence-market-2019-technology-advancement-and-future-scope-casetext-inc-catalyst-repository-systems-ebrevia/   \n",
       "1                                                                           http://spaceref.com/astronomy/observation-simulation-and-ai-join-forces-to-reveal-a-clear-universe.html   \n",
       "\n",
       "         date language  \\\n",
       "0  2020-02-26       en   \n",
       "1  2021-07-05       en   \n",
       "\n",
       "                                                                                                                                                           title  \\\n",
       "0  LegalTech Artificial Intelligence Market 2019 Technology Advancement and Future Scope – Casetext Inc., Catalyst Repository Systems, eBREVIA – Galus Australis   \n",
       "1                                                                              Observation, Simulation, And AI Join Forces To Reveal A Clear Universe - SpaceRef   \n",
       "\n",
       "                                                                                                                                                                                                                                                                                                                                                                                                                                                                                                                  text  \\\n",
       "0  LegalTech Artificial Intelligence Market 2019 Technology Advancement and Future Scope – Casetext Inc., Catalyst Repository Systems, eBREVIA – Galus Australis          \\n\\nGalus Australis\\n\\nBusinessGeneral NewsHealthcareIndustryInternationalLifestyleSci-Tech\\n\\nWednesday, February 26 2020\\n\\nTrending\\n\\nNeedle Counters Market Comprehensive Study by Companies Medline Industries, Boen Healthcare\\nSkin Scrub Trays Market Comprehensive Study by Companies Medline Industries, BD, Deroyal\\nGlobal P...   \n",
       "1  \\n\\nObservation, Simulation, And AI Join Forces To Reveal A Clear Universe - SpaceRef\\n\\n \\nHome |\\nNASA Watch\\nSpaceRef Business\\nAstrobiology Web\\nAdvertising\\nAdd an Event\\nSign up for our Daily Newsletter \\n\\n \\n\\n\\nInternational Space Station\\nNASA Hack Space\\nCalendar\\nMissions\\nSpace Weather \\n                           \\n           \\nObservation, Simulation, And AI Join Forces To Reveal A Clear Universe\\n\\n\\n             Press Release - Source: NATIONAL INSTITUTES OF NATURAL SCIENCES...   \n",
       "\n",
       "                                                                                                                                   cleaned_title  \\\n",
       "0  legaltech artificial intelligence market technology advancement future scope casetext inc catalyst repository systems ebrevia galus australis   \n",
       "1                                                                           observation simulation ai join forces reveal clear universe spaceref   \n",
       "\n",
       "                                                                                                                                                                                                                                                                                                                                                                                                                                                                                                          cleaned_text  \\\n",
       "0  legaltech artificial intelligence market technology advancement future scope casetext inc catalyst repository systems ebrevia galus australis galus australis wednesday february trending needle counters market comprehensive study companies medline industries boen healthcare skin scrub trays market comprehensive study companies medline industries bd deroyal global portable handheld electronic game machine market outlook business insights apollo games sony aristocrat leisure igt infectious dise...   \n",
       "1  observation simulation ai join forces reveal clear universe spaceref nasa watch spaceref business astrobiology web advertising add event sign daily international space station nasa hack space calendar missions space weather observation simulation ai join forces reveal clear universe press release source national institutes natural sciences posted july pm view using ai driven data analysis peel back noise find actual shape universe credit institute statistical mathematics japanese astronomers...   \n",
       "\n",
       "   text_word_count  \n",
       "0              666  \n",
       "1              587  "
      ]
     },
     "execution_count": 42,
     "metadata": {},
     "output_type": "execute_result"
    }
   ],
   "source": [
    "print(cleaned_news_df2.shape)\n",
    "cleaned_news_df2.head(2)"
   ]
  },
  {
   "cell_type": "code",
   "execution_count": 43,
   "id": "b4b3724e-92ed-4388-93ba-c94c5e350537",
   "metadata": {},
   "outputs": [],
   "source": [
    "# !python -m spacy download en_core_web_sm"
   ]
  },
  {
   "cell_type": "code",
   "execution_count": 44,
   "id": "93b9e26b-5f48-4f81-86f8-5f2ae724b508",
   "metadata": {},
   "outputs": [],
   "source": [
    "# Load the SpaCy model\n",
    "nlp = spacy.load('en_core_web_sm', disable=['parser', 'ner'])\n",
    "\n",
    "def spacy_lemmatization(text):\n",
    "    # Process the text with SpaCy\n",
    "    doc = nlp(text)\n",
    "\n",
    "    # Lemmatize and retain words of specific POS tags\n",
    "    lemmatized_output = ' '.join([token.lemma_ for token in doc if token.pos_ in ['NOUN', 'ADJ', 'VERB', 'ADV']])\n",
    "    \n",
    "    return lemmatized_output"
   ]
  },
  {
   "cell_type": "code",
   "execution_count": 45,
   "id": "241e0d1e-c67f-42af-911c-f9375186ed55",
   "metadata": {},
   "outputs": [
    {
     "name": "stdout",
     "output_type": "stream",
     "text": [
      "CPU times: user 3.17 s, sys: 19 s, total: 22.2 s\n",
      "Wall time: 4min 34s\n"
     ]
    }
   ],
   "source": [
    "%%time\n",
    "# Apply tokenization and lemmatization to the 'cleaned_title' and 'cleaned_text' columns\n",
    "cleaned_news_df2['lemmatized_title'] = cleaned_news_df2['cleaned_title'].parallel_apply(spacy_lemmatization)\n",
    "cleaned_news_df2['lemmatized_text'] = cleaned_news_df2['cleaned_text'].parallel_apply(spacy_lemmatization)"
   ]
  },
  {
   "cell_type": "code",
   "execution_count": 46,
   "id": "69bcafe7-09e0-4023-bd8f-cfc68e84542e",
   "metadata": {},
   "outputs": [
    {
     "data": {
      "text/html": [
       "<div>\n",
       "<style scoped>\n",
       "    .dataframe tbody tr th:only-of-type {\n",
       "        vertical-align: middle;\n",
       "    }\n",
       "\n",
       "    .dataframe tbody tr th {\n",
       "        vertical-align: top;\n",
       "    }\n",
       "\n",
       "    .dataframe thead th {\n",
       "        text-align: right;\n",
       "    }\n",
       "</style>\n",
       "<table border=\"1\" class=\"dataframe\">\n",
       "  <thead>\n",
       "    <tr style=\"text-align: right;\">\n",
       "      <th></th>\n",
       "      <th>title</th>\n",
       "      <th>cleaned_title</th>\n",
       "      <th>lemmatized_title</th>\n",
       "      <th>text</th>\n",
       "      <th>cleaned_text</th>\n",
       "      <th>lemmatized_text</th>\n",
       "    </tr>\n",
       "  </thead>\n",
       "  <tbody>\n",
       "    <tr>\n",
       "      <th>151860</th>\n",
       "      <td>UK Government Warned for Lack of AI Transparency in Welfare Claims</td>\n",
       "      <td>government warned lack ai transparency welfare claims</td>\n",
       "      <td>government warn lack ai transparency welfare claim</td>\n",
       "      <td>UK Government Warned for Lack of AI Transparency in Welfare Claims    \\n  \\n\\nSkip to contentSun. Sep 3rd, 2023              CityLifeUnveiling New Technologies and the Power of AI\\n  \\n\\nAINewsSpaceTechnologySatelliteScienceU.S.Contact\\n\\n  \\nTechnology\\n \\nUK Government Warned for Lack of AI Transparency in Welfare Claims\\n  ByGabriel Botha\\n\\nSep 3, 2023\\nThe UK government could face contempt of court charges if it fails to improve transparency surrounding its use of artificial intelligen...</td>\n",
       "      <td>government warned lack ai transparency welfare claims contentsun sep rd new technologies power ai technology government warned lack ai transparency welfare claims bygabriel botha sep government could face contempt court charges fails improve transparency surrounding use artificial intelligence ai welfare claim assessments department work pensions dwp increasingly relied ai detect fraud universal credit claims lack transparency criticized child poverty advocates particularly concerned potenti...</td>\n",
       "      <td>government warn lack ai transparency welfare claim rd new technology power ai technology government warn lack ai transparency welfare claim government face contempt court charge fail improve transparency surround use artificial intelligence ai welfare claim assessment department work pension dwp increasingly rely ai detect fraud universal credit claim lack transparency criticize child poverty advocate particularly concerned potential impact child benefit suspend base decision make informatio...</td>\n",
       "    </tr>\n",
       "    <tr>\n",
       "      <th>144258</th>\n",
       "      <td>AI and analytics leader SAS delivers trustworthy generative AI value through industry solutions</td>\n",
       "      <td>ai analytics leader sas delivers trustworthy generative ai value industry solutions</td>\n",
       "      <td>ai analytic leader deliver trustworthy generative ai value industry solution</td>\n",
       "      <td>AI and analytics leader SAS delivers trustworthy generative AI value through industry solutions\\n\\nSkip to contentAvera Medical MinuteLocal GuideSomeone You Should KnowTouchstone Energy Scholar of the WeekHomeWeatherSportsSubmit ItLivestreamLatest newscastsDelays and CancellationsHomeNewsAgricultureCrimeEconomyEducationEntertainmentInternationalNationalMaking A DifferenceRegionalScienceStateTechnologyLivestreamWeatherInteractive RadarSioux FallsNortheast SDCentral SDDelays and CancellationsS...</td>\n",
       "      <td>ai analytics leader sas delivers trustworthy generative ai value industry solutions contentavera medical minutelocal guidesomeone energy scholar radarsioux sdcentral sddelays networkmap roomroad weekplay weekpigskin previewstats election mapssouth dakota election mapsiowa election mapsminnesota election mapsmorningmr foodowning weekavera medical minutecontact usmeet teamcareers dakota news nowcareers graycommunity usag marketscovid updatescovid mapsomeone photos videogray dc country music re...</td>\n",
       "      <td>ai analytic leader deliver trustworthy generative ai value industry solution contentavera medical minutelocal guidesomeone energy scholar radarsioux sdcentral sddelay networkmap roomroad weekplay weekpigskin previewstat election election election mapsminnesota election mapsmorningmr foodowning weekavera medical minutecontact usmeet teamcareer news nowcareer photo videogray country music releasesai analytic leader deliver trustworthy generative value industry pm cdtupdate minute expand strate...</td>\n",
       "    </tr>\n",
       "    <tr>\n",
       "      <th>81326</th>\n",
       "      <td>Star Wars AI trailer 'directed by Wes Anderson' sparks fierce debate | Metro News</td>\n",
       "      <td>star wars ai trailer directed wes anderson sparks fierce debate metro news</td>\n",
       "      <td>star war ai trailer direct wes spark fierce debate</td>\n",
       "      <td>\\n\\nStar Wars AI trailer 'directed by Wes Anderson' sparks fierce debate | Metro News\\n\\n \\nNEWS... BUT NOT AS YOU KNOW IT\\n\\n \\n\\nNews\\nSport\\n\\nNews\\n\\nLondon\\nUK\\nUS\\nWorld\\nTech\\nCoronation\\nCost of living\\nRussia-Ukraine\\nWeird\\n\\n\\nSport\\n\\nFootball\\nPremier League\\nTransfer News\\nCricket\\nBoxing\\nTennis\\nSnooker\\n\\n\\nEntertainment\\n\\nShowbiz\\nTV\\nFilm\\nMusic\\nGaming\\n\\n\\nSoaps\\n\\nEastEnders\\nEmmerdale\\nCoronation Street\\nHollyoaks\\n\\n\\nLifestyle\\n\\nSex\\nHealth\\nProperty\\nFashion\\nFoo...</td>\n",
       "      <td>star wars ai trailer directed wes anderson sparks fierce debate metro news news know news sport news london world tech coronation cost living russiaukraine weird sport football premier league transfer news cricket boxing tennis snooker entertainment showbiz tv film music gaming soaps eastenders emmerdale coronation street hollyoaks lifestyle sex health property fashion food travel horoscopes money shopping video platform features focus lifeline campaign shopping puzzles newsletters discounts...</td>\n",
       "      <td>star war ai trailer direct wes spark fierce debate know tech coronation cost living russiaukraine weird sport football premier league transfer news cricket box tennis snooker entertainment showbiz tv film music gaming soap eastender emmerdale coronation street hollyoak sex health property fashion food travel horoscope money shopping video platform feature focus campaign shopping puzzle newsletter discount submit stuff competition advertise weather trend privacy stay touch metrouk viral star ...</td>\n",
       "    </tr>\n",
       "    <tr>\n",
       "      <th>92284</th>\n",
       "      <td>ChatGPT helps CEO recover $109, 500 from a client - TechStory</td>\n",
       "      <td>chatgpt helps ceo recover client techstory</td>\n",
       "      <td>chatgpt help ceo recover client techstory</td>\n",
       "      <td>\\n\\nChatGPT helps CEO recover $109, 500 from a client - TechStory\\n\\n \\n\\n\\n \\n\\n \\n\\n \\n\\n\\nSend Us A Tip\\nCalling all Tech Writers\\nAdvertise\\n \\n \\n\\n \\n\\n \\nNewsNewsSee All \\n\\n\\n \\n\\r\\n\\t\\t\\t\\t\\t\\tChatGPT helps CEO recover $109, 500 from a client\\t\\t\\t\\t\\t\\n\\n \\n\\r\\n\\t\\t\\t\\t\\t\\tHermes provides each employee a bonus of more than  ₹3,50,000 during the layoff season\\t\\t\\t\\t\\t\\n\\n \\n\\r\\n\\t\\t\\t\\t\\t\\tA new £33 million ransom demand from LockBit for the 44GB of data stolen from Royal Mail\\t\\t\\...</td>\n",
       "      <td>chatgpt helps ceo recover client techstory send tip calling tech writers advertise newsnewssee chatgpt helps ceo recover client hermes provides employee bonus layoff season new million ransom demand lockbit gb data stolen royal mail b loss crypto industry due major scandals sanctioned russian banks got permit transact major crypto exchanges largest nft dump ever whale sold nfts days ptron force xn bluetooth calling launched india lenovo thinkbook gen finally launched india noisefit crew smar...</td>\n",
       "      <td>chatgpt help ceo recover client techstory send tip call tech writer advertise help ceo recover client provide employee bonus season new ransom demand lockbit datum steal royal mail b loss crypto industry due major scandal sanction russian bank get permit transact major crypto exchange large nft dump ever whale sell nfts day call launch finally launch noisefit crew smartwatch launch talk value shitcoin call bonk jump week dump alert phone unlock reward top good online casino microsoft year ca...</td>\n",
       "    </tr>\n",
       "    <tr>\n",
       "      <th>104710</th>\n",
       "      <td>FTX bankruptcy also endangers founder’s philanthropic gifts | The Seattle Times</td>\n",
       "      <td>ftx bankruptcy also endangers founders philanthropic gifts seattle times</td>\n",
       "      <td>bankruptcy also endanger founder philanthropic gift seattle time</td>\n",
       "      <td>\\n\\nFTX bankruptcy also endangers founder’s philanthropic gifts | The Seattle Times\\n \\n\\n \\n\\n \\nSkip to content\\n\\n \\n\\nCoronavirus\\nLocal News\\n\\nTraffic Lab\\nLaw &amp; Justice\\nLocal Politics\\nEducation\\nEducation Lab\\nEastside\\nEnvironment\\nHealth\\nData\\nMental Health\\nProject Homeless\\nTimes Watchdog\\n\\n\\nBusiness &amp; Tech\\n\\nBoeing &amp; Aerospace\\nAmazon\\nMicrosoft\\nTechnology\\nReal Estate\\nEconomy\\nArtificial Intelligence\\n\\n\\nNation &amp; World\\n\\nNation &amp; World Politics\\nOddities\\n\\n\\nSports\\n\\...</td>\n",
       "      <td>ftx bankruptcy also endangers founders philanthropic gifts seattle times content coronavirus local news traffic lab law justice local politics education education lab eastside environment health data mental health project homeless times watchdog business tech boeing aerospace amazon microsoft technology real estate economy artificial intelligence nation world nation world politics oddities sports seahawks mariners huskies cougars storm sounders kraken reign high school sports tvradio enterta...</td>\n",
       "      <td>bankruptcy also endanger founder philanthropic gift seattle local news traffic law justice local politic education education eastside environment health datum mental health project homeless time watchdog business tech technology real estate economy artificial intelligence nation world world politic oddity sport seahawks mariner husky cougar storm sounder kraken reign high school sport tvradio entertainment movie book music theater classical music tvstreame comic_strip game puzzle horoscope l...</td>\n",
       "    </tr>\n",
       "  </tbody>\n",
       "</table>\n",
       "</div>"
      ],
      "text/plain": [
       "                                                                                                  title  \\\n",
       "151860                               UK Government Warned for Lack of AI Transparency in Welfare Claims   \n",
       "144258  AI and analytics leader SAS delivers trustworthy generative AI value through industry solutions   \n",
       "81326                 Star Wars AI trailer 'directed by Wes Anderson' sparks fierce debate | Metro News   \n",
       "92284                                     ChatGPT helps CEO recover $109, 500 from a client - TechStory   \n",
       "104710                  FTX bankruptcy also endangers founder’s philanthropic gifts | The Seattle Times   \n",
       "\n",
       "                                                                              cleaned_title  \\\n",
       "151860                                government warned lack ai transparency welfare claims   \n",
       "144258  ai analytics leader sas delivers trustworthy generative ai value industry solutions   \n",
       "81326            star wars ai trailer directed wes anderson sparks fierce debate metro news   \n",
       "92284                                            chatgpt helps ceo recover client techstory   \n",
       "104710             ftx bankruptcy also endangers founders philanthropic gifts seattle times   \n",
       "\n",
       "                                                                    lemmatized_title  \\\n",
       "151860                            government warn lack ai transparency welfare claim   \n",
       "144258  ai analytic leader deliver trustworthy generative ai value industry solution   \n",
       "81326                             star war ai trailer direct wes spark fierce debate   \n",
       "92284                                      chatgpt help ceo recover client techstory   \n",
       "104710              bankruptcy also endanger founder philanthropic gift seattle time   \n",
       "\n",
       "                                                                                                                                                                                                                                                                                                                                                                                                                                                                                                                       text  \\\n",
       "151860   UK Government Warned for Lack of AI Transparency in Welfare Claims    \\n  \\n\\nSkip to contentSun. Sep 3rd, 2023              CityLifeUnveiling New Technologies and the Power of AI\\n  \\n\\nAINewsSpaceTechnologySatelliteScienceU.S.Contact\\n\\n  \\nTechnology\\n \\nUK Government Warned for Lack of AI Transparency in Welfare Claims\\n  ByGabriel Botha\\n\\nSep 3, 2023\\nThe UK government could face contempt of court charges if it fails to improve transparency surrounding its use of artificial intelligen...   \n",
       "144258  AI and analytics leader SAS delivers trustworthy generative AI value through industry solutions\\n\\nSkip to contentAvera Medical MinuteLocal GuideSomeone You Should KnowTouchstone Energy Scholar of the WeekHomeWeatherSportsSubmit ItLivestreamLatest newscastsDelays and CancellationsHomeNewsAgricultureCrimeEconomyEducationEntertainmentInternationalNationalMaking A DifferenceRegionalScienceStateTechnologyLivestreamWeatherInteractive RadarSioux FallsNortheast SDCentral SDDelays and CancellationsS...   \n",
       "81326    \\n\\nStar Wars AI trailer 'directed by Wes Anderson' sparks fierce debate | Metro News\\n\\n \\nNEWS... BUT NOT AS YOU KNOW IT\\n\\n \\n\\nNews\\nSport\\n\\nNews\\n\\nLondon\\nUK\\nUS\\nWorld\\nTech\\nCoronation\\nCost of living\\nRussia-Ukraine\\nWeird\\n\\n\\nSport\\n\\nFootball\\nPremier League\\nTransfer News\\nCricket\\nBoxing\\nTennis\\nSnooker\\n\\n\\nEntertainment\\n\\nShowbiz\\nTV\\nFilm\\nMusic\\nGaming\\n\\n\\nSoaps\\n\\nEastEnders\\nEmmerdale\\nCoronation Street\\nHollyoaks\\n\\n\\nLifestyle\\n\\nSex\\nHealth\\nProperty\\nFashion\\nFoo...   \n",
       "92284   \\n\\nChatGPT helps CEO recover $109, 500 from a client - TechStory\\n\\n \\n\\n\\n \\n\\n \\n\\n \\n\\n\\nSend Us A Tip\\nCalling all Tech Writers\\nAdvertise\\n \\n \\n\\n \\n\\n \\nNewsNewsSee All \\n\\n\\n \\n\\r\\n\\t\\t\\t\\t\\t\\tChatGPT helps CEO recover $109, 500 from a client\\t\\t\\t\\t\\t\\n\\n \\n\\r\\n\\t\\t\\t\\t\\t\\tHermes provides each employee a bonus of more than  ₹3,50,000 during the layoff season\\t\\t\\t\\t\\t\\n\\n \\n\\r\\n\\t\\t\\t\\t\\t\\tA new £33 million ransom demand from LockBit for the 44GB of data stolen from Royal Mail\\t\\t\\...   \n",
       "104710  \\n\\nFTX bankruptcy also endangers founder’s philanthropic gifts | The Seattle Times\\n \\n\\n \\n\\n \\nSkip to content\\n\\n \\n\\nCoronavirus\\nLocal News\\n\\nTraffic Lab\\nLaw & Justice\\nLocal Politics\\nEducation\\nEducation Lab\\nEastside\\nEnvironment\\nHealth\\nData\\nMental Health\\nProject Homeless\\nTimes Watchdog\\n\\n\\nBusiness & Tech\\n\\nBoeing & Aerospace\\nAmazon\\nMicrosoft\\nTechnology\\nReal Estate\\nEconomy\\nArtificial Intelligence\\n\\n\\nNation & World\\n\\nNation & World Politics\\nOddities\\n\\n\\nSports\\n\\...   \n",
       "\n",
       "                                                                                                                                                                                                                                                                                                                                                                                                                                                                                                               cleaned_text  \\\n",
       "151860  government warned lack ai transparency welfare claims contentsun sep rd new technologies power ai technology government warned lack ai transparency welfare claims bygabriel botha sep government could face contempt court charges fails improve transparency surrounding use artificial intelligence ai welfare claim assessments department work pensions dwp increasingly relied ai detect fraud universal credit claims lack transparency criticized child poverty advocates particularly concerned potenti...   \n",
       "144258  ai analytics leader sas delivers trustworthy generative ai value industry solutions contentavera medical minutelocal guidesomeone energy scholar radarsioux sdcentral sddelays networkmap roomroad weekplay weekpigskin previewstats election mapssouth dakota election mapsiowa election mapsminnesota election mapsmorningmr foodowning weekavera medical minutecontact usmeet teamcareers dakota news nowcareers graycommunity usag marketscovid updatescovid mapsomeone photos videogray dc country music re...   \n",
       "81326   star wars ai trailer directed wes anderson sparks fierce debate metro news news know news sport news london world tech coronation cost living russiaukraine weird sport football premier league transfer news cricket boxing tennis snooker entertainment showbiz tv film music gaming soaps eastenders emmerdale coronation street hollyoaks lifestyle sex health property fashion food travel horoscopes money shopping video platform features focus lifeline campaign shopping puzzles newsletters discounts...   \n",
       "92284   chatgpt helps ceo recover client techstory send tip calling tech writers advertise newsnewssee chatgpt helps ceo recover client hermes provides employee bonus layoff season new million ransom demand lockbit gb data stolen royal mail b loss crypto industry due major scandals sanctioned russian banks got permit transact major crypto exchanges largest nft dump ever whale sold nfts days ptron force xn bluetooth calling launched india lenovo thinkbook gen finally launched india noisefit crew smar...   \n",
       "104710  ftx bankruptcy also endangers founders philanthropic gifts seattle times content coronavirus local news traffic lab law justice local politics education education lab eastside environment health data mental health project homeless times watchdog business tech boeing aerospace amazon microsoft technology real estate economy artificial intelligence nation world nation world politics oddities sports seahawks mariners huskies cougars storm sounders kraken reign high school sports tvradio enterta...   \n",
       "\n",
       "                                                                                                                                                                                                                                                                                                                                                                                                                                                                                                            lemmatized_text  \n",
       "151860  government warn lack ai transparency welfare claim rd new technology power ai technology government warn lack ai transparency welfare claim government face contempt court charge fail improve transparency surround use artificial intelligence ai welfare claim assessment department work pension dwp increasingly rely ai detect fraud universal credit claim lack transparency criticize child poverty advocate particularly concerned potential impact child benefit suspend base decision make informatio...  \n",
       "144258  ai analytic leader deliver trustworthy generative ai value industry solution contentavera medical minutelocal guidesomeone energy scholar radarsioux sdcentral sddelay networkmap roomroad weekplay weekpigskin previewstat election election election mapsminnesota election mapsmorningmr foodowning weekavera medical minutecontact usmeet teamcareer news nowcareer photo videogray country music releasesai analytic leader deliver trustworthy generative value industry pm cdtupdate minute expand strate...  \n",
       "81326   star war ai trailer direct wes spark fierce debate know tech coronation cost living russiaukraine weird sport football premier league transfer news cricket box tennis snooker entertainment showbiz tv film music gaming soap eastender emmerdale coronation street hollyoak sex health property fashion food travel horoscope money shopping video platform feature focus campaign shopping puzzle newsletter discount submit stuff competition advertise weather trend privacy stay touch metrouk viral star ...  \n",
       "92284   chatgpt help ceo recover client techstory send tip call tech writer advertise help ceo recover client provide employee bonus season new ransom demand lockbit datum steal royal mail b loss crypto industry due major scandal sanction russian bank get permit transact major crypto exchange large nft dump ever whale sell nfts day call launch finally launch noisefit crew smartwatch launch talk value shitcoin call bonk jump week dump alert phone unlock reward top good online casino microsoft year ca...  \n",
       "104710  bankruptcy also endanger founder philanthropic gift seattle local news traffic law justice local politic education education eastside environment health datum mental health project homeless time watchdog business tech technology real estate economy artificial intelligence nation world world politic oddity sport seahawks mariner husky cougar storm sounder kraken reign high school sport tvradio entertainment movie book music theater classical music tvstreame comic_strip game puzzle horoscope l...  "
      ]
     },
     "execution_count": 46,
     "metadata": {},
     "output_type": "execute_result"
    }
   ],
   "source": [
    "cleaned_news_df2[['title', 'cleaned_title', 'lemmatized_title', 'text', 'cleaned_text', 'lemmatized_text']].sample(n = 5, random_state = 42)"
   ]
  },
  {
   "cell_type": "markdown",
   "id": "5b194e8c-c31d-4d2d-94fa-86ed1d3e9166",
   "metadata": {},
   "source": [
    "**Save Final Data**"
   ]
  },
  {
   "cell_type": "code",
   "execution_count": 47,
   "id": "c4e74262-6521-405b-8353-c629e6f77192",
   "metadata": {},
   "outputs": [],
   "source": [
    "cleaned_news_df2.to_parquet('final_cleaned_news_df.parquet')\n",
    "\n",
    "bucket_name = 'minhvo-nlp-final'\n",
    "file_path = 'final_cleaned_news_df.parquet'\n",
    "\n",
    "storage_client = storage.Client()\n",
    "bucket = storage_client.get_bucket(bucket_name)\n",
    "blob = bucket.blob(file_path)\n",
    "blob.upload_from_filename(file_path)"
   ]
  }
 ],
 "metadata": {
  "environment": {
   "kernel": "python3",
   "name": "tf2-cpu.2-11.m112",
   "type": "gcloud",
   "uri": "gcr.io/deeplearning-platform-release/tf2-cpu.2-11:m112"
  },
  "kernelspec": {
   "display_name": "Python 3 (ipykernel)",
   "language": "python",
   "name": "python3"
  },
  "language_info": {
   "codemirror_mode": {
    "name": "ipython",
    "version": 3
   },
   "file_extension": ".py",
   "mimetype": "text/x-python",
   "name": "python",
   "nbconvert_exporter": "python",
   "pygments_lexer": "ipython3",
   "version": "3.11.4"
  }
 },
 "nbformat": 4,
 "nbformat_minor": 5
}
