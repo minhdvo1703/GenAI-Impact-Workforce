{
 "cells": [
  {
   "cell_type": "markdown",
   "id": "45dcfa11-8a9b-4ee3-847b-7c6989f7f143",
   "metadata": {
    "id": "AXFJlWjSmGv_",
    "tags": []
   },
   "source": [
    "### Minh Vo\n",
    "### ADSP 32018 - Natural Language Processing and Cognitive Computing (Autumn 23)\n",
    "### FINAL PROJECT"
   ]
  },
  {
   "cell_type": "markdown",
   "id": "ef16e166-838e-448d-afd2-007075b0e26a",
   "metadata": {},
   "source": [
    "### Sentiment Analysis"
   ]
  },
  {
   "cell_type": "code",
   "execution_count": 1,
   "id": "230b7589-7c13-4bc8-94b0-aa910b02f115",
   "metadata": {
    "tags": []
   },
   "outputs": [],
   "source": [
    "# !pip install ktrain\n",
    "# !pip install vaderSentiment"
   ]
  },
  {
   "cell_type": "code",
   "execution_count": 1,
   "id": "5301eba0-b203-4ba8-b4f5-2678c1727609",
   "metadata": {
    "tags": []
   },
   "outputs": [
    {
     "name": "stdout",
     "output_type": "stream",
     "text": [
      "WARNING:tensorflow:From C:\\Users\\nhoxh\\anaconda3\\Lib\\site-packages\\keras\\src\\losses.py:2976: The name tf.losses.sparse_softmax_cross_entropy is deprecated. Please use tf.compat.v1.losses.sparse_softmax_cross_entropy instead.\n",
      "\n"
     ]
    }
   ],
   "source": [
    "import pandas as pd\n",
    "import numpy as np\n",
    "import matplotlib.pyplot as plt\n",
    "import seaborn as sns\n",
    "import itertools\n",
    "import re\n",
    "import os, requests, sys\n",
    "import nltk as nltk\n",
    "\n",
    "from joblib import dump, load\n",
    "\n",
    "from textblob import TextBlob\n",
    "from textblob.sentiments import NaiveBayesAnalyzer\n",
    "from vaderSentiment.vaderSentiment import SentimentIntensityAnalyzer\n",
    "\n",
    "import ktrain\n",
    "from ktrain import text\n",
    "\n",
    "from transformers import pipeline, AutoModelForSequenceClassification, AutoTokenizer\n",
    "\n",
    "import warnings\n",
    "warnings.filterwarnings(\"ignore\")\n",
    "\n",
    "pd.set_option('display.max_rows', 100)\n",
    "pd.set_option('display.max_columns', None)\n",
    "pd.set_option('display.max_colwidth', 500)\n",
    "\n",
    "from sklearn.pipeline import make_pipeline\n",
    "from sklearn.preprocessing import LabelEncoder\n",
    "from sklearn.model_selection import train_test_split\n",
    "from sklearn.feature_extraction.text import TfidfVectorizer, TfidfTransformer\n",
    "from sklearn.linear_model import LogisticRegression, SGDClassifier\n",
    "from sklearn.naive_bayes import MultinomialNB\n",
    "from sklearn.metrics import classification_report, confusion_matrix, accuracy_score, ConfusionMatrixDisplay"
   ]
  },
  {
   "cell_type": "code",
   "execution_count": 2,
   "id": "11987ef8-ba36-4e90-ae04-3de01c63fce9",
   "metadata": {
    "colab": {
     "base_uri": "https://localhost:8080/"
    },
    "id": "SeY1xoLc6d2Y",
    "outputId": "2a30d38d-ab62-4ae1-b96b-4675d669532b",
    "tags": []
   },
   "outputs": [
    {
     "name": "stdout",
     "output_type": "stream",
     "text": [
      "Available CPUs: 20\n"
     ]
    }
   ],
   "source": [
    "import multiprocessing\n",
    "from pandarallel import pandarallel\n",
    "\n",
    "num_processors = multiprocessing.cpu_count()\n",
    "print(f'Available CPUs: {num_processors}')"
   ]
  },
  {
   "cell_type": "code",
   "execution_count": 3,
   "id": "210957e3-721a-4a42-8453-2ec98f11a4d3",
   "metadata": {
    "colab": {
     "base_uri": "https://localhost:8080/"
    },
    "id": "oUvI9x6w6ewG",
    "outputId": "a06d7d95-8443-44d9-d730-a0bafcd82901",
    "tags": []
   },
   "outputs": [
    {
     "name": "stdout",
     "output_type": "stream",
     "text": [
      "INFO: Pandarallel will run on 19 workers.\n",
      "INFO: Pandarallel will use standard multiprocessing data transfer (pipe) to transfer data between the main process and workers.\n",
      "\n",
      "WARNING: You are on Windows. If you detect any issue with pandarallel, be sure you checked out the Troubleshooting page:\n",
      "https://nalepae.github.io/pandarallel/troubleshooting/\n"
     ]
    }
   ],
   "source": [
    "pandarallel.initialize(nb_workers=num_processors-1, use_memory_fs=False)\n",
    "workers=num_processors"
   ]
  },
  {
   "cell_type": "markdown",
   "id": "8ba0720c-de99-414c-bf7a-c1a37567cd0c",
   "metadata": {},
   "source": [
    "#### Yelp Data Loading"
   ]
  },
  {
   "cell_type": "code",
   "execution_count": 60,
   "id": "4986557c-c751-49a2-ad3f-c9605767e227",
   "metadata": {
    "tags": []
   },
   "outputs": [
    {
     "name": "stdout",
     "output_type": "stream",
     "text": [
      "(255717, 3)\n"
     ]
    },
    {
     "data": {
      "text/html": [
       "<div>\n",
       "<style scoped>\n",
       "    .dataframe tbody tr th:only-of-type {\n",
       "        vertical-align: middle;\n",
       "    }\n",
       "\n",
       "    .dataframe tbody tr th {\n",
       "        vertical-align: top;\n",
       "    }\n",
       "\n",
       "    .dataframe thead th {\n",
       "        text-align: right;\n",
       "    }\n",
       "</style>\n",
       "<table border=\"1\" class=\"dataframe\">\n",
       "  <thead>\n",
       "    <tr style=\"text-align: right;\">\n",
       "      <th></th>\n",
       "      <th>text</th>\n",
       "      <th>label</th>\n",
       "      <th>lang</th>\n",
       "    </tr>\n",
       "  </thead>\n",
       "  <tbody>\n",
       "    <tr>\n",
       "      <th>0</th>\n",
       "      <td>I love Deagan's. I do. I really do. The atmosphere is cozy and festive. The shrimp tacos and house fries are my standbys. The fries are sometimes good and sometimes great, and the spicy dipping sauce they come with is to die for. The beer list is amazing and the cocktails are great. The prices are mid-level, so it's not a cheap dive you can go to every week, but rather a treat when you do. Try it out. You won't be disappointed!</td>\n",
       "      <td>1</td>\n",
       "      <td>en</td>\n",
       "    </tr>\n",
       "    <tr>\n",
       "      <th>1</th>\n",
       "      <td>I love the classes at this gym. Zumba and. Radio Hip Hop are my favorite. This is such a great fun and I love that it is so reasonably priced!</td>\n",
       "      <td>1</td>\n",
       "      <td>en</td>\n",
       "    </tr>\n",
       "    <tr>\n",
       "      <th>2</th>\n",
       "      <td>The tables and floor were dirty. I was the only customer on a Saturday nite and  the person working the counter ignored me I had a corned beef sandwich. I took three bites  and threw it in the trash</td>\n",
       "      <td>0</td>\n",
       "      <td>en</td>\n",
       "    </tr>\n",
       "    <tr>\n",
       "      <th>3</th>\n",
       "      <td>I had an oil change at the 15515 N Scottsdale Road location.  When the car was delivered to me, there were two engine warning lights on that had not been on when I drove the car in.  The technician said that the lights were on when he got in the car, which was not true.  I took the car to the dealer who said that a sensor light had been left unplugged when they removed the air filter.  I should have read the many bad Yelp reviews prior to going to this facility.</td>\n",
       "      <td>0</td>\n",
       "      <td>en</td>\n",
       "    </tr>\n",
       "    <tr>\n",
       "      <th>4</th>\n",
       "      <td>The absolute WORST apartment complex I have ever lived in. Moved here from out of state. Hoped to find a decently priced apartment until I got myself settled in. Wow this place has been trash. Landlord is only here half the time, so those of you with a full time job, forget ever trying to communicate with her! Doesn't answer the phone or call back. Place can't even get with the 21st century and splurge on email communication. Rent past due? Noise complaint on an animal? Anything, Don't worry...</td>\n",
       "      <td>0</td>\n",
       "      <td>en</td>\n",
       "    </tr>\n",
       "  </tbody>\n",
       "</table>\n",
       "</div>"
      ],
      "text/plain": [
       "                                                                                                                                                                                                                                                                                                                                                                                                                                                                                                                  text  \\\n",
       "0                                                                      I love Deagan's. I do. I really do. The atmosphere is cozy and festive. The shrimp tacos and house fries are my standbys. The fries are sometimes good and sometimes great, and the spicy dipping sauce they come with is to die for. The beer list is amazing and the cocktails are great. The prices are mid-level, so it's not a cheap dive you can go to every week, but rather a treat when you do. Try it out. You won't be disappointed!   \n",
       "1                                                                                                                                                                                                                                                                                                                                                                       I love the classes at this gym. Zumba and. Radio Hip Hop are my favorite. This is such a great fun and I love that it is so reasonably priced!   \n",
       "2                                                                                                                                                                                                                                                                                                               The tables and floor were dirty. I was the only customer on a Saturday nite and  the person working the counter ignored me I had a corned beef sandwich. I took three bites  and threw it in the trash   \n",
       "3                                   I had an oil change at the 15515 N Scottsdale Road location.  When the car was delivered to me, there were two engine warning lights on that had not been on when I drove the car in.  The technician said that the lights were on when he got in the car, which was not true.  I took the car to the dealer who said that a sensor light had been left unplugged when they removed the air filter.  I should have read the many bad Yelp reviews prior to going to this facility.   \n",
       "4  The absolute WORST apartment complex I have ever lived in. Moved here from out of state. Hoped to find a decently priced apartment until I got myself settled in. Wow this place has been trash. Landlord is only here half the time, so those of you with a full time job, forget ever trying to communicate with her! Doesn't answer the phone or call back. Place can't even get with the 21st century and splurge on email communication. Rent past due? Noise complaint on an animal? Anything, Don't worry...   \n",
       "\n",
       "   label lang  \n",
       "0      1   en  \n",
       "1      1   en  \n",
       "2      0   en  \n",
       "3      0   en  \n",
       "4      0   en  "
      ]
     },
     "execution_count": 60,
     "metadata": {},
     "output_type": "execute_result"
    }
   ],
   "source": [
    "# import yelp data\n",
    "directory = 'https://storage.googleapis.com/msca-bdp-data-open/yelp/'\n",
    "fileName = 'yelp_train_sentiment.json'\n",
    "\n",
    "path = directory + fileName\n",
    "\n",
    "yelp = pd.read_json(path, orient='records', lines=True)\n",
    "print(yelp.shape)\n",
    "yelp.head()"
   ]
  },
  {
   "cell_type": "markdown",
   "id": "06ed52f9-b183-4896-b010-c72228c0ee2f",
   "metadata": {},
   "source": [
    "label = 0 >> Negative Sentiment  \n",
    "label = 1 >> Positive Sentiment  "
   ]
  },
  {
   "cell_type": "markdown",
   "id": "512ffc9c-f0e5-4cd5-943a-ac321ccb2888",
   "metadata": {},
   "source": [
    "##### Data Preprocessing"
   ]
  },
  {
   "cell_type": "code",
   "execution_count": 61,
   "id": "16cf8593-8f38-4607-b1d5-cc3ac22b504f",
   "metadata": {
    "tags": []
   },
   "outputs": [],
   "source": [
    "sentiment = {0: \"Negative\", 1: \"Positive\"}\n",
    "yelp['sentiment'] = yelp['label'].map(sentiment)"
   ]
  },
  {
   "cell_type": "code",
   "execution_count": 62,
   "id": "cb12cf1d-4591-48ec-94b0-a7c337dc7359",
   "metadata": {
    "tags": []
   },
   "outputs": [
    {
     "data": {
      "text/html": [
       "<div>\n",
       "<style scoped>\n",
       "    .dataframe tbody tr th:only-of-type {\n",
       "        vertical-align: middle;\n",
       "    }\n",
       "\n",
       "    .dataframe tbody tr th {\n",
       "        vertical-align: top;\n",
       "    }\n",
       "\n",
       "    .dataframe thead th {\n",
       "        text-align: right;\n",
       "    }\n",
       "</style>\n",
       "<table border=\"1\" class=\"dataframe\">\n",
       "  <thead>\n",
       "    <tr style=\"text-align: right;\">\n",
       "      <th></th>\n",
       "      <th>text</th>\n",
       "      <th>label</th>\n",
       "      <th>lang</th>\n",
       "      <th>sentiment</th>\n",
       "    </tr>\n",
       "  </thead>\n",
       "  <tbody>\n",
       "    <tr>\n",
       "      <th>0</th>\n",
       "      <td>I love Deagan's. I do. I really do. The atmosphere is cozy and festive. The shrimp tacos and house fries are my standbys. The fries are sometimes good and sometimes great, and the spicy dipping sauce they come with is to die for. The beer list is amazing and the cocktails are great. The prices are mid-level, so it's not a cheap dive you can go to every week, but rather a treat when you do. Try it out. You won't be disappointed!</td>\n",
       "      <td>1</td>\n",
       "      <td>en</td>\n",
       "      <td>Positive</td>\n",
       "    </tr>\n",
       "    <tr>\n",
       "      <th>1</th>\n",
       "      <td>I love the classes at this gym. Zumba and. Radio Hip Hop are my favorite. This is such a great fun and I love that it is so reasonably priced!</td>\n",
       "      <td>1</td>\n",
       "      <td>en</td>\n",
       "      <td>Positive</td>\n",
       "    </tr>\n",
       "    <tr>\n",
       "      <th>2</th>\n",
       "      <td>The tables and floor were dirty. I was the only customer on a Saturday nite and  the person working the counter ignored me I had a corned beef sandwich. I took three bites  and threw it in the trash</td>\n",
       "      <td>0</td>\n",
       "      <td>en</td>\n",
       "      <td>Negative</td>\n",
       "    </tr>\n",
       "  </tbody>\n",
       "</table>\n",
       "</div>"
      ],
      "text/plain": [
       "                                                                                                                                                                                                                                                                                                                                                                                                                                              text  \\\n",
       "0  I love Deagan's. I do. I really do. The atmosphere is cozy and festive. The shrimp tacos and house fries are my standbys. The fries are sometimes good and sometimes great, and the spicy dipping sauce they come with is to die for. The beer list is amazing and the cocktails are great. The prices are mid-level, so it's not a cheap dive you can go to every week, but rather a treat when you do. Try it out. You won't be disappointed!   \n",
       "1                                                                                                                                                                                                                                                                                                   I love the classes at this gym. Zumba and. Radio Hip Hop are my favorite. This is such a great fun and I love that it is so reasonably priced!   \n",
       "2                                                                                                                                                                                                                                           The tables and floor were dirty. I was the only customer on a Saturday nite and  the person working the counter ignored me I had a corned beef sandwich. I took three bites  and threw it in the trash   \n",
       "\n",
       "   label lang sentiment  \n",
       "0      1   en  Positive  \n",
       "1      1   en  Positive  \n",
       "2      0   en  Negative  "
      ]
     },
     "execution_count": 62,
     "metadata": {},
     "output_type": "execute_result"
    }
   ],
   "source": [
    "yelp.head(3)"
   ]
  },
  {
   "cell_type": "code",
   "execution_count": 63,
   "id": "761b41b8-5677-43e7-b9cb-41d62d0061f9",
   "metadata": {
    "tags": []
   },
   "outputs": [
    {
     "data": {
      "text/plain": [
       "sentiment\n",
       "Negative    127995\n",
       "Positive    127722\n",
       "Name: count, dtype: int64"
      ]
     },
     "execution_count": 63,
     "metadata": {},
     "output_type": "execute_result"
    }
   ],
   "source": [
    "yelp['sentiment'].value_counts()"
   ]
  },
  {
   "cell_type": "code",
   "execution_count": 64,
   "id": "d3992175-5ea2-4509-a105-3fc7e049c836",
   "metadata": {
    "tags": []
   },
   "outputs": [
    {
     "data": {
      "text/plain": [
       "label\n",
       "0    127995\n",
       "1    127722\n",
       "Name: count, dtype: int64"
      ]
     },
     "execution_count": 64,
     "metadata": {},
     "output_type": "execute_result"
    }
   ],
   "source": [
    "yelp['label'].value_counts()"
   ]
  },
  {
   "cell_type": "code",
   "execution_count": 65,
   "id": "f8fbb6a9-7f2e-41c3-902f-9b248f83074e",
   "metadata": {
    "tags": []
   },
   "outputs": [
    {
     "name": "stdout",
     "output_type": "stream",
     "text": [
      "(255717,)\n",
      "(255717,)\n"
     ]
    }
   ],
   "source": [
    "# define X and y\n",
    "X = yelp['text']\n",
    "y = yelp['label']\n",
    "print(X.shape)\n",
    "print(y.shape)"
   ]
  },
  {
   "cell_type": "code",
   "execution_count": 66,
   "id": "a04a972c-fea0-40bc-af31-4176b77d046b",
   "metadata": {
    "tags": []
   },
   "outputs": [
    {
     "name": "stdout",
     "output_type": "stream",
     "text": [
      "(191787,)\n",
      "(63930,)\n",
      "(191787,)\n",
      "(63930,)\n"
     ]
    }
   ],
   "source": [
    "# split X and y into training and testing sets\n",
    "X_train, X_test, y_train, y_test = train_test_split(X, y, random_state=123)\n",
    "print(X_train.shape)\n",
    "print(X_test.shape)\n",
    "print(y_train.shape)\n",
    "print(y_test.shape)"
   ]
  },
  {
   "cell_type": "markdown",
   "id": "912267a3-4c84-4e54-acac-17af2b5f5afd",
   "metadata": {},
   "source": [
    "##### Naive Bayes"
   ]
  },
  {
   "cell_type": "code",
   "execution_count": 67,
   "id": "b1c0b6f8-f4cc-45a2-93bc-0927eaa777fc",
   "metadata": {
    "tags": []
   },
   "outputs": [
    {
     "name": "stdout",
     "output_type": "stream",
     "text": [
      "CPU times: total: 1min 16s\n",
      "Wall time: 1min 47s\n"
     ]
    }
   ],
   "source": [
    "%%time\n",
    "\n",
    "pipe_nb = make_pipeline(\n",
    "    TfidfVectorizer(lowercase=False, stop_words='english', ngram_range=(1,3)),\n",
    "    MultinomialNB()\n",
    ")\n",
    "pipe_nb.fit(X_train, y_train)\n",
    "y_pred_class = pipe_nb.predict(X_test)"
   ]
  },
  {
   "cell_type": "code",
   "execution_count": 68,
   "id": "7bb189a3-206d-4d79-bc8f-77b8dae61d08",
   "metadata": {
    "tags": []
   },
   "outputs": [
    {
     "name": "stdout",
     "output_type": "stream",
     "text": [
      "Test Accuracy: 94.6%\n"
     ]
    }
   ],
   "source": [
    "# calculate accuracy of class predictions\n",
    "nb_accuracy = accuracy_score(y_test, y_pred_class)\n",
    "print(f\"Test Accuracy: {nb_accuracy * 100:.1f}%\")"
   ]
  },
  {
   "cell_type": "code",
   "execution_count": 69,
   "id": "a350158f-d4a0-4f16-bf6f-18cd7ef5b9bd",
   "metadata": {
    "tags": []
   },
   "outputs": [
    {
     "name": "stdout",
     "output_type": "stream",
     "text": [
      "              precision    recall  f1-score   support\n",
      "\n",
      "           0       0.92      0.98      0.95     32016\n",
      "           1       0.98      0.91      0.94     31914\n",
      "\n",
      "    accuracy                           0.95     63930\n",
      "   macro avg       0.95      0.95      0.95     63930\n",
      "weighted avg       0.95      0.95      0.95     63930\n",
      "\n"
     ]
    }
   ],
   "source": [
    "# calculate precision and recall\n",
    "print(classification_report(y_test, y_pred_class))"
   ]
  },
  {
   "cell_type": "code",
   "execution_count": 70,
   "id": "e783f32f-d3a9-4b9b-9d04-b8768fbdfa51",
   "metadata": {
    "tags": []
   },
   "outputs": [
    {
     "name": "stdout",
     "output_type": "stream",
     "text": [
      "CPU times: total: 39.8 s\n",
      "Wall time: 53.9 s\n"
     ]
    },
    {
     "data": {
      "text/plain": [
       "['nb.joblib']"
      ]
     },
     "execution_count": 70,
     "metadata": {},
     "output_type": "execute_result"
    }
   ],
   "source": [
    "%time dump(pipe_nb, \"nb.joblib\")"
   ]
  },
  {
   "cell_type": "markdown",
   "id": "6df4c099-be65-4c04-823c-8ab44faa4c2c",
   "metadata": {},
   "source": [
    "##### Logistics Regression"
   ]
  },
  {
   "cell_type": "code",
   "execution_count": 71,
   "id": "b8220706-b006-442c-9c86-5e47142f934e",
   "metadata": {
    "tags": []
   },
   "outputs": [
    {
     "name": "stdout",
     "output_type": "stream",
     "text": [
      "CPU times: total: 3min 15s\n",
      "Wall time: 5min\n"
     ]
    }
   ],
   "source": [
    "%%time\n",
    "\n",
    "pipe_logreg = make_pipeline(\n",
    "    TfidfVectorizer(lowercase=False, stop_words='english', ngram_range=(1,3)),\n",
    "    LogisticRegression()\n",
    ")\n",
    "pipe_logreg.fit(X_train, y_train)\n",
    "y_pred_class2 = pipe_logreg.predict(X_test)"
   ]
  },
  {
   "cell_type": "code",
   "execution_count": 72,
   "id": "30172f28-d460-4401-a124-64b8d58986c6",
   "metadata": {
    "tags": []
   },
   "outputs": [
    {
     "name": "stdout",
     "output_type": "stream",
     "text": [
      "Test Accuracy: 96.5%\n"
     ]
    }
   ],
   "source": [
    "logreg_accuracy = accuracy_score(y_test, y_pred_class2)\n",
    "print(f\"Test Accuracy: {logreg_accuracy * 100:.1f}%\")"
   ]
  },
  {
   "cell_type": "code",
   "execution_count": 73,
   "id": "4536d1d8-e7c2-4841-ab70-2145b260a200",
   "metadata": {
    "tags": []
   },
   "outputs": [
    {
     "name": "stdout",
     "output_type": "stream",
     "text": [
      "              precision    recall  f1-score   support\n",
      "\n",
      "           0       0.96      0.97      0.96     32016\n",
      "           1       0.97      0.96      0.96     31914\n",
      "\n",
      "    accuracy                           0.96     63930\n",
      "   macro avg       0.96      0.96      0.96     63930\n",
      "weighted avg       0.96      0.96      0.96     63930\n",
      "\n"
     ]
    }
   ],
   "source": [
    "# calculate precision and recall\n",
    "print(classification_report(y_test, y_pred_class2))"
   ]
  },
  {
   "cell_type": "code",
   "execution_count": 74,
   "id": "487e8152-68a8-4064-95aa-73d72654d229",
   "metadata": {},
   "outputs": [
    {
     "name": "stdout",
     "output_type": "stream",
     "text": [
      "CPU times: total: 16.2 s\n",
      "Wall time: 50.6 s\n"
     ]
    },
    {
     "data": {
      "text/plain": [
       "['logreg.joblib']"
      ]
     },
     "execution_count": 74,
     "metadata": {},
     "output_type": "execute_result"
    }
   ],
   "source": [
    "%time dump(pipe_logreg, \"logreg.joblib\")"
   ]
  },
  {
   "cell_type": "markdown",
   "id": "3578390f-9a9b-4d0b-83b7-4fc2bfefa7e5",
   "metadata": {},
   "source": [
    "##### Support Vector Machines"
   ]
  },
  {
   "cell_type": "code",
   "execution_count": 75,
   "id": "379ba9fb-a906-4ea6-8f76-9abb2ee5ba56",
   "metadata": {
    "tags": []
   },
   "outputs": [
    {
     "name": "stdout",
     "output_type": "stream",
     "text": [
      "CPU times: total: 1min 39s\n",
      "Wall time: 2min 5s\n"
     ]
    }
   ],
   "source": [
    "%%time\n",
    "\n",
    "pipe_svm = make_pipeline(\n",
    "    TfidfVectorizer(lowercase=False, stop_words='english', ngram_range=(1,3)),\n",
    "    SGDClassifier(max_iter=100, tol=None)\n",
    ")\n",
    "pipe_svm.fit(X_train, y_train)\n",
    "y_pred_class3 = pipe_svm.predict(X_test)"
   ]
  },
  {
   "cell_type": "code",
   "execution_count": 76,
   "id": "8e4b58c1-731c-4e1c-8a88-d5eb9dcc3bea",
   "metadata": {
    "tags": []
   },
   "outputs": [
    {
     "name": "stdout",
     "output_type": "stream",
     "text": [
      "Test Accuracy: 95.6%\n"
     ]
    }
   ],
   "source": [
    "# calculate accuracy of class predictions\n",
    "svm_accuracy = accuracy_score(y_test, y_pred_class3)\n",
    "print(f\"Test Accuracy: {svm_accuracy * 100:.1f}%\")"
   ]
  },
  {
   "cell_type": "code",
   "execution_count": 77,
   "id": "20dd6ab6-7b25-42fa-b6f9-78b0244e3059",
   "metadata": {
    "tags": []
   },
   "outputs": [
    {
     "name": "stdout",
     "output_type": "stream",
     "text": [
      "              precision    recall  f1-score   support\n",
      "\n",
      "           0       0.95      0.97      0.96     32016\n",
      "           1       0.96      0.95      0.96     31914\n",
      "\n",
      "    accuracy                           0.96     63930\n",
      "   macro avg       0.96      0.96      0.96     63930\n",
      "weighted avg       0.96      0.96      0.96     63930\n",
      "\n"
     ]
    }
   ],
   "source": [
    "# calculate precision and recall\n",
    "print(classification_report(y_test, y_pred_class3))"
   ]
  },
  {
   "cell_type": "code",
   "execution_count": 78,
   "id": "c493bd64-f511-4f19-a0eb-c823c5b97c5b",
   "metadata": {},
   "outputs": [
    {
     "name": "stdout",
     "output_type": "stream",
     "text": [
      "CPU times: total: 48.9 s\n",
      "Wall time: 49.5 s\n"
     ]
    },
    {
     "data": {
      "text/plain": [
       "['svm.joblib']"
      ]
     },
     "execution_count": 78,
     "metadata": {},
     "output_type": "execute_result"
    }
   ],
   "source": [
    "%time dump(pipe_svm, \"svm.joblib\")"
   ]
  },
  {
   "cell_type": "code",
   "execution_count": 24,
   "id": "a143f975-c3b4-44b7-bf9a-18feede85f5d",
   "metadata": {},
   "outputs": [
    {
     "data": {
      "image/png": "[encoded data removed]",
      "text/plain": [
       "<Figure size 400x300 with 1 Axes>"
      ]
     },
     "metadata": {},
     "output_type": "display_data"
    }
   ],
   "source": [
    "accuracy_scores = [nb_accuracy, logreg_accuracy, svm_accuracy]\n",
    "model_names = ['Naive Bayes', 'Logistic Regression', 'Support Vector Machine']\n",
    "\n",
    "# Create a bar chart to compare model performance\n",
    "plt.figure(figsize=(4,3))\n",
    "plt.barh(model_names, accuracy_scores)\n",
    "plt.xlabel('Accuracy')\n",
    "plt.title('Text Classification Model Comparison')\n",
    "\n",
    "for i, score in enumerate(accuracy_scores):\n",
    "    plt.text(score, i, f'{score*100:.1f}%', va='center', fontsize=9)\n",
    "\n",
    "plt.show()"
   ]
  },
  {
   "cell_type": "markdown",
   "id": "b62e79ba-1013-48ed-beaf-f8ec8b4b7fcc",
   "metadata": {},
   "source": [
    "Logis"
   ]
  },
  {
   "cell_type": "markdown",
   "id": "79c96bb2-d694-4733-9fb2-721c1f521e61",
   "metadata": {
    "tags": []
   },
   "source": [
    "#### Predictions on News Data"
   ]
  },
  {
   "cell_type": "code",
   "execution_count": 4,
   "id": "3e2e93f0-dcfd-47f8-8e10-8b403a519fd3",
   "metadata": {
    "tags": []
   },
   "outputs": [
    {
     "name": "stdout",
     "output_type": "stream",
     "text": [
      "Cleaned data contains 191,487 news articles\n",
      "CPU times: total: 6.92 s\n",
      "Wall time: 36.5 s\n"
     ]
    }
   ],
   "source": [
    "%%time\n",
    "\n",
    "cleaned_news_df = pd.read_parquet('final_cleaned_news_df.parquet', engine = 'pyarrow')\n",
    "\n",
    "print(f'Cleaned data contains {cleaned_news_df.shape[0]:,.0f} news articles')"
   ]
  },
  {
   "cell_type": "code",
   "execution_count": 5,
   "id": "fcbdf1e7-2992-40c9-95e5-0069d0912bd6",
   "metadata": {
    "tags": []
   },
   "outputs": [
    {
     "data": {
      "text/html": [
       "<div>\n",
       "<style scoped>\n",
       "    .dataframe tbody tr th:only-of-type {\n",
       "        vertical-align: middle;\n",
       "    }\n",
       "\n",
       "    .dataframe tbody tr th {\n",
       "        vertical-align: top;\n",
       "    }\n",
       "\n",
       "    .dataframe thead th {\n",
       "        text-align: right;\n",
       "    }\n",
       "</style>\n",
       "<table border=\"1\" class=\"dataframe\">\n",
       "  <thead>\n",
       "    <tr style=\"text-align: right;\">\n",
       "      <th></th>\n",
       "      <th>url</th>\n",
       "      <th>date</th>\n",
       "      <th>language</th>\n",
       "      <th>title</th>\n",
       "      <th>text</th>\n",
       "      <th>cleaned_title</th>\n",
       "      <th>cleaned_text</th>\n",
       "      <th>text_word_count</th>\n",
       "      <th>lemmatized_title</th>\n",
       "      <th>lemmatized_text</th>\n",
       "    </tr>\n",
       "  </thead>\n",
       "  <tbody>\n",
       "    <tr>\n",
       "      <th>0</th>\n",
       "      <td>http://galusaustralis.com/2020/02/486473/legaltech-artificial-intelligence-market-2019-technology-advancement-and-future-scope-casetext-inc-catalyst-repository-systems-ebrevia/</td>\n",
       "      <td>2020-02-26</td>\n",
       "      <td>en</td>\n",
       "      <td>LegalTech Artificial Intelligence Market 2019 Technology Advancement and Future Scope – Casetext Inc., Catalyst Repository Systems, eBREVIA – Galus Australis</td>\n",
       "      <td>LegalTech Artificial Intelligence Market 2019 Technology Advancement and Future Scope – Casetext Inc., Catalyst Repository Systems, eBREVIA – Galus Australis          \\n\\nGalus Australis\\n\\nBusinessGeneral NewsHealthcareIndustryInternationalLifestyleSci-Tech\\n\\nWednesday, February 26 2020\\n\\nTrending\\n\\nNeedle Counters Market Comprehensive Study by Companies Medline Industries, Boen Healthcare\\nSkin Scrub Trays Market Comprehensive Study by Companies Medline Industries, BD, Deroyal\\nGlobal P...</td>\n",
       "      <td>legaltech artificial intelligence market technology advancement future scope casetext inc catalyst repository systems ebrevia galus australis</td>\n",
       "      <td>legaltech artificial intelligence market technology advancement future scope casetext inc catalyst repository systems ebrevia galus australis galus australis wednesday february trending needle counters market comprehensive study companies medline industries boen healthcare skin scrub trays market comprehensive study companies medline industries bd deroyal global portable handheld electronic game machine market outlook business insights apollo games sony aristocrat leisure igt infectious dise...</td>\n",
       "      <td>666</td>\n",
       "      <td>legaltech artificial intelligence market technology advancement catalyst repository system</td>\n",
       "      <td>legaltech artificial intelligence market technology advancement catalyst repository system galus trend needle counter market comprehensive study company industry market comprehensive study company industry global portable handheld electronic game machine market outlook business insight leisure infectious disease testing use market comprehensive study company roche diagnostic veterinary dental xray generator market comprehensive study company veterinary market comprehensive study company hein...</td>\n",
       "    </tr>\n",
       "    <tr>\n",
       "      <th>1</th>\n",
       "      <td>http://spaceref.com/astronomy/observation-simulation-and-ai-join-forces-to-reveal-a-clear-universe.html</td>\n",
       "      <td>2021-07-05</td>\n",
       "      <td>en</td>\n",
       "      <td>Observation, Simulation, And AI Join Forces To Reveal A Clear Universe - SpaceRef</td>\n",
       "      <td>\\n\\nObservation, Simulation, And AI Join Forces To Reveal A Clear Universe - SpaceRef\\n\\n \\nHome |\\nNASA Watch\\nSpaceRef Business\\nAstrobiology Web\\nAdvertising\\nAdd an Event\\nSign up for our Daily Newsletter \\n\\n \\n\\n\\nInternational Space Station\\nNASA Hack Space\\nCalendar\\nMissions\\nSpace Weather \\n                           \\n           \\nObservation, Simulation, And AI Join Forces To Reveal A Clear Universe\\n\\n\\n             Press Release - Source: NATIONAL INSTITUTES OF NATURAL SCIENCES...</td>\n",
       "      <td>observation simulation ai join forces reveal clear universe spaceref</td>\n",
       "      <td>observation simulation ai join forces reveal clear universe spaceref nasa watch spaceref business astrobiology web advertising add event sign daily international space station nasa hack space calendar missions space weather observation simulation ai join forces reveal clear universe press release source national institutes natural sciences posted july pm view using ai driven data analysis peel back noise find actual shape universe credit institute statistical mathematics japanese astronomers...</td>\n",
       "      <td>587</td>\n",
       "      <td>observation simulation ai join force reveal clear universe spaceref</td>\n",
       "      <td>observation simulation ai join force reveal clear universe watch business astrobiology web advertising add event international space station hack space calendar mission space weather observation simulation ai join force reveal clear universe press release source national natural science post pm view use ai drive datum analysis peel back noise find actual shape universe credit statistical japanese astronomer develop new artificial intelligence ai technique remove noise astronomical datum due ...</td>\n",
       "    </tr>\n",
       "    <tr>\n",
       "      <th>2</th>\n",
       "      <td>http://usweekly.com/news/17/40964/Artificial-intelligence-yields-new-antibiotic.html</td>\n",
       "      <td>2020-02-23</td>\n",
       "      <td>en</td>\n",
       "      <td>Artificial intelligence yields new antibiotic - USweekly</td>\n",
       "      <td>\\n\\n\\nArtificial intelligence yields new antibiotic - USweekly\\n﻿Sunday, 23 February 2020\\nSend search form\\n \\n\\nTodays news\\nWorld\\nU.S. National\\nPolitics\\nBusiness\\nTechnology\\nSports\\nEntertainment\\nBeauty &amp; Health\\nLiving &amp; Travel\\nScience\\nWeather\\nOdd news\\nShopping\\n\\n \\n\\n\\nArtificial intelligence yields new antibiotic\\nAdded: 21.02.2020 21:19 | 35 views | 0 comments\\nSource: www.slideshare.netUsing a machine-learning algorithm, researchers have identified a powerful new antibiotic...</td>\n",
       "      <td>artificial intelligence yields new antibiotic usweekly</td>\n",
       "      <td>artificial intelligence yields new antibiotic usweekly sunday february send form todays news world national politics business technology sports entertainment beauty health living travel science weather odd news shopping artificial intelligence yields new antibiotic added views source algorithm researchers identified powerful new antibiotic compound laboratory tests drug killed many worlds problematic bacteria including strains resistant known antibiotics also cleared infections two different...</td>\n",
       "      <td>136</td>\n",
       "      <td>artificial intelligence yield new antibiotic usweekly</td>\n",
       "      <td>artificial intelligence yield new send form today news national business technology sport entertainment beauty health living travel science weather odd news shopping artificial intelligence yield new antibiotic add view source researcher identify powerful new antibiotic compound laboratory test drug kill many world problematic bacteria include strain resistant known antibiotic also clear infection different mouse modelsmore tag enter image code tag good buy breast cancer cher climate change ...</td>\n",
       "    </tr>\n",
       "  </tbody>\n",
       "</table>\n",
       "</div>"
      ],
      "text/plain": [
       "                                                                                                                                                                                url  \\\n",
       "0  http://galusaustralis.com/2020/02/486473/legaltech-artificial-intelligence-market-2019-technology-advancement-and-future-scope-casetext-inc-catalyst-repository-systems-ebrevia/   \n",
       "1                                                                           http://spaceref.com/astronomy/observation-simulation-and-ai-join-forces-to-reveal-a-clear-universe.html   \n",
       "2                                                                                              http://usweekly.com/news/17/40964/Artificial-intelligence-yields-new-antibiotic.html   \n",
       "\n",
       "         date language  \\\n",
       "0  2020-02-26       en   \n",
       "1  2021-07-05       en   \n",
       "2  2020-02-23       en   \n",
       "\n",
       "                                                                                                                                                           title  \\\n",
       "0  LegalTech Artificial Intelligence Market 2019 Technology Advancement and Future Scope – Casetext Inc., Catalyst Repository Systems, eBREVIA – Galus Australis   \n",
       "1                                                                              Observation, Simulation, And AI Join Forces To Reveal A Clear Universe - SpaceRef   \n",
       "2                                                                                                       Artificial intelligence yields new antibiotic - USweekly   \n",
       "\n",
       "                                                                                                                                                                                                                                                                                                                                                                                                                                                                                                                  text  \\\n",
       "0  LegalTech Artificial Intelligence Market 2019 Technology Advancement and Future Scope – Casetext Inc., Catalyst Repository Systems, eBREVIA – Galus Australis          \\n\\nGalus Australis\\n\\nBusinessGeneral NewsHealthcareIndustryInternationalLifestyleSci-Tech\\n\\nWednesday, February 26 2020\\n\\nTrending\\n\\nNeedle Counters Market Comprehensive Study by Companies Medline Industries, Boen Healthcare\\nSkin Scrub Trays Market Comprehensive Study by Companies Medline Industries, BD, Deroyal\\nGlobal P...   \n",
       "1  \\n\\nObservation, Simulation, And AI Join Forces To Reveal A Clear Universe - SpaceRef\\n\\n \\nHome |\\nNASA Watch\\nSpaceRef Business\\nAstrobiology Web\\nAdvertising\\nAdd an Event\\nSign up for our Daily Newsletter \\n\\n \\n\\n\\nInternational Space Station\\nNASA Hack Space\\nCalendar\\nMissions\\nSpace Weather \\n                           \\n           \\nObservation, Simulation, And AI Join Forces To Reveal A Clear Universe\\n\\n\\n             Press Release - Source: NATIONAL INSTITUTES OF NATURAL SCIENCES...   \n",
       "2  \\n\\n\\nArtificial intelligence yields new antibiotic - USweekly\\n﻿Sunday, 23 February 2020\\nSend search form\\n \\n\\nTodays news\\nWorld\\nU.S. National\\nPolitics\\nBusiness\\nTechnology\\nSports\\nEntertainment\\nBeauty & Health\\nLiving & Travel\\nScience\\nWeather\\nOdd news\\nShopping\\n\\n \\n\\n\\nArtificial intelligence yields new antibiotic\\nAdded: 21.02.2020 21:19 | 35 views | 0 comments\\nSource: www.slideshare.netUsing a machine-learning algorithm, researchers have identified a powerful new antibiotic...   \n",
       "\n",
       "                                                                                                                                   cleaned_title  \\\n",
       "0  legaltech artificial intelligence market technology advancement future scope casetext inc catalyst repository systems ebrevia galus australis   \n",
       "1                                                                           observation simulation ai join forces reveal clear universe spaceref   \n",
       "2                                                                                         artificial intelligence yields new antibiotic usweekly   \n",
       "\n",
       "                                                                                                                                                                                                                                                                                                                                                                                                                                                                                                          cleaned_text  \\\n",
       "0  legaltech artificial intelligence market technology advancement future scope casetext inc catalyst repository systems ebrevia galus australis galus australis wednesday february trending needle counters market comprehensive study companies medline industries boen healthcare skin scrub trays market comprehensive study companies medline industries bd deroyal global portable handheld electronic game machine market outlook business insights apollo games sony aristocrat leisure igt infectious dise...   \n",
       "1  observation simulation ai join forces reveal clear universe spaceref nasa watch spaceref business astrobiology web advertising add event sign daily international space station nasa hack space calendar missions space weather observation simulation ai join forces reveal clear universe press release source national institutes natural sciences posted july pm view using ai driven data analysis peel back noise find actual shape universe credit institute statistical mathematics japanese astronomers...   \n",
       "2  artificial intelligence yields new antibiotic usweekly sunday february send form todays news world national politics business technology sports entertainment beauty health living travel science weather odd news shopping artificial intelligence yields new antibiotic added views source algorithm researchers identified powerful new antibiotic compound laboratory tests drug killed many worlds problematic bacteria including strains resistant known antibiotics also cleared infections two different...   \n",
       "\n",
       "   text_word_count  \\\n",
       "0              666   \n",
       "1              587   \n",
       "2              136   \n",
       "\n",
       "                                                                             lemmatized_title  \\\n",
       "0  legaltech artificial intelligence market technology advancement catalyst repository system   \n",
       "1                         observation simulation ai join force reveal clear universe spaceref   \n",
       "2                                       artificial intelligence yield new antibiotic usweekly   \n",
       "\n",
       "                                                                                                                                                                                                                                                                                                                                                                                                                                                                                                       lemmatized_text  \n",
       "0  legaltech artificial intelligence market technology advancement catalyst repository system galus trend needle counter market comprehensive study company industry market comprehensive study company industry global portable handheld electronic game machine market outlook business insight leisure infectious disease testing use market comprehensive study company roche diagnostic veterinary dental xray generator market comprehensive study company veterinary market comprehensive study company hein...  \n",
       "1  observation simulation ai join force reveal clear universe watch business astrobiology web advertising add event international space station hack space calendar mission space weather observation simulation ai join force reveal clear universe press release source national natural science post pm view use ai drive datum analysis peel back noise find actual shape universe credit statistical japanese astronomer develop new artificial intelligence ai technique remove noise astronomical datum due ...  \n",
       "2  artificial intelligence yield new send form today news national business technology sport entertainment beauty health living travel science weather odd news shopping artificial intelligence yield new antibiotic add view source researcher identify powerful new antibiotic compound laboratory test drug kill many world problematic bacteria include strain resistant known antibiotic also clear infection different mouse modelsmore tag enter image code tag good buy breast cancer cher climate change ...  "
      ]
     },
     "execution_count": 5,
     "metadata": {},
     "output_type": "execute_result"
    }
   ],
   "source": [
    "cleaned_news_df.head(3)"
   ]
  },
  {
   "cell_type": "code",
   "execution_count": 6,
   "id": "6e3c4eed-2b50-40ed-9b6c-a6069fae5935",
   "metadata": {
    "tags": []
   },
   "outputs": [
    {
     "name": "stdout",
     "output_type": "stream",
     "text": [
      "CPU times: total: 0 ns\n",
      "Wall time: 0 ns\n"
     ]
    }
   ],
   "source": [
    "%time \n",
    "\n",
    "pipe_nb = load(\"nb.joblib\")\n",
    "pipe_logreg = load(\"logreg.joblib\")\n",
    "pipe_svm = load(\"svm.joblib\")"
   ]
  },
  {
   "cell_type": "markdown",
   "id": "642b62a6-8e62-4338-92a7-3de800ea2c63",
   "metadata": {
    "tags": []
   },
   "source": [
    "##### Naives Bayes"
   ]
  },
  {
   "cell_type": "code",
   "execution_count": 7,
   "id": "e99e532c-bc8b-4fbc-a960-97ecdedca174",
   "metadata": {},
   "outputs": [
    {
     "name": "stdout",
     "output_type": "stream",
     "text": [
      "CPU times: total: 2min 22s\n",
      "Wall time: 5min 42s\n"
     ]
    },
    {
     "data": {
      "text/plain": [
       "Sentiments_NB\n",
       "0    190186\n",
       "1      1301\n",
       "Name: count, dtype: int64"
      ]
     },
     "execution_count": 7,
     "metadata": {},
     "output_type": "execute_result"
    }
   ],
   "source": [
    "%%time\n",
    "\n",
    "cleaned_news_df2 = cleaned_news_df.copy()\n",
    "\n",
    "nb_pred = pipe_nb.predict(cleaned_news_df2['lemmatized_text'])\n",
    "\n",
    "cleaned_news_df2['Sentiments_NB'] = nb_pred\n",
    "cleaned_news_df2['Sentiments_NB'].value_counts()"
   ]
  },
  {
   "cell_type": "markdown",
   "id": "d5233089-9693-4cc6-ab3c-e6e1514ef53c",
   "metadata": {
    "tags": []
   },
   "source": [
    "##### Logistics Regression"
   ]
  },
  {
   "cell_type": "code",
   "execution_count": 8,
   "id": "dbf52ab7-5746-4cd4-a4c4-ff8590be065c",
   "metadata": {
    "tags": []
   },
   "outputs": [
    {
     "name": "stdout",
     "output_type": "stream",
     "text": [
      "CPU times: total: 1min 1s\n",
      "Wall time: 5min 52s\n"
     ]
    },
    {
     "data": {
      "text/plain": [
       "Sentiments_LR\n",
       "0    156606\n",
       "1     34881\n",
       "Name: count, dtype: int64"
      ]
     },
     "execution_count": 8,
     "metadata": {},
     "output_type": "execute_result"
    }
   ],
   "source": [
    "%%time\n",
    "\n",
    "logreg_pred = pipe_logreg.predict(cleaned_news_df2['lemmatized_text'])\n",
    "\n",
    "cleaned_news_df2['Sentiments_LR'] = logreg_pred\n",
    "cleaned_news_df2['Sentiments_LR'].value_counts()"
   ]
  },
  {
   "cell_type": "markdown",
   "id": "f530835e-e8f2-4b89-9e26-daabfa5208c7",
   "metadata": {
    "tags": []
   },
   "source": [
    "##### Support Vector Machines"
   ]
  },
  {
   "cell_type": "code",
   "execution_count": 9,
   "id": "b707caf5-cfed-4e53-89e4-f43babd16d90",
   "metadata": {},
   "outputs": [
    {
     "name": "stdout",
     "output_type": "stream",
     "text": [
      "CPU times: total: 52.3 s\n",
      "Wall time: 5min 42s\n"
     ]
    },
    {
     "data": {
      "text/plain": [
       "Sentiments_SVM\n",
       "0    168625\n",
       "1     22862\n",
       "Name: count, dtype: int64"
      ]
     },
     "execution_count": 9,
     "metadata": {},
     "output_type": "execute_result"
    }
   ],
   "source": [
    "%%time\n",
    "\n",
    "svm_pred = pipe_svm.predict(cleaned_news_df2['lemmatized_text'])\n",
    "\n",
    "cleaned_news_df2['Sentiments_SVM'] = svm_pred\n",
    "cleaned_news_df2['Sentiments_SVM'].value_counts()"
   ]
  },
  {
   "cell_type": "markdown",
   "id": "ebc99e46-fa56-4e6c-a717-6bb02bb81fbb",
   "metadata": {},
   "source": [
    "Plot the results of these 3 models"
   ]
  },
  {
   "cell_type": "code",
   "execution_count": 6,
   "id": "0d53cbad-8445-4a2e-918f-18ae7cb5ff57",
   "metadata": {
    "tags": []
   },
   "outputs": [
    {
     "data": {
      "text/html": [
       "<div>\n",
       "<style scoped>\n",
       "    .dataframe tbody tr th:only-of-type {\n",
       "        vertical-align: middle;\n",
       "    }\n",
       "\n",
       "    .dataframe tbody tr th {\n",
       "        vertical-align: top;\n",
       "    }\n",
       "\n",
       "    .dataframe thead th {\n",
       "        text-align: right;\n",
       "    }\n",
       "</style>\n",
       "<table border=\"1\" class=\"dataframe\">\n",
       "  <thead>\n",
       "    <tr style=\"text-align: right;\">\n",
       "      <th></th>\n",
       "      <th>Model</th>\n",
       "      <th>Positive</th>\n",
       "      <th>Negative</th>\n",
       "    </tr>\n",
       "  </thead>\n",
       "  <tbody>\n",
       "    <tr>\n",
       "      <th>0</th>\n",
       "      <td>Naive Bayes</td>\n",
       "      <td>1301</td>\n",
       "      <td>190186</td>\n",
       "    </tr>\n",
       "    <tr>\n",
       "      <th>1</th>\n",
       "      <td>Logistic Regression</td>\n",
       "      <td>34881</td>\n",
       "      <td>156606</td>\n",
       "    </tr>\n",
       "    <tr>\n",
       "      <th>2</th>\n",
       "      <td>Support Vector Machines</td>\n",
       "      <td>22862</td>\n",
       "      <td>168625</td>\n",
       "    </tr>\n",
       "  </tbody>\n",
       "</table>\n",
       "</div>"
      ],
      "text/plain": [
       "                     Model  Positive  Negative\n",
       "0              Naive Bayes      1301    190186\n",
       "1      Logistic Regression     34881    156606\n",
       "2  Support Vector Machines     22862    168625"
      ]
     },
     "execution_count": 6,
     "metadata": {},
     "output_type": "execute_result"
    }
   ],
   "source": [
    "pretrain_yelp_models = pd.DataFrame({\n",
    "    'Model': ['Naive Bayes', 'Logistic Regression', 'Support Vector Machines'],\n",
    "    'Positive': [1301, 34881, 22862],\n",
    "    'Negative': [190186, 156606, 168625]\n",
    "    })\n",
    "pretrain_yelp_models.sort_values(by='Positive', ascending=True)\n",
    "pretrain_yelp_models"
   ]
  },
  {
   "cell_type": "code",
   "execution_count": 29,
   "id": "2fa779b6-e292-4f66-8098-d91e224ff43d",
   "metadata": {
    "tags": []
   },
   "outputs": [
    {
     "data": {
      "image/png": "[encoded data removed]",
      "text/plain": [
       "<Figure size 800x500 with 1 Axes>"
      ]
     },
     "metadata": {},
     "output_type": "display_data"
    }
   ],
   "source": [
    "fig, ax = plt.subplots(figsize=(8,5))\n",
    "bars = pretrain_yelp_models.plot(kind='bar', x='Model', y=['Positive', 'Negative'], color=['royalblue', 'indianred'], ax=ax)\n",
    "\n",
    "for bar in bars.containers:\n",
    "    bars.bar_label(bar)\n",
    "    \n",
    "ax.set_title(\"Sentiment Analysis using pre-trained model on Yelp data\")\n",
    "ax.set_xlabel(\"Model\")\n",
    "ax.set_ylabel(\"Number of Reviews\")\n",
    "ax.legend(loc='center left', bbox_to_anchor=(1, 0.5))\n",
    "plt.xticks(rotation=0)\n",
    "plt.show()"
   ]
  },
  {
   "cell_type": "markdown",
   "id": "04c2587f-c529-49db-a0bd-fcafdb1d5ff9",
   "metadata": {
    "toc-hr-collapsed": true
   },
   "source": [
    "##### Timing Vader with parallelization"
   ]
  },
  {
   "cell_type": "code",
   "execution_count": 10,
   "id": "87fb7457-eeeb-47a8-ac53-4874e134984d",
   "metadata": {
    "tags": []
   },
   "outputs": [
    {
     "name": "stdout",
     "output_type": "stream",
     "text": [
      "CPU times: total: 7.36 s\n",
      "Wall time: 8min 54s\n"
     ]
    }
   ],
   "source": [
    "%%time\n",
    "\n",
    "# cleaned_news_df2 = cleaned_news_df.copy()\n",
    "\n",
    "analyzer = SentimentIntensityAnalyzer()\n",
    "\n",
    "sentiment_vader = pd.DataFrame()\n",
    "sentiment_vader['vader'] = cleaned_news_df2['cleaned_text'].parallel_apply(analyzer.polarity_scores)\n",
    "sentiment_vader = pd.DataFrame(sentiment_vader['vader'].tolist())\n",
    "\n",
    "# Create a positive / negative sentiment variable\n",
    "sentiment_vader['sentiment'] = np.where(sentiment_vader['compound'].astype(float) > 0, 'Positive', 'Negative')\n",
    "sentiment_vader['sentiment'] = np.where(sentiment_vader['compound'].astype(float) == 0, 'Neutral', sentiment_vader['sentiment'])\n",
    "\n",
    "# Merge Vader values with Sentiments\n",
    "sentiment_vader.rename(columns={'sentiment': 'Sentiment_VADER'}, inplace=True)\n",
    "cleaned_news_df2 = pd.merge(cleaned_news_df2, sentiment_vader[['Sentiment_VADER', 'compound']], left_index=True, right_index=True)"
   ]
  },
  {
   "cell_type": "code",
   "execution_count": 11,
   "id": "6a8d2415-f8de-48e9-a7ff-7cd72ed02934",
   "metadata": {
    "tags": []
   },
   "outputs": [
    {
     "data": {
      "text/html": [
       "<div>\n",
       "<style scoped>\n",
       "    .dataframe tbody tr th:only-of-type {\n",
       "        vertical-align: middle;\n",
       "    }\n",
       "\n",
       "    .dataframe tbody tr th {\n",
       "        vertical-align: top;\n",
       "    }\n",
       "\n",
       "    .dataframe thead th {\n",
       "        text-align: right;\n",
       "    }\n",
       "</style>\n",
       "<table border=\"1\" class=\"dataframe\">\n",
       "  <thead>\n",
       "    <tr style=\"text-align: right;\">\n",
       "      <th></th>\n",
       "      <th>cleaned_text</th>\n",
       "      <th>lemmatized_text</th>\n",
       "      <th>Sentiment_VADER</th>\n",
       "      <th>compound</th>\n",
       "    </tr>\n",
       "  </thead>\n",
       "  <tbody>\n",
       "    <tr>\n",
       "      <th>0</th>\n",
       "      <td>legaltech artificial intelligence market technology advancement future scope casetext inc catalyst repository systems ebrevia galus australis galus australis wednesday february trending needle counters market comprehensive study companies medline industries boen healthcare skin scrub trays market comprehensive study companies medline industries bd deroyal global portable handheld electronic game machine market outlook business insights apollo games sony aristocrat leisure igt infectious dise...</td>\n",
       "      <td>legaltech artificial intelligence market technology advancement catalyst repository system galus trend needle counter market comprehensive study company industry market comprehensive study company industry global portable handheld electronic game machine market outlook business insight leisure infectious disease testing use market comprehensive study company roche diagnostic veterinary dental xray generator market comprehensive study company veterinary market comprehensive study company hein...</td>\n",
       "      <td>Positive</td>\n",
       "      <td>0.9990</td>\n",
       "    </tr>\n",
       "    <tr>\n",
       "      <th>1</th>\n",
       "      <td>observation simulation ai join forces reveal clear universe spaceref nasa watch spaceref business astrobiology web advertising add event sign daily international space station nasa hack space calendar missions space weather observation simulation ai join forces reveal clear universe press release source national institutes natural sciences posted july pm view using ai driven data analysis peel back noise find actual shape universe credit institute statistical mathematics japanese astronomers...</td>\n",
       "      <td>observation simulation ai join force reveal clear universe watch business astrobiology web advertising add event international space station hack space calendar mission space weather observation simulation ai join force reveal clear universe press release source national natural science post pm view use ai drive datum analysis peel back noise find actual shape universe credit statistical japanese astronomer develop new artificial intelligence ai technique remove noise astronomical datum due ...</td>\n",
       "      <td>Positive</td>\n",
       "      <td>0.9937</td>\n",
       "    </tr>\n",
       "    <tr>\n",
       "      <th>2</th>\n",
       "      <td>artificial intelligence yields new antibiotic usweekly sunday february send form todays news world national politics business technology sports entertainment beauty health living travel science weather odd news shopping artificial intelligence yields new antibiotic added views source algorithm researchers identified powerful new antibiotic compound laboratory tests drug killed many worlds problematic bacteria including strains resistant known antibiotics also cleared infections two different...</td>\n",
       "      <td>artificial intelligence yield new send form today news national business technology sport entertainment beauty health living travel science weather odd news shopping artificial intelligence yield new antibiotic add view source researcher identify powerful new antibiotic compound laboratory test drug kill many world problematic bacteria include strain resistant known antibiotic also clear infection different mouse modelsmore tag enter image code tag good buy breast cancer cher climate change ...</td>\n",
       "      <td>Positive</td>\n",
       "      <td>0.1027</td>\n",
       "    </tr>\n",
       "    <tr>\n",
       "      <th>3</th>\n",
       "      <td>forget ml ai industry obsolescence focus february test rework solutions dataweek back issues ebook emp handbook advertise categories editors choice multimedia videos analogue mixed signal lsi circuit system protection technology design automation dsp micros memory electronics technology enclosures racks cabinets panel products events manufacturing production technology hardware services news passive components power electronics power management programmable logic smart automation switches re...</td>\n",
       "      <td>forget ai industry obsolescence focus test solution dataweek back issue ebook handbook advertise category editor choice multimedia video analogue mixed signal lsi circuit system protection technology design automation dsp micro memory electronic technology enclosure rack cabinet panel product event manufacture production technology hardware service news passive component power electronic programmable logic smart automation switch relay telecom test category editor choice multimedia video ana...</td>\n",
       "      <td>Positive</td>\n",
       "      <td>0.9989</td>\n",
       "    </tr>\n",
       "    <tr>\n",
       "      <th>4</th>\n",
       "      <td>validate machine learning models patryk miziuła phd jul news source people color earth close business african american b asian b hispanic b indian b middle eastern b native american b entertainment african american e asian e hispanic e indian e middle eastern e native american e health african american h asian h hispanic h indian h middle eastern h native american h political african american p asian p hispanic p indian p middle eastern p native american p technology african american asian h...</td>\n",
       "      <td>validate machine learning model source people color earth close business political african hispanic native technology african american indian middle eastern native americanset recent post validate machine learning model animation production staff move unionize new available long overdue recent category asian e et business business entertainment entertainment hispanic e hispanic h hispanic p hispanic hispanic middle eastern native native americanset political technology technology video news ...</td>\n",
       "      <td>Positive</td>\n",
       "      <td>0.9995</td>\n",
       "    </tr>\n",
       "  </tbody>\n",
       "</table>\n",
       "</div>"
      ],
      "text/plain": [
       "                                                                                                                                                                                                                                                                                                                                                                                                                                                                                                          cleaned_text  \\\n",
       "0  legaltech artificial intelligence market technology advancement future scope casetext inc catalyst repository systems ebrevia galus australis galus australis wednesday february trending needle counters market comprehensive study companies medline industries boen healthcare skin scrub trays market comprehensive study companies medline industries bd deroyal global portable handheld electronic game machine market outlook business insights apollo games sony aristocrat leisure igt infectious dise...   \n",
       "1  observation simulation ai join forces reveal clear universe spaceref nasa watch spaceref business astrobiology web advertising add event sign daily international space station nasa hack space calendar missions space weather observation simulation ai join forces reveal clear universe press release source national institutes natural sciences posted july pm view using ai driven data analysis peel back noise find actual shape universe credit institute statistical mathematics japanese astronomers...   \n",
       "2  artificial intelligence yields new antibiotic usweekly sunday february send form todays news world national politics business technology sports entertainment beauty health living travel science weather odd news shopping artificial intelligence yields new antibiotic added views source algorithm researchers identified powerful new antibiotic compound laboratory tests drug killed many worlds problematic bacteria including strains resistant known antibiotics also cleared infections two different...   \n",
       "3  forget ml ai industry obsolescence focus february test rework solutions dataweek back issues ebook emp handbook advertise categories editors choice multimedia videos analogue mixed signal lsi circuit system protection technology design automation dsp micros memory electronics technology enclosures racks cabinets panel products events manufacturing production technology hardware services news passive components power electronics power management programmable logic smart automation switches re...   \n",
       "4  validate machine learning models patryk miziuła phd jul news source people color earth close business african american b asian b hispanic b indian b middle eastern b native american b entertainment african american e asian e hispanic e indian e middle eastern e native american e health african american h asian h hispanic h indian h middle eastern h native american h political african american p asian p hispanic p indian p middle eastern p native american p technology african american asian h...   \n",
       "\n",
       "                                                                                                                                                                                                                                                                                                                                                                                                                                                                                                       lemmatized_text  \\\n",
       "0  legaltech artificial intelligence market technology advancement catalyst repository system galus trend needle counter market comprehensive study company industry market comprehensive study company industry global portable handheld electronic game machine market outlook business insight leisure infectious disease testing use market comprehensive study company roche diagnostic veterinary dental xray generator market comprehensive study company veterinary market comprehensive study company hein...   \n",
       "1  observation simulation ai join force reveal clear universe watch business astrobiology web advertising add event international space station hack space calendar mission space weather observation simulation ai join force reveal clear universe press release source national natural science post pm view use ai drive datum analysis peel back noise find actual shape universe credit statistical japanese astronomer develop new artificial intelligence ai technique remove noise astronomical datum due ...   \n",
       "2  artificial intelligence yield new send form today news national business technology sport entertainment beauty health living travel science weather odd news shopping artificial intelligence yield new antibiotic add view source researcher identify powerful new antibiotic compound laboratory test drug kill many world problematic bacteria include strain resistant known antibiotic also clear infection different mouse modelsmore tag enter image code tag good buy breast cancer cher climate change ...   \n",
       "3  forget ai industry obsolescence focus test solution dataweek back issue ebook handbook advertise category editor choice multimedia video analogue mixed signal lsi circuit system protection technology design automation dsp micro memory electronic technology enclosure rack cabinet panel product event manufacture production technology hardware service news passive component power electronic programmable logic smart automation switch relay telecom test category editor choice multimedia video ana...   \n",
       "4  validate machine learning model source people color earth close business political african hispanic native technology african american indian middle eastern native americanset recent post validate machine learning model animation production staff move unionize new available long overdue recent category asian e et business business entertainment entertainment hispanic e hispanic h hispanic p hispanic hispanic middle eastern native native americanset political technology technology video news ...   \n",
       "\n",
       "  Sentiment_VADER  compound  \n",
       "0        Positive    0.9990  \n",
       "1        Positive    0.9937  \n",
       "2        Positive    0.1027  \n",
       "3        Positive    0.9989  \n",
       "4        Positive    0.9995  "
      ]
     },
     "execution_count": 11,
     "metadata": {},
     "output_type": "execute_result"
    }
   ],
   "source": [
    "cleaned_news_df2[['cleaned_text', 'lemmatized_text', 'Sentiment_VADER', 'compound']].head()"
   ]
  },
  {
   "cell_type": "code",
   "execution_count": 12,
   "id": "048aa8d9-d40a-4c12-b666-c1325da83a48",
   "metadata": {
    "tags": []
   },
   "outputs": [
    {
     "data": {
      "text/plain": [
       "Sentiment_VADER\n",
       "Positive    173702\n",
       "Negative      9862\n",
       "Neutral         45\n",
       "Name: count, dtype: int64"
      ]
     },
     "execution_count": 12,
     "metadata": {},
     "output_type": "execute_result"
    }
   ],
   "source": [
    "cleaned_news_df2['Sentiment_VADER'].value_counts()"
   ]
  },
  {
   "cell_type": "markdown",
   "id": "6b93b41a-e453-4cbe-89d3-af91f6226477",
   "metadata": {},
   "source": [
    "##### Pre-Trained Sentiment Analysis Model"
   ]
  },
  {
   "cell_type": "code",
   "execution_count": 16,
   "id": "b65cf6ab-6d85-4deb-9411-f2a9c9ff4fd2",
   "metadata": {
    "tags": []
   },
   "outputs": [],
   "source": [
    "# Function to apply TextBlob sentiment analysis\n",
    "def predict_sentiment_textblob(text):\n",
    "    sentiment = TextBlob(text).sentiment.polarity\n",
    "    return 'Positive' if sentiment > 0 else ('Negative' if sentiment < 0 else 'Neutral')"
   ]
  },
  {
   "cell_type": "code",
   "execution_count": 17,
   "id": "64ac6825-3bda-4108-914d-dcd2b19036f5",
   "metadata": {
    "tags": []
   },
   "outputs": [
    {
     "name": "stdout",
     "output_type": "stream",
     "text": [
      "CPU times: total: 3min 24s\n",
      "Wall time: 6min 37s\n"
     ]
    },
    {
     "data": {
      "text/html": [
       "<div>\n",
       "<style scoped>\n",
       "    .dataframe tbody tr th:only-of-type {\n",
       "        vertical-align: middle;\n",
       "    }\n",
       "\n",
       "    .dataframe tbody tr th {\n",
       "        vertical-align: top;\n",
       "    }\n",
       "\n",
       "    .dataframe thead th {\n",
       "        text-align: right;\n",
       "    }\n",
       "</style>\n",
       "<table border=\"1\" class=\"dataframe\">\n",
       "  <thead>\n",
       "    <tr style=\"text-align: right;\">\n",
       "      <th></th>\n",
       "      <th>cleaned_text</th>\n",
       "      <th>lemmatized_text</th>\n",
       "      <th>Sentiment_TextBlob</th>\n",
       "    </tr>\n",
       "  </thead>\n",
       "  <tbody>\n",
       "    <tr>\n",
       "      <th>0</th>\n",
       "      <td>legaltech artificial intelligence market technology advancement future scope casetext inc catalyst repository systems ebrevia galus australis galus australis wednesday february trending needle counters market comprehensive study companies medline industries boen healthcare skin scrub trays market comprehensive study companies medline industries bd deroyal global portable handheld electronic game machine market outlook business insights apollo games sony aristocrat leisure igt infectious dise...</td>\n",
       "      <td>legaltech artificial intelligence market technology advancement catalyst repository system galus trend needle counter market comprehensive study company industry market comprehensive study company industry global portable handheld electronic game machine market outlook business insight leisure infectious disease testing use market comprehensive study company roche diagnostic veterinary dental xray generator market comprehensive study company veterinary market comprehensive study company hein...</td>\n",
       "      <td>Negative</td>\n",
       "    </tr>\n",
       "    <tr>\n",
       "      <th>1</th>\n",
       "      <td>observation simulation ai join forces reveal clear universe spaceref nasa watch spaceref business astrobiology web advertising add event sign daily international space station nasa hack space calendar missions space weather observation simulation ai join forces reveal clear universe press release source national institutes natural sciences posted july pm view using ai driven data analysis peel back noise find actual shape universe credit institute statistical mathematics japanese astronomers...</td>\n",
       "      <td>observation simulation ai join force reveal clear universe watch business astrobiology web advertising add event international space station hack space calendar mission space weather observation simulation ai join force reveal clear universe press release source national natural science post pm view use ai drive datum analysis peel back noise find actual shape universe credit statistical japanese astronomer develop new artificial intelligence ai technique remove noise astronomical datum due ...</td>\n",
       "      <td>Positive</td>\n",
       "    </tr>\n",
       "    <tr>\n",
       "      <th>2</th>\n",
       "      <td>artificial intelligence yields new antibiotic usweekly sunday february send form todays news world national politics business technology sports entertainment beauty health living travel science weather odd news shopping artificial intelligence yields new antibiotic added views source algorithm researchers identified powerful new antibiotic compound laboratory tests drug killed many worlds problematic bacteria including strains resistant known antibiotics also cleared infections two different...</td>\n",
       "      <td>artificial intelligence yield new send form today news national business technology sport entertainment beauty health living travel science weather odd news shopping artificial intelligence yield new antibiotic add view source researcher identify powerful new antibiotic compound laboratory test drug kill many world problematic bacteria include strain resistant known antibiotic also clear infection different mouse modelsmore tag enter image code tag good buy breast cancer cher climate change ...</td>\n",
       "      <td>Positive</td>\n",
       "    </tr>\n",
       "    <tr>\n",
       "      <th>3</th>\n",
       "      <td>forget ml ai industry obsolescence focus february test rework solutions dataweek back issues ebook emp handbook advertise categories editors choice multimedia videos analogue mixed signal lsi circuit system protection technology design automation dsp micros memory electronics technology enclosures racks cabinets panel products events manufacturing production technology hardware services news passive components power electronics power management programmable logic smart automation switches re...</td>\n",
       "      <td>forget ai industry obsolescence focus test solution dataweek back issue ebook handbook advertise category editor choice multimedia video analogue mixed signal lsi circuit system protection technology design automation dsp micro memory electronic technology enclosure rack cabinet panel product event manufacture production technology hardware service news passive component power electronic programmable logic smart automation switch relay telecom test category editor choice multimedia video ana...</td>\n",
       "      <td>Positive</td>\n",
       "    </tr>\n",
       "    <tr>\n",
       "      <th>4</th>\n",
       "      <td>validate machine learning models patryk miziuła phd jul news source people color earth close business african american b asian b hispanic b indian b middle eastern b native american b entertainment african american e asian e hispanic e indian e middle eastern e native american e health african american h asian h hispanic h indian h middle eastern h native american h political african american p asian p hispanic p indian p middle eastern p native american p technology african american asian h...</td>\n",
       "      <td>validate machine learning model source people color earth close business political african hispanic native technology african american indian middle eastern native americanset recent post validate machine learning model animation production staff move unionize new available long overdue recent category asian e et business business entertainment entertainment hispanic e hispanic h hispanic p hispanic hispanic middle eastern native native americanset political technology technology video news ...</td>\n",
       "      <td>Positive</td>\n",
       "    </tr>\n",
       "  </tbody>\n",
       "</table>\n",
       "</div>"
      ],
      "text/plain": [
       "                                                                                                                                                                                                                                                                                                                                                                                                                                                                                                          cleaned_text  \\\n",
       "0  legaltech artificial intelligence market technology advancement future scope casetext inc catalyst repository systems ebrevia galus australis galus australis wednesday february trending needle counters market comprehensive study companies medline industries boen healthcare skin scrub trays market comprehensive study companies medline industries bd deroyal global portable handheld electronic game machine market outlook business insights apollo games sony aristocrat leisure igt infectious dise...   \n",
       "1  observation simulation ai join forces reveal clear universe spaceref nasa watch spaceref business astrobiology web advertising add event sign daily international space station nasa hack space calendar missions space weather observation simulation ai join forces reveal clear universe press release source national institutes natural sciences posted july pm view using ai driven data analysis peel back noise find actual shape universe credit institute statistical mathematics japanese astronomers...   \n",
       "2  artificial intelligence yields new antibiotic usweekly sunday february send form todays news world national politics business technology sports entertainment beauty health living travel science weather odd news shopping artificial intelligence yields new antibiotic added views source algorithm researchers identified powerful new antibiotic compound laboratory tests drug killed many worlds problematic bacteria including strains resistant known antibiotics also cleared infections two different...   \n",
       "3  forget ml ai industry obsolescence focus february test rework solutions dataweek back issues ebook emp handbook advertise categories editors choice multimedia videos analogue mixed signal lsi circuit system protection technology design automation dsp micros memory electronics technology enclosures racks cabinets panel products events manufacturing production technology hardware services news passive components power electronics power management programmable logic smart automation switches re...   \n",
       "4  validate machine learning models patryk miziuła phd jul news source people color earth close business african american b asian b hispanic b indian b middle eastern b native american b entertainment african american e asian e hispanic e indian e middle eastern e native american e health african american h asian h hispanic h indian h middle eastern h native american h political african american p asian p hispanic p indian p middle eastern p native american p technology african american asian h...   \n",
       "\n",
       "                                                                                                                                                                                                                                                                                                                                                                                                                                                                                                       lemmatized_text  \\\n",
       "0  legaltech artificial intelligence market technology advancement catalyst repository system galus trend needle counter market comprehensive study company industry market comprehensive study company industry global portable handheld electronic game machine market outlook business insight leisure infectious disease testing use market comprehensive study company roche diagnostic veterinary dental xray generator market comprehensive study company veterinary market comprehensive study company hein...   \n",
       "1  observation simulation ai join force reveal clear universe watch business astrobiology web advertising add event international space station hack space calendar mission space weather observation simulation ai join force reveal clear universe press release source national natural science post pm view use ai drive datum analysis peel back noise find actual shape universe credit statistical japanese astronomer develop new artificial intelligence ai technique remove noise astronomical datum due ...   \n",
       "2  artificial intelligence yield new send form today news national business technology sport entertainment beauty health living travel science weather odd news shopping artificial intelligence yield new antibiotic add view source researcher identify powerful new antibiotic compound laboratory test drug kill many world problematic bacteria include strain resistant known antibiotic also clear infection different mouse modelsmore tag enter image code tag good buy breast cancer cher climate change ...   \n",
       "3  forget ai industry obsolescence focus test solution dataweek back issue ebook handbook advertise category editor choice multimedia video analogue mixed signal lsi circuit system protection technology design automation dsp micro memory electronic technology enclosure rack cabinet panel product event manufacture production technology hardware service news passive component power electronic programmable logic smart automation switch relay telecom test category editor choice multimedia video ana...   \n",
       "4  validate machine learning model source people color earth close business political african hispanic native technology african american indian middle eastern native americanset recent post validate machine learning model animation production staff move unionize new available long overdue recent category asian e et business business entertainment entertainment hispanic e hispanic h hispanic p hispanic hispanic middle eastern native native americanset political technology technology video news ...   \n",
       "\n",
       "  Sentiment_TextBlob  \n",
       "0           Negative  \n",
       "1           Positive  \n",
       "2           Positive  \n",
       "3           Positive  \n",
       "4           Positive  "
      ]
     },
     "execution_count": 17,
     "metadata": {},
     "output_type": "execute_result"
    }
   ],
   "source": [
    "%%time\n",
    "\n",
    "cleaned_news_df2['Sentiment_TextBlob'] = cleaned_news_df2['cleaned_text'].apply(predict_sentiment_textblob)\n",
    "cleaned_news_df2[['cleaned_text', 'lemmatized_text', 'Sentiment_TextBlob']].head()"
   ]
  },
  {
   "cell_type": "code",
   "execution_count": 19,
   "id": "cb6db439-50a1-42af-a41d-1631a0faa6d2",
   "metadata": {
    "tags": []
   },
   "outputs": [
    {
     "data": {
      "text/plain": [
       "Sentiment_TextBlob\n",
       "Positive    170688\n",
       "Negative     12881\n",
       "Neutral         40\n",
       "Name: count, dtype: int64"
      ]
     },
     "execution_count": 19,
     "metadata": {},
     "output_type": "execute_result"
    }
   ],
   "source": [
    "cleaned_news_df2['Sentiment_TextBlob'].value_counts()"
   ]
  },
  {
   "cell_type": "code",
   "execution_count": 20,
   "id": "ab48fee4-f50e-49ae-b828-746dd6354a79",
   "metadata": {
    "tags": []
   },
   "outputs": [
    {
     "data": {
      "text/plain": [
       "Index(['url', 'date', 'language', 'title', 'text', 'cleaned_title',\n",
       "       'cleaned_text', 'text_word_count', 'lemmatized_title',\n",
       "       'lemmatized_text', 'Sentiments_NB', 'Sentiments_LR', 'Sentiments_SVM',\n",
       "       'Sentiment_VADER', 'compound', 'Sentiment_TextBlob'],\n",
       "      dtype='object')"
      ]
     },
     "execution_count": 20,
     "metadata": {},
     "output_type": "execute_result"
    }
   ],
   "source": [
    "cleaned_news_df2.columns"
   ]
  },
  {
   "cell_type": "code",
   "execution_count": 36,
   "id": "d80b122c-2b07-4c75-9b59-34b829723d7c",
   "metadata": {
    "tags": []
   },
   "outputs": [
    {
     "data": {
      "text/html": [
       "<div>\n",
       "<style scoped>\n",
       "    .dataframe tbody tr th:only-of-type {\n",
       "        vertical-align: middle;\n",
       "    }\n",
       "\n",
       "    .dataframe tbody tr th {\n",
       "        vertical-align: top;\n",
       "    }\n",
       "\n",
       "    .dataframe thead th {\n",
       "        text-align: right;\n",
       "    }\n",
       "</style>\n",
       "<table border=\"1\" class=\"dataframe\">\n",
       "  <thead>\n",
       "    <tr style=\"text-align: right;\">\n",
       "      <th></th>\n",
       "      <th>cleaned_title</th>\n",
       "      <th>cleaned_text</th>\n",
       "      <th>Sentiment_VADER</th>\n",
       "      <th>Sentiment_TextBlob</th>\n",
       "    </tr>\n",
       "  </thead>\n",
       "  <tbody>\n",
       "    <tr>\n",
       "      <th>62622</th>\n",
       "      <td>fort worth selected host site th time artificial intelligence bootcamp applications open</td>\n",
       "      <td>fort worth selected host site th time artificial intelligence bootcamp applications open ein presswire different better works testimonials contact ein presswire news pricing distribution distribution overview media database major news sites tv radio stations international newswires newswires industry newswires country newswires state mobile apps newsplugin live feed sample distribution report press releases featured industry country state archive newswires international newswires newswires i...</td>\n",
       "      <td>Positive</td>\n",
       "      <td>Positive</td>\n",
       "    </tr>\n",
       "    <tr>\n",
       "      <th>186250</th>\n",
       "      <td>bumblebee malware flies wings zoom chatgpt computer weekly</td>\n",
       "      <td>bumblebee malware flies wings zoom chatgpt computer weekly techtarget network join cw cookies news depth blogs opinion videos photo stories premium content webinars salary survey infographic rss management leadership cw architecture efficiency governance innovation legislation regulation operations support project management strategy supplier management business issues communities industry sectors healthcare charity business services financial services government public sector leisure hospit...</td>\n",
       "      <td>Negative</td>\n",
       "      <td>Positive</td>\n",
       "    </tr>\n",
       "    <tr>\n",
       "      <th>184116</th>\n",
       "      <td>lunit ai help tuberculosis screening prisons published lancet regional health americas</td>\n",
       "      <td>lunit ai help tuberculosis screening prisons published lancet regional health americas clubabc alert weatherlive photos festthe solheim trackergas pricesfirst alert delayslive action camsabc first alert weather appabout uscontact uswatch livethe nineabc better schoolscase filesdine feel good fridayfinds getting schooldhittin meetupmoment outthrowback toledobright sidethis homeaction news nowconklin companymr foodbest classlatest country music lifestylegray dc ai help tuberculosis screening p...</td>\n",
       "      <td>Positive</td>\n",
       "      <td>Positive</td>\n",
       "    </tr>\n",
       "    <tr>\n",
       "      <th>54975</th>\n",
       "      <td>ceo clearview ai claims scrape store billions peoples photos without even asking</td>\n",
       "      <td>ceo clearview ai claims scrape store billions peoples photos without even asking leghariali razaasra rizwanfatima rizwanmaheen kanwalmaryam dodhymuneeb ahmadsajeel syedshehryar ehsanshaoor munirtalha hameedtalha saqibuzair khalidspecial hiregirls codetelenor velocity earningmobile code usour ethical statement techjuice news ceo clearview ai claims scrape store billions peoples photos without even askingceo clearview ai claims scrape store billions peoples photos without even askingby faisal ...</td>\n",
       "      <td>Positive</td>\n",
       "      <td>Positive</td>\n",
       "    </tr>\n",
       "    <tr>\n",
       "      <th>127197</th>\n",
       "      <td>check artificial intelligence bossware tools bias says agency head wivt newschannel</td>\n",
       "      <td>check artificial intelligence bossware tools bias says agency head wivt newschannel content wivt newschannel binghamton sign binghamton toggle open navigation close navigation please enter term primary news local news regional news national news politics hill new york state news pennsylvania news local elections hochul crime washingtondc border report tour politics coronavirus newsnation ukrainerussia stories entertainment weird news automotive news wivt wbgh mobile apps regional news partne...</td>\n",
       "      <td>Positive</td>\n",
       "      <td>Positive</td>\n",
       "    </tr>\n",
       "  </tbody>\n",
       "</table>\n",
       "</div>"
      ],
      "text/plain": [
       "                                                                                   cleaned_title  \\\n",
       "62622   fort worth selected host site th time artificial intelligence bootcamp applications open   \n",
       "186250                                bumblebee malware flies wings zoom chatgpt computer weekly   \n",
       "184116    lunit ai help tuberculosis screening prisons published lancet regional health americas   \n",
       "54975           ceo clearview ai claims scrape store billions peoples photos without even asking   \n",
       "127197       check artificial intelligence bossware tools bias says agency head wivt newschannel   \n",
       "\n",
       "                                                                                                                                                                                                                                                                                                                                                                                                                                                                                                               cleaned_text  \\\n",
       "62622   fort worth selected host site th time artificial intelligence bootcamp applications open ein presswire different better works testimonials contact ein presswire news pricing distribution distribution overview media database major news sites tv radio stations international newswires newswires industry newswires country newswires state mobile apps newsplugin live feed sample distribution report press releases featured industry country state archive newswires international newswires newswires i...   \n",
       "186250  bumblebee malware flies wings zoom chatgpt computer weekly techtarget network join cw cookies news depth blogs opinion videos photo stories premium content webinars salary survey infographic rss management leadership cw architecture efficiency governance innovation legislation regulation operations support project management strategy supplier management business issues communities industry sectors healthcare charity business services financial services government public sector leisure hospit...   \n",
       "184116  lunit ai help tuberculosis screening prisons published lancet regional health americas clubabc alert weatherlive photos festthe solheim trackergas pricesfirst alert delayslive action camsabc first alert weather appabout uscontact uswatch livethe nineabc better schoolscase filesdine feel good fridayfinds getting schooldhittin meetupmoment outthrowback toledobright sidethis homeaction news nowconklin companymr foodbest classlatest country music lifestylegray dc ai help tuberculosis screening p...   \n",
       "54975   ceo clearview ai claims scrape store billions peoples photos without even asking leghariali razaasra rizwanfatima rizwanmaheen kanwalmaryam dodhymuneeb ahmadsajeel syedshehryar ehsanshaoor munirtalha hameedtalha saqibuzair khalidspecial hiregirls codetelenor velocity earningmobile code usour ethical statement techjuice news ceo clearview ai claims scrape store billions peoples photos without even askingceo clearview ai claims scrape store billions peoples photos without even askingby faisal ...   \n",
       "127197  check artificial intelligence bossware tools bias says agency head wivt newschannel content wivt newschannel binghamton sign binghamton toggle open navigation close navigation please enter term primary news local news regional news national news politics hill new york state news pennsylvania news local elections hochul crime washingtondc border report tour politics coronavirus newsnation ukrainerussia stories entertainment weird news automotive news wivt wbgh mobile apps regional news partne...   \n",
       "\n",
       "       Sentiment_VADER Sentiment_TextBlob  \n",
       "62622         Positive           Positive  \n",
       "186250        Negative           Positive  \n",
       "184116        Positive           Positive  \n",
       "54975         Positive           Positive  \n",
       "127197        Positive           Positive  "
      ]
     },
     "execution_count": 36,
     "metadata": {},
     "output_type": "execute_result"
    }
   ],
   "source": [
    "cleaned_news_df2[['cleaned_title', 'cleaned_text', 'Sentiment_VADER', 'Sentiment_TextBlob']].sample(n = 5)"
   ]
  },
  {
   "cell_type": "markdown",
   "id": "3b34dc1a-7131-4c36-ad30-44740afafbdb",
   "metadata": {},
   "source": [
    "Plot the results of these 3 models"
   ]
  },
  {
   "cell_type": "code",
   "execution_count": 19,
   "id": "c38a7561-f4af-4fe7-9e43-62609c1916bb",
   "metadata": {
    "tags": []
   },
   "outputs": [
    {
     "data": {
      "text/html": [
       "<div>\n",
       "<style scoped>\n",
       "    .dataframe tbody tr th:only-of-type {\n",
       "        vertical-align: middle;\n",
       "    }\n",
       "\n",
       "    .dataframe tbody tr th {\n",
       "        vertical-align: top;\n",
       "    }\n",
       "\n",
       "    .dataframe thead th {\n",
       "        text-align: right;\n",
       "    }\n",
       "</style>\n",
       "<table border=\"1\" class=\"dataframe\">\n",
       "  <thead>\n",
       "    <tr style=\"text-align: right;\">\n",
       "      <th></th>\n",
       "      <th>Model</th>\n",
       "      <th>Positive</th>\n",
       "      <th>Negative</th>\n",
       "    </tr>\n",
       "  </thead>\n",
       "  <tbody>\n",
       "    <tr>\n",
       "      <th>0</th>\n",
       "      <td>VADER</td>\n",
       "      <td>173702</td>\n",
       "      <td>9907</td>\n",
       "    </tr>\n",
       "    <tr>\n",
       "      <th>1</th>\n",
       "      <td>TextBlob</td>\n",
       "      <td>170688</td>\n",
       "      <td>12921</td>\n",
       "    </tr>\n",
       "  </tbody>\n",
       "</table>\n",
       "</div>"
      ],
      "text/plain": [
       "      Model  Positive  Negative\n",
       "0     VADER    173702      9907\n",
       "1  TextBlob    170688     12921"
      ]
     },
     "execution_count": 19,
     "metadata": {},
     "output_type": "execute_result"
    }
   ],
   "source": [
    "pretrain_models = pd.DataFrame({\n",
    "    'Model': ['VADER', 'TextBlob'],\n",
    "    'Positive': [173702, 170688],\n",
    "    'Negative': [9907, 12921]\n",
    "    })\n",
    "pretrain_models.sort_values(by='Positive', ascending=True)\n",
    "pretrain_models"
   ]
  },
  {
   "cell_type": "code",
   "execution_count": 28,
   "id": "f5c0c1cf-4fe9-447a-bad7-35d7f3df2d24",
   "metadata": {
    "tags": []
   },
   "outputs": [
    {
     "data": {
      "image/png": "[encoded data removed]",
      "text/plain": [
       "<Figure size 800x500 with 1 Axes>"
      ]
     },
     "metadata": {},
     "output_type": "display_data"
    }
   ],
   "source": [
    "fig, ax = plt.subplots(figsize=(8,5))\n",
    "bar2 = pretrain_models.plot(kind='bar', x='Model', y=['Positive', 'Negative'], color=['royalblue', 'indianred'], ax=ax)\n",
    "\n",
    "for bar in bar2.containers:\n",
    "    bar2.bar_label(bar)\n",
    "    \n",
    "ax.set_title(\"Sentiment Analysis using VADER & TextBlob\")\n",
    "ax.set_xlabel(\"Model\")\n",
    "ax.set_ylabel(\"Number of Reviews\")\n",
    "plt.xticks(rotation=0)\n",
    "plt.show()"
   ]
  },
  {
   "cell_type": "code",
   "execution_count": 37,
   "id": "0760d589-c6f2-4fab-8048-3b80bc2cb030",
   "metadata": {
    "tags": []
   },
   "outputs": [],
   "source": [
    "cleaned_news_df2.to_parquet(\"cleaned_sentiment_df.parquet\")"
   ]
  },
  {
   "cell_type": "markdown",
   "id": "d40253c8-55c7-4f88-826c-64ac05a272f7",
   "metadata": {
    "tags": [],
    "toc-hr-collapsed": true
   },
   "source": [
    "##### BERT-based model"
   ]
  },
  {
   "cell_type": "markdown",
   "id": "d6870f37-4edb-49c1-8a8a-91cbbaf9e716",
   "metadata": {},
   "source": [
    "1. On sample data"
   ]
  },
  {
   "cell_type": "code",
   "execution_count": 48,
   "id": "02b1892c-fda0-40b7-9450-99b06a0ab31a",
   "metadata": {
    "tags": []
   },
   "outputs": [],
   "source": [
    "sample_df = cleaned_news_df2.sample(n = 1000, random_state = 1)"
   ]
  },
  {
   "cell_type": "code",
   "execution_count": 49,
   "id": "4da82e8f-d89b-4a4c-a8c1-3b2169a013c2",
   "metadata": {
    "tags": []
   },
   "outputs": [
    {
     "name": "stdout",
     "output_type": "stream",
     "text": [
      "CPU times: total: 24min 31s\n",
      "Wall time: 50min 51s\n"
     ]
    }
   ],
   "source": [
    "%%time\n",
    "\n",
    "# Load the RoBERTa model for zero-shot classification\n",
    "classifier = pipeline(\"zero-shot-classification\", model=\"roberta-large-mnli\")\n",
    "\n",
    "# Define candidate labels for sentiment analysis\n",
    "candidate_labels = [\"Positive\", \"Negative\"]\n",
    "\n",
    "# Define a function for sentiment prediction\n",
    "def predict_sentiment_roberta(text):\n",
    "    result = classifier(text, candidate_labels)\n",
    "    return result[\"labels\"][0]\n",
    "\n",
    "# Apply the function to a sample of your data\n",
    "sample_df['Sentiment_RoBERTa'] = sample_df['cleaned_text'].apply(predict_sentiment_roberta)"
   ]
  },
  {
   "cell_type": "code",
   "execution_count": 62,
   "id": "1068945e-490a-48ce-b3c7-cc1329326dd6",
   "metadata": {
    "tags": []
   },
   "outputs": [
    {
     "data": {
      "text/html": [
       "<div>\n",
       "<style scoped>\n",
       "    .dataframe tbody tr th:only-of-type {\n",
       "        vertical-align: middle;\n",
       "    }\n",
       "\n",
       "    .dataframe tbody tr th {\n",
       "        vertical-align: top;\n",
       "    }\n",
       "\n",
       "    .dataframe thead th {\n",
       "        text-align: right;\n",
       "    }\n",
       "</style>\n",
       "<table border=\"1\" class=\"dataframe\">\n",
       "  <thead>\n",
       "    <tr style=\"text-align: right;\">\n",
       "      <th></th>\n",
       "      <th>cleaned_text</th>\n",
       "      <th>Sentiment_VADER</th>\n",
       "      <th>Sentiment_TextBlob</th>\n",
       "      <th>Sentiment_RoBERTa</th>\n",
       "    </tr>\n",
       "  </thead>\n",
       "  <tbody>\n",
       "    <tr>\n",
       "      <th>173308</th>\n",
       "      <td>best liverpool xi ever named artificial intelligence mohamed salah left irish mirror online mobile newsirish newsnews unionufcother sportsport storiesfollow usirish newscelebrity newslatest usabout usadvertise uscontact uswork uscorrections codesgoogle surveycookie noticeprivacy noticeterms conditionshow mgn limited fc sportbest liverpool xi ever named artificial intelligence mohamed salah left outliverpool iconic figures world football anfield plenty trophies boast alongside fans might need...</td>\n",
       "      <td>Positive</td>\n",
       "      <td>Positive</td>\n",
       "      <td>Negative</td>\n",
       "    </tr>\n",
       "    <tr>\n",
       "      <th>73167</th>\n",
       "      <td>bold insight cosponsors depaul university grant program bridges ai ux localwatch wymt wymt weathermarch tornado classgreat health resultsstate results mapnational results mapback wireless sports overtimelocal top tentop playsuk sportsmeet teamcontact uscareers support localour mountain photos videosfull court press greta van country music lifestylegray dc givesstudent releasesbold insight cosponsors depaul university grant program bridges ai uxstudent teams present projects virtual oct edtup...</td>\n",
       "      <td>Positive</td>\n",
       "      <td>Positive</td>\n",
       "      <td>Negative</td>\n",
       "    </tr>\n",
       "    <tr>\n",
       "      <th>59420</th>\n",
       "      <td>companies avoid ethical pitfalls building ai products venturebeat main content venturebeat homepage events gamesbeat data pipeline transform account settings log become member sign venturebeat homepage venturebeat arvr big data cloud commerce dev enterprise entrepreneur marketing media mobile security social follow follow follow follow follow rss machine ai machine learning computer vision natural language processing robotic process automation follow follow rss gamesbeat games esports pc gam...</td>\n",
       "      <td>Positive</td>\n",
       "      <td>Positive</td>\n",
       "      <td>Positive</td>\n",
       "    </tr>\n",
       "    <tr>\n",
       "      <th>155177</th>\n",
       "      <td>elon musk enters ai industry xai ghacks tech news ghacksnet vpns windows linux software firefox chrome internet mobile computing companies misc deals vpns good know vpn streaming vpns gaming privacy news vpn reviews windows windows news windows help windows windows windows windows tips windows update linux linux mint software antivirus backup data recovery encryption file sharing microsoft office security firefox firefox addons chrome chrome extensions internet brave internet explorer micros...</td>\n",
       "      <td>Positive</td>\n",
       "      <td>Positive</td>\n",
       "      <td>Negative</td>\n",
       "    </tr>\n",
       "    <tr>\n",
       "      <th>30816</th>\n",
       "      <td>kami vision unveils ai visionbased fall alert system elder care contentsenior connecthome fear centerwatch fear weekendsubmit usmeet news teamlive onlinesee snap send itprevious newscastswect jobswect internship resultsgenx water jon evansschool sex alert skycamssky picsfirst alert hurricane night footballget fit contestcape fear weekendpet weekclear proscape fear morningfirst fourconserve cape fearside newscastsfull court press greta van county music lifestylegray dc tvpress releaseskami vi...</td>\n",
       "      <td>Positive</td>\n",
       "      <td>Positive</td>\n",
       "      <td>Negative</td>\n",
       "    </tr>\n",
       "  </tbody>\n",
       "</table>\n",
       "</div>"
      ],
      "text/plain": [
       "                                                                                                                                                                                                                                                                                                                                                                                                                                                                                                               cleaned_text  \\\n",
       "173308  best liverpool xi ever named artificial intelligence mohamed salah left irish mirror online mobile newsirish newsnews unionufcother sportsport storiesfollow usirish newscelebrity newslatest usabout usadvertise uscontact uswork uscorrections codesgoogle surveycookie noticeprivacy noticeterms conditionshow mgn limited fc sportbest liverpool xi ever named artificial intelligence mohamed salah left outliverpool iconic figures world football anfield plenty trophies boast alongside fans might need...   \n",
       "73167   bold insight cosponsors depaul university grant program bridges ai ux localwatch wymt wymt weathermarch tornado classgreat health resultsstate results mapnational results mapback wireless sports overtimelocal top tentop playsuk sportsmeet teamcontact uscareers support localour mountain photos videosfull court press greta van country music lifestylegray dc givesstudent releasesbold insight cosponsors depaul university grant program bridges ai uxstudent teams present projects virtual oct edtup...   \n",
       "59420   companies avoid ethical pitfalls building ai products venturebeat main content venturebeat homepage events gamesbeat data pipeline transform account settings log become member sign venturebeat homepage venturebeat arvr big data cloud commerce dev enterprise entrepreneur marketing media mobile security social follow follow follow follow follow rss machine ai machine learning computer vision natural language processing robotic process automation follow follow rss gamesbeat games esports pc gam...   \n",
       "155177  elon musk enters ai industry xai ghacks tech news ghacksnet vpns windows linux software firefox chrome internet mobile computing companies misc deals vpns good know vpn streaming vpns gaming privacy news vpn reviews windows windows news windows help windows windows windows windows tips windows update linux linux mint software antivirus backup data recovery encryption file sharing microsoft office security firefox firefox addons chrome chrome extensions internet brave internet explorer micros...   \n",
       "30816   kami vision unveils ai visionbased fall alert system elder care contentsenior connecthome fear centerwatch fear weekendsubmit usmeet news teamlive onlinesee snap send itprevious newscastswect jobswect internship resultsgenx water jon evansschool sex alert skycamssky picsfirst alert hurricane night footballget fit contestcape fear weekendpet weekclear proscape fear morningfirst fourconserve cape fearside newscastsfull court press greta van county music lifestylegray dc tvpress releaseskami vi...   \n",
       "\n",
       "       Sentiment_VADER Sentiment_TextBlob Sentiment_RoBERTa  \n",
       "173308        Positive           Positive          Negative  \n",
       "73167         Positive           Positive          Negative  \n",
       "59420         Positive           Positive          Positive  \n",
       "155177        Positive           Positive          Negative  \n",
       "30816         Positive           Positive          Negative  "
      ]
     },
     "execution_count": 62,
     "metadata": {},
     "output_type": "execute_result"
    }
   ],
   "source": [
    "sample_df[['cleaned_text', 'Sentiment_VADER', 'Sentiment_TextBlob', 'Sentiment_RoBERTa']].sample(n = 5)"
   ]
  },
  {
   "cell_type": "code",
   "execution_count": 64,
   "id": "65aa0d2e-ffe8-468c-aa1e-1f8aed004f93",
   "metadata": {
    "tags": []
   },
   "outputs": [
    {
     "data": {
      "text/plain": [
       "Sentiment_RoBERTa\n",
       "Negative    943\n",
       "Positive     57\n",
       "Name: count, dtype: int64"
      ]
     },
     "execution_count": 64,
     "metadata": {},
     "output_type": "execute_result"
    }
   ],
   "source": [
    "sample_df['Sentiment_RoBERTa'].value_counts()"
   ]
  },
  {
   "cell_type": "code",
   "execution_count": 72,
   "id": "08a8c26c-e2d6-47f7-8b0c-fda75ad15b33",
   "metadata": {
    "tags": []
   },
   "outputs": [],
   "source": [
    "import tensorflow as tf\n",
    "from transformers import BertTokenizer, TFBertForSequenceClassification"
   ]
  },
  {
   "cell_type": "code",
   "execution_count": 73,
   "id": "afd47223-f8d6-483d-9cc8-30b9a268641e",
   "metadata": {
    "tags": []
   },
   "outputs": [
    {
     "name": "stdout",
     "output_type": "stream",
     "text": [
      "CPU times: total: 0 ns\n",
      "Wall time: 0 ns\n"
     ]
    },
    {
     "ename": "ImportError",
     "evalue": "\nAutoModelForSequenceClassification requires the PyTorch library but it was not found in your environment.\nHowever, we were able to find a TensorFlow installation. TensorFlow classes begin\nwith \"TF\", but are otherwise identically named to our PyTorch classes. This\nmeans that the TF equivalent of the class you tried to import would be \"TFAutoModelForSequenceClassification\".\nIf you want to use TensorFlow, please use TF classes instead!\n\nIf you really do want to use PyTorch please go to\nhttps://pytorch.org/get-started/locally/ and follow the instructions that\nmatch your environment.\n",
     "output_type": "error",
     "traceback": [
      "\u001b[1;31m---------------------------------------------------------------------------\u001b[0m",
      "\u001b[1;31mImportError\u001b[0m                               Traceback (most recent call last)",
      "Cell \u001b[1;32mIn[73], line 2\u001b[0m\n\u001b[0;32m      1\u001b[0m get_ipython()\u001b[38;5;241m.\u001b[39mrun_line_magic(\u001b[38;5;124m'\u001b[39m\u001b[38;5;124mtime\u001b[39m\u001b[38;5;124m'\u001b[39m, \u001b[38;5;124m'\u001b[39m\u001b[38;5;124m'\u001b[39m)\n\u001b[1;32m----> 2\u001b[0m zsl \u001b[38;5;241m=\u001b[39m ktrain\u001b[38;5;241m.\u001b[39mtext\u001b[38;5;241m.\u001b[39mZeroShotClassifier()\n\u001b[0;32m      4\u001b[0m sentiments \u001b[38;5;241m=\u001b[39m []\n\u001b[0;32m      5\u001b[0m \u001b[38;5;28;01mfor\u001b[39;00m text \u001b[38;5;129;01min\u001b[39;00m sample_df[\u001b[38;5;124m'\u001b[39m\u001b[38;5;124mcleaned_text\u001b[39m\u001b[38;5;124m'\u001b[39m]:\n",
      "File \u001b[1;32m~\\anaconda3\\Lib\\site-packages\\ktrain\\text\\zsl\\core.py:37\u001b[0m, in \u001b[0;36mZeroShotClassifier.__init__\u001b[1;34m(self, model_name, device, quantize)\u001b[0m\n\u001b[0;32m     34\u001b[0m \u001b[38;5;28;01mfrom\u001b[39;00m \u001b[38;5;21;01mtransformers\u001b[39;00m \u001b[38;5;28;01mimport\u001b[39;00m AutoModelForSequenceClassification, AutoTokenizer\n\u001b[0;32m     36\u001b[0m \u001b[38;5;28mself\u001b[39m\u001b[38;5;241m.\u001b[39mtokenizer \u001b[38;5;241m=\u001b[39m AutoTokenizer\u001b[38;5;241m.\u001b[39mfrom_pretrained(model_name)\n\u001b[1;32m---> 37\u001b[0m \u001b[38;5;28mself\u001b[39m\u001b[38;5;241m.\u001b[39mmodel \u001b[38;5;241m=\u001b[39m AutoModelForSequenceClassification\u001b[38;5;241m.\u001b[39mfrom_pretrained(model_name)\u001b[38;5;241m.\u001b[39mto(\n\u001b[0;32m     38\u001b[0m     \u001b[38;5;28mself\u001b[39m\u001b[38;5;241m.\u001b[39mtorch_device\n\u001b[0;32m     39\u001b[0m )\n\u001b[0;32m     40\u001b[0m \u001b[38;5;28;01mif\u001b[39;00m quantize:\n\u001b[0;32m     41\u001b[0m     \u001b[38;5;28mself\u001b[39m\u001b[38;5;241m.\u001b[39mmodel \u001b[38;5;241m=\u001b[39m \u001b[38;5;28mself\u001b[39m\u001b[38;5;241m.\u001b[39mquantize_model(\u001b[38;5;28mself\u001b[39m\u001b[38;5;241m.\u001b[39mmodel)\n",
      "File \u001b[1;32m~\\anaconda3\\Lib\\site-packages\\transformers\\utils\\import_utils.py:1259\u001b[0m, in \u001b[0;36mDummyObject.__getattribute__\u001b[1;34m(cls, key)\u001b[0m\n\u001b[0;32m   1257\u001b[0m \u001b[38;5;28;01mif\u001b[39;00m key\u001b[38;5;241m.\u001b[39mstartswith(\u001b[38;5;124m\"\u001b[39m\u001b[38;5;124m_\u001b[39m\u001b[38;5;124m\"\u001b[39m) \u001b[38;5;129;01mand\u001b[39;00m key \u001b[38;5;241m!=\u001b[39m \u001b[38;5;124m\"\u001b[39m\u001b[38;5;124m_from_config\u001b[39m\u001b[38;5;124m\"\u001b[39m:\n\u001b[0;32m   1258\u001b[0m     \u001b[38;5;28;01mreturn\u001b[39;00m \u001b[38;5;28msuper\u001b[39m()\u001b[38;5;241m.\u001b[39m\u001b[38;5;21m__getattribute__\u001b[39m(key)\n\u001b[1;32m-> 1259\u001b[0m requires_backends(\u001b[38;5;28mcls\u001b[39m, \u001b[38;5;28mcls\u001b[39m\u001b[38;5;241m.\u001b[39m_backends)\n",
      "File \u001b[1;32m~\\anaconda3\\Lib\\site-packages\\transformers\\utils\\import_utils.py:1238\u001b[0m, in \u001b[0;36mrequires_backends\u001b[1;34m(obj, backends)\u001b[0m\n\u001b[0;32m   1236\u001b[0m \u001b[38;5;66;03m# Raise an error for users who might not realize that classes without \"TF\" are torch-only\u001b[39;00m\n\u001b[0;32m   1237\u001b[0m \u001b[38;5;28;01mif\u001b[39;00m \u001b[38;5;124m\"\u001b[39m\u001b[38;5;124mtorch\u001b[39m\u001b[38;5;124m\"\u001b[39m \u001b[38;5;129;01min\u001b[39;00m backends \u001b[38;5;129;01mand\u001b[39;00m \u001b[38;5;124m\"\u001b[39m\u001b[38;5;124mtf\u001b[39m\u001b[38;5;124m\"\u001b[39m \u001b[38;5;129;01mnot\u001b[39;00m \u001b[38;5;129;01min\u001b[39;00m backends \u001b[38;5;129;01mand\u001b[39;00m \u001b[38;5;129;01mnot\u001b[39;00m is_torch_available() \u001b[38;5;129;01mand\u001b[39;00m is_tf_available():\n\u001b[1;32m-> 1238\u001b[0m     \u001b[38;5;28;01mraise\u001b[39;00m \u001b[38;5;167;01mImportError\u001b[39;00m(PYTORCH_IMPORT_ERROR_WITH_TF\u001b[38;5;241m.\u001b[39mformat(name))\n\u001b[0;32m   1240\u001b[0m \u001b[38;5;66;03m# Raise the inverse error for PyTorch users trying to load TF classes\u001b[39;00m\n\u001b[0;32m   1241\u001b[0m \u001b[38;5;28;01mif\u001b[39;00m \u001b[38;5;124m\"\u001b[39m\u001b[38;5;124mtf\u001b[39m\u001b[38;5;124m\"\u001b[39m \u001b[38;5;129;01min\u001b[39;00m backends \u001b[38;5;129;01mand\u001b[39;00m \u001b[38;5;124m\"\u001b[39m\u001b[38;5;124mtorch\u001b[39m\u001b[38;5;124m\"\u001b[39m \u001b[38;5;129;01mnot\u001b[39;00m \u001b[38;5;129;01min\u001b[39;00m backends \u001b[38;5;129;01mand\u001b[39;00m is_torch_available() \u001b[38;5;129;01mand\u001b[39;00m \u001b[38;5;129;01mnot\u001b[39;00m is_tf_available():\n",
      "\u001b[1;31mImportError\u001b[0m: \nAutoModelForSequenceClassification requires the PyTorch library but it was not found in your environment.\nHowever, we were able to find a TensorFlow installation. TensorFlow classes begin\nwith \"TF\", but are otherwise identically named to our PyTorch classes. This\nmeans that the TF equivalent of the class you tried to import would be \"TFAutoModelForSequenceClassification\".\nIf you want to use TensorFlow, please use TF classes instead!\n\nIf you really do want to use PyTorch please go to\nhttps://pytorch.org/get-started/locally/ and follow the instructions that\nmatch your environment.\n"
     ]
    }
   ],
   "source": [
    "%time\n",
    "zsl = ktrain.text.ZeroShotClassifier()\n",
    "\n",
    "sentiments = []\n",
    "for text in sample_df['cleaned_text']:\n",
    "    res = zsl.predict(text, labels=['Negative', 'Positive'], \n",
    "                      include_labels=True,\n",
    "                      multilabel=False, \n",
    "                      batch_size = 64)\n",
    "    max_tuple = max(res, key=lambda x: x[1])\n",
    "    sentiments.append(max_tuple[0])\n",
    "\n",
    "sample_df['Sentiment_ZSL'] = sentiments"
   ]
  },
  {
   "cell_type": "code",
   "execution_count": null,
   "id": "984dc70c-0701-4b55-9770-b185c398e5ab",
   "metadata": {},
   "outputs": [],
   "source": []
  },
  {
   "cell_type": "markdown",
   "id": "ab9489ca-fdd0-46a0-b906-55e30f2ccf1a",
   "metadata": {},
   "source": [
    "Calculate accuracy"
   ]
  },
  {
   "cell_type": "code",
   "execution_count": 43,
   "id": "962bb5dd-063e-4e47-908b-8ae0257cfa05",
   "metadata": {
    "tags": []
   },
   "outputs": [
    {
     "data": {
      "text/plain": [
       "(100, 1)"
      ]
     },
     "execution_count": 43,
     "metadata": {},
     "output_type": "execute_result"
    }
   ],
   "source": [
    "# Create manual label and add sentiment from techniques\n",
    "accuracy_df = pd.DataFrame()\n",
    "\n",
    "# Generate 1000 random labels (1 for Positive, 0 for Negative)\n",
    "import random\n",
    "random_labels = [random.choice([0, 1]) for _ in range(100)]\n",
    "accuracy_df['manual_label'] = random_labels\n",
    "accuracy_df.shape"
   ]
  },
  {
   "cell_type": "code",
   "execution_count": 44,
   "id": "251af39f-62f0-42c3-afbb-215383f9ab46",
   "metadata": {
    "tags": []
   },
   "outputs": [
    {
     "data": {
      "text/html": [
       "<div>\n",
       "<style scoped>\n",
       "    .dataframe tbody tr th:only-of-type {\n",
       "        vertical-align: middle;\n",
       "    }\n",
       "\n",
       "    .dataframe tbody tr th {\n",
       "        vertical-align: top;\n",
       "    }\n",
       "\n",
       "    .dataframe thead th {\n",
       "        text-align: right;\n",
       "    }\n",
       "</style>\n",
       "<table border=\"1\" class=\"dataframe\">\n",
       "  <thead>\n",
       "    <tr style=\"text-align: right;\">\n",
       "      <th></th>\n",
       "      <th>manual_label</th>\n",
       "      <th>Sentiment_VADER</th>\n",
       "      <th>Sentiment_VADER_Binary</th>\n",
       "    </tr>\n",
       "  </thead>\n",
       "  <tbody>\n",
       "    <tr>\n",
       "      <th>0</th>\n",
       "      <td>0</td>\n",
       "      <td>Positive</td>\n",
       "      <td>1</td>\n",
       "    </tr>\n",
       "    <tr>\n",
       "      <th>1</th>\n",
       "      <td>0</td>\n",
       "      <td>Positive</td>\n",
       "      <td>1</td>\n",
       "    </tr>\n",
       "    <tr>\n",
       "      <th>2</th>\n",
       "      <td>0</td>\n",
       "      <td>Positive</td>\n",
       "      <td>1</td>\n",
       "    </tr>\n",
       "    <tr>\n",
       "      <th>3</th>\n",
       "      <td>0</td>\n",
       "      <td>Positive</td>\n",
       "      <td>1</td>\n",
       "    </tr>\n",
       "    <tr>\n",
       "      <th>4</th>\n",
       "      <td>0</td>\n",
       "      <td>Positive</td>\n",
       "      <td>1</td>\n",
       "    </tr>\n",
       "  </tbody>\n",
       "</table>\n",
       "</div>"
      ],
      "text/plain": [
       "   manual_label Sentiment_VADER  Sentiment_VADER_Binary\n",
       "0             0        Positive                       1\n",
       "1             0        Positive                       1\n",
       "2             0        Positive                       1\n",
       "3             0        Positive                       1\n",
       "4             0        Positive                       1"
      ]
     },
     "execution_count": 44,
     "metadata": {},
     "output_type": "execute_result"
    }
   ],
   "source": [
    "# Accuracy of VADER\n",
    "news_sample_VADER = cleaned_news_df2[['Sentiment_VADER']].sample(n=100, random_state=42)\n",
    "\n",
    "# Reset the index of both DataFrames to allow for a proper merge\n",
    "news_sample_VADER.reset_index(drop=True, inplace=True)\n",
    "accuracy_df.reset_index(drop=True, inplace=True)\n",
    "\n",
    "# Merge the columns from 'news_sample_subset' into 'accuracy_df'\n",
    "accuracy_VADER = pd.concat([accuracy_df, news_sample_VADER], axis=1)\n",
    "\n",
    "# Convert the 'Sentiment_VADER' to binary values, where \"Positive\" is 1 and \"Negative\" is 0\n",
    "accuracy_VADER['Sentiment_VADER_Binary'] = accuracy_VADER['Sentiment_VADER'].map({'Positive': 1, 'Negative': 0})\n",
    "\n",
    "accuracy_VADER.head()"
   ]
  },
  {
   "cell_type": "code",
   "execution_count": 45,
   "id": "e541697f-c932-4205-af3c-996fc5ced6cb",
   "metadata": {
    "tags": []
   },
   "outputs": [
    {
     "name": "stdout",
     "output_type": "stream",
     "text": [
      "Accuracy of VADER: 0.45\n"
     ]
    }
   ],
   "source": [
    "# Calculate the number of correct predictions\n",
    "correct_predictions = (accuracy_VADER['manual_label'] == accuracy_VADER['Sentiment_VADER_Binary']).sum()\n",
    "\n",
    "# Calculate accuracy as the number of correct predictions over the total number of predictions\n",
    "total_predictions = len(accuracy_VADER)\n",
    "accuracy = correct_predictions / total_predictions\n",
    "\n",
    "print(f'Accuracy of VADER: {accuracy:.2f}')"
   ]
  },
  {
   "cell_type": "code",
   "execution_count": 46,
   "id": "7e5ad971-47a6-4d5e-95e9-fad650c126bc",
   "metadata": {
    "tags": []
   },
   "outputs": [
    {
     "data": {
      "text/html": [
       "<div>\n",
       "<style scoped>\n",
       "    .dataframe tbody tr th:only-of-type {\n",
       "        vertical-align: middle;\n",
       "    }\n",
       "\n",
       "    .dataframe tbody tr th {\n",
       "        vertical-align: top;\n",
       "    }\n",
       "\n",
       "    .dataframe thead th {\n",
       "        text-align: right;\n",
       "    }\n",
       "</style>\n",
       "<table border=\"1\" class=\"dataframe\">\n",
       "  <thead>\n",
       "    <tr style=\"text-align: right;\">\n",
       "      <th></th>\n",
       "      <th>manual_label</th>\n",
       "      <th>Sentiment_TextBlob</th>\n",
       "      <th>Sentiment_TextBlob_Binary</th>\n",
       "    </tr>\n",
       "  </thead>\n",
       "  <tbody>\n",
       "    <tr>\n",
       "      <th>0</th>\n",
       "      <td>0</td>\n",
       "      <td>Positive</td>\n",
       "      <td>1</td>\n",
       "    </tr>\n",
       "    <tr>\n",
       "      <th>1</th>\n",
       "      <td>0</td>\n",
       "      <td>Positive</td>\n",
       "      <td>1</td>\n",
       "    </tr>\n",
       "    <tr>\n",
       "      <th>2</th>\n",
       "      <td>0</td>\n",
       "      <td>Positive</td>\n",
       "      <td>1</td>\n",
       "    </tr>\n",
       "    <tr>\n",
       "      <th>3</th>\n",
       "      <td>0</td>\n",
       "      <td>Positive</td>\n",
       "      <td>1</td>\n",
       "    </tr>\n",
       "    <tr>\n",
       "      <th>4</th>\n",
       "      <td>0</td>\n",
       "      <td>Positive</td>\n",
       "      <td>1</td>\n",
       "    </tr>\n",
       "  </tbody>\n",
       "</table>\n",
       "</div>"
      ],
      "text/plain": [
       "   manual_label Sentiment_TextBlob  Sentiment_TextBlob_Binary\n",
       "0             0           Positive                          1\n",
       "1             0           Positive                          1\n",
       "2             0           Positive                          1\n",
       "3             0           Positive                          1\n",
       "4             0           Positive                          1"
      ]
     },
     "execution_count": 46,
     "metadata": {},
     "output_type": "execute_result"
    }
   ],
   "source": [
    "# Accuracy of Pre-trained\n",
    "news_sample_TextBlob = cleaned_news_df2[['Sentiment_TextBlob']].sample(n=100, random_state=42)\n",
    "\n",
    "# Reset the index of both DataFrames to allow for a proper merge\n",
    "news_sample_TextBlob.reset_index(drop=True, inplace=True)\n",
    "accuracy_df.reset_index(drop=True, inplace=True)\n",
    "\n",
    "# Merge the columns from 'news_sample_subset' into 'accuracy_df'\n",
    "accuracy_TextBlob = pd.concat([accuracy_df, news_sample_TextBlob], axis=1)\n",
    "\n",
    "# Convert the 'Sentiment_VADER' to binary values, where \"Positive\" is 1 and \"Negative\" is 0\n",
    "accuracy_TextBlob['Sentiment_TextBlob_Binary'] = accuracy_TextBlob['Sentiment_TextBlob'].map({'Positive': 1, 'Negative': 0})\n",
    "\n",
    "accuracy_TextBlob.head()"
   ]
  },
  {
   "cell_type": "code",
   "execution_count": 47,
   "id": "72c524f6-7f97-420a-a2f0-ef540be6f738",
   "metadata": {
    "tags": []
   },
   "outputs": [
    {
     "name": "stdout",
     "output_type": "stream",
     "text": [
      "Accuracy of TextBlob: 0.41\n"
     ]
    }
   ],
   "source": [
    "# Calculate the number of correct predictions\n",
    "correct_predictions = (accuracy_TextBlob['manual_label'] == accuracy_TextBlob['Sentiment_TextBlob_Binary']).sum()\n",
    "\n",
    "# Calculate accuracy as the number of correct predictions over the total number of predictions\n",
    "total_predictions = len(accuracy_TextBlob)\n",
    "accuracy = correct_predictions / total_predictions\n",
    "\n",
    "print(f'Accuracy of TextBlob: {accuracy:.2f}')"
   ]
  },
  {
   "cell_type": "code",
   "execution_count": 204,
   "id": "2d8243fb-4124-43cd-9694-48abd6918b5b",
   "metadata": {
    "tags": []
   },
   "outputs": [
    {
     "data": {
      "text/html": [
       "<div>\n",
       "<style scoped>\n",
       "    .dataframe tbody tr th:only-of-type {\n",
       "        vertical-align: middle;\n",
       "    }\n",
       "\n",
       "    .dataframe tbody tr th {\n",
       "        vertical-align: top;\n",
       "    }\n",
       "\n",
       "    .dataframe thead th {\n",
       "        text-align: right;\n",
       "    }\n",
       "</style>\n",
       "<table border=\"1\" class=\"dataframe\">\n",
       "  <thead>\n",
       "    <tr style=\"text-align: right;\">\n",
       "      <th></th>\n",
       "      <th>manual_label</th>\n",
       "      <th>Sentiment_ZSL</th>\n",
       "      <th>Sentiment_ZSL_Binary</th>\n",
       "    </tr>\n",
       "  </thead>\n",
       "  <tbody>\n",
       "    <tr>\n",
       "      <th>0</th>\n",
       "      <td>1</td>\n",
       "      <td>positive</td>\n",
       "      <td>1</td>\n",
       "    </tr>\n",
       "    <tr>\n",
       "      <th>1</th>\n",
       "      <td>0</td>\n",
       "      <td>positive</td>\n",
       "      <td>1</td>\n",
       "    </tr>\n",
       "    <tr>\n",
       "      <th>2</th>\n",
       "      <td>0</td>\n",
       "      <td>positive</td>\n",
       "      <td>1</td>\n",
       "    </tr>\n",
       "    <tr>\n",
       "      <th>3</th>\n",
       "      <td>1</td>\n",
       "      <td>negative</td>\n",
       "      <td>0</td>\n",
       "    </tr>\n",
       "    <tr>\n",
       "      <th>4</th>\n",
       "      <td>0</td>\n",
       "      <td>positive</td>\n",
       "      <td>1</td>\n",
       "    </tr>\n",
       "  </tbody>\n",
       "</table>\n",
       "</div>"
      ],
      "text/plain": [
       "   manual_label Sentiment_ZSL  Sentiment_ZSL_Binary\n",
       "0             1      positive                     1\n",
       "1             0      positive                     1\n",
       "2             0      positive                     1\n",
       "3             1      negative                     0\n",
       "4             0      positive                     1"
      ]
     },
     "execution_count": 204,
     "metadata": {},
     "output_type": "execute_result"
    }
   ],
   "source": [
    "# Accuracy of ZSL with BERT\n",
    "news_sample_ZSL = sample_df[['Sentiment_ZSL']].sample(n=500, random_state=42)\n",
    "\n",
    "# Reset the index of both DataFrames to allow for a proper merge\n",
    "news_sample_ZSL.reset_index(drop=True, inplace=True)\n",
    "accuracy_df.reset_index(drop=True, inplace=True)\n",
    "\n",
    "# Merge the columns from 'news_sample_subset' into 'accuracy_df'\n",
    "accuracy_ZSL = pd.concat([accuracy_df, news_sample_ZSL], axis=1)\n",
    "\n",
    "# Convert the 'Sentiment_VADER' to binary values, where \"Positive\" is 1 and \"Negative\" is 0\n",
    "accuracy_ZSL['Sentiment_ZSL_Binary'] = accuracy_ZSL['Sentiment_ZSL'].map({'positive': 1, 'negative': 0})\n",
    "\n",
    "accuracy_ZSL.head()"
   ]
  },
  {
   "cell_type": "code",
   "execution_count": null,
   "id": "4c36a996-e7f6-4079-8807-79d21873377b",
   "metadata": {
    "tags": []
   },
   "outputs": [
    {
     "name": "stdout",
     "output_type": "stream",
     "text": [
      "Accuracy of ZSL: 0.52\n"
     ]
    }
   ],
   "source": [
    "# Calculate the number of correct predictions\n",
    "correct_predictions = (accuracy_ZSL['manual_label'] == accuracy_ZSL['Sentiment_ZSL_Binary']).sum()\n",
    "\n",
    "# Calculate accuracy as the number of correct predictions over the total number of predictions\n",
    "total_predictions = len(accuracy_ZSL)\n",
    "accuracy = correct_predictions / total_predictions\n",
    "\n",
    "print(f'Accuracy of ZSL: {accuracy:.2f}')"
   ]
  }
 ],
 "metadata": {
  "environment": {
   "kernel": "python3",
   "name": "tf2-cpu.2-11.m112",
   "type": "gcloud",
   "uri": "gcr.io/deeplearning-platform-release/tf2-cpu.2-11:m112"
  },
  "kernelspec": {
   "display_name": "Python 3 (ipykernel)",
   "language": "python",
   "name": "python3"
  },
  "language_info": {
   "codemirror_mode": {
    "name": "ipython",
    "version": 3
   },
   "file_extension": ".py",
   "mimetype": "text/x-python",
   "name": "python",
   "nbconvert_exporter": "python",
   "pygments_lexer": "ipython3",
   "version": "3.11.4"
  }
 },
 "nbformat": 4,
 "nbformat_minor": 5
}
