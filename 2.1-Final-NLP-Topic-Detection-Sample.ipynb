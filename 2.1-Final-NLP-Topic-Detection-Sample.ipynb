{
 "cells": [
  {
   "cell_type": "markdown",
   "id": "0733faec-e41e-4fb5-94ad-3262e2adb47a",
   "metadata": {
    "id": "AXFJlWjSmGv_",
    "tags": []
   },
   "source": [
    "### Minh Vo\n",
    "### ADSP 32018 - Natural Language Processing and Cognitive Computing (Autumn 23)\n",
    "### FINAL PROJECT"
   ]
  },
  {
   "cell_type": "markdown",
   "id": "805c46a8-e0f0-4617-82e0-cc737a884122",
   "metadata": {},
   "source": [
    "### Topic Detection"
   ]
  },
  {
   "cell_type": "code",
   "execution_count": 1,
   "id": "54debcac-72e5-4e6e-983e-e91728d11a15",
   "metadata": {},
   "outputs": [],
   "source": [
    "# !pip install gensim\n",
    "# !pip install pyLDAvis"
   ]
  },
  {
   "cell_type": "code",
   "execution_count": 1,
   "id": "9ba0f97e-dc52-4468-8e0c-01414fe7a985",
   "metadata": {
    "tags": []
   },
   "outputs": [],
   "source": [
    "import time\n",
    "import math\n",
    "import re\n",
    "import string\n",
    "import pandas as pd\n",
    "import matplotlib.pyplot as plt\n",
    "import seaborn as sns\n",
    "from textblob import TextBlob\n",
    "from google.cloud import storage\n",
    "import os\n",
    "\n",
    "import nltk as nltk\n",
    "from nltk.corpus import stopwords\n",
    "from nltk.stem import WordNetLemmatizer\n",
    "from nltk.corpus import wordnet\n",
    "from nltk.tokenize import word_tokenize\n",
    "\n",
    "import spacy\n",
    "from spacy import displacy\n",
    "\n",
    "import gensim\n",
    "from gensim import corpora, models\n",
    "from gensim.models.ldamulticore import LdaMulticore\n",
    "from gensim.utils import simple_preprocess\n",
    "from gensim.models import CoherenceModel\n",
    "\n",
    "# import pyLDAvis.gensim\n",
    "import pyLDAvis\n",
    "import pyLDAvis.gensim_models as gensimvis\n",
    "pyLDAvis.enable_notebook()\n",
    "\n",
    "import warnings\n",
    "warnings.filterwarnings('ignore')\n",
    "warnings.simplefilter('once')\n",
    "warnings.simplefilter('ignore')\n",
    "warnings.filterwarnings(\"ignore\", category=FutureWarning)\n",
    "warnings.filterwarnings(\"ignore\", category=DeprecationWarning)\n",
    "warnings.filterwarnings(action='ignore', category=UserWarning, module='gensim')\n",
    "\n",
    "pd.set_option('display.max_rows', 100)\n",
    "pd.set_option('display.max_columns', None)\n",
    "pd.set_option('display.max_colwidth', 500)"
   ]
  },
  {
   "cell_type": "code",
   "execution_count": 2,
   "id": "ca734faa-d9ed-477c-b17a-57b4ac8d6590",
   "metadata": {
    "colab": {
     "base_uri": "https://localhost:8080/"
    },
    "id": "SeY1xoLc6d2Y",
    "outputId": "2a30d38d-ab62-4ae1-b96b-4675d669532b",
    "tags": []
   },
   "outputs": [
    {
     "name": "stdout",
     "output_type": "stream",
     "text": [
      "Available CPUs: 96\n"
     ]
    }
   ],
   "source": [
    "import multiprocessing\n",
    "from pandarallel import pandarallel\n",
    "\n",
    "num_processors = multiprocessing.cpu_count()\n",
    "print(f'Available CPUs: {num_processors}')"
   ]
  },
  {
   "cell_type": "code",
   "execution_count": 3,
   "id": "0405000d-34ba-4baa-bf54-89877f45cd06",
   "metadata": {
    "colab": {
     "base_uri": "https://localhost:8080/"
    },
    "id": "oUvI9x6w6ewG",
    "outputId": "a06d7d95-8443-44d9-d730-a0bafcd82901",
    "tags": []
   },
   "outputs": [
    {
     "name": "stdout",
     "output_type": "stream",
     "text": [
      "INFO: Pandarallel will run on 95 workers.\n",
      "INFO: Pandarallel will use standard multiprocessing data transfer (pipe) to transfer data between the main process and workers.\n"
     ]
    }
   ],
   "source": [
    "pandarallel.initialize(nb_workers=num_processors-1, use_memory_fs=False)\n",
    "workers=num_processors"
   ]
  },
  {
   "cell_type": "markdown",
   "id": "8c0631c8-3526-454f-b488-54b37f0f3248",
   "metadata": {},
   "source": [
    "#### Cleaned Data Loading"
   ]
  },
  {
   "cell_type": "code",
   "execution_count": 4,
   "id": "5ca047c8-a08a-41dc-89cb-523e2b327c5a",
   "metadata": {
    "tags": []
   },
   "outputs": [
    {
     "name": "stdout",
     "output_type": "stream",
     "text": [
      "Cleaned data contains 191,487 news articles\n",
      "CPU times: user 9.23 s, sys: 7.07 s, total: 16.3 s\n",
      "Wall time: 11.7 s\n"
     ]
    },
    {
     "data": {
      "text/html": [
       "<div>\n",
       "<style scoped>\n",
       "    .dataframe tbody tr th:only-of-type {\n",
       "        vertical-align: middle;\n",
       "    }\n",
       "\n",
       "    .dataframe tbody tr th {\n",
       "        vertical-align: top;\n",
       "    }\n",
       "\n",
       "    .dataframe thead th {\n",
       "        text-align: right;\n",
       "    }\n",
       "</style>\n",
       "<table border=\"1\" class=\"dataframe\">\n",
       "  <thead>\n",
       "    <tr style=\"text-align: right;\">\n",
       "      <th></th>\n",
       "      <th>url</th>\n",
       "      <th>date</th>\n",
       "      <th>language</th>\n",
       "      <th>title</th>\n",
       "      <th>text</th>\n",
       "      <th>cleaned_title</th>\n",
       "      <th>cleaned_text</th>\n",
       "      <th>text_word_count</th>\n",
       "      <th>lemmatized_title</th>\n",
       "      <th>lemmatized_text</th>\n",
       "    </tr>\n",
       "  </thead>\n",
       "  <tbody>\n",
       "    <tr>\n",
       "      <th>0</th>\n",
       "      <td>http://galusaustralis.com/2020/02/486473/legaltech-artificial-intelligence-market-2019-technology-advancement-and-future-scope-casetext-inc-catalyst-repository-systems-ebrevia/</td>\n",
       "      <td>2020-02-26</td>\n",
       "      <td>en</td>\n",
       "      <td>LegalTech Artificial Intelligence Market 2019 Technology Advancement and Future Scope – Casetext Inc., Catalyst Repository Systems, eBREVIA – Galus Australis</td>\n",
       "      <td>LegalTech Artificial Intelligence Market 2019 Technology Advancement and Future Scope – Casetext Inc., Catalyst Repository Systems, eBREVIA – Galus Australis          \\n\\nGalus Australis\\n\\nBusinessGeneral NewsHealthcareIndustryInternationalLifestyleSci-Tech\\n\\nWednesday, February 26 2020\\n\\nTrending\\n\\nNeedle Counters Market Comprehensive Study by Companies Medline Industries, Boen Healthcare\\nSkin Scrub Trays Market Comprehensive Study by Companies Medline Industries, BD, Deroyal\\nGlobal P...</td>\n",
       "      <td>legaltech artificial intelligence market technology advancement future scope casetext inc catalyst repository systems ebrevia galus australis</td>\n",
       "      <td>legaltech artificial intelligence market technology advancement future scope casetext inc catalyst repository systems ebrevia galus australis galus australis wednesday february trending needle counters market comprehensive study companies medline industries boen healthcare skin scrub trays market comprehensive study companies medline industries bd deroyal global portable handheld electronic game machine market outlook business insights apollo games sony aristocrat leisure igt infectious dise...</td>\n",
       "      <td>666</td>\n",
       "      <td>legaltech artificial intelligence market technology advancement catalyst repository system</td>\n",
       "      <td>legaltech artificial intelligence market technology advancement catalyst repository system galus trend needle counter market comprehensive study company industry market comprehensive study company industry global portable handheld electronic game machine market outlook business insight leisure infectious disease testing use market comprehensive study company roche diagnostic veterinary dental xray generator market comprehensive study company veterinary market comprehensive study company hein...</td>\n",
       "    </tr>\n",
       "    <tr>\n",
       "      <th>1</th>\n",
       "      <td>http://spaceref.com/astronomy/observation-simulation-and-ai-join-forces-to-reveal-a-clear-universe.html</td>\n",
       "      <td>2021-07-05</td>\n",
       "      <td>en</td>\n",
       "      <td>Observation, Simulation, And AI Join Forces To Reveal A Clear Universe - SpaceRef</td>\n",
       "      <td>\\n\\nObservation, Simulation, And AI Join Forces To Reveal A Clear Universe - SpaceRef\\n\\n \\nHome |\\nNASA Watch\\nSpaceRef Business\\nAstrobiology Web\\nAdvertising\\nAdd an Event\\nSign up for our Daily Newsletter \\n\\n \\n\\n\\nInternational Space Station\\nNASA Hack Space\\nCalendar\\nMissions\\nSpace Weather \\n                           \\n           \\nObservation, Simulation, And AI Join Forces To Reveal A Clear Universe\\n\\n\\n             Press Release - Source: NATIONAL INSTITUTES OF NATURAL SCIENCES...</td>\n",
       "      <td>observation simulation ai join forces reveal clear universe spaceref</td>\n",
       "      <td>observation simulation ai join forces reveal clear universe spaceref nasa watch spaceref business astrobiology web advertising add event sign daily international space station nasa hack space calendar missions space weather observation simulation ai join forces reveal clear universe press release source national institutes natural sciences posted july pm view using ai driven data analysis peel back noise find actual shape universe credit institute statistical mathematics japanese astronomers...</td>\n",
       "      <td>587</td>\n",
       "      <td>observation simulation ai join force reveal clear universe spaceref</td>\n",
       "      <td>observation simulation ai join force reveal clear universe watch business astrobiology web advertising add event international space station hack space calendar mission space weather observation simulation ai join force reveal clear universe press release source national natural science post pm view use ai drive datum analysis peel back noise find actual shape universe credit statistical japanese astronomer develop new artificial intelligence ai technique remove noise astronomical datum due ...</td>\n",
       "    </tr>\n",
       "  </tbody>\n",
       "</table>\n",
       "</div>"
      ],
      "text/plain": [
       "                                                                                                                                                                                url  \\\n",
       "0  http://galusaustralis.com/2020/02/486473/legaltech-artificial-intelligence-market-2019-technology-advancement-and-future-scope-casetext-inc-catalyst-repository-systems-ebrevia/   \n",
       "1                                                                           http://spaceref.com/astronomy/observation-simulation-and-ai-join-forces-to-reveal-a-clear-universe.html   \n",
       "\n",
       "         date language  \\\n",
       "0  2020-02-26       en   \n",
       "1  2021-07-05       en   \n",
       "\n",
       "                                                                                                                                                           title  \\\n",
       "0  LegalTech Artificial Intelligence Market 2019 Technology Advancement and Future Scope – Casetext Inc., Catalyst Repository Systems, eBREVIA – Galus Australis   \n",
       "1                                                                              Observation, Simulation, And AI Join Forces To Reveal A Clear Universe - SpaceRef   \n",
       "\n",
       "                                                                                                                                                                                                                                                                                                                                                                                                                                                                                                                  text  \\\n",
       "0  LegalTech Artificial Intelligence Market 2019 Technology Advancement and Future Scope – Casetext Inc., Catalyst Repository Systems, eBREVIA – Galus Australis          \\n\\nGalus Australis\\n\\nBusinessGeneral NewsHealthcareIndustryInternationalLifestyleSci-Tech\\n\\nWednesday, February 26 2020\\n\\nTrending\\n\\nNeedle Counters Market Comprehensive Study by Companies Medline Industries, Boen Healthcare\\nSkin Scrub Trays Market Comprehensive Study by Companies Medline Industries, BD, Deroyal\\nGlobal P...   \n",
       "1  \\n\\nObservation, Simulation, And AI Join Forces To Reveal A Clear Universe - SpaceRef\\n\\n \\nHome |\\nNASA Watch\\nSpaceRef Business\\nAstrobiology Web\\nAdvertising\\nAdd an Event\\nSign up for our Daily Newsletter \\n\\n \\n\\n\\nInternational Space Station\\nNASA Hack Space\\nCalendar\\nMissions\\nSpace Weather \\n                           \\n           \\nObservation, Simulation, And AI Join Forces To Reveal A Clear Universe\\n\\n\\n             Press Release - Source: NATIONAL INSTITUTES OF NATURAL SCIENCES...   \n",
       "\n",
       "                                                                                                                                   cleaned_title  \\\n",
       "0  legaltech artificial intelligence market technology advancement future scope casetext inc catalyst repository systems ebrevia galus australis   \n",
       "1                                                                           observation simulation ai join forces reveal clear universe spaceref   \n",
       "\n",
       "                                                                                                                                                                                                                                                                                                                                                                                                                                                                                                          cleaned_text  \\\n",
       "0  legaltech artificial intelligence market technology advancement future scope casetext inc catalyst repository systems ebrevia galus australis galus australis wednesday february trending needle counters market comprehensive study companies medline industries boen healthcare skin scrub trays market comprehensive study companies medline industries bd deroyal global portable handheld electronic game machine market outlook business insights apollo games sony aristocrat leisure igt infectious dise...   \n",
       "1  observation simulation ai join forces reveal clear universe spaceref nasa watch spaceref business astrobiology web advertising add event sign daily international space station nasa hack space calendar missions space weather observation simulation ai join forces reveal clear universe press release source national institutes natural sciences posted july pm view using ai driven data analysis peel back noise find actual shape universe credit institute statistical mathematics japanese astronomers...   \n",
       "\n",
       "   text_word_count  \\\n",
       "0              666   \n",
       "1              587   \n",
       "\n",
       "                                                                             lemmatized_title  \\\n",
       "0  legaltech artificial intelligence market technology advancement catalyst repository system   \n",
       "1                         observation simulation ai join force reveal clear universe spaceref   \n",
       "\n",
       "                                                                                                                                                                                                                                                                                                                                                                                                                                                                                                       lemmatized_text  \n",
       "0  legaltech artificial intelligence market technology advancement catalyst repository system galus trend needle counter market comprehensive study company industry market comprehensive study company industry global portable handheld electronic game machine market outlook business insight leisure infectious disease testing use market comprehensive study company roche diagnostic veterinary dental xray generator market comprehensive study company veterinary market comprehensive study company hein...  \n",
       "1  observation simulation ai join force reveal clear universe watch business astrobiology web advertising add event international space station hack space calendar mission space weather observation simulation ai join force reveal clear universe press release source national natural science post pm view use ai drive datum analysis peel back noise find actual shape universe credit statistical japanese astronomer develop new artificial intelligence ai technique remove noise astronomical datum due ...  "
      ]
     },
     "execution_count": 4,
     "metadata": {},
     "output_type": "execute_result"
    }
   ],
   "source": [
    "%%time\n",
    "\n",
    "cleaned_news_df = pd.read_parquet('final_cleaned_news_df.parquet', engine = 'pyarrow')\n",
    "\n",
    "print(f'Cleaned data contains {cleaned_news_df.shape[0]:,.0f} news articles')\n",
    "cleaned_news_df.head(2)"
   ]
  },
  {
   "cell_type": "code",
   "execution_count": 5,
   "id": "eda5a4a6-2e55-41b0-8fe9-f09957141619",
   "metadata": {},
   "outputs": [
    {
     "name": "stdout",
     "output_type": "stream",
     "text": [
      "<class 'pandas.core.frame.DataFrame'>\n",
      "Int64Index: 191487 entries, 0 to 199676\n",
      "Data columns (total 10 columns):\n",
      " #   Column            Non-Null Count   Dtype \n",
      "---  ------            --------------   ----- \n",
      " 0   url               191487 non-null  object\n",
      " 1   date              191487 non-null  object\n",
      " 2   language          191487 non-null  object\n",
      " 3   title             191487 non-null  object\n",
      " 4   text              191487 non-null  object\n",
      " 5   cleaned_title     191487 non-null  object\n",
      " 6   cleaned_text      191487 non-null  object\n",
      " 7   text_word_count   191487 non-null  int64 \n",
      " 8   lemmatized_title  191487 non-null  object\n",
      " 9   lemmatized_text   191487 non-null  object\n",
      "dtypes: int64(1), object(9)\n",
      "memory usage: 16.1+ MB\n"
     ]
    }
   ],
   "source": [
    "cleaned_news_df.info()"
   ]
  },
  {
   "cell_type": "markdown",
   "id": "e012b582-6ea4-4a98-8bc2-85409e81fd8f",
   "metadata": {
    "tags": []
   },
   "source": [
    "#### Topic Modeling - SAMPLE DATA"
   ]
  },
  {
   "cell_type": "code",
   "execution_count": 7,
   "id": "0ac6c086-fd0c-4877-af8c-3c7cef694cf8",
   "metadata": {},
   "outputs": [
    {
     "data": {
      "text/plain": [
       "(10000, 10)"
      ]
     },
     "execution_count": 7,
     "metadata": {},
     "output_type": "execute_result"
    }
   ],
   "source": [
    "sample_df = cleaned_news_df.sample(n = 10000, random_state = 42)\n",
    "sample_df.shape"
   ]
  },
  {
   "cell_type": "code",
   "execution_count": 8,
   "id": "cb452fae-edd8-42bf-a890-53e4f519e9c4",
   "metadata": {},
   "outputs": [],
   "source": [
    "# sample_df.to_parquet('cleaned_sample_df.parquet')"
   ]
  },
  {
   "cell_type": "markdown",
   "id": "b125a113-cdc6-4350-8270-af36109b7eb6",
   "metadata": {
    "tags": []
   },
   "source": [
    "##### Tokenize news title & text"
   ]
  },
  {
   "cell_type": "code",
   "execution_count": 8,
   "id": "1e951fc1-49ac-46a4-bb19-020d90b428e4",
   "metadata": {
    "tags": []
   },
   "outputs": [
    {
     "name": "stdout",
     "output_type": "stream",
     "text": [
      "CPU times: user 1.15 s, sys: 13.2 s, total: 14.4 s\n",
      "Wall time: 15.1 s\n"
     ]
    }
   ],
   "source": [
    "%%time\n",
    "        \n",
    "sample_df['lemma_title_tokens'] = sample_df['lemmatized_title'].parallel_apply(lambda x: nltk.word_tokenize(x))\n",
    "sample_df['lemma_text_tokens'] = sample_df['lemmatized_text'].parallel_apply(lambda x: nltk.word_tokenize(x))"
   ]
  },
  {
   "cell_type": "code",
   "execution_count": 9,
   "id": "f7f15b06-042b-4942-9dae-022993b2965a",
   "metadata": {},
   "outputs": [
    {
     "data": {
      "text/html": [
       "<div>\n",
       "<style scoped>\n",
       "    .dataframe tbody tr th:only-of-type {\n",
       "        vertical-align: middle;\n",
       "    }\n",
       "\n",
       "    .dataframe tbody tr th {\n",
       "        vertical-align: top;\n",
       "    }\n",
       "\n",
       "    .dataframe thead th {\n",
       "        text-align: right;\n",
       "    }\n",
       "</style>\n",
       "<table border=\"1\" class=\"dataframe\">\n",
       "  <thead>\n",
       "    <tr style=\"text-align: right;\">\n",
       "      <th></th>\n",
       "      <th>cleaned_title</th>\n",
       "      <th>lemmatized_title</th>\n",
       "      <th>lemma_title_tokens</th>\n",
       "    </tr>\n",
       "  </thead>\n",
       "  <tbody>\n",
       "    <tr>\n",
       "      <th>127451</th>\n",
       "      <td>innovative eyewear inc announces release chatgpt app smart eyewear</td>\n",
       "      <td>innovative announce release smart eyewear</td>\n",
       "      <td>[innovative, announce, release, smart, eyewear]</td>\n",
       "    </tr>\n",
       "    <tr>\n",
       "      <th>121872</th>\n",
       "      <td>owns spongebob ai shakes hollywoods creative foundation wsj</td>\n",
       "      <td>own shake hollywood creative foundation wsj</td>\n",
       "      <td>[own, shake, hollywood, creative, foundation, wsj]</td>\n",
       "    </tr>\n",
       "    <tr>\n",
       "      <th>38625</th>\n",
       "      <td>auc data science initiative partners mastercard drive impact data science</td>\n",
       "      <td>auc datum science initiative partner mastercard drive impact datum science</td>\n",
       "      <td>[auc, datum, science, initiative, partner, mastercard, drive, impact, datum, science]</td>\n",
       "    </tr>\n",
       "  </tbody>\n",
       "</table>\n",
       "</div>"
      ],
      "text/plain": [
       "                                                                    cleaned_title  \\\n",
       "127451         innovative eyewear inc announces release chatgpt app smart eyewear   \n",
       "121872                owns spongebob ai shakes hollywoods creative foundation wsj   \n",
       "38625   auc data science initiative partners mastercard drive impact data science   \n",
       "\n",
       "                                                                  lemmatized_title  \\\n",
       "127451                                   innovative announce release smart eyewear   \n",
       "121872                                 own shake hollywood creative foundation wsj   \n",
       "38625   auc datum science initiative partner mastercard drive impact datum science   \n",
       "\n",
       "                                                                           lemma_title_tokens  \n",
       "127451                                        [innovative, announce, release, smart, eyewear]  \n",
       "121872                                     [own, shake, hollywood, creative, foundation, wsj]  \n",
       "38625   [auc, datum, science, initiative, partner, mastercard, drive, impact, datum, science]  "
      ]
     },
     "execution_count": 9,
     "metadata": {},
     "output_type": "execute_result"
    }
   ],
   "source": [
    "sample_df[['cleaned_title', 'lemmatized_title', 'lemma_title_tokens']].sample(n = 3, random_state = 42)"
   ]
  },
  {
   "cell_type": "code",
   "execution_count": 10,
   "id": "9528ad50-2230-48f4-b7a8-46bda5125822",
   "metadata": {},
   "outputs": [
    {
     "data": {
      "text/html": [
       "<div>\n",
       "<style scoped>\n",
       "    .dataframe tbody tr th:only-of-type {\n",
       "        vertical-align: middle;\n",
       "    }\n",
       "\n",
       "    .dataframe tbody tr th {\n",
       "        vertical-align: top;\n",
       "    }\n",
       "\n",
       "    .dataframe thead th {\n",
       "        text-align: right;\n",
       "    }\n",
       "</style>\n",
       "<table border=\"1\" class=\"dataframe\">\n",
       "  <thead>\n",
       "    <tr style=\"text-align: right;\">\n",
       "      <th></th>\n",
       "      <th>cleaned_text</th>\n",
       "      <th>lemmatized_text</th>\n",
       "      <th>lemma_text_tokens</th>\n",
       "    </tr>\n",
       "  </thead>\n",
       "  <tbody>\n",
       "    <tr>\n",
       "      <th>127451</th>\n",
       "      <td>innovative eyewear inc announces release chatgpt app smart eyewear answersyokem ussummer heat safety tipswatch livelatest votecrimeback schoolmind matterssubmit news appwatch livewatch roku amazon firegetting answers photos videosmeet ends meetnews nowgetting votegreat health good stuffkeeping weather weather coveragefirst alert weather safety guidenews salutessenior focussubmit showyour voicequeen school country music dc bureaupress releases weather alerts effectdismiss weather alerts alert...</td>\n",
       "      <td>innovative announce release smart eyewear heat safety tipswatch livelat votecrimeback schoolmind matterssubmit news appwatch livewatch roku amazon firegette answer photo videosmeet end votegreat health good stuffkeepe weather weather alert weather safety guidenew focussubmit showyour voicequeen school country music bureaupress release weather alert effectdismiss weather alert alert barinnovative announce release cdtupdate innovative innovative eyewear company excite announce major update com...</td>\n",
       "      <td>[innovative, announce, release, smart, eyewear, heat, safety, tipswatch, livelat, votecrimeback, schoolmind, matterssubmit, news, appwatch, livewatch, roku, amazon, firegette, answer, photo, videosmeet, end, votegreat, health, good, stuffkeepe, weather, weather, alert, weather, safety, guidenew, focussubmit, showyour, voicequeen, school, country, music, bureaupress, release, weather, alert, effectdismiss, weather, alert, alert, barinnovative, announce, release, cdtupdate, innovative, innovat...</td>\n",
       "    </tr>\n",
       "    <tr>\n",
       "      <th>121872</th>\n",
       "      <td>owns spongebob ai shakes hollywoods creative foundation wsjskip main copy personal noncommercial use distribution use material governed subscriber agreement law nonpersonal use order multiple copies please contact dow jones reprints visit margaret owns spongebob ai shakes hollywoods creative tools raise questions rights scrutiny courts entertainment executivesby jessica toonkel sarah krouseapril etlisten article minuteswhen paramount globals technology chief phil wiser previewed company lead...</td>\n",
       "      <td>own shake hollywood creative foundation wsjskip main copy personal noncommercial use distribution use material govern subscriber agreement law nonpersonal use order multiple copy contact visit own shake hollywood creative tool raise question right scrutiny court article technology chief preview company leader risk wonder artificial intelligence turn spongebob squarepantsmr wise instruct tool call dalle show spongebob paramount iconic character fly plane image rectangular star appear large tv...</td>\n",
       "      <td>[own, shake, hollywood, creative, foundation, wsjskip, main, copy, personal, noncommercial, use, distribution, use, material, govern, subscriber, agreement, law, nonpersonal, use, order, multiple, copy, contact, visit, own, shake, hollywood, creative, tool, raise, question, right, scrutiny, court, article, technology, chief, preview, company, leader, risk, wonder, artificial, intelligence, turn, spongebob, squarepantsmr, wise, instruct, tool, call, dalle, show, spongebob, paramount, iconic, ...</td>\n",
       "    </tr>\n",
       "    <tr>\n",
       "      <th>38625</th>\n",
       "      <td>auc data science initiative partners mastercard drive impact data science contentyour money carlson side first alert weathersend ustvhomeget news inboxwatch livesend cw richmondstay got hereadvertise money carlson first alert weatherfirst alert weather blog delaysallergy reportdress mental healthon sideacts better mental healthrva wallet towncommunity pet moviesabout usnextgen tvcontact usmeet teamnbc viewpointnbc jobstvwatch livecircle country music dc bureausponsor releasesthe auc data sci...</td>\n",
       "      <td>auc datum science initiative partner mastercard drive impact datum science money carlson side first alert weathersend livesend cw richmondstay get hereadvertise money carlson alert weatherfirst alert weather blog delaysallergy sideact well mental wallet moviesabout usnextgen tvcontact bureausponsor datum science initiative partner mastercard drive impact datum oct edtupdate minute agothrough support expansion datum science education research effort nation historically black college center au...</td>\n",
       "      <td>[auc, datum, science, initiative, partner, mastercard, drive, impact, datum, science, money, carlson, side, first, alert, weathersend, livesend, cw, richmondstay, get, hereadvertise, money, carlson, alert, weatherfirst, alert, weather, blog, delaysallergy, sideact, well, mental, wallet, moviesabout, usnextgen, tvcontact, bureausponsor, datum, science, initiative, partner, mastercard, drive, impact, datum, oct, edtupdate, minute, agothrough, support, expansion, datum, science, education, rese...</td>\n",
       "    </tr>\n",
       "  </tbody>\n",
       "</table>\n",
       "</div>"
      ],
      "text/plain": [
       "                                                                                                                                                                                                                                                                                                                                                                                                                                                                                                               cleaned_text  \\\n",
       "127451  innovative eyewear inc announces release chatgpt app smart eyewear answersyokem ussummer heat safety tipswatch livelatest votecrimeback schoolmind matterssubmit news appwatch livewatch roku amazon firegetting answers photos videosmeet ends meetnews nowgetting votegreat health good stuffkeeping weather weather coveragefirst alert weather safety guidenews salutessenior focussubmit showyour voicequeen school country music dc bureaupress releases weather alerts effectdismiss weather alerts alert...   \n",
       "121872  owns spongebob ai shakes hollywoods creative foundation wsjskip main copy personal noncommercial use distribution use material governed subscriber agreement law nonpersonal use order multiple copies please contact dow jones reprints visit margaret owns spongebob ai shakes hollywoods creative tools raise questions rights scrutiny courts entertainment executivesby jessica toonkel sarah krouseapril etlisten article minuteswhen paramount globals technology chief phil wiser previewed company lead...   \n",
       "38625   auc data science initiative partners mastercard drive impact data science contentyour money carlson side first alert weathersend ustvhomeget news inboxwatch livesend cw richmondstay got hereadvertise money carlson first alert weatherfirst alert weather blog delaysallergy reportdress mental healthon sideacts better mental healthrva wallet towncommunity pet moviesabout usnextgen tvcontact usmeet teamnbc viewpointnbc jobstvwatch livecircle country music dc bureausponsor releasesthe auc data sci...   \n",
       "\n",
       "                                                                                                                                                                                                                                                                                                                                                                                                                                                                                                            lemmatized_text  \\\n",
       "127451  innovative announce release smart eyewear heat safety tipswatch livelat votecrimeback schoolmind matterssubmit news appwatch livewatch roku amazon firegette answer photo videosmeet end votegreat health good stuffkeepe weather weather alert weather safety guidenew focussubmit showyour voicequeen school country music bureaupress release weather alert effectdismiss weather alert alert barinnovative announce release cdtupdate innovative innovative eyewear company excite announce major update com...   \n",
       "121872  own shake hollywood creative foundation wsjskip main copy personal noncommercial use distribution use material govern subscriber agreement law nonpersonal use order multiple copy contact visit own shake hollywood creative tool raise question right scrutiny court article technology chief preview company leader risk wonder artificial intelligence turn spongebob squarepantsmr wise instruct tool call dalle show spongebob paramount iconic character fly plane image rectangular star appear large tv...   \n",
       "38625   auc datum science initiative partner mastercard drive impact datum science money carlson side first alert weathersend livesend cw richmondstay get hereadvertise money carlson alert weatherfirst alert weather blog delaysallergy sideact well mental wallet moviesabout usnextgen tvcontact bureausponsor datum science initiative partner mastercard drive impact datum oct edtupdate minute agothrough support expansion datum science education research effort nation historically black college center au...   \n",
       "\n",
       "                                                                                                                                                                                                                                                                                                                                                                                                                                                                                                          lemma_text_tokens  \n",
       "127451  [innovative, announce, release, smart, eyewear, heat, safety, tipswatch, livelat, votecrimeback, schoolmind, matterssubmit, news, appwatch, livewatch, roku, amazon, firegette, answer, photo, videosmeet, end, votegreat, health, good, stuffkeepe, weather, weather, alert, weather, safety, guidenew, focussubmit, showyour, voicequeen, school, country, music, bureaupress, release, weather, alert, effectdismiss, weather, alert, alert, barinnovative, announce, release, cdtupdate, innovative, innovat...  \n",
       "121872  [own, shake, hollywood, creative, foundation, wsjskip, main, copy, personal, noncommercial, use, distribution, use, material, govern, subscriber, agreement, law, nonpersonal, use, order, multiple, copy, contact, visit, own, shake, hollywood, creative, tool, raise, question, right, scrutiny, court, article, technology, chief, preview, company, leader, risk, wonder, artificial, intelligence, turn, spongebob, squarepantsmr, wise, instruct, tool, call, dalle, show, spongebob, paramount, iconic, ...  \n",
       "38625   [auc, datum, science, initiative, partner, mastercard, drive, impact, datum, science, money, carlson, side, first, alert, weathersend, livesend, cw, richmondstay, get, hereadvertise, money, carlson, alert, weatherfirst, alert, weather, blog, delaysallergy, sideact, well, mental, wallet, moviesabout, usnextgen, tvcontact, bureausponsor, datum, science, initiative, partner, mastercard, drive, impact, datum, oct, edtupdate, minute, agothrough, support, expansion, datum, science, education, rese...  "
      ]
     },
     "execution_count": 10,
     "metadata": {},
     "output_type": "execute_result"
    }
   ],
   "source": [
    "sample_df[['cleaned_text', 'lemmatized_text', 'lemma_text_tokens']].sample(n = 3, random_state = 42)"
   ]
  },
  {
   "cell_type": "markdown",
   "id": "88be1466-eb08-4c66-b7b1-eb06df5c2078",
   "metadata": {},
   "source": [
    "Because news title"
   ]
  },
  {
   "cell_type": "markdown",
   "id": "74f39d74-c3f3-4607-baf4-26fd4ce19d86",
   "metadata": {},
   "source": [
    "##### Creating Dictionary and Corpus"
   ]
  },
  {
   "cell_type": "code",
   "execution_count": 11,
   "id": "a570e2ad-8d69-41ee-ad4e-50047ca1c841",
   "metadata": {},
   "outputs": [],
   "source": [
    "# Get the list of lemmatizeed text tokens\n",
    "lemma_text_tokens_list = sample_df['lemma_text_tokens'].tolist()"
   ]
  },
  {
   "cell_type": "code",
   "execution_count": 12,
   "id": "0920e78b-7e22-4866-bc41-910a41067fbd",
   "metadata": {},
   "outputs": [
    {
     "name": "stdout",
     "output_type": "stream",
     "text": [
      "CPU times: user 9.66 s, sys: 596 ms, total: 10.3 s\n",
      "Wall time: 10.3 s\n"
     ]
    }
   ],
   "source": [
    "%%time\n",
    "\n",
    "# Creating the term dictionary of our courpus, where every unique term is assigned an index. \n",
    "dictionary = corpora.Dictionary(lemma_text_tokens_list)\n",
    "\n",
    "# Converting list of documents (corpus) into Document Term Matrix using dictionary prepared above.\n",
    "doc_term_matrix = [dictionary.doc2bow(doc) for doc in lemma_text_tokens_list]"
   ]
  },
  {
   "cell_type": "markdown",
   "id": "3e130555-3d8d-4c9c-8cbb-d9571e79dfed",
   "metadata": {},
   "source": [
    "##### Building the Initial LDA Model - 10 topics"
   ]
  },
  {
   "cell_type": "code",
   "execution_count": 13,
   "id": "46a5241a-d17c-4a17-b6b9-e556f37ef9bf",
   "metadata": {},
   "outputs": [
    {
     "name": "stdout",
     "output_type": "stream",
     "text": [
      "CPU times: user 1min 50s, sys: 1min 7s, total: 2min 58s\n",
      "Wall time: 1min 34s\n"
     ]
    }
   ],
   "source": [
    "%%time\n",
    "\n",
    "lda_model_text = LdaMulticore(corpus=doc_term_matrix,\n",
    "                   id2word=dictionary,\n",
    "                   num_topics=10,\n",
    "                   random_state=100,\n",
    "                   passes=10,\n",
    "                   alpha='symmetric',\n",
    "                   eta='auto',\n",
    "                   workers=num_processors-1)"
   ]
  },
  {
   "cell_type": "code",
   "execution_count": 14,
   "id": "5437ab7f-d1df-4d4a-842f-e2c29774a39e",
   "metadata": {},
   "outputs": [
    {
     "name": "stdout",
     "output_type": "stream",
     "text": [
      "[(0, '0.011*\"new\" + 0.010*\"ai\" + 0.008*\"use\" + 0.007*\"news\" + 0.006*\"good\" + 0.005*\"open\" + 0.005*\"get\" + 0.004*\"review\" + 0.004*\"game\" + 0.004*\"tech\"'), (1, '0.015*\"stock\" + 0.008*\"company\" + 0.007*\"ai\" + 0.007*\"market\" + 0.006*\"news\" + 0.006*\"business\" + 0.006*\"say\" + 0.004*\"good\" + 0.004*\"program\" + 0.004*\"technology\"'), (2, '0.014*\"ai\" + 0.011*\"say\" + 0.009*\"use\" + 0.006*\"new\" + 0.005*\"make\" + 0.005*\"technology\" + 0.005*\"news\" + 0.004*\"intelligence\" + 0.004*\"chatgpt\" + 0.004*\"get\"'), (3, '0.018*\"datum\" + 0.017*\"ai\" + 0.009*\"use\" + 0.008*\"learn\" + 0.008*\"machine\" + 0.006*\"model\" + 0.006*\"business\" + 0.005*\"technology\" + 0.005*\"customer\" + 0.004*\"service\"'), (4, '0.017*\"ago\" + 0.012*\"hour\" + 0.012*\"news\" + 0.009*\"video\" + 0.008*\"say\" + 0.008*\"story\" + 0.008*\"weather\" + 0.008*\"ai\" + 0.006*\"day\" + 0.006*\"sport\"'), (5, '0.019*\"ai\" + 0.010*\"technology\" + 0.007*\"company\" + 0.006*\"market\" + 0.005*\"new\" + 0.005*\"news\" + 0.005*\"datum\" + 0.005*\"use\" + 0.005*\"business\" + 0.004*\"intelligence\"'), (6, '0.013*\"use\" + 0.010*\"cookie\" + 0.007*\"website\" + 0.007*\"ai\" + 0.005*\"business\" + 0.004*\"information\" + 0.004*\"technology\" + 0.004*\"help\" + 0.004*\"company\" + 0.004*\"cancer\"'), (7, '0.067*\"market\" + 0.022*\"report\" + 0.017*\"analysis\" + 0.015*\"global\" + 0.015*\"intelligence\" + 0.014*\"growth\" + 0.014*\"artificial\" + 0.013*\"ai\" + 0.012*\"industry\" + 0.011*\"research\"'), (8, '0.016*\"market\" + 0.013*\"product\" + 0.012*\"service\" + 0.010*\"technology\" + 0.010*\"business\" + 0.009*\"intelligence\" + 0.009*\"ai\" + 0.008*\"artificial\" + 0.008*\"release\" + 0.008*\"entertainment\"'), (9, '0.022*\"ai\" + 0.008*\"technology\" + 0.007*\"gray\" + 0.007*\"customer\" + 0.007*\"solution\" + 0.007*\"company\" + 0.007*\"release\" + 0.007*\"provide\" + 0.006*\"medium\" + 0.006*\"press\"')]\n"
     ]
    }
   ],
   "source": [
    "# Print the Keyword in the 10 topics\n",
    "print(lda_model_text.print_topics())\n",
    "doc_lda = lda_model_text[doc_term_matrix]"
   ]
  },
  {
   "cell_type": "code",
   "execution_count": 15,
   "id": "72329ec2-179a-45dd-b494-f42b2ae6aae1",
   "metadata": {},
   "outputs": [
    {
     "name": "stdout",
     "output_type": "stream",
     "text": [
      "\n",
      "Coherence Score:  0.39548493872020707\n",
      "CPU times: user 10.3 s, sys: 11.3 s, total: 21.6 s\n",
      "Wall time: 22.8 s\n"
     ]
    }
   ],
   "source": [
    "%%time\n",
    "\n",
    "coherence_model_lda_text = CoherenceModel(model=lda_model_text, texts=lemma_text_tokens_list, dictionary=dictionary, coherence='c_v')\n",
    "coherence_lda = coherence_model_lda_text.get_coherence()\n",
    "print('\\nCoherence Score: ', coherence_lda)"
   ]
  },
  {
   "cell_type": "markdown",
   "id": "3fa9d23d-115f-4e34-a050-25d8b7681a10",
   "metadata": {},
   "source": [
    "##### Tune LDA model"
   ]
  },
  {
   "cell_type": "code",
   "execution_count": 16,
   "id": "5b342fa3-b933-45e0-949a-2cc3870b1a67",
   "metadata": {
    "tags": []
   },
   "outputs": [],
   "source": [
    "# supporting function\n",
    "def compute_coherence_values(corpus, dictionary, k, a, b):\n",
    "    \n",
    "    lda_model = LdaMulticore(corpus=doc_term_matrix,\n",
    "                       id2word=dictionary,\n",
    "                       num_topics=k,\n",
    "                       random_state=100,                  \n",
    "                       passes=10,\n",
    "                       alpha=a,\n",
    "                       eta=b,\n",
    "                       workers=num_processors-1)\n",
    "    \n",
    "    coherence_model_lda = CoherenceModel(model=lda_model, texts=lemma_text_tokens_list, dictionary=dictionary, coherence='c_v')\n",
    "    \n",
    "    return coherence_model_lda.get_coherence()"
   ]
  },
  {
   "cell_type": "code",
   "execution_count": 17,
   "id": "6a3d20d5-81a8-4fdc-83db-824572d3d890",
   "metadata": {},
   "outputs": [
    {
     "name": "stdout",
     "output_type": "stream",
     "text": [
      "LDA will execute 19 iterations\n",
      "Completed model based on 2 LDA topics. Finished 5.3% of LDA runs\n",
      "Completed model based on 3 LDA topics. Finished 10.5% of LDA runs\n",
      "Completed model based on 4 LDA topics. Finished 15.8% of LDA runs\n",
      "Completed model based on 5 LDA topics. Finished 21.1% of LDA runs\n",
      "Completed model based on 6 LDA topics. Finished 26.3% of LDA runs\n",
      "Completed model based on 7 LDA topics. Finished 31.6% of LDA runs\n",
      "Completed model based on 8 LDA topics. Finished 36.8% of LDA runs\n",
      "Completed model based on 9 LDA topics. Finished 42.1% of LDA runs\n",
      "Completed model based on 10 LDA topics. Finished 47.4% of LDA runs\n",
      "Completed model based on 11 LDA topics. Finished 52.6% of LDA runs\n",
      "Completed model based on 12 LDA topics. Finished 57.9% of LDA runs\n",
      "Completed model based on 13 LDA topics. Finished 63.2% of LDA runs\n",
      "Completed model based on 14 LDA topics. Finished 68.4% of LDA runs\n",
      "Completed model based on 15 LDA topics. Finished 73.7% of LDA runs\n",
      "Completed model based on 16 LDA topics. Finished 78.9% of LDA runs\n",
      "Completed model based on 17 LDA topics. Finished 84.2% of LDA runs\n",
      "Completed model based on 18 LDA topics. Finished 89.5% of LDA runs\n",
      "Completed model based on 19 LDA topics. Finished 94.7% of LDA runs\n",
      "Completed model based on 20 LDA topics. Finished 100.0% of LDA runs\n",
      "CPU times: user 5h 59min 56s, sys: 7h 3min 9s, total: 13h 3min 5s\n",
      "Wall time: 1h 32min 40s\n"
     ]
    }
   ],
   "source": [
    "%%time\n",
    "\n",
    "grid = {}\n",
    "grid['Validation_Set'] = {}\n",
    "# Topics range\n",
    "min_topics = 2\n",
    "max_topics = 20\n",
    "step_size = 1\n",
    "topics_range = range(min_topics, max_topics+1, step_size)\n",
    "\n",
    "# Alpha parameter\n",
    "alpha = ['asymmetric'] # Run for number of topics only\n",
    "\n",
    "# Beta parameter\n",
    "beta = ['auto'] # Run for number of topics only\n",
    "\n",
    "\n",
    "# Validation sets\n",
    "num_of_docs = len(doc_term_matrix)\n",
    "corpus_sets = [doc_term_matrix]\n",
    "corpus_title = ['100% Corpus']\n",
    "model_results = {\n",
    "                 'Topics': [],\n",
    "                 'Alpha': [],\n",
    "                 'Beta': [],\n",
    "                 'Coherence': []\n",
    "                }\n",
    "\n",
    "itr = 0\n",
    "itr_total = len(beta)*len(alpha)*len(topics_range)*len(corpus_title)\n",
    "print(f'LDA will execute {itr_total} iterations')\n",
    "\n",
    "    \n",
    "# iterate through hyperparameters\n",
    "for i in range(len(corpus_sets)):\n",
    "    # iterate through number of topics\n",
    "    for k in topics_range:\n",
    "        for a in alpha:\n",
    "            for b in beta:\n",
    "                itr += 1\n",
    "                cv = compute_coherence_values(corpus=corpus_sets[i], dictionary=dictionary, \n",
    "                                              k=k, a=a, b=b)\n",
    "                model_results['Topics'].append(k)\n",
    "                model_results['Alpha'].append(a)\n",
    "                model_results['Beta'].append(b)\n",
    "                model_results['Coherence'].append(cv)\n",
    "                pct_completed = round((itr / itr_total * 100),1)\n",
    "        print(f'Completed model based on {k} LDA topics. Finished {pct_completed}% of LDA runs')\n",
    "                    \n",
    "lda_tuning = pd.DataFrame(model_results)"
   ]
  },
  {
   "cell_type": "code",
   "execution_count": 18,
   "id": "fe6f4678-d31c-416f-b283-f953f28941be",
   "metadata": {
    "tags": []
   },
   "outputs": [
    {
     "data": {
      "text/html": [
       "<div>\n",
       "<style scoped>\n",
       "    .dataframe tbody tr th:only-of-type {\n",
       "        vertical-align: middle;\n",
       "    }\n",
       "\n",
       "    .dataframe tbody tr th {\n",
       "        vertical-align: top;\n",
       "    }\n",
       "\n",
       "    .dataframe thead th {\n",
       "        text-align: right;\n",
       "    }\n",
       "</style>\n",
       "<table border=\"1\" class=\"dataframe\">\n",
       "  <thead>\n",
       "    <tr style=\"text-align: right;\">\n",
       "      <th></th>\n",
       "      <th>Topics</th>\n",
       "      <th>Alpha</th>\n",
       "      <th>Beta</th>\n",
       "      <th>Coherence</th>\n",
       "    </tr>\n",
       "  </thead>\n",
       "  <tbody>\n",
       "    <tr>\n",
       "      <th>4</th>\n",
       "      <td>6</td>\n",
       "      <td>asymmetric</td>\n",
       "      <td>auto</td>\n",
       "      <td>0.422181</td>\n",
       "    </tr>\n",
       "    <tr>\n",
       "      <th>11</th>\n",
       "      <td>13</td>\n",
       "      <td>asymmetric</td>\n",
       "      <td>auto</td>\n",
       "      <td>0.418410</td>\n",
       "    </tr>\n",
       "    <tr>\n",
       "      <th>6</th>\n",
       "      <td>8</td>\n",
       "      <td>asymmetric</td>\n",
       "      <td>auto</td>\n",
       "      <td>0.415701</td>\n",
       "    </tr>\n",
       "    <tr>\n",
       "      <th>10</th>\n",
       "      <td>12</td>\n",
       "      <td>asymmetric</td>\n",
       "      <td>auto</td>\n",
       "      <td>0.414638</td>\n",
       "    </tr>\n",
       "    <tr>\n",
       "      <th>7</th>\n",
       "      <td>9</td>\n",
       "      <td>asymmetric</td>\n",
       "      <td>auto</td>\n",
       "      <td>0.408925</td>\n",
       "    </tr>\n",
       "    <tr>\n",
       "      <th>5</th>\n",
       "      <td>7</td>\n",
       "      <td>asymmetric</td>\n",
       "      <td>auto</td>\n",
       "      <td>0.407321</td>\n",
       "    </tr>\n",
       "    <tr>\n",
       "      <th>16</th>\n",
       "      <td>18</td>\n",
       "      <td>asymmetric</td>\n",
       "      <td>auto</td>\n",
       "      <td>0.405840</td>\n",
       "    </tr>\n",
       "    <tr>\n",
       "      <th>14</th>\n",
       "      <td>16</td>\n",
       "      <td>asymmetric</td>\n",
       "      <td>auto</td>\n",
       "      <td>0.404696</td>\n",
       "    </tr>\n",
       "    <tr>\n",
       "      <th>13</th>\n",
       "      <td>15</td>\n",
       "      <td>asymmetric</td>\n",
       "      <td>auto</td>\n",
       "      <td>0.404164</td>\n",
       "    </tr>\n",
       "    <tr>\n",
       "      <th>12</th>\n",
       "      <td>14</td>\n",
       "      <td>asymmetric</td>\n",
       "      <td>auto</td>\n",
       "      <td>0.404080</td>\n",
       "    </tr>\n",
       "  </tbody>\n",
       "</table>\n",
       "</div>"
      ],
      "text/plain": [
       "    Topics       Alpha  Beta  Coherence\n",
       "4        6  asymmetric  auto   0.422181\n",
       "11      13  asymmetric  auto   0.418410\n",
       "6        8  asymmetric  auto   0.415701\n",
       "10      12  asymmetric  auto   0.414638\n",
       "7        9  asymmetric  auto   0.408925\n",
       "5        7  asymmetric  auto   0.407321\n",
       "16      18  asymmetric  auto   0.405840\n",
       "14      16  asymmetric  auto   0.404696\n",
       "13      15  asymmetric  auto   0.404164\n",
       "12      14  asymmetric  auto   0.404080"
      ]
     },
     "execution_count": 18,
     "metadata": {},
     "output_type": "execute_result"
    }
   ],
   "source": [
    "# Best LDA parameters\n",
    "lda_tuning.sort_values(by=['Coherence'], ascending=False).head(10)"
   ]
  },
  {
   "cell_type": "code",
   "execution_count": 19,
   "id": "ed2eab49-fcf9-40ef-b7f0-afcb5786c1c9",
   "metadata": {
    "tags": []
   },
   "outputs": [
    {
     "data": {
      "text/plain": [
       "<AxesSubplot:xlabel='Topics'>"
      ]
     },
     "execution_count": 19,
     "metadata": {},
     "output_type": "execute_result"
    },
    {
     "data": {
      "image/png": "[encoded data removed]",
      "text/plain": [
       "<Figure size 640x480 with 1 Axes>"
      ]
     },
     "metadata": {},
     "output_type": "display_data"
    }
   ],
   "source": [
    "lda_tuning.plot(x ='Topics', y='Coherence', kind = 'line', xticks=range(1,20))"
   ]
  },
  {
   "cell_type": "markdown",
   "id": "5e707063-36a8-47f0-af84-f8876ed18dae",
   "metadata": {
    "tags": []
   },
   "source": [
    "##### Running best model"
   ]
  },
  {
   "cell_type": "code",
   "execution_count": 20,
   "id": "41888241-000e-4bb8-b22c-f16651c6b074",
   "metadata": {
    "tags": []
   },
   "outputs": [
    {
     "name": "stdout",
     "output_type": "stream",
     "text": [
      "Best Parameters: Topics: 6, Alpha: asymmetric, Beta: auto\n"
     ]
    }
   ],
   "source": [
    "lda_tuning_best = lda_tuning.sort_values(by=['Coherence'], ascending=False).head(1)\n",
    "\n",
    "tuned_topics = int(lda_tuning_best['Topics'].to_string(index=False))\n",
    "\n",
    "\n",
    "# Since the values for Alpha and Beta can be float, symmetric and asymmetric, we will either strip or convert to float\n",
    "try:\n",
    "    tuned_alpha = float(lda_tuning_best['Alpha'].to_string(index=False))\n",
    "except:\n",
    "    tuned_alpha = lda_tuning_best['Alpha'].to_string(index=False).strip()\n",
    "    \n",
    "\n",
    "try:\n",
    "    tuned_beta = float(lda_tuning_best['Beta'].to_string(index=False))\n",
    "except:\n",
    "    tuned_beta = lda_tuning_best['Beta'].to_string(index=False).strip()    \n",
    "    \n",
    "print(f'Best Parameters: Topics: {tuned_topics}, Alpha: {tuned_alpha}, Beta: {tuned_beta}')"
   ]
  },
  {
   "cell_type": "code",
   "execution_count": 21,
   "id": "f78b1a96-ba32-42c0-9ada-1a51157c864c",
   "metadata": {
    "tags": []
   },
   "outputs": [
    {
     "name": "stdout",
     "output_type": "stream",
     "text": [
      "[(0, '0.011*\"ai\" + 0.011*\"use\" + 0.008*\"new\" + 0.005*\"datum\" + 0.005*\"news\" + 0.005*\"good\" + 0.004*\"cookie\" + 0.004*\"business\" + 0.004*\"user\" + 0.004*\"get\"'), (1, '0.010*\"stock\" + 0.009*\"technology\" + 0.009*\"service\" + 0.008*\"business\" + 0.008*\"news\" + 0.008*\"product\" + 0.007*\"ai\" + 0.007*\"release\" + 0.007*\"medium\" + 0.006*\"policy\"'), (2, '0.014*\"ai\" + 0.011*\"say\" + 0.008*\"use\" + 0.006*\"new\" + 0.005*\"make\" + 0.005*\"technology\" + 0.004*\"news\" + 0.004*\"company\" + 0.004*\"intelligence\" + 0.004*\"get\"'), (3, '0.057*\"market\" + 0.018*\"report\" + 0.015*\"intelligence\" + 0.014*\"analysis\" + 0.014*\"artificial\" + 0.013*\"global\" + 0.013*\"ai\" + 0.012*\"growth\" + 0.010*\"industry\" + 0.010*\"research\"'), (4, '0.014*\"ago\" + 0.011*\"news\" + 0.010*\"hour\" + 0.008*\"ai\" + 0.008*\"video\" + 0.007*\"say\" + 0.007*\"story\" + 0.006*\"weather\" + 0.006*\"day\" + 0.005*\"use\"'), (5, '0.022*\"ai\" + 0.009*\"technology\" + 0.007*\"company\" + 0.006*\"solution\" + 0.006*\"datum\" + 0.006*\"provide\" + 0.005*\"customer\" + 0.005*\"use\" + 0.005*\"business\" + 0.005*\"medium\"')]\n",
      "CPU times: user 1min 11s, sys: 25.3 s, total: 1min 36s\n",
      "Wall time: 1min 24s\n"
     ]
    }
   ],
   "source": [
    "%%time\n",
    "\n",
    "tuned_lda_model_text = LdaMulticore(corpus=doc_term_matrix,\n",
    "                       id2word=dictionary,\n",
    "                       num_topics=tuned_topics,\n",
    "                       random_state=100,\n",
    "                       passes=10,\n",
    "                       alpha=tuned_alpha,\n",
    "                       eta=tuned_beta,\n",
    "                       workers = num_processors-1)\n",
    "\n",
    "print(tuned_lda_model_text.print_topics())"
   ]
  },
  {
   "cell_type": "code",
   "execution_count": 22,
   "id": "84a741e0-f410-427f-b4c4-e2b76f910a42",
   "metadata": {},
   "outputs": [
    {
     "name": "stdout",
     "output_type": "stream",
     "text": [
      "\n",
      "Coherence Score:  Coherence_Measure(seg=<function s_one_set at 0x7f14e43c33b0>, prob=<function p_boolean_sliding_window at 0x7f14e43c3a70>, conf=<function cosine_similarity at 0x7f14e431e320>, aggr=<function arithmetic_mean at 0x7f14e431cef0>)\n"
     ]
    }
   ],
   "source": [
    "coherence_tuned_model_lda = CoherenceModel(model=tuned_lda_model_text, texts=lemma_text_tokens_list, dictionary=dictionary, coherence='c_v')\n",
    "print('\\nCoherence Score: ', coherence_tuned_model_lda)"
   ]
  },
  {
   "cell_type": "code",
   "execution_count": 30,
   "id": "1f93b12d-4db3-46b0-a1bf-dbc687d735fa",
   "metadata": {},
   "outputs": [
    {
     "data": {
      "text/html": [
       "<div>\n",
       "<style scoped>\n",
       "    .dataframe tbody tr th:only-of-type {\n",
       "        vertical-align: middle;\n",
       "    }\n",
       "\n",
       "    .dataframe tbody tr th {\n",
       "        vertical-align: top;\n",
       "    }\n",
       "\n",
       "    .dataframe thead th {\n",
       "        text-align: right;\n",
       "    }\n",
       "</style>\n",
       "<table border=\"1\" class=\"dataframe\">\n",
       "  <thead>\n",
       "    <tr style=\"text-align: right;\">\n",
       "      <th></th>\n",
       "      <th>Topic</th>\n",
       "      <th>Words</th>\n",
       "    </tr>\n",
       "  </thead>\n",
       "  <tbody>\n",
       "    <tr>\n",
       "      <th>0</th>\n",
       "      <td>0</td>\n",
       "      <td>ai, use, new, datum, news, good, cookie, business, user, get, model, make, also, open, say, work, learn, policy, company, technology, feature, privacy, see, information, time</td>\n",
       "    </tr>\n",
       "    <tr>\n",
       "      <th>1</th>\n",
       "      <td>1</td>\n",
       "      <td>stock, technology, service, business, news, product, ai, release, medium, policy, company, consumer, entertainment, resource, financial, industry, market, health, public, contact, energy, overview, new, electronic, general</td>\n",
       "    </tr>\n",
       "    <tr>\n",
       "      <th>2</th>\n",
       "      <td>2</td>\n",
       "      <td>ai, say, use, new, make, technology, news, company, intelligence, get, also, artificial, work, chatgpt, year, people, time, day, video, help, world, business, take, go, right</td>\n",
       "    </tr>\n",
       "    <tr>\n",
       "      <th>3</th>\n",
       "      <td>3</td>\n",
       "      <td>market, report, intelligence, analysis, artificial, global, ai, growth, industry, research, forecast, datum, key, trend, player, business, size, company, application, machine, service, product, learn, top, technology</td>\n",
       "    </tr>\n",
       "    <tr>\n",
       "      <th>4</th>\n",
       "      <td>4</td>\n",
       "      <td>ago, news, hour, ai, video, say, story, weather, day, use, sport, local, public, get, top, file, new, technology, business, app, report, intelligence, community, company, job</td>\n",
       "    </tr>\n",
       "    <tr>\n",
       "      <th>5</th>\n",
       "      <td>5</td>\n",
       "      <td>ai, technology, company, solution, datum, provide, customer, use, business, medium, gray, new, release, platform, press, help, group, service, content, learn, say, include, experience, product, industry</td>\n",
       "    </tr>\n",
       "  </tbody>\n",
       "</table>\n",
       "</div>"
      ],
      "text/plain": [
       "   Topic  \\\n",
       "0      0   \n",
       "1      1   \n",
       "2      2   \n",
       "3      3   \n",
       "4      4   \n",
       "5      5   \n",
       "\n",
       "                                                                                                                                                                                                                            Words  \n",
       "0                                                  ai, use, new, datum, news, good, cookie, business, user, get, model, make, also, open, say, work, learn, policy, company, technology, feature, privacy, see, information, time  \n",
       "1  stock, technology, service, business, news, product, ai, release, medium, policy, company, consumer, entertainment, resource, financial, industry, market, health, public, contact, energy, overview, new, electronic, general  \n",
       "2                                                  ai, say, use, new, make, technology, news, company, intelligence, get, also, artificial, work, chatgpt, year, people, time, day, video, help, world, business, take, go, right  \n",
       "3        market, report, intelligence, analysis, artificial, global, ai, growth, industry, research, forecast, datum, key, trend, player, business, size, company, application, machine, service, product, learn, top, technology  \n",
       "4                                                  ago, news, hour, ai, video, say, story, weather, day, use, sport, local, public, get, top, file, new, technology, business, app, report, intelligence, community, company, job  \n",
       "5                      ai, technology, company, solution, datum, provide, customer, use, business, medium, gray, new, release, platform, press, help, group, service, content, learn, say, include, experience, product, industry  "
      ]
     },
     "execution_count": 30,
     "metadata": {},
     "output_type": "execute_result"
    }
   ],
   "source": [
    "# Parsing the topic words and creating a list of dictionaries\n",
    "topics_dicts = [{'Topic': topic_num, 'Words': ', '.join(words.split('\"')[1::2])} for topic_num, words in topics]\n",
    "\n",
    "# Creating a DataFrame\n",
    "topics_df = pd.DataFrame(topics_dicts)\n",
    "\n",
    "topics_df"
   ]
  },
  {
   "cell_type": "code",
   "execution_count": 28,
   "id": "002152f8-d9ea-4b15-9fbd-dc0aedc472a6",
   "metadata": {},
   "outputs": [
    {
     "data": {
      "text/html": [
       "<div>\n",
       "<style scoped>\n",
       "    .dataframe tbody tr th:only-of-type {\n",
       "        vertical-align: middle;\n",
       "    }\n",
       "\n",
       "    .dataframe tbody tr th {\n",
       "        vertical-align: top;\n",
       "    }\n",
       "\n",
       "    .dataframe thead th {\n",
       "        text-align: right;\n",
       "    }\n",
       "</style>\n",
       "<table border=\"1\" class=\"dataframe\">\n",
       "  <thead>\n",
       "    <tr style=\"text-align: right;\">\n",
       "      <th></th>\n",
       "      <th>Topic</th>\n",
       "      <th>Words</th>\n",
       "    </tr>\n",
       "  </thead>\n",
       "  <tbody>\n",
       "    <tr>\n",
       "      <th>0</th>\n",
       "      <td>0</td>\n",
       "      <td>ai, use, new, datum, news, good, cookie, business, user, get, model, make, also, open, say, work, learn, policy, company, technology, feature, privacy, see, information, time, well, tech, event, content, review, intelligence, help, website, service, artificial, image, product, machine, game, tool, system, follow, contact, create, chatgpt, video, need, app, term, late</td>\n",
       "    </tr>\n",
       "    <tr>\n",
       "      <th>1</th>\n",
       "      <td>1</td>\n",
       "      <td>stock, technology, service, business, news, product, ai, release, medium, policy, company, consumer, entertainment, resource, financial, industry, market, health, public, contact, energy, overview, new, electronic, general, real, datum, cision, estate, invest, sign, people, use, tech, send, travel, interest, blog, distribution, log, computer, information, culture, rss, sport, intelligence, fund, overviewview, investment, journalist</td>\n",
       "    </tr>\n",
       "    <tr>\n",
       "      <th>2</th>\n",
       "      <td>2</td>\n",
       "      <td>ai, say, use, new, make, technology, news, company, intelligence, get, also, artificial, work, chatgpt, year, people, time, day, video, help, world, business, take, go, right, tool, tech, see, read, image, privacy, late, story, human, policy, create, model, find, know, write, first, system, need, way, s, come, user, good, show, include</td>\n",
       "    </tr>\n",
       "    <tr>\n",
       "      <th>3</th>\n",
       "      <td>3</td>\n",
       "      <td>market, report, intelligence, analysis, artificial, global, ai, growth, industry, research, forecast, datum, key, trend, player, business, size, company, application, machine, service, product, learn, top, technology, provide, study, opportunity, revenue, segment, impact, also, region, type, include, development, covid, news, system, use, software, insight, information, demand, future, contact, post, strategy, new, help</td>\n",
       "    </tr>\n",
       "    <tr>\n",
       "      <th>4</th>\n",
       "      <td>4</td>\n",
       "      <td>ago, news, hour, ai, video, say, story, weather, day, use, sport, local, public, get, top, file, new, technology, business, app, report, intelligence, community, company, job, artificial, year, watch, live, post, right, make, term, update, play, contact, schedule, school, week, work, read, information, alert, close, show, program, people, good, team, help</td>\n",
       "    </tr>\n",
       "    <tr>\n",
       "      <th>5</th>\n",
       "      <td>5</td>\n",
       "      <td>ai, technology, company, solution, datum, provide, customer, use, business, medium, gray, new, release, platform, press, help, group, service, content, learn, say, include, experience, product, industry, artificial, intelligence, lead, alert, generative, statement, view, team, digital, system, information, model, news, make, health, work, support, enable, world, global, organization, deliver, create, year, well</td>\n",
       "    </tr>\n",
       "  </tbody>\n",
       "</table>\n",
       "</div>"
      ],
      "text/plain": [
       "   Topic  \\\n",
       "0      0   \n",
       "1      1   \n",
       "2      2   \n",
       "3      3   \n",
       "4      4   \n",
       "5      5   \n",
       "\n",
       "                                                                                                                                                                                                                                                                                                                                                                                                                                                 Words  \n",
       "0                                                                    ai, use, new, datum, news, good, cookie, business, user, get, model, make, also, open, say, work, learn, policy, company, technology, feature, privacy, see, information, time, well, tech, event, content, review, intelligence, help, website, service, artificial, image, product, machine, game, tool, system, follow, contact, create, chatgpt, video, need, app, term, late  \n",
       "1  stock, technology, service, business, news, product, ai, release, medium, policy, company, consumer, entertainment, resource, financial, industry, market, health, public, contact, energy, overview, new, electronic, general, real, datum, cision, estate, invest, sign, people, use, tech, send, travel, interest, blog, distribution, log, computer, information, culture, rss, sport, intelligence, fund, overviewview, investment, journalist  \n",
       "2                                                                                                    ai, say, use, new, make, technology, news, company, intelligence, get, also, artificial, work, chatgpt, year, people, time, day, video, help, world, business, take, go, right, tool, tech, see, read, image, privacy, late, story, human, policy, create, model, find, know, write, first, system, need, way, s, come, user, good, show, include  \n",
       "3              market, report, intelligence, analysis, artificial, global, ai, growth, industry, research, forecast, datum, key, trend, player, business, size, company, application, machine, service, product, learn, top, technology, provide, study, opportunity, revenue, segment, impact, also, region, type, include, development, covid, news, system, use, software, insight, information, demand, future, contact, post, strategy, new, help  \n",
       "4                                                                                ago, news, hour, ai, video, say, story, weather, day, use, sport, local, public, get, top, file, new, technology, business, app, report, intelligence, community, company, job, artificial, year, watch, live, post, right, make, term, update, play, contact, schedule, school, week, work, read, information, alert, close, show, program, people, good, team, help  \n",
       "5                       ai, technology, company, solution, datum, provide, customer, use, business, medium, gray, new, release, platform, press, help, group, service, content, learn, say, include, experience, product, industry, artificial, intelligence, lead, alert, generative, statement, view, team, digital, system, information, model, news, make, health, work, support, enable, world, global, organization, deliver, create, year, well  "
      ]
     },
     "execution_count": 28,
     "metadata": {},
     "output_type": "execute_result"
    }
   ],
   "source": [
    "topics = tuned_lda_model_text.print_topics(num_topics=19, num_words=25)\n",
    "\n",
    "# Process each topic to create a DataFrame\n",
    "topic_dicts = []\n",
    "\n",
    "for topic_num, topic_words in topics:\n",
    "    # Process the string of words to extract individual words\n",
    "    word_list = [word for word, prob in gensim.models.ldamodel.LdaModel.show_topic(tuned_lda_model_text, topic_num, topn=50)]\n",
    "    \n",
    "    # Create a dictionary with topic number and words\n",
    "    topic_dict = {'Topic': topic_num, 'Words': ', '.join(word_list)}\n",
    "    \n",
    "    # Append to the list of topic dictionaries\n",
    "    topic_dicts.append(topic_dict)\n",
    "\n",
    "# Create a DataFrame from the list of topic dictionaries\n",
    "topics_df = pd.DataFrame(topic_dicts)\n",
    "\n",
    "topics_df"
   ]
  },
  {
   "cell_type": "code",
   "execution_count": 29,
   "id": "dea99049-9231-4cf1-9917-b77c2402f17f",
   "metadata": {},
   "outputs": [],
   "source": [
    "topics_df.to_csv('sample_topics_text.csv')\n",
    "\n",
    "bucket_name = 'minhvo-nlp-final'\n",
    "file_path = 'sample_topics_text.csv'\n",
    "\n",
    "storage_client = storage.Client()\n",
    "bucket = storage_client.get_bucket(bucket_name)\n",
    "blob = bucket.blob(file_path)\n",
    "blob.upload_from_filename(file_path)"
   ]
  },
  {
   "cell_type": "code",
   "execution_count": 24,
   "id": "48d7c031-df30-4ae8-9b94-7e2327edb142",
   "metadata": {
    "tags": []
   },
   "outputs": [
    {
     "name": "stdout",
     "output_type": "stream",
     "text": [
      "CPU times: user 9.84 s, sys: 256 ms, total: 10.1 s\n",
      "Wall time: 13.6 s\n"
     ]
    },
    {
     "data": {
      "text/html": [
       "\n",
       "<link rel=\"stylesheet\" type=\"text/css\" href=\"https://cdn.jsdelivr.net/gh/bmabey/pyLDAvis@3.3.1/pyLDAvis/js/ldavis.v1.0.0.css\">\n",
       "\n",
       "\n",
       "<div id=\"ldavis_el9561397050342933281882614770\"></div>\n",
       "<script type=\"text/javascript\">\n",
       "\n",
       "var ldavis_el9561397050342933281882614770_data = {\"mdsDat\": {\"x\": [-0.026352255097274964, 0.11721163049183156, -0.06662613206241305, 0.06203783910044851, -0.017576746701565456, -0.06869433573102657], \"y\": [0.017391995719205154, 0.022879372390758622, 0.06379164047182284, -0.1503750846100716, 0.12466028824841949, -0.07834821222013452], \"topics\": [1, 2, 3, 4, 5, 6], \"cluster\": [1, 1, 1, 1, 1, 1], \"Freq\": [14.874273779156248, 10.50516372625953, 24.787708446734538, 11.573493303585058, 12.241967353125986, 26.017393391138626]}, \"tinfo\": {\"Term\": [\"market\", \"ago\", \"report\", \"analysis\", \"global\", \"growth\", \"intelligence\", \"stock\", \"hour\", \"artificial\", \"forecast\", \"industry\", \"research\", \"news\", \"key\", \"player\", \"weather\", \"product\", \"trend\", \"size\", \"gray\", \"video\", \"service\", \"release\", \"story\", \"say\", \"datum\", \"entertainment\", \"business\", \"consumer\", \"wedgefalling\", \"btcethereum\", \"bottomrise\", \"nzdcanadian\", \"adaripple\", \"volvolume\", \"emasimple\", \"focuseuro\", \"rocrelative\", \"topdouble\", \"atrbollinger\", \"macdmove\", \"lineskeltn\", \"formationhead\", \"triangleprice\", \"vaowilliam\", \"rlive\", \"bottomdouble\", \"volavolume\", \"gbpswiss\", \"focusbitcoin\", \"stcvolatility\", \"newseconomic\", \"handleflag\", \"sarrate\", \"wedgehead\", \"obvparabolic\", \"eurjapanese\", \"mfimove\", \"volpvolume\", \"tab\", \"venturebeat\", \"nonnecessary\", \"zdnet\", \"forextv\", \"cookie\", \"techradar\", \"gamesbeat\", \"techrepublic\", \"window\", \"seo\", \"consent\", \"laptop\", \"pc\", \"protein\", \"visitor\", \"vpn\", \"tablet\", \"review\", \"browser\", \"open\", \"website\", \"store\", \"gaming\", \"bing\", \"headphone\", \"good\", \"use\", \"gadget\", \"new\", \"game\", \"user\", \"feature\", \"iphone\", \"account\", \"model\", \"guide\", \"event\", \"site\", \"datum\", \"ai\", \"privacy\", \"get\", \"set\", \"see\", \"news\", \"follow\", \"tech\", \"policy\", \"well\", \"make\", \"also\", \"image\", \"work\", \"business\", \"time\", \"learn\", \"information\", \"content\", \"say\", \"company\", \"technology\", \"wunc\", \"overviewview\", \"bureaus\", \"mediaall\", \"profnet\", \"etfsb\", \"slovensko\", \"travelall\", \"\\u0440\\u043e\\u0441\\u0441\\u0438\\u044f\", \"stocksbest\", \"metalworke\", \"sportsall\", \"cision\", \"retailall\", \"interestall\", \"technologyall\", \"healthall\", \"ihrer\", \"investingall\", \"watchlistare\", \"prn\", \"estateinv\", \"chaque\", \"brokersmutual\", \"altcoinshow\", \"brokersshort\", \"brokersforex\", \"artinvest\", \"soun\", \"brokersindex\", \"metallurgy\", \"ir\", \"nonus\", \"inlanguage\", \"englishonly\", \"intermodal\", \"bridal\", \"\\u043a\\u043e\\u0438\\u0442\\u043e\", \"shipbuilding\", \"nonalcoholic\", \"railroad\", \"ventilation\", \"gdpr\", \"disabilitie\", \"trucking\", \"aboriginal\", \"etf\", \"stock\", \"presswire\", \"screener\", \"tobacco\", \"newswire\", \"peripheral\", \"inquiry\", \"mining\", \"earning\", \"cosmetic\", \"electronic\", \"dividend\", \"environmental\", \"estate\", \"heavy\", \"brandvoice\", \"metal\", \"general\", \"overview\", \"resource\", \"consumer\", \"rating\", \"distribution\", \"entertainment\", \"interest\", \"financial\", \"energy\", \"rss\", \"invest\", \"blog\", \"culture\", \"product\", \"service\", \"release\", \"policy\", \"travel\", \"medium\", \"business\", \"technology\", \"news\", \"real\", \"health\", \"company\", \"industry\", \"ai\", \"public\", \"contact\", \"market\", \"new\", \"sign\", \"datum\", \"patr\\u00f3n\", \"autor\", \"youget\", \"youmore\", \"latestly\", \"telecast\", \"chatgptproof\", \"bogus\", \"dh\", \"reservedmost\", \"displayedwill\", \"feedopen\", \"timesorfill\", \"techdirt\", \"racy\", \"fileopen\", \"calculatorlog\", \"levidow\", \"nowfeatured\", \"detailswill\", \"calculatorgpa\", \"prisma\", \"mustlog\", \"pensioner\", \"piercey\", \"ouret\", \"castel\", \"calculatorage\", \"chail\", \"badwe\", \"chennai\", \"dten\", \"inconnect\", \"telegraph\", \"exbulletin\", \"clearview\", \"bollywood\", \"janitor\", \"girlfriend\", \"viral\", \"schwartz\", \"accountsign\", \"byohoste\", \"wmot\", \"toleranceca\", \"crushonai\", \"porn\", \"delhi\", \"deepfake\", \"cricket\", \"plagiarism\", \"mumbai\", \"chatgpt\", \"actress\", \"tell\", \"daughter\", \"musk\", \"say\", \"fake\", \"cheat\", \"student\", \"teacher\", \"song\", \"pause\", \"essay\", \"ban\", \"go\", \"ask\", \"hollywood\", \"lawyer\", \"write\", \"chatbot\", \"know\", \"seem\", \"think\", \"claim\", \"s\", \"use\", \"make\", \"take\", \"warn\", \"human\", \"even\", \"read\", \"come\", \"ai\", \"people\", \"get\", \"call\", \"work\", \"image\", \"right\", \"day\", \"also\", \"time\", \"new\", \"year\", \"find\", \"world\", \"news\", \"tool\", \"technology\", \"company\", \"intelligence\", \"video\", \"artificial\", \"tech\", \"help\", \"see\", \"business\", \"prolapse\", \"venous\", \"stent\", \"hemostatic\", \"sealant\", \"lisk\", \"inforgrowth\", \"subsegment\", \"endotracheal\", \"moxa\", \"pestel\", \"swot\", \"terumo\", \"nephrostomy\", \"legaltech\", \"hemodialysis\", \"keyplayer\", \"segmental\", \"curiouser\", \"enteral\", \"countrywise\", \"toc\", \"urodynamic\", \"supernew\", \"drep\", \"pestle\", \"regionwise\", \"orian\", \"hdpe\", \"hemostasis\", \"segmentation\", \"jute\", \"restraint\", \"graft\", \"cagr\", \"porter\", \"hector\", \"market\", \"chapter\", \"catheter\", \"segment\", \"size\", \"manmade\", \"mlaas\", \"prosthesis\", \"analysis\", \"growth\", \"vascular\", \"forecast\", \"player\", \"outlook\", \"gross\", \"region\", \"manufacturer\", \"key\", \"global\", \"competitive\", \"report\", \"scope\", \"matrix\", \"revenue\", \"trend\", \"research\", \"period\", \"factor\", \"intelligence\", \"artificial\", \"industry\", \"type\", \"study\", \"landscape\", \"regional\", \"demand\", \"application\", \"opportunity\", \"machine\", \"impact\", \"datum\", \"ai\", \"covid\", \"top\", \"business\", \"learn\", \"product\", \"company\", \"service\", \"provide\", \"technology\", \"kbbi\", \"wgn\", \"wfmztv\", \"sophy\", \"allentown\", \"wdpntv\", \"wfmz\", \"kenai\", \"berk\", \"wshu\", \"calamos\", \"stormcenter\", \"matchup\", \"emmaus\", \"wknofm\", \"quakertown\", \"murano\", \"wfmzcom\", \"clearfield\", \"roadwork\", \"lampoon\", \"wkno\", \"newsfeed\", \"automotion\", \"urdupoint\", \"deconsecrate\", \"mahjong\", \"dieluca\", \"wivt\", \"philler\", \"scoreboard\", \"bestreview\", \"espanol\", \"giroux\", \"wnct\", \"errorrequire\", \"percnt\", \"precip\", \"sunrise\", \"ago\", \"gran\", \"furry\", \"ios\", \"cloudy\", \"hawaii\", \"hour\", \"contest\", \"nhl\", \"file\", \"redistribute\", \"schedule\", \"local\", \"weather\", \"radar\", \"traffic\", \"story\", \"video\", \"volunteer\", \"tonight\", \"sport\", \"calendar\", \"watch\", \"news\", \"closing\", \"day\", \"app\", \"donate\", \"eeo\", \"public\", \"play\", \"community\", \"min\", \"top\", \"school\", \"job\", \"get\", \"say\", \"live\", \"week\", \"radio\", \"close\", \"update\", \"post\", \"ai\", \"use\", \"business\", \"new\", \"technology\", \"report\", \"year\", \"intelligence\", \"company\", \"artificial\", \"overjet\", \"globant\", \"evisort\", \"deepx\", \"onesoil\", \"aorus\", \"cocounsel\", \"caylent\", \"ucit\", \"aspirion\", \"vbat\", \"heka\", \"unitq\", \"ambow\", \"eyeart\", \"becker\", \"thriver\", \"braumiller\", \"sensiml\", \"deepxs\", \"futureschool\", \"forumbecker\", \"tujju\", \"skitai\", \"brainomix\", \"spartannash\", \"rokit\", \"asig\", \"hybriu\", \"aicadium\", \"gray\", \"intelligencea\", \"usmeet\", \"policyeeo\", \"descriptionat\", \"courtesy\", \"edtupdate\", \"effectdismiss\", \"nav\", \"prnewswire\", \"cdtupdate\", \"endorse\", \"advertisingat\", \"tvgray\", \"videoscircle\", \"enterreturn\", \"hailo\", \"necessarily\", \"addedit\", \"storysubmit\", \"cdtupdated\", \"teammeet\", \"symbol\", \"greta\", \"ussubmit\", \"reflect\", \"teamcontact\", \"teamadvertise\", \"reportclose\", \"inspection\", \"filefcc\", \"starfille\", \"solution\", \"cstupdate\", \"press\", \"empower\", \"accelerate\", \"original\", \"clinical\", \"leverage\", \"customer\", \"patient\", \"statement\", \"group\", \"organization\", \"provider\", \"platform\", \"enable\", \"capability\", \"provide\", \"ai\", \"alert\", \"deliver\", \"technology\", \"experience\", \"release\", \"medium\", \"enterprise\", \"company\", \"generative\", \"datum\", \"content\", \"help\", \"lead\", \"learn\", \"business\", \"new\", \"service\", \"digital\", \"use\", \"include\", \"product\", \"say\", \"industry\", \"artificial\", \"intelligence\"], \"Freq\": [47158.0, 12167.0, 22536.0, 12408.0, 15022.0, 10721.0, 26716.0, 8354.0, 11201.0, 24699.0, 8112.0, 17654.0, 13816.0, 29067.0, 7818.0, 6200.0, 8822.0, 16727.0, 9563.0, 4557.0, 8143.0, 13652.0, 20779.0, 16192.0, 10736.0, 30405.0, 24692.0, 6918.0, 27021.0, 6185.0, 78.94464264647408, 78.94883451460872, 78.8899010528692, 78.83885052899349, 78.85327475961019, 78.82137822906945, 78.81398372421837, 78.7921835368397, 78.7900999681651, 78.77852596057211, 78.7808321063158, 78.78122779888308, 78.78355867541222, 78.77668969975207, 78.77869289337393, 78.77009894542829, 78.76509096137362, 78.77226907185197, 78.75505644517521, 78.74837295040597, 78.74410688991496, 78.73707098145299, 78.75124172151875, 78.72142257695626, 78.73166112213468, 78.72967647660191, 78.72606578192546, 78.71115930099239, 78.6830280325372, 78.67352522822607, 997.6747062050715, 582.546264095706, 128.82304476284426, 131.27421183244206, 154.9261538682514, 3559.114963223228, 128.61074333510487, 121.5357973282851, 276.9437439933802, 1145.5289930492922, 382.4384985096662, 728.8219354427562, 612.6218669033748, 634.5635638364287, 459.2718059921775, 470.489987044041, 167.95764557125452, 322.0219562971808, 2360.592051715591, 666.3597863113513, 2891.792110664684, 2247.978738452335, 1409.207341570835, 1030.5718937868849, 832.1073405096244, 170.54284113262628, 3923.0132370313368, 9042.564393806542, 476.15981637905054, 7207.100894287672, 2024.6146368400189, 3306.9966741316807, 2578.1736999959353, 524.0382213275768, 1520.5541418493638, 3169.009377145198, 1258.358947993135, 2379.2988135264036, 1622.301935061346, 4606.469266943092, 9681.4409077032, 2513.1345040969663, 3223.553025543302, 1744.7765006401144, 2512.1864247057592, 4400.732082125477, 1956.9385456726839, 2381.9008878488485, 2617.548473827293, 2422.4862830898046, 3020.612595791234, 2892.5967515002517, 2100.0340358564904, 2689.1249066303244, 3535.925004625113, 2460.4502150725193, 2618.3196786409253, 2460.7784420570792, 2377.7162411035606, 2705.4337714834096, 2599.4403948707777, 2590.7401045476695, 121.57798698971128, 1607.0938573596327, 574.6115898206102, 306.10845962759686, 333.1378108776273, 71.58897033214285, 174.1393944289918, 153.1935772543624, 174.05436768787055, 102.3595855238229, 208.4858661591953, 153.08336387382107, 1997.3557000333972, 152.97184050856652, 152.93205190620944, 305.7176999208662, 157.89296401528208, 72.79983286875569, 52.97740618481978, 45.75350858345724, 147.41327844038418, 45.73586745598549, 72.71536942106111, 45.70465052026878, 45.70455882133885, 45.698065663776845, 45.695882355921434, 45.7018777192924, 40.31148275536549, 45.67599678797431, 207.62377395263778, 588.6320243437165, 199.55332493003257, 144.22021690153485, 173.98822219308292, 212.4577398097652, 209.7709611628922, 72.63896674596874, 220.60954761629458, 210.99125558944044, 439.017587322892, 213.5920468397358, 1209.0421119894525, 210.21885366958335, 430.17927766076895, 212.7733587933439, 736.0738429843866, 5980.403974335345, 794.6062655454315, 923.991394630385, 316.9504520412537, 984.8313465305861, 639.0276602562773, 1297.7203219668836, 1116.483482760899, 1557.1699556755443, 540.4529524318237, 2128.7926494414805, 838.1434502920848, 1155.9361002387175, 1965.049870090104, 970.0739320742689, 374.1165780128431, 784.4948603395849, 2124.784725011602, 2296.0003558258627, 2890.901652610856, 3199.117091651242, 996.6502731439952, 1711.508232505269, 3137.2567489917346, 1814.890269831014, 2888.5239779569215, 2348.6683086884877, 1634.8571493783393, 1950.6358462932865, 1763.6419910682937, 1653.1940009980628, 4528.48650455851, 5113.500665520565, 4374.661462272974, 3700.493724080744, 1815.9016478954932, 3976.9098606002926, 5056.69749264686, 5163.716326999988, 4621.001747093361, 2083.3627987811255, 2673.8432639546245, 3610.132026548623, 2804.0273789158828, 4415.024920855145, 2466.842763262088, 2399.3372598116207, 2799.0216303966913, 2246.7002164628348, 1929.8039453893211, 1998.7655929141097, 73.47944521197914, 86.58092972268015, 47.455053883233454, 32.09302172450978, 54.78618745570427, 41.51335047776669, 31.049235523067615, 68.8419477994565, 69.8268245872267, 71.62161179490167, 66.82800314822934, 54.541951653974984, 31.89137740310695, 34.65230732921954, 29.943291776312016, 33.67416635766063, 28.963185440405418, 25.150996806988733, 31.740562091760484, 31.732414716358452, 30.7956726121601, 79.58161559355096, 32.67289436140674, 30.77963802098791, 34.49868177868129, 28.858817638780543, 25.978896879061637, 30.70528903470773, 23.241499808362565, 27.88662942869938, 96.08855362370021, 56.63771522150632, 33.50167537005489, 68.28165668257415, 69.69805844864071, 204.51225936445385, 262.3998484292505, 36.123713538642065, 185.64447313276324, 739.0445847196493, 98.02901477019479, 83.57064580485287, 84.98140648583234, 68.60449160318348, 59.729869572396545, 178.65467930065773, 100.3443942804315, 186.95837715554885, 450.725686430019, 425.90565388817606, 166.17517722548547, 221.14640257539784, 5172.505134527918, 147.71356972676844, 2113.55671417474, 264.8318515780273, 462.92345365474154, 15090.149847178393, 756.0995168163586, 309.6192852644995, 2645.1821342919643, 705.0774013413647, 567.7342581917668, 409.9448553212706, 395.1970085366334, 744.3215493556327, 3849.8251288495676, 2090.3486204086125, 401.6976816541196, 432.7842539481175, 3079.169366377849, 2019.945735424639, 3123.2416650255554, 726.1731431436319, 2303.560411795767, 1212.1176229099967, 2950.775426070733, 11878.106148588498, 6533.705828073551, 3888.3695556392986, 947.6858916941098, 3272.907987797465, 2288.1698419285135, 3486.5207032081967, 2908.2603347942077, 19357.233026786293, 4368.361995162546, 5440.623734709799, 2753.039763583824, 5201.754124642717, 3404.3372131054475, 3702.789210567872, 4294.142913541323, 5314.302334215353, 4315.585424950331, 8064.499691543207, 4821.894108544199, 3134.5545804013673, 3914.6914047332752, 6196.910525247697, 3692.759186126057, 6471.406323179604, 5872.166682051612, 5638.151022210769, 4063.364649249416, 5242.332515496139, 3510.9131054387076, 4022.891435010731, 3488.581373559643, 3901.0369084237086, 84.86870715859769, 70.79273943224263, 253.9797418692959, 91.12842376558498, 41.648081348950655, 283.7696759163521, 101.03622453916212, 117.75571952482527, 52.408897749190594, 65.69879529382405, 48.87656820290655, 373.1299721507083, 43.78783403264485, 35.33620492687461, 86.67912058096141, 45.32294176924433, 37.781055847390896, 37.72191092264027, 33.47342001943238, 41.01214772882506, 30.073097981190102, 138.0819460581709, 22.508931387574293, 32.53730467906489, 31.685388293144324, 30.01103537805799, 40.01450136564063, 32.510018493113, 29.9648816989285, 29.141242499366403, 1096.1100276390293, 31.63179248960236, 354.13997977722534, 210.63519290201123, 795.1960446889414, 212.09544643314325, 68.40009883897174, 37839.37244974343, 1197.3492436983652, 251.63330306197034, 2444.2300347081587, 3763.3911241100054, 116.81646280938256, 93.3836905355057, 81.20847121032337, 9406.498580414458, 7764.2959891591, 267.0827107595689, 5632.854623826213, 4349.30350802424, 1100.0647927566827, 382.0133767661459, 2361.1699610197384, 1029.0304993806785, 4941.822766571383, 8562.14806887947, 1585.512749744985, 11752.343942059646, 576.2602323814637, 371.6028693882668, 2456.3586481501425, 4868.22010802516, 6570.137959197167, 1236.4579298016035, 1639.3009420649084, 9910.071184372677, 8988.155552083277, 6657.6132379591345, 2303.02398392167, 2753.315172000889, 1070.2017748349824, 1337.3293019042, 1949.1063730900444, 3551.3987802045986, 2487.995845440506, 3323.249627495836, 2436.412253792047, 5218.349672720153, 8461.620371869329, 2170.1067759921275, 3001.709520122374, 4090.100905371402, 3158.716620187621, 3204.067877628677, 3616.706438221447, 3261.958927088176, 2759.72192227985, 2826.5902423738794, 73.93747718484954, 79.6839269719124, 404.69707909423437, 225.42035540955814, 220.37144296165164, 137.3049433063221, 120.11420987552671, 38.04730850179342, 356.9933818048068, 93.16916884313902, 39.899227393500674, 137.73638042944518, 204.9449375780517, 77.66532270948188, 23.59626644502158, 69.94291064205832, 34.869323194284135, 45.14721378204384, 32.853685551847256, 142.94159253382617, 27.188049444765515, 19.667606698384084, 314.1050125307162, 27.101864808689566, 28.00254183355108, 25.20231716373965, 58.78186542385922, 23.33133913792231, 25.18914547273873, 27.052406724593194, 153.24777287090774, 210.20655108210596, 140.90439473887977, 36.34846821946639, 79.52335802868889, 77.6725484391405, 143.84669150169708, 158.67591400088284, 207.16502775003312, 9663.796198596789, 141.92951205867178, 142.18334888845348, 230.6139045756451, 271.99962739326594, 142.12630633248656, 6876.266504816323, 1431.1106744328104, 174.19033921338524, 2840.1323543617586, 417.5436529688542, 1762.345123817232, 3586.716399523992, 4332.465109629355, 646.7992832020253, 1382.216543270669, 4709.258863282209, 5330.100068883625, 443.508650986602, 287.49417676066514, 3678.388967098573, 1216.777865340614, 2149.468699173361, 7689.629481524997, 657.1465280731527, 3849.830007770614, 2592.186020814421, 663.4391819599022, 611.8224365707333, 3475.5445389551946, 1765.8413185552597, 2387.8018405662137, 1000.8842986421582, 3077.503964855815, 1749.4689142739278, 2233.323149382336, 3439.67039917948, 5202.115014170152, 2139.0576236312213, 1738.6447305369963, 1091.1890661236166, 1670.7005635778912, 1830.717216805471, 1939.0258158459987, 5462.8463705879185, 3683.6045191203248, 2795.9204960183956, 2838.88961027715, 2820.238027673981, 2405.3542980945526, 2158.1249197626935, 2390.1552708931067, 2263.777055622364, 2195.9771590064147, 95.96180070216882, 102.01802168357318, 94.58543010070757, 57.6099359148882, 70.54214304428842, 42.50651500320628, 42.36913586858007, 39.37233602196712, 50.099431358931874, 32.3510193876253, 84.5082638159748, 27.39614037624956, 78.54472298994379, 32.29424603340461, 50.96989484155492, 97.07243772395279, 34.18211754721246, 43.90603401453645, 53.73034677385679, 31.240555397636648, 33.19629052229708, 26.242296774447443, 24.28648324475475, 28.190848375979904, 31.124529468002816, 27.200076426788627, 30.09244347405482, 36.90547578839057, 24.233376001697604, 24.22607351921034, 7554.195127534967, 949.0056858374629, 1101.6128945621608, 715.5855776482316, 181.7707012656866, 2484.404013820907, 577.4600487438914, 554.0112124203268, 220.17409167727016, 3394.4429393501678, 865.9010235017394, 2511.723484890095, 325.77065962146304, 216.8093802722161, 251.23645676917906, 126.11015777871128, 131.9014995249278, 2610.718435634005, 187.14294918912788, 150.20135301346227, 158.38524865164857, 123.85135746453123, 1469.4943238419373, 389.3871185417908, 355.7549501125715, 2872.279180535109, 305.4130146924854, 214.54629742110163, 193.60540556801706, 2713.6991737833296, 359.4102251599327, 342.30819508905387, 9235.310451637191, 265.77621038584437, 6847.596258982814, 1463.5596793257262, 2182.08787894328, 2689.442365491474, 2177.867287391603, 2049.396370313314, 7989.365940025556, 3433.0394116163648, 4305.694125637508, 6460.523440703556, 3582.166864421089, 2463.46820477681, 6911.5162805590735, 3763.1543156362422, 2923.7988784990794, 8573.061708609532, 31965.75267522569, 4619.029098273511, 3546.335786307848, 12655.337872244778, 4951.3788809618645, 7439.908318847018, 7570.46011629594, 3330.0145503592307, 10316.595138304554, 4314.2342829277895, 9217.67020616694, 6156.8595611721075, 6484.935458515822, 4819.629703489263, 5643.104628514676, 7642.2267837268, 7553.602666667759, 6391.656786162417, 4205.613227346109, 7972.715436424589, 5204.206019025508, 4897.34970287023, 5612.910234166088, 4852.052055234513, 4847.88648779375, 4839.041794543688], \"Total\": [47158.0, 12167.0, 22536.0, 12408.0, 15022.0, 10721.0, 26716.0, 8354.0, 11201.0, 24699.0, 8112.0, 17654.0, 13816.0, 29067.0, 7818.0, 6200.0, 8822.0, 16727.0, 9563.0, 4557.0, 8143.0, 13652.0, 20779.0, 16192.0, 10736.0, 30405.0, 24692.0, 6918.0, 27021.0, 6185.0, 81.56867033812794, 81.59065823296007, 81.57784021859084, 81.55846707008288, 81.5788109424212, 81.58349750041947, 81.57648266729196, 81.55964370922888, 81.56814606506708, 81.56497560171799, 81.570273403369, 81.57080628028964, 81.5752226127385, 81.57754179958363, 81.58135720875302, 81.57622912010464, 81.57270526886964, 81.58225579888965, 81.57040905536218, 81.56542438661309, 81.57173815385916, 81.56794337317987, 81.58811869110622, 81.56174218701359, 81.57329411373544, 81.58124005655829, 81.5797761005926, 81.56735742506066, 81.56738234443289, 81.56287349231175, 1062.2666343755202, 622.738666017563, 134.25376369374018, 139.14139740730462, 165.90968864833286, 4938.273709044793, 139.11018770941484, 130.81359440444274, 327.74970498756284, 1675.3476057737957, 489.1324957793337, 1020.238082144556, 853.273965981889, 925.7886351156828, 676.6366773946496, 712.8774128786084, 205.30668620025168, 455.3095588231833, 5363.656998937292, 1129.984971620164, 7348.820086297063, 5415.266160103098, 3010.052989141927, 2077.8287312496827, 1586.810580743029, 216.21860924643966, 12109.028062694886, 36562.238270954476, 831.9962429510206, 29604.94441211749, 5628.617256236613, 10993.278779331351, 8764.233939065163, 971.8023007602953, 4274.144895395813, 12126.940585444914, 3372.366017854827, 8452.355012958187, 5023.579077141852, 24692.51620676396, 79343.91827302758, 10173.850898821025, 15502.758775020462, 5762.06026416653, 10581.2818629099, 29067.611045694895, 7188.669077142186, 10323.866709431575, 12678.504525382436, 11207.628636753561, 17573.652038945307, 16177.504945042094, 8567.005494317993, 14682.905044223484, 27021.90759081228, 12377.932233751886, 14557.68166105933, 13909.238104306054, 13859.906543128065, 30405.824430356515, 28278.817735619377, 32528.028897019904, 125.13216183215165, 1659.9276673609515, 595.3680794694161, 317.43239054683943, 345.76789513089744, 74.32683424260308, 180.8250419791173, 159.0899612353357, 180.78514283578764, 106.35249424822351, 216.62861734076446, 159.15249929598315, 2078.011747714272, 159.17638900497806, 159.15236544681923, 318.4566788742749, 164.80100234997497, 76.27049309517237, 55.51053028318148, 47.95416926371946, 154.50825746129482, 47.94492679120351, 76.25276082022573, 47.94308063344161, 47.9532169645517, 47.94811280195419, 47.95674144779795, 47.96446566284504, 42.30736621101286, 47.94833229766563, 218.49504168582075, 626.3924090111701, 210.14404718359913, 151.69213700705257, 183.7854955387557, 225.19277074632708, 222.50853064999646, 76.28838659005724, 234.75814878867763, 225.13973460261604, 475.82339880273986, 228.72216276901466, 1352.691476318443, 225.44890763170397, 473.89546551472245, 228.2972281768767, 868.4244787829103, 8354.154434340466, 944.9387786636873, 1120.6640763426778, 351.5312539366761, 1216.0215229019843, 781.8019027517586, 1735.8128409079384, 1467.3248873698362, 2174.7749603321345, 656.0680608375767, 3127.0090665585262, 1081.733549226071, 1641.8528931682174, 3106.3296174165157, 1354.9252281390077, 441.582965125436, 1073.864771194727, 3643.2592609893554, 4019.966719523335, 5451.898965121765, 6185.40964733484, 1490.541379658013, 3064.362575531311, 6918.024083089912, 3335.5606148861334, 6658.695684103606, 5047.108553080968, 3125.1988598510807, 4071.8757523906033, 3551.113683671553, 3290.967349838557, 16727.15332847555, 20779.809602440462, 16192.468261947599, 12678.504525382436, 4022.7690335503853, 17137.49544298921, 27021.90759081228, 32528.028897019904, 29067.611045694895, 5724.643116303636, 11316.16117407996, 28278.817735619377, 17654.34940927221, 79343.91827302758, 12163.354810762887, 11834.615441626025, 47158.195444919365, 29604.94441211749, 7356.771172235203, 24692.51620676396, 76.5327936761911, 90.4272486553145, 49.59446340663178, 33.67855629689683, 57.57192950053843, 43.63014325953508, 32.671716289133826, 72.44648125579009, 73.5233531806242, 75.45775884292486, 70.47428392477153, 57.52952005224597, 33.65247788507412, 36.60370058579464, 31.66429958185993, 35.619941732283436, 30.654296513095364, 26.62482731906575, 33.634209957615816, 33.635554798144035, 32.645703109904176, 84.37372249093698, 34.64315420819078, 32.65194932519648, 36.60341207121495, 30.656153825936265, 27.60525031903035, 32.633417606028964, 24.70616979644406, 29.65429564899989, 102.40650938531019, 60.50586967167529, 35.62592592791165, 73.45815944981894, 75.05814212502483, 225.57622176759244, 294.858077785703, 38.47745069687049, 209.95767212631895, 904.213769695224, 109.31591474426264, 92.5235914208496, 94.42681667778962, 75.52896289768786, 65.3058354423054, 208.5452733319728, 113.3295434519465, 220.38543957224664, 566.0264535622448, 533.3244995869896, 195.3237169282287, 266.7734259793191, 8667.03144923883, 174.2318559691056, 3276.674560701464, 331.44243451674095, 619.1517035262976, 30405.824430356515, 1074.510189722727, 400.8805535857418, 4489.440796348665, 1017.5344691507522, 808.0162021006297, 558.9897291889013, 543.5426029392789, 1135.4781587554194, 7716.943805796293, 3905.531586566894, 564.8374444909622, 616.7317569745759, 6216.694619970668, 3806.5161831627443, 6436.352613045209, 1134.599444835571, 4597.824271468086, 2153.317724957589, 6446.343042108262, 36562.238270954476, 17573.652038945307, 9366.899526307436, 1622.2156635220945, 7682.732204384584, 4900.175766977278, 8520.642958549073, 6761.008845401507, 79343.91827302758, 11478.45026184123, 15502.758775020462, 6333.152653428616, 14682.905044223484, 8567.005494317993, 9791.526365628424, 11966.52612864552, 16177.504945042094, 12377.932233751886, 29604.94441211749, 14763.61149414198, 8085.298889537337, 11892.960417644033, 29067.611045694895, 11164.669030040173, 32528.028897019904, 28278.817735619377, 26716.498277013907, 13652.718321369894, 24699.283475076714, 10323.866709431575, 16862.377652739327, 10581.2818629099, 27021.90759081228, 86.96941185864836, 72.93202433734668, 262.1511731599325, 94.07389125274912, 43.042658589287655, 294.0132249290385, 104.7027432042068, 122.26099235461217, 54.51812971467766, 68.51236433218996, 51.01590115930457, 389.61103283803885, 45.73444386363004, 36.92378633281177, 90.76376154219545, 47.46885420207655, 39.577616797759006, 39.590023108975, 35.17621053429121, 43.10894736557113, 31.65939501648536, 145.36757639913293, 23.726768755095694, 34.2993848472013, 33.426365161925446, 31.667091907101035, 42.223308677134895, 34.31746320265961, 31.650529848006084, 30.785773246695403, 1183.2308584542989, 33.44418563245458, 383.79215698476355, 227.2099746422871, 886.4396683524276, 230.92727325695907, 73.10276646405953, 47158.195444919365, 1368.1029622970284, 277.9686714994216, 2911.817416417148, 4557.717100863775, 127.28035647417771, 100.82648281473347, 87.46160233044549, 12408.255679435726, 10721.96842180818, 310.1099489692707, 8112.479696810022, 6200.385142665491, 1443.2516856117409, 464.34537292151794, 3405.0272649312374, 1388.5168385945644, 7818.998741164303, 15022.739873955385, 2314.2321023491836, 22536.432377352656, 760.7900558767965, 464.03578959376614, 4255.069585746987, 9563.813578320343, 13816.160031116271, 1950.1756636558082, 2757.254837121444, 26716.498277013907, 24699.283475076714, 17654.34940927221, 4618.559786848038, 5884.68520835243, 1712.0868069087915, 2347.649304126463, 3973.1808042711336, 10013.922024930205, 6122.792665121195, 10326.315167524193, 6296.862595821029, 24692.51620676396, 79343.91827302758, 5515.776993851073, 11579.953985099077, 27021.90759081228, 14557.68166105933, 16727.15332847555, 28278.817735619377, 20779.809602440462, 16422.45684285876, 32528.028897019904, 76.44666780740816, 82.3925310184463, 420.07677641256953, 234.4606058989137, 229.36798373369834, 142.94872007692015, 125.07308444769009, 39.658373496491855, 372.47777982910566, 97.21220401471118, 41.63727666133615, 143.9323769766484, 214.47825409349795, 81.33736262251284, 24.749776665640276, 73.37995728783793, 36.65075314094143, 47.56134713239576, 34.66395214040093, 150.8548393551239, 28.709369382933172, 20.77136619001952, 332.734665092689, 28.71069049878595, 29.679103271203218, 26.71274557141628, 62.30809569868018, 24.734337050122107, 26.712822473609297, 28.700606250183746, 163.72157999230177, 225.4853599833238, 150.85836927943325, 38.631307866096705, 85.26663866016715, 83.31835794026755, 156.89925574879285, 173.76610936673384, 229.03576035587335, 12167.19597151446, 156.86121932506038, 158.89036959776362, 268.31784228540647, 320.6252823007649, 162.82246256730278, 11201.795967261169, 2033.3410621884207, 203.52488709256917, 4777.022575069154, 547.4471595316519, 2813.13077726139, 6469.824517658207, 8822.200309989614, 968.8796981013284, 2415.515963172843, 10736.112014659147, 13652.718321369894, 638.0139492418615, 372.0646238327291, 9544.360113915716, 2467.1971494219597, 5217.543457174768, 29067.611045694895, 1124.3077888246203, 11966.52612864552, 7233.202598944985, 1174.419657003223, 1052.4630802432182, 12163.354810762887, 4690.221485341864, 7238.9239696989225, 2118.4044215486583, 11579.953985099077, 5052.391985371569, 7380.835176455129, 15502.758775020462, 30405.824430356515, 7620.732431042747, 5584.856474549608, 2628.5267563108705, 6161.591823714061, 7449.18110161075, 8350.112411426342, 79343.91827302758, 36562.238270954476, 27021.90759081228, 29604.94441211749, 32528.028897019904, 22536.432377352656, 14763.61149414198, 26716.498277013907, 28278.817735619377, 24699.283475076714, 98.72571190636502, 104.97113468549628, 97.6836255052053, 59.57661098649457, 72.97744171238027, 44.10950117985549, 44.11261840499801, 41.011215665898995, 52.23036759881712, 33.80128388494695, 88.33703026920193, 28.654037166475376, 82.18347924079524, 33.799573184440376, 53.354343271266806, 101.67866775727799, 35.827395174200824, 46.036724992233395, 56.33942281709779, 32.75970276912504, 34.81648053877692, 27.60498331733768, 25.5481474164042, 29.66693596682885, 32.76265525216294, 28.644736540518355, 31.698962008091442, 38.88273724076685, 25.553128575622786, 25.554967965605922, 8143.775262807829, 1016.1424857425054, 1181.3704376797136, 764.1877029787169, 192.92635589866757, 2707.530376619616, 620.3144005085323, 594.9236013303964, 234.31564413128953, 3726.832566812714, 937.6660651156966, 2782.7874227461625, 352.9558237633801, 232.97879715200645, 271.03640096266395, 134.2619274709554, 140.76111303083314, 2972.3793676124606, 201.7718009519613, 161.024110270893, 170.1359352357268, 132.28990264407776, 1723.5963811012862, 432.3884086758808, 394.8480928293303, 3546.5434044516805, 338.1609764724799, 233.78585202409351, 210.3420110503025, 3404.1721052222583, 405.7574225212447, 385.55486995325765, 13266.949882843497, 296.0541138149353, 10246.047085212276, 1898.59993954651, 2982.4019418502694, 3803.5716868655627, 3011.0367037787128, 2819.1180885088847, 12975.82892355616, 5026.684427853819, 6552.297258485031, 10371.959269795383, 5425.010813991973, 3588.4554451723875, 11700.772882432855, 5951.055336012701, 4593.388585625763, 16422.45684285876, 79343.91827302758, 8005.733147068715, 5864.1327430487045, 32528.028897019904, 9319.768498637375, 16192.468261947599, 17137.49544298921, 5529.389744921371, 28278.817735619377, 8013.336688775254, 24692.51620676396, 13859.906543128065, 16862.377652739327, 10319.089109987945, 14557.68166105933, 27021.90759081228, 29604.94441211749, 20779.809602440462, 8473.02140144537, 36562.238270954476, 14169.18481743431, 16727.15332847555, 30405.824430356515, 17654.34940927221, 24699.283475076714, 26716.498277013907], \"Category\": [\"Default\", \"Default\", \"Default\", \"Default\", \"Default\", \"Default\", \"Default\", \"Default\", \"Default\", \"Default\", \"Default\", \"Default\", \"Default\", \"Default\", \"Default\", \"Default\", \"Default\", \"Default\", \"Default\", \"Default\", \"Default\", \"Default\", \"Default\", \"Default\", \"Default\", \"Default\", \"Default\", \"Default\", \"Default\", \"Default\", \"Topic1\", \"Topic1\", \"Topic1\", \"Topic1\", \"Topic1\", \"Topic1\", \"Topic1\", \"Topic1\", \"Topic1\", \"Topic1\", \"Topic1\", \"Topic1\", \"Topic1\", \"Topic1\", \"Topic1\", \"Topic1\", \"Topic1\", \"Topic1\", \"Topic1\", \"Topic1\", \"Topic1\", \"Topic1\", \"Topic1\", \"Topic1\", \"Topic1\", \"Topic1\", \"Topic1\", \"Topic1\", \"Topic1\", \"Topic1\", \"Topic1\", \"Topic1\", \"Topic1\", \"Topic1\", \"Topic1\", \"Topic1\", \"Topic1\", \"Topic1\", \"Topic1\", \"Topic1\", \"Topic1\", \"Topic1\", \"Topic1\", \"Topic1\", \"Topic1\", \"Topic1\", \"Topic1\", \"Topic1\", \"Topic1\", \"Topic1\", \"Topic1\", \"Topic1\", \"Topic1\", \"Topic1\", \"Topic1\", \"Topic1\", \"Topic1\", \"Topic1\", \"Topic1\", \"Topic1\", \"Topic1\", \"Topic1\", \"Topic1\", \"Topic1\", \"Topic1\", \"Topic1\", \"Topic1\", \"Topic1\", \"Topic1\", \"Topic1\", \"Topic1\", \"Topic1\", \"Topic1\", \"Topic1\", \"Topic1\", \"Topic1\", \"Topic1\", \"Topic1\", \"Topic1\", \"Topic1\", \"Topic1\", \"Topic1\", \"Topic1\", \"Topic1\", \"Topic1\", \"Topic1\", \"Topic1\", \"Topic1\", \"Topic1\", \"Topic1\", \"Topic1\", \"Topic1\", \"Topic2\", \"Topic2\", \"Topic2\", \"Topic2\", \"Topic2\", \"Topic2\", \"Topic2\", \"Topic2\", \"Topic2\", \"Topic2\", \"Topic2\", \"Topic2\", \"Topic2\", \"Topic2\", \"Topic2\", \"Topic2\", \"Topic2\", \"Topic2\", \"Topic2\", \"Topic2\", \"Topic2\", \"Topic2\", \"Topic2\", \"Topic2\", \"Topic2\", \"Topic2\", \"Topic2\", \"Topic2\", \"Topic2\", \"Topic2\", \"Topic2\", \"Topic2\", \"Topic2\", \"Topic2\", \"Topic2\", \"Topic2\", \"Topic2\", \"Topic2\", \"Topic2\", \"Topic2\", \"Topic2\", \"Topic2\", \"Topic2\", \"Topic2\", \"Topic2\", \"Topic2\", \"Topic2\", \"Topic2\", \"Topic2\", \"Topic2\", \"Topic2\", \"Topic2\", \"Topic2\", \"Topic2\", \"Topic2\", \"Topic2\", \"Topic2\", \"Topic2\", \"Topic2\", \"Topic2\", \"Topic2\", \"Topic2\", \"Topic2\", \"Topic2\", \"Topic2\", \"Topic2\", \"Topic2\", \"Topic2\", \"Topic2\", \"Topic2\", \"Topic2\", \"Topic2\", \"Topic2\", \"Topic2\", \"Topic2\", \"Topic2\", \"Topic2\", \"Topic2\", \"Topic2\", \"Topic2\", \"Topic2\", \"Topic2\", \"Topic2\", \"Topic2\", \"Topic2\", \"Topic2\", \"Topic2\", \"Topic2\", \"Topic2\", \"Topic2\", \"Topic2\", \"Topic2\", \"Topic2\", \"Topic2\", \"Topic2\", \"Topic2\", \"Topic2\", \"Topic2\", \"Topic3\", \"Topic3\", \"Topic3\", \"Topic3\", \"Topic3\", \"Topic3\", \"Topic3\", \"Topic3\", \"Topic3\", \"Topic3\", \"Topic3\", \"Topic3\", \"Topic3\", \"Topic3\", \"Topic3\", \"Topic3\", \"Topic3\", \"Topic3\", \"Topic3\", \"Topic3\", \"Topic3\", \"Topic3\", \"Topic3\", \"Topic3\", \"Topic3\", \"Topic3\", \"Topic3\", \"Topic3\", \"Topic3\", \"Topic3\", \"Topic3\", \"Topic3\", \"Topic3\", \"Topic3\", \"Topic3\", \"Topic3\", \"Topic3\", \"Topic3\", \"Topic3\", \"Topic3\", \"Topic3\", \"Topic3\", \"Topic3\", \"Topic3\", \"Topic3\", \"Topic3\", \"Topic3\", \"Topic3\", \"Topic3\", \"Topic3\", \"Topic3\", \"Topic3\", \"Topic3\", \"Topic3\", \"Topic3\", \"Topic3\", \"Topic3\", \"Topic3\", \"Topic3\", \"Topic3\", \"Topic3\", \"Topic3\", \"Topic3\", \"Topic3\", \"Topic3\", \"Topic3\", \"Topic3\", \"Topic3\", \"Topic3\", \"Topic3\", \"Topic3\", \"Topic3\", \"Topic3\", \"Topic3\", \"Topic3\", \"Topic3\", \"Topic3\", \"Topic3\", \"Topic3\", \"Topic3\", \"Topic3\", \"Topic3\", \"Topic3\", \"Topic3\", \"Topic3\", \"Topic3\", \"Topic3\", \"Topic3\", \"Topic3\", \"Topic3\", \"Topic3\", \"Topic3\", \"Topic3\", \"Topic3\", \"Topic3\", \"Topic3\", \"Topic3\", \"Topic3\", \"Topic3\", \"Topic3\", \"Topic3\", \"Topic3\", \"Topic3\", \"Topic3\", \"Topic3\", \"Topic3\", \"Topic3\", \"Topic3\", \"Topic3\", \"Topic3\", \"Topic4\", \"Topic4\", \"Topic4\", \"Topic4\", \"Topic4\", \"Topic4\", \"Topic4\", \"Topic4\", \"Topic4\", \"Topic4\", \"Topic4\", \"Topic4\", \"Topic4\", \"Topic4\", \"Topic4\", \"Topic4\", \"Topic4\", \"Topic4\", \"Topic4\", \"Topic4\", \"Topic4\", \"Topic4\", \"Topic4\", \"Topic4\", \"Topic4\", \"Topic4\", \"Topic4\", \"Topic4\", \"Topic4\", \"Topic4\", \"Topic4\", \"Topic4\", \"Topic4\", \"Topic4\", \"Topic4\", \"Topic4\", \"Topic4\", \"Topic4\", \"Topic4\", \"Topic4\", \"Topic4\", \"Topic4\", \"Topic4\", \"Topic4\", \"Topic4\", \"Topic4\", \"Topic4\", \"Topic4\", \"Topic4\", \"Topic4\", \"Topic4\", \"Topic4\", \"Topic4\", \"Topic4\", \"Topic4\", \"Topic4\", \"Topic4\", \"Topic4\", \"Topic4\", \"Topic4\", \"Topic4\", \"Topic4\", \"Topic4\", \"Topic4\", \"Topic4\", \"Topic4\", \"Topic4\", \"Topic4\", \"Topic4\", \"Topic4\", \"Topic4\", \"Topic4\", \"Topic4\", \"Topic4\", \"Topic4\", \"Topic4\", \"Topic4\", \"Topic4\", \"Topic4\", \"Topic4\", \"Topic4\", \"Topic4\", \"Topic4\", \"Topic4\", \"Topic4\", \"Topic4\", \"Topic4\", \"Topic4\", \"Topic5\", \"Topic5\", \"Topic5\", \"Topic5\", \"Topic5\", \"Topic5\", \"Topic5\", \"Topic5\", \"Topic5\", \"Topic5\", \"Topic5\", \"Topic5\", \"Topic5\", \"Topic5\", \"Topic5\", \"Topic5\", \"Topic5\", \"Topic5\", \"Topic5\", \"Topic5\", \"Topic5\", \"Topic5\", \"Topic5\", \"Topic5\", \"Topic5\", \"Topic5\", \"Topic5\", \"Topic5\", \"Topic5\", \"Topic5\", \"Topic5\", \"Topic5\", \"Topic5\", \"Topic5\", \"Topic5\", \"Topic5\", \"Topic5\", \"Topic5\", \"Topic5\", \"Topic5\", \"Topic5\", \"Topic5\", \"Topic5\", \"Topic5\", \"Topic5\", \"Topic5\", \"Topic5\", \"Topic5\", \"Topic5\", \"Topic5\", \"Topic5\", \"Topic5\", \"Topic5\", \"Topic5\", \"Topic5\", \"Topic5\", \"Topic5\", \"Topic5\", \"Topic5\", \"Topic5\", \"Topic5\", \"Topic5\", \"Topic5\", \"Topic5\", \"Topic5\", \"Topic5\", \"Topic5\", \"Topic5\", \"Topic5\", \"Topic5\", \"Topic5\", \"Topic5\", \"Topic5\", \"Topic5\", \"Topic5\", \"Topic5\", \"Topic5\", \"Topic5\", \"Topic5\", \"Topic5\", \"Topic5\", \"Topic5\", \"Topic5\", \"Topic5\", \"Topic5\", \"Topic5\", \"Topic5\", \"Topic5\", \"Topic5\", \"Topic5\", \"Topic5\", \"Topic5\", \"Topic5\", \"Topic6\", \"Topic6\", \"Topic6\", \"Topic6\", \"Topic6\", \"Topic6\", \"Topic6\", \"Topic6\", \"Topic6\", \"Topic6\", \"Topic6\", \"Topic6\", \"Topic6\", \"Topic6\", \"Topic6\", \"Topic6\", \"Topic6\", \"Topic6\", \"Topic6\", \"Topic6\", \"Topic6\", \"Topic6\", \"Topic6\", \"Topic6\", \"Topic6\", \"Topic6\", \"Topic6\", \"Topic6\", \"Topic6\", \"Topic6\", \"Topic6\", \"Topic6\", \"Topic6\", \"Topic6\", \"Topic6\", \"Topic6\", \"Topic6\", \"Topic6\", \"Topic6\", \"Topic6\", \"Topic6\", \"Topic6\", \"Topic6\", \"Topic6\", \"Topic6\", \"Topic6\", \"Topic6\", \"Topic6\", \"Topic6\", \"Topic6\", \"Topic6\", \"Topic6\", \"Topic6\", \"Topic6\", \"Topic6\", \"Topic6\", \"Topic6\", \"Topic6\", \"Topic6\", \"Topic6\", \"Topic6\", \"Topic6\", \"Topic6\", \"Topic6\", \"Topic6\", \"Topic6\", \"Topic6\", \"Topic6\", \"Topic6\", \"Topic6\", \"Topic6\", \"Topic6\", \"Topic6\", \"Topic6\", \"Topic6\", \"Topic6\", \"Topic6\", \"Topic6\", \"Topic6\", \"Topic6\", \"Topic6\", \"Topic6\", \"Topic6\", \"Topic6\", \"Topic6\", \"Topic6\", \"Topic6\", \"Topic6\", \"Topic6\", \"Topic6\", \"Topic6\", \"Topic6\", \"Topic6\", \"Topic6\", \"Topic6\", \"Topic6\", \"Topic6\", \"Topic6\", \"Topic6\", \"Topic6\", \"Topic6\", \"Topic6\", \"Topic6\", \"Topic6\", \"Topic6\", \"Topic6\"], \"logprob\": [30.0, 29.0, 28.0, 27.0, 26.0, 25.0, 24.0, 23.0, 22.0, 21.0, 20.0, 19.0, 18.0, 17.0, 16.0, 15.0, 14.0, 13.0, 12.0, 11.0, 10.0, 9.0, 8.0, 7.0, 6.0, 5.0, 4.0, 3.0, 2.0, 1.0, -9.2839, -9.2839, -9.2846, -9.2853, -9.2851, -9.2855, -9.2856, -9.2859, -9.2859, -9.286, -9.286, -9.286, -9.286, -9.2861, -9.286, -9.2862, -9.2862, -9.2861, -9.2863, -9.2864, -9.2865, -9.2866, -9.2864, -9.2868, -9.2866, -9.2867, -9.2867, -9.2869, -9.2873, -9.2874, -6.7473, -7.2853, -8.7942, -8.7754, -8.6097, -5.4754, -8.7959, -8.8525, -8.0289, -6.6091, -7.7061, -7.0613, -7.2349, -7.1998, -7.523, -7.4989, -8.529, -7.8781, -5.886, -7.1509, -5.6831, -5.9349, -6.4019, -6.7148, -6.9287, -8.5137, -5.3781, -4.543, -7.4869, -4.7699, -6.0396, -5.5489, -5.7979, -7.3911, -6.3259, -5.5915, -6.5151, -5.8781, -6.2611, -5.2175, -4.4747, -5.8234, -5.5745, -6.1883, -5.8238, -5.2632, -6.0736, -5.877, -5.7827, -5.8601, -5.6395, -5.6828, -6.003, -5.7557, -5.482, -5.8446, -5.7824, -5.8445, -5.8788, -5.7497, -5.7896, -5.793, -8.5044, -5.9227, -6.9512, -7.581, -7.4964, -9.034, -8.1451, -8.2732, -8.1456, -8.6764, -7.9651, -8.2739, -5.7053, -8.2747, -8.2749, -7.5823, -8.243, -9.0172, -9.3351, -9.4817, -8.3117, -9.482, -9.0184, -9.4827, -9.4827, -9.4829, -9.4829, -9.4828, -9.6083, -9.4834, -7.9692, -6.9271, -8.0088, -8.3336, -8.1459, -7.9462, -7.9589, -9.0194, -7.9085, -7.9531, -7.2204, -7.9409, -6.2073, -7.9568, -7.2407, -7.9447, -6.7036, -4.6087, -6.6271, -6.4762, -7.5462, -6.4125, -6.845, -6.1366, -6.287, -5.9543, -7.0125, -5.6416, -6.5737, -6.2523, -5.7217, -6.4276, -7.3804, -6.6399, -5.6435, -5.566, -5.3356, -5.2343, -6.4005, -5.8598, -5.2538, -5.8011, -5.3364, -5.5433, -5.9056, -5.729, -5.8298, -5.8945, -4.8868, -4.7653, -4.9213, -5.0887, -5.8006, -5.0167, -4.7765, -4.7555, -4.8666, -5.6632, -5.4137, -5.1134, -5.3661, -4.9122, -5.4942, -5.522, -5.3679, -5.5877, -5.7397, -5.7046, -9.8664, -9.7023, -10.3036, -10.6948, -10.16, -10.4374, -10.7278, -9.9316, -9.9174, -9.892, -9.9613, -10.1644, -10.7011, -10.618, -10.7641, -10.6467, -10.7974, -10.9385, -10.7058, -10.7061, -10.736, -9.7866, -10.6769, -10.7366, -10.6225, -10.801, -10.9061, -10.739, -11.0175, -10.8353, -9.5981, -10.1267, -10.6518, -9.9398, -9.9192, -8.8428, -8.5935, -10.5765, -8.9396, -7.558, -9.5781, -9.7377, -9.721, -9.935, -10.0736, -8.9779, -9.5548, -8.9325, -8.0525, -8.1092, -9.0504, -8.7646, -5.6123, -9.1681, -6.5073, -8.5843, -8.0258, -4.5416, -7.5352, -8.4281, -6.2829, -7.6051, -7.8218, -8.1474, -8.184, -7.5509, -5.9076, -6.5183, -8.1677, -8.0932, -6.131, -6.5526, -6.1168, -7.5756, -6.4212, -7.0633, -6.1736, -4.781, -5.3787, -5.8977, -7.3094, -6.07, -6.4279, -6.0067, -6.1881, -4.2926, -5.7813, -5.5618, -6.2429, -5.6067, -6.0306, -5.9466, -5.7984, -5.5852, -5.7934, -5.1682, -5.6825, -6.1132, -5.8909, -5.4316, -5.9493, -5.3883, -5.4854, -5.5261, -5.8536, -5.5989, -5.9998, -5.8636, -6.0062, -5.8944, -8.9607, -9.142, -7.8645, -8.8895, -9.6725, -7.7536, -8.7863, -8.6332, -9.4427, -9.2167, -9.5125, -7.4798, -9.6224, -9.8369, -8.9396, -9.588, -9.77, -9.7715, -9.891, -9.6879, -9.9981, -8.4739, -10.2879, -9.9194, -9.9459, -10.0002, -9.7125, -9.9202, -10.0017, -10.0296, -6.4023, -9.9476, -7.5321, -8.0516, -6.7232, -8.0447, -9.1764, -2.8607, -6.3139, -7.8738, -5.6003, -5.1687, -8.6412, -8.8651, -9.0048, -4.2526, -4.4445, -7.8142, -4.7654, -5.024, -6.3986, -7.4563, -5.6349, -6.4654, -4.8963, -4.3467, -6.0331, -4.03, -7.0452, -7.4839, -5.5953, -4.9113, -4.6115, -6.2818, -5.9997, -4.2005, -4.2981, -4.5983, -5.6598, -5.4812, -6.4262, -6.2033, -5.8266, -5.2267, -5.5825, -5.2931, -5.6035, -4.8418, -4.3585, -5.7192, -5.3948, -5.0854, -5.3439, -5.3296, -5.2085, -5.3117, -5.4789, -5.4549, -9.1547, -9.0799, -7.4548, -8.04, -8.0626, -8.5357, -8.6695, -9.8191, -7.5802, -8.9235, -9.7716, -8.5326, -8.1352, -9.1055, -10.2968, -9.2102, -9.9063, -9.648, -9.9659, -8.4955, -10.1551, -10.479, -7.7082, -10.1583, -10.1256, -10.231, -9.3841, -10.3081, -10.2315, -10.1602, -8.4259, -8.1098, -8.5098, -9.8648, -9.0819, -9.1054, -8.4892, -8.3911, -8.1244, -4.2818, -8.5026, -8.5008, -8.0172, -7.8521, -8.5012, -4.6221, -6.1917, -8.2978, -5.5063, -7.4235, -5.9835, -5.2729, -5.084, -6.9859, -6.2265, -5.0006, -4.8768, -7.3632, -7.7967, -5.2477, -6.354, -5.785, -4.5103, -6.97, -5.2021, -5.5977, -6.9605, -7.0415, -5.3044, -5.9815, -5.6798, -6.5493, -5.4261, -5.9909, -5.7467, -5.3148, -4.9011, -5.7898, -5.9971, -6.4629, -6.0369, -5.9455, -5.888, -4.8522, -5.2463, -5.522, -5.5068, -5.5133, -5.6725, -5.7809, -5.6788, -5.7331, -5.7635, -9.6479, -9.5867, -9.6623, -10.1581, -9.9556, -10.4622, -10.4654, -10.5388, -10.2978, -10.7352, -9.775, -10.9014, -9.8482, -10.7369, -10.2806, -9.6364, -10.6801, -10.4298, -10.2278, -10.7701, -10.7094, -10.9444, -11.0219, -10.8728, -10.7738, -10.9086, -10.8075, -10.6035, -11.0241, -11.0244, -5.282, -7.3564, -7.2073, -7.6387, -9.0091, -6.394, -7.8532, -7.8946, -8.8174, -6.0819, -7.4481, -6.3831, -8.4256, -8.8328, -8.6854, -9.3747, -9.3298, -6.3444, -8.9799, -9.1998, -9.1468, -9.3927, -6.9191, -8.2472, -8.3376, -6.249, -8.4902, -8.8433, -8.946, -6.3058, -8.3274, -8.3761, -5.081, -8.6292, -5.3802, -6.9232, -6.5238, -6.3147, -6.5257, -6.5865, -5.226, -6.0706, -5.8441, -5.4384, -6.0281, -6.4025, -5.3709, -5.9788, -6.2312, -5.1554, -3.8394, -5.7739, -6.0382, -4.766, -5.7044, -5.2972, -5.2798, -6.1011, -4.9703, -5.8421, -5.0829, -5.4865, -5.4346, -5.7314, -5.5736, -5.2704, -5.282, -5.4491, -5.8676, -5.228, -5.6546, -5.7154, -5.579, -5.7247, -5.7255, -5.7273], \"loglift\": [30.0, 29.0, 28.0, 27.0, 26.0, 25.0, 24.0, 23.0, 22.0, 21.0, 20.0, 19.0, 18.0, 17.0, 16.0, 15.0, 14.0, 13.0, 12.0, 11.0, 10.0, 9.0, 8.0, 7.0, 6.0, 5.0, 4.0, 3.0, 2.0, 1.0, 1.8728, 1.8726, 1.872, 1.8716, 1.8716, 1.8711, 1.8711, 1.871, 1.8709, 1.8708, 1.8707, 1.8707, 1.8707, 1.8706, 1.8706, 1.8705, 1.8705, 1.8705, 1.8704, 1.8704, 1.8703, 1.8702, 1.8701, 1.8701, 1.8701, 1.87, 1.8699, 1.8699, 1.8695, 1.8695, 1.8428, 1.8388, 1.8642, 1.8473, 1.837, 1.578, 1.8271, 1.832, 1.7371, 1.5254, 1.6595, 1.5692, 1.5742, 1.5278, 1.518, 1.49, 1.7047, 1.5592, 1.0848, 1.3774, 0.9729, 1.0263, 1.1466, 1.2043, 1.26, 1.6682, 0.7784, 0.5085, 1.3475, 0.4927, 0.8831, 0.7043, 0.6819, 1.2879, 0.872, 0.5635, 0.9197, 0.6379, 0.7752, 0.2265, -0.198, 0.5072, 0.335, 0.7109, 0.4676, 0.0177, 0.6044, 0.439, 0.3279, 0.3737, 0.1446, 0.1841, 0.4996, 0.2081, -0.1281, 0.29, 0.19, 0.1735, 0.1427, -0.5138, -0.4813, -0.6246, 2.2245, 2.221, 2.2178, 2.217, 2.2161, 2.2158, 2.2156, 2.2155, 2.2154, 2.215, 2.215, 2.2144, 2.2137, 2.2135, 2.2134, 2.2125, 2.2105, 2.2067, 2.2066, 2.2063, 2.2063, 2.2061, 2.2058, 2.2055, 2.2053, 2.2052, 2.205, 2.205, 2.205, 2.2048, 2.2023, 2.1911, 2.2016, 2.2028, 2.1985, 2.1951, 2.1944, 2.2043, 2.1911, 2.1884, 2.1728, 2.1849, 2.141, 2.1834, 2.1565, 2.1829, 2.088, 1.919, 2.08, 2.0603, 2.1498, 2.0424, 2.0516, 1.9624, 1.98, 1.9192, 2.0594, 1.8688, 1.9982, 1.9024, 1.7954, 1.9192, 2.0875, 1.9393, 1.7141, 1.6932, 1.6189, 1.594, 1.8508, 1.6708, 1.4625, 1.6447, 1.4181, 1.4883, 1.6054, 1.5174, 1.5534, 1.5648, 0.9467, 0.8512, 0.9446, 1.0219, 1.4579, 0.7925, 0.5774, 0.4129, 0.4143, 1.2425, 0.8106, 0.1949, 0.4134, -0.6355, 0.6578, 0.6575, -0.5709, -0.3252, 0.9151, -0.2607, 1.3541, 1.3514, 1.3507, 1.3466, 1.3452, 1.3451, 1.3439, 1.3438, 1.3432, 1.3426, 1.3417, 1.3415, 1.3411, 1.34, 1.3389, 1.3386, 1.3381, 1.3379, 1.3369, 1.3366, 1.3365, 1.3363, 1.3363, 1.3358, 1.3356, 1.3344, 1.3341, 1.3339, 1.3337, 1.3334, 1.3311, 1.3288, 1.3333, 1.3217, 1.3207, 1.2968, 1.2782, 1.3317, 1.2717, 1.1931, 1.2858, 1.2931, 1.2894, 1.2987, 1.3056, 1.2401, 1.2731, 1.2303, 1.167, 1.1699, 1.2332, 1.2072, 0.8787, 1.2297, 0.9564, 1.1705, 1.104, 0.6942, 1.0434, 1.1365, 0.8658, 1.028, 1.0419, 1.0847, 1.0761, 0.9725, 0.6994, 0.7698, 1.054, 1.0406, 0.6922, 0.7612, 0.6717, 0.9486, 0.7037, 0.8202, 0.6134, 0.2705, 0.4054, 0.5156, 0.8573, 0.5415, 0.6333, 0.5012, 0.5512, -0.0159, 0.4287, 0.3477, 0.5617, 0.3571, 0.472, 0.4224, 0.37, 0.2816, 0.3411, 0.0944, 0.2758, 0.4473, 0.2836, -0.1508, 0.2884, -0.2199, -0.1771, -0.1609, 0.1829, -0.1552, 0.3162, -0.0383, 0.2852, -0.5406, 2.132, 2.1267, 2.1248, 2.1246, 2.1235, 2.121, 2.1208, 2.1189, 2.117, 2.1145, 2.1136, 2.1132, 2.113, 2.1125, 2.1104, 2.1102, 2.11, 2.1081, 2.1068, 2.1066, 2.105, 2.105, 2.1038, 2.1037, 2.103, 2.1027, 2.1027, 2.1023, 2.1017, 2.1016, 2.08, 2.1007, 2.076, 2.0807, 2.0478, 2.0714, 2.09, 1.9363, 2.0231, 2.0569, 1.9814, 1.965, 2.0707, 2.0798, 2.0823, 1.8795, 1.8337, 2.0071, 1.7917, 1.8019, 1.8849, 1.9613, 1.7904, 1.8568, 1.6976, 1.5942, 1.7783, 1.5054, 1.8787, 1.9343, 1.607, 1.4812, 1.4131, 1.7008, 1.6365, 1.1647, 1.1456, 1.1812, 1.4606, 1.3969, 1.6866, 1.5937, 1.4443, 1.1198, 1.2559, 1.0227, 1.2069, 0.6021, -0.0818, 1.2236, 0.8064, 0.2684, 0.6285, 0.5038, 0.0999, 0.3048, 0.3729, -0.2866, 2.0669, 2.0669, 2.063, 2.061, 2.0603, 2.06, 2.0598, 2.0588, 2.0578, 2.0578, 2.0577, 2.0563, 2.0548, 2.0541, 2.0526, 2.0523, 2.0505, 2.0482, 2.0467, 2.0464, 2.0459, 2.0457, 2.0427, 2.0426, 2.0422, 2.0421, 2.042, 2.0419, 2.0416, 2.0412, 2.0342, 2.0301, 2.032, 2.0394, 2.0306, 2.0301, 2.0134, 2.0095, 1.9999, 1.8699, 2.0003, 1.9892, 1.9489, 1.9358, 1.9644, 1.6123, 1.7491, 1.9447, 1.5803, 1.8294, 1.6326, 1.5104, 1.3892, 1.6962, 1.5421, 1.2762, 1.1597, 1.7367, 1.8424, 1.1468, 1.3934, 1.2135, 0.7705, 1.5633, 0.9662, 1.0741, 1.5292, 1.5579, 0.8476, 1.1234, 0.9912, 1.3505, 0.7751, 1.0398, 0.9049, 0.5947, 0.3347, 0.8298, 0.9333, 1.2211, 0.7952, 0.6969, 0.6402, -0.5755, -0.1948, -0.1682, -0.2442, -0.345, -0.1371, 0.1774, -0.3136, -0.4248, -0.3198, 1.318, 1.3179, 1.3142, 1.3128, 1.3125, 1.3094, 1.3061, 1.3056, 1.3048, 1.3026, 1.3021, 1.3015, 1.3011, 1.3008, 1.3007, 1.3, 1.2994, 1.299, 1.299, 1.2989, 1.2988, 1.2958, 1.2958, 1.2954, 1.2951, 1.2947, 1.2944, 1.2942, 1.2934, 1.293, 1.2713, 1.2781, 1.2765, 1.2807, 1.2868, 1.2604, 1.2748, 1.2752, 1.2842, 1.253, 1.2668, 1.2439, 1.2663, 1.2745, 1.2705, 1.2838, 1.2814, 1.2167, 1.2711, 1.2768, 1.2748, 1.2805, 1.1869, 1.2417, 1.2421, 1.1355, 1.2445, 1.2605, 1.2635, 1.1197, 1.2251, 1.2274, 0.9842, 1.2385, 0.9434, 1.0862, 1.034, 0.9998, 1.0225, 1.0275, 0.8614, 0.9651, 0.9265, 0.873, 0.9314, 0.9703, 0.8199, 0.8881, 0.8947, 0.6964, 0.4373, 0.7964, 0.8435, 0.4024, 0.7139, 0.5687, 0.5294, 0.8393, 0.338, 0.7272, 0.361, 0.535, 0.3908, 0.5851, 0.3987, 0.0834, -0.0195, 0.1674, 0.6459, -0.1766, 0.3448, 0.1181, -0.3432, 0.0548, -0.2818, -0.3622]}, \"token.table\": {\"Topic\": [1, 2, 3, 4, 5, 6, 1, 2, 3, 4, 5, 6, 1, 2, 3, 4, 5, 6, 1, 3, 4, 5, 6, 1, 2, 3, 4, 5, 6, 1, 3, 6, 1, 2, 3, 4, 5, 6, 1, 2, 3, 4, 5, 6, 1, 2, 3, 4, 5, 6, 1, 2, 3, 4, 5, 6, 6, 1, 2, 3, 4, 5, 6, 1, 2, 3, 4, 5, 6, 1, 2, 3, 4, 5, 6, 2, 6, 1, 2, 3, 4, 5, 6, 6, 1, 2, 3, 4, 5, 6, 1, 2, 3, 4, 5, 6, 1, 2, 3, 4, 5, 6, 2, 3, 6, 4, 6, 1, 2, 3, 4, 5, 6, 6, 1, 3, 5, 6, 5, 1, 2, 3, 4, 5, 6, 3, 1, 2, 3, 4, 5, 6, 1, 2, 3, 5, 6, 1, 2, 3, 4, 5, 6, 1, 2, 3, 4, 5, 6, 1, 2, 3, 4, 5, 6, 1, 2, 3, 4, 5, 6, 1, 3, 4, 5, 6, 1, 2, 3, 4, 5, 6, 1, 3, 5, 6, 1, 3, 6, 5, 6, 1, 2, 3, 4, 5, 6, 4, 6, 1, 2, 3, 4, 5, 6, 2, 6, 2, 4, 6, 2, 4, 2, 3, 6, 1, 2, 3, 4, 5, 6, 1, 3, 6, 1, 2, 3, 4, 5, 6, 1, 2, 3, 4, 5, 6, 1, 2, 3, 4, 5, 6, 1, 2, 3, 4, 5, 6, 3, 5, 3, 3, 3, 1, 2, 3, 4, 5, 6, 1, 2, 3, 4, 5, 6, 1, 2, 3, 4, 5, 6, 3, 1, 2, 3, 4, 5, 6, 6, 1, 2, 3, 4, 5, 6, 1, 2, 3, 4, 5, 6, 3, 1, 2, 3, 4, 5, 6, 1, 2, 3, 5, 6, 1, 2, 3, 4, 5, 6, 1, 2, 3, 4, 5, 6, 3, 1, 2, 3, 4, 5, 6, 1, 2, 3, 4, 5, 6, 1, 2, 3, 4, 5, 6, 1, 2, 3, 4, 5, 6, 3, 5, 1, 2, 3, 4, 5, 6, 1, 2, 3, 4, 5, 6, 1, 2, 3, 4, 5, 6, 1, 2, 3, 4, 5, 6, 1, 2, 3, 4, 5, 6, 1, 3, 6, 1, 2, 3, 4, 5, 6, 1, 2, 3, 4, 5, 6, 1, 2, 3, 4, 5, 6, 1, 2, 3, 4, 5, 6, 1, 2, 3, 4, 5, 6, 1, 2, 3, 4, 5, 6, 1, 2, 3, 4, 5, 6, 1, 2, 3, 4, 5, 6, 1, 2, 3, 4, 5, 6, 1, 2, 3, 4, 5, 6, 1, 2, 3, 4, 5, 6, 4, 1, 2, 3, 4, 5, 6, 1, 2, 3, 4, 5, 6, 1, 2, 3, 4, 5, 6, 1, 2, 3, 4, 5, 6, 1, 2, 3, 4, 5, 6, 1, 2, 3, 4, 5, 6, 4, 1, 2, 3, 4, 5, 6, 1, 2, 3, 4, 5, 6, 1, 2, 3, 4, 5, 6, 1, 2, 3, 4, 5, 6, 5, 1, 2, 3, 4, 5, 6, 3, 6, 6, 1, 2, 3, 4, 5, 6, 1, 2, 3, 4, 5, 6, 1, 2, 3, 4, 5, 6, 1, 2, 3, 4, 5, 6, 3, 1, 2, 3, 4, 5, 6, 5, 1, 2, 3, 4, 5, 6, 1, 2, 3, 4, 5, 6, 1, 2, 3, 4, 5, 6, 1, 2, 3, 4, 5, 6, 1, 2, 3, 4, 5, 6, 1, 2, 3, 4, 5, 6, 4, 2, 3, 6, 1, 2, 3, 4, 5, 6, 1, 2, 3, 4, 5, 6, 1, 2, 3, 4, 5, 6, 1, 2, 3, 4, 5, 6, 1, 2, 3, 4, 5, 6, 1, 3, 5, 6, 1, 2, 3, 4, 5, 6, 1, 2, 3, 4, 5, 6, 1, 2, 3, 4, 5, 6, 1, 2, 3, 4, 5, 6, 4, 6, 1, 2, 3, 4, 5, 6, 1, 2, 3, 4, 5, 6, 2, 4, 6, 1, 2, 3, 4, 5, 6, 1, 2, 3, 4, 5, 6, 1, 2, 3, 4, 5, 6, 1, 2, 3, 4, 5, 6, 2, 3, 5, 6, 1, 2, 3, 4, 5, 6, 1, 2, 3, 4, 5, 6, 1, 2, 3, 4, 5, 6, 2, 4, 1, 2, 3, 4, 5, 6, 1, 2, 3, 4, 6, 1, 3, 5, 6, 1, 2, 3, 4, 5, 6, 1, 2, 3, 4, 5, 6, 1, 4, 6, 2, 3, 4, 1, 2, 3, 4, 5, 6, 5, 6, 1, 2, 3, 4, 5, 6, 1, 2, 3, 4, 5, 6, 1, 2, 3, 4, 5, 6, 1, 3, 4, 5, 1, 2, 3, 4, 5, 6, 1, 2, 3, 4, 5, 6, 3, 1, 2, 3, 4, 5, 6, 1, 2, 3, 4, 5, 6, 1, 2, 3, 5, 6, 1, 2, 3, 5, 6, 1, 2, 3, 4, 5, 6, 1, 2, 3, 4, 5, 6, 1, 2, 3, 4, 5, 6, 1, 2, 3, 5, 6, 6, 1, 2, 3, 4, 5, 6, 3, 6, 1, 2, 3, 4, 5, 6, 1, 2, 3, 4, 5, 6, 1, 2, 3, 4, 5, 6, 1, 2, 3, 4, 5, 6, 1, 2, 3, 5, 6, 1, 2, 3, 4, 5, 6, 1, 2, 3, 4, 5, 6, 1, 2, 3, 4, 5, 6, 1, 2, 3, 4, 5, 6, 1, 2, 3, 4, 5, 6, 1, 3, 5, 1, 2, 3, 4, 5, 6, 2, 3, 5, 6, 1, 2, 3, 4, 5, 6, 1, 2, 3, 4, 5, 6, 1, 2, 3, 4, 5, 6, 1, 2, 3, 4, 5, 6, 1, 2, 3, 4, 5, 6, 1, 2, 3, 4, 5, 6, 1, 2, 3, 4, 5, 6, 1, 2, 3, 4, 5, 6, 1, 2, 3, 4, 5, 6, 1, 2, 3, 4, 5, 6, 1, 2, 3, 4, 5, 6, 1, 2, 3, 5, 6, 1, 2, 3, 4, 5, 6, 2, 4, 1, 2, 3, 4, 5, 6, 1, 2, 3, 4, 5, 6, 1, 2, 3, 4, 5, 6, 1, 2, 3, 4, 5, 6, 1, 2, 3, 4, 5, 6, 6, 1, 2, 3, 4, 5, 6, 3, 4, 6, 4, 1, 2, 4, 5, 6, 1, 2, 3, 4, 5, 6, 1, 2, 3, 4, 5, 6, 1, 2, 3, 4, 5, 6, 6, 1, 2, 3, 5, 6, 1, 2, 3, 4, 5, 6, 1, 2, 3, 4, 5, 6, 1, 2, 3, 4, 5, 6, 3, 1, 2, 3, 4, 5, 6, 1, 4, 6, 1, 2, 3, 4, 5, 6, 1, 2, 3, 4, 5, 6, 1, 2, 3, 4, 5, 6, 1, 2, 3, 4, 5, 6, 1, 2, 3, 4, 5, 6, 1, 2, 3, 4, 5, 6, 1, 2, 3, 4, 5, 6, 1, 2, 3, 4, 5, 6, 1, 2, 3, 4, 5, 6, 1, 2, 3, 4, 5, 6, 2, 3, 5, 6, 1, 2, 3, 4, 5, 6, 1, 2, 3, 4, 5, 6, 1, 2, 3, 4, 5, 6, 3, 4, 6, 1, 2, 3, 4, 5, 6, 4, 6, 1, 2, 5, 6, 5, 1, 2, 3, 4, 5, 6, 4, 6, 1, 2, 3, 4, 5, 6, 5, 1, 2, 3, 4, 5, 6, 1, 2, 3, 4, 5, 6, 1, 2, 3, 5, 6, 1, 2, 3, 4, 5, 6, 1, 2, 3, 4, 5, 6, 1, 2, 3, 4, 5, 6, 1, 4, 6, 1, 2, 3, 4, 5, 6, 3, 1, 3, 5, 6, 1, 2, 3, 4, 5, 6, 1, 2, 3, 4, 5, 6, 1, 2, 3, 4, 5, 6, 1, 3, 5, 6, 1, 2, 3, 4, 5, 6, 3, 4, 5, 6, 1, 2, 3, 4, 5, 6, 1, 2, 3, 4, 5, 6, 1, 2, 3, 4, 5, 6, 1, 2, 3, 4, 5, 6, 1, 2, 3, 4, 5, 6, 1, 2, 3, 4, 5, 6, 1, 2, 3, 4, 5, 6, 1, 2, 3, 4, 5, 6, 1, 2, 3, 4, 5, 6, 1, 2, 3, 4, 5, 6, 1, 2, 3, 4, 5, 6, 1, 3, 5, 6, 1, 2, 3, 4, 5, 6, 1, 2, 3, 4, 5, 6, 1, 2, 4, 6, 1, 2, 3, 4, 5, 6, 2, 4, 6, 1, 2, 3, 4, 5, 6, 5, 1, 2, 3, 4, 5, 6, 3, 1, 2, 3, 4, 6, 1, 2, 3, 4, 5, 6, 4, 1, 2, 3, 4, 5, 6, 1, 2, 3, 4, 5, 6, 1, 3, 5, 6, 1, 2, 3, 4, 5, 6, 1, 2, 3, 4, 5, 6, 1, 2, 3, 4, 5, 6, 1, 2, 3, 4, 5, 6, 1, 2, 3, 4, 5, 6, 1, 2, 3, 4, 5, 6, 3, 1, 2, 3, 5, 6, 1, 3, 5, 6, 5, 6, 1, 2, 3, 4, 5, 6, 1, 2, 3, 4, 5, 6, 1, 2, 3, 4, 5, 6, 4, 6, 1, 2, 3, 4, 5, 6, 3, 1, 2, 3, 4, 5, 6, 2, 3, 4, 6, 1, 2, 3, 4, 5, 6, 1, 2, 3, 4, 5, 6, 1, 2, 3, 4, 5, 6, 1, 3, 6, 1, 2, 3, 4, 5, 6, 1, 2, 3, 4, 5, 6, 3, 1, 2, 3, 4, 5, 6, 1, 2, 3, 4, 5, 6, 1, 2, 3, 4, 5, 6, 1, 2, 3, 4, 5, 6, 4, 6, 4, 5, 3, 5, 1, 2, 3, 4, 5, 6, 1, 2, 3, 4, 5, 6, 1, 2, 3, 4, 5, 6, 1, 2, 3, 4, 5, 6, 1, 2, 3, 4, 5, 6, 1, 2, 3, 4, 5, 6, 1, 2, 3, 4, 5, 6, 1, 2, 3, 4, 5, 6, 1, 2, 3, 4, 5, 6, 1, 2, 3, 4, 5, 6, 1, 2, 3, 4, 5, 6, 1, 2, 3, 4, 5, 6, 1, 2, 3, 5, 6, 1, 2, 3, 4, 5, 6, 1, 2, 3, 4, 5, 6, 1, 2, 3, 4, 5, 6, 1, 2, 3, 4, 5, 6, 1, 2, 3, 4, 5, 6, 4, 6, 1, 2, 3, 4, 5, 6, 1, 2, 3, 4, 5, 6, 1, 2, 3, 4, 5, 6, 1, 2, 3, 4, 5, 6, 1, 2, 3, 4, 5, 6, 1, 2, 3, 4, 5, 6, 3, 1, 2, 3, 4, 5, 6, 1, 2, 3, 4, 5, 6, 1, 2, 3, 4, 5, 6, 1, 2, 3, 4, 5, 6, 1, 2, 3, 4, 5, 6, 1, 2, 3, 4, 5, 6, 1, 2, 3, 4, 5, 6, 1, 2, 3, 4, 5, 6, 1, 2, 3, 4, 5, 6, 1, 2, 3, 4, 5, 6, 3, 4, 6, 1, 2, 3, 4, 5, 6, 1, 2, 3, 4, 5, 6, 1, 2, 3, 4, 5, 6, 1, 2, 3, 4, 5, 6, 1, 2, 3, 5, 6, 1, 2, 3, 4, 5, 6, 1, 2, 3, 4, 5, 6, 1, 2, 3, 4, 5, 6, 1, 2, 3, 4, 5, 6, 1, 2, 3, 4, 5, 6, 1, 2, 3, 4, 5, 6, 1, 2, 3, 5, 6, 1, 2, 3, 4, 5, 6, 1, 2, 3, 5, 6, 6, 1, 2, 3, 4, 5, 6, 1, 2, 3, 4, 5, 6, 1, 3, 5, 6, 1, 2, 3, 4, 5, 6, 1, 2, 3, 4, 5, 6, 1, 2, 3, 4, 5, 6, 1, 2, 3, 4, 5, 6, 1, 2, 3, 4, 5, 6, 1, 2, 3, 4, 5, 6, 1, 2, 3, 4, 5, 6, 4, 1, 2, 3, 4, 5, 6, 1, 2, 3, 4, 5, 6, 1, 2, 3, 4, 5, 6, 4, 6, 1, 2, 3, 4, 5, 6, 2, 4, 6, 1, 2, 3, 4, 5, 6, 1, 2, 3, 4, 5, 6, 1, 2, 3, 4, 5, 6, 1, 2, 3, 4, 5, 6, 1, 2, 3, 4, 5, 6, 1, 2, 3, 4, 5, 6, 1, 2, 3, 4, 5, 6, 6, 1, 2, 3, 4, 5, 6, 1, 2, 3, 4, 5, 6, 1, 2, 3, 4, 5, 6, 1, 2, 3, 4, 5, 6, 2, 6, 1, 2, 3, 4, 5, 6, 1, 2, 3, 4, 5, 6, 1, 2, 3, 4, 6, 1, 2, 3, 4, 5, 6, 1, 3, 5, 6, 1, 2, 3, 4, 5, 6, 1, 2, 3, 4, 5, 6, 1, 2, 3, 4, 6, 1, 2, 3, 4, 5, 6, 1, 2, 3, 4, 5, 6, 1, 2, 3, 4, 5, 6, 1, 2, 3, 4, 5, 6, 1, 2, 3, 4, 5, 6, 1, 2, 3, 4, 5, 6, 1, 2, 3, 4, 5, 6, 1, 2, 3, 4, 5, 6, 4, 6, 1, 2, 3, 4, 5, 6, 1, 2, 3, 4, 5, 6, 1, 2, 3, 4, 5, 6, 1, 2, 3, 4, 5, 6, 1, 2, 3, 4, 5, 6, 1, 2, 3, 4, 5, 6, 1, 2, 3, 4, 5, 6, 1, 2, 3, 4, 5, 6, 1, 2, 3, 4, 5, 6, 1, 2, 3, 4, 5, 6, 3, 4, 1, 2, 3, 4, 5, 6, 1, 2, 3, 4, 5, 6, 1, 2, 3, 4, 5, 6, 1, 2, 3, 4, 5, 6, 1, 3, 5, 1, 3, 4, 5, 6, 1, 2, 3, 4, 5, 6, 4, 6, 1, 2, 3, 4, 5, 6, 6, 1, 2, 3, 4, 5, 6, 3, 1, 2, 3, 4, 5, 6, 1, 2, 3, 4, 5, 6, 2, 3, 4, 1, 2, 3, 4, 5, 6, 1, 2, 3, 4, 5, 6, 1, 2, 3, 4, 5, 6, 1, 3, 5, 6, 1, 2, 3, 4, 5, 6, 1, 2, 3, 4, 5, 6, 1, 2, 3, 4, 5, 6, 1, 2, 3, 4, 5, 6, 1, 2, 3, 5, 6, 1, 2, 3, 4, 5, 6, 6, 1, 2, 3, 4, 5, 6, 1, 2, 3, 4, 5, 6, 3, 4, 6, 1, 4, 6, 1, 2, 3, 4, 5, 6, 3, 5, 4, 1, 2, 3, 4, 5, 6, 1, 2, 3, 4, 5, 6, 1, 2, 3, 4, 5, 6, 1, 2, 3, 4, 5, 6, 1, 3, 5, 6, 1, 2, 3, 4, 5, 6, 1, 2, 3, 4, 5, 6, 4, 6, 1, 2, 3, 4, 5, 6, 1, 2, 3, 4, 5, 6, 1, 2, 3, 4, 5, 6, 1, 2, 3, 4, 5, 6, 1, 2, 3, 4, 5, 6, 1, 2, 3, 4, 5, 6, 1, 3, 5, 6, 1, 2, 3, 5, 6, 1, 2, 3, 4, 5, 6, 1, 3, 5, 6, 1, 2, 3, 4, 5, 6, 1, 2, 3, 4, 5, 6, 1, 2, 3, 4, 5, 6, 2, 3, 6, 1, 2, 3, 4, 5, 6, 1, 2, 3, 4, 5, 6, 1, 2, 3, 4, 5, 6, 1, 2, 3, 5, 1, 2, 3, 5, 6, 1, 2, 3, 4, 5, 6, 1, 2, 3, 4, 5, 6, 1, 2, 3, 4, 5, 6, 3, 5, 6, 1, 2, 3, 4, 5, 6, 2, 3, 5, 6, 1, 2, 3, 4, 5, 6, 5, 5, 5, 1, 2, 3, 5, 6, 1, 2, 3, 5, 6, 1, 2, 3, 4, 5, 6, 1, 2, 3, 4, 5, 6, 1, 2, 3, 4, 5, 6, 2, 4, 5, 6, 1, 2, 3, 4, 5, 6, 1, 2, 3, 4, 5, 6, 3, 3, 1, 2, 3, 4, 5, 6, 1, 2, 3, 5, 6, 1, 2, 3, 4, 5, 6], \"Freq\": [0.004380254670570223, 0.9329942448314574, 0.021901273352851112, 0.008760509341140445, 0.008760509341140445, 0.026281528023421336, 0.07108364470433388, 0.07041304428259489, 0.04023602530433994, 0.05029503163042492, 0.03621242277390594, 0.7316250601172478, 0.3558606545226038, 0.09054442689036664, 0.3046223354296056, 0.07182723270114356, 0.06340449531599318, 0.1139409196268955, 0.032424162896512565, 0.9078765611023518, 0.010808054298837522, 0.010808054298837522, 0.04323221719535009, 0.040176349847534334, 0.011478957099295525, 0.8494428253478689, 0.005739478549647762, 0.06313426404612539, 0.03443687129788657, 0.9683887162287602, 0.012258085015553926, 0.012258085015553926, 0.004956093940193775, 0.0396487515215502, 0.00991218788038755, 0.00991218788038755, 0.004956093940193775, 0.926789566816236, 0.005666431506002831, 0.008499647259004248, 0.03966502054201982, 0.01983251027100991, 0.005666431506002831, 0.9236283354784616, 0.033779352363701796, 0.010109149247531195, 0.11736475711767924, 0.02794398978992363, 0.7942668156759469, 0.016519829258160736, 0.12201313233217258, 0.055643836302710664, 0.24396324786219034, 0.1066496359668262, 0.06885215803436202, 0.40287901953622857, 0.9391520283766847, 0.029603784643605954, 0.038972070923228096, 0.11516746599748814, 0.027855037871409822, 0.21134853846827542, 0.5769615243409953, 0.008719612770028303, 0.0043598063850141516, 0.013079419155042453, 0.008719612770028303, 0.9591574047031133, 0.008719612770028303, 0.17882856533365582, 0.05167669568577126, 0.3284808144428092, 0.14662335187398257, 0.0866635494634585, 0.20775762464100145, 0.9592682808747623, 0.9467575174804631, 0.051336788703967774, 0.04690425592733006, 0.03868392241429283, 0.75804369631008, 0.012652866289674946, 0.09235786476412414, 0.9748466622795954, 0.2523087076623831, 0.048526222679176154, 0.2054415011431788, 0.026406007212885028, 0.3583474905539162, 0.10921856386481242, 0.08917584916048156, 0.05003034762530936, 0.08418280049528103, 0.354606316202542, 0.10625207559546739, 0.3156605366139778, 0.08664218952583819, 0.05202580071995424, 0.21223287733385224, 0.3638971960085204, 0.08890946177511246, 0.1962809975800297, 0.9590433118414412, 0.020848767648726983, 0.020848767648726983, 0.02571835397821591, 0.9515790971939886, 0.15234801890900257, 0.021764002701286082, 0.5351384193610342, 0.05197755939248323, 0.15721291363046652, 0.08116692772126692, 0.9467096015915203, 0.9684900724721263, 0.012259368005976282, 0.012259368005976282, 0.012259368005976282, 0.940416253699705, 0.011058613580202398, 0.011058613580202398, 0.9620993814776087, 0.011058613580202398, 0.011058613580202398, 0.011058613580202398, 0.9442139625037533, 0.11360852606922442, 0.018494411220571418, 0.6552305689573873, 0.016733038723374137, 0.17173381847673458, 0.02377852871216325, 0.009834904627066396, 0.009834904627066396, 0.009834904627066396, 0.01966980925413279, 0.9539857488254403, 0.005369447812209384, 0.005369447812209384, 0.01342361953052346, 0.005369447812209384, 0.958446434479375, 0.008054171718314075, 0.004434877723653354, 0.004434877723653354, 0.044348777236533535, 0.004434877723653354, 0.9313243219672042, 0.008869755447306707, 0.5243221907497071, 0.010083119052878982, 0.38441891389101124, 0.013234093756903665, 0.043483450915540615, 0.023947407750587586, 0.16586345931652166, 0.4967455725540648, 0.16501865392102155, 0.035763428409504666, 0.05491235070750717, 0.0819461233635107, 0.013803292895196034, 0.9524272097685264, 0.013803292895196034, 0.013803292895196034, 0.013803292895196034, 0.05087193171930566, 0.006782924229240754, 0.8885630740305388, 0.010174386343861131, 0.030523159031583393, 0.010174386343861131, 0.9683478254725485, 0.012257567411044917, 0.012257567411044917, 0.012257567411044917, 0.9684002394316469, 0.012258230878881607, 0.012258230878881607, 0.030522556621352642, 0.9461992552619319, 0.01132290055296789, 0.8469529613619983, 0.009058320442374312, 0.02491038121652936, 0.09737694475552386, 0.01132290055296789, 0.02172178842367055, 0.9557586906415041, 0.008988419428943057, 0.943784040039021, 0.017976838857886115, 0.004494209714471529, 0.013482629143414587, 0.013482629143414587, 0.9591977814020598, 0.020852125682653475, 0.9593660049411044, 0.020855782716110965, 0.020855782716110965, 0.9594710934764952, 0.020858067249489024, 0.9593703967036051, 0.02085587818920881, 0.02085587818920881, 0.589388369515299, 0.030088895741021273, 0.20796736762176468, 0.03805360343717396, 0.06814249917819525, 0.06637256413460575, 0.968248102306478, 0.012256305092487063, 0.012256305092487063, 0.005038899637806513, 0.9657890972462483, 0.008398166063010856, 0.005038899637806513, 0.010077799275613026, 0.008398166063010856, 0.13085678678000792, 0.18714444874052605, 0.14436434537013884, 0.15135867022913813, 0.10347159950138636, 0.28280756916652167, 0.04236084769911396, 0.01059021192477849, 0.9001680136061716, 0.01059021192477849, 0.01059021192477849, 0.02118042384955698, 0.013537300313177188, 0.04963676781498302, 0.0045124334377257295, 0.8968461457479887, 0.0045124334377257295, 0.03045892570464867, 0.024016940592288722, 0.9606776236915489, 0.9499464743243076, 0.9495889825266194, 0.9460337798850267, 0.13780820072674724, 0.1503730660871271, 0.08187428396118512, 0.010943592410653456, 0.4932722949542688, 0.12605397184123054, 0.152214868763366, 0.10389770087789921, 0.4346966117277455, 0.05779112237281324, 0.14053032489563874, 0.11084526750195325, 0.1142947064489382, 0.05246671286513163, 0.09753148283642726, 0.060739472570007155, 0.03853364388849916, 0.6365670888698958, 0.9418498184048804, 0.010792583149091471, 0.007195055432727647, 0.0035975277163638234, 0.9065769845236835, 0.0035975277163638234, 0.07195055432727647, 0.9509593745700319, 0.005332388774657277, 0.006398866529588733, 0.04159263244232676, 0.015997166323971832, 0.007465344284520188, 0.9235697357706404, 0.00587765305791795, 0.0117553061158359, 0.01763295917375385, 0.0235106122316718, 0.00587765305791795, 0.9286691831510362, 0.9309415498030931, 0.03216132207339463, 0.010233147932443745, 0.0387397743156799, 0.8749341482239402, 0.008771269656380353, 0.03435413948748972, 0.013114279263377885, 0.9573423862265856, 0.013114279263377885, 0.013114279263377885, 0.013114279263377885, 0.16498025222585805, 0.023118251904260364, 0.5306689641659765, 0.08275283352093198, 0.11769291878532548, 0.08091388166491127, 0.21945230164903123, 0.014653229395072012, 0.5968594933913978, 0.015345507949169902, 0.08053507179338791, 0.07315076721634374, 0.9488329209785096, 0.1596485522371727, 0.009978034514823294, 0.7732976748988052, 0.01746156040094076, 0.024945086287058233, 0.01746156040094076, 0.01953000851220198, 0.00976500425610099, 0.9374404085856951, 0.00976500425610099, 0.00976500425610099, 0.00976500425610099, 0.004812292332321793, 0.961014778764662, 0.00721843849848269, 0.005293521565553972, 0.008180896964947048, 0.012993189297268842, 0.1184219110094505, 0.039473970336483505, 0.5628523770331529, 0.02832837871206463, 0.09427312915654296, 0.15650268239288165, 0.028848412781948694, 0.9519976218043069, 0.0088661827223109, 0.01329927408346635, 0.9087837290368672, 0.01329927408346635, 0.057630187695020846, 0.0088661827223109, 0.01095968041790607, 0.11391425404066007, 0.0720682015359278, 0.05845162889549904, 0.021255137780181472, 0.7233389075818006, 0.13064805703321727, 0.05712809450396582, 0.26226988840457033, 0.14006120896852983, 0.271196153170815, 0.13876284318434878, 0.024904212421468598, 0.04358237173757004, 0.09072248810677846, 0.015120414684463077, 0.5843595557466025, 0.24103719879349964, 0.06861592399118026, 0.006237811271925478, 0.06237811271925478, 0.006237811271925478, 0.848342332981865, 0.012475622543850956, 0.022669250571775146, 0.022669250571775146, 0.9521085240145561, 0.2048510853438694, 0.05221114305154217, 0.4301133257617128, 0.05605672299301553, 0.12172739583971445, 0.1350390187140453, 0.10927038373534663, 0.04641573822386406, 0.15057486507146375, 0.019754317160751666, 0.32988328237674813, 0.3441119164156112, 0.09190624672849589, 0.1276573877221509, 0.2076465874527618, 0.12790492282299717, 0.0800599240451384, 0.364831376490147, 0.03759346346966929, 0.03240815816350801, 0.038457681020696174, 0.685324517964316, 0.016852242245024164, 0.19012786122591366, 0.7145390990185653, 0.05096849540324471, 0.12448074838869382, 0.012742123850811178, 0.06371061925405588, 0.033325554686736925, 0.053028015717815576, 0.5171848240283293, 0.08730222099884272, 0.07453022940827128, 0.06660836120652444, 0.20128012063622072, 0.16426389261135999, 0.20271043126268137, 0.20516086998990846, 0.15598309967107538, 0.14896977503797718, 0.1229444257970827, 0.1715740284828288, 0.07655174273350772, 0.1863648930072106, 0.06565700837652406, 0.05570023128206217, 0.44423098964204244, 0.03934411274510855, 0.023114666237751273, 0.1893435425858349, 0.00934422677696328, 0.7037678167281292, 0.03491790006128384, 0.7206971929242082, 0.07694996721303712, 0.10246495634157048, 0.01802249232094817, 0.029159987575466697, 0.05264997756681487, 0.025911945748885806, 0.8230853355528432, 0.03963003467476653, 0.04877542729202034, 0.0213392494402589, 0.03810580257189089, 0.9475860162324234, 0.009602847016793698, 0.008125485937286975, 0.03582600617803803, 0.017358992684203992, 0.011449548366177103, 0.9174412303736749, 0.09699449426552453, 0.05801539843919224, 0.24928491516840415, 0.3934169206657724, 0.10859757395336297, 0.09373112810331996, 0.050625838529655014, 0.013125217396577226, 0.7987632301345569, 0.018750310566538895, 0.11062683234257947, 0.009375155283269447, 0.004795121865016571, 0.09110731543531485, 0.8583268138379663, 0.019180487460066283, 0.004795121865016571, 0.023975609325082855, 0.00675552173292957, 0.010133282599394356, 0.05404417386343656, 0.02026656519878871, 0.01351104346585914, 0.8984843904796328, 0.07201529969953253, 0.5022839257524357, 0.26253678877804265, 0.015800825250530344, 0.07110371362738656, 0.07626936803621379, 0.9381340257737613, 0.08762445980895325, 0.060574164828352914, 0.06889733251469148, 0.12885496640331562, 0.03830198463065063, 0.6156832096866557, 0.18653425035470017, 0.08095570266153834, 0.10691498500573349, 0.21131908778784747, 0.04094357948515021, 0.37331148931168606, 0.030171151785619976, 0.015085575892809988, 0.7995355223189293, 0.006034230357123995, 0.13878729821385188, 0.009051345535685993, 0.10261958957833288, 0.0804744827067871, 0.35883429776006626, 0.04236818559952343, 0.321730797945099, 0.09401224615278868, 0.9358828329032195, 0.04593424889662128, 0.01236691316447496, 0.7967825481683153, 0.00530010564191784, 0.13073593916730672, 0.0088335094031964, 0.016785110523099243, 0.9735364103397561, 0.9462845318980273, 0.09982510660731728, 0.013612514537361446, 0.8485134061621968, 0.013612514537361446, 0.013612514537361446, 0.013612514537361446, 0.08492304349527646, 0.07042814651315096, 0.1101612170641538, 0.0840704024963279, 0.04570155754364275, 0.604692996454318, 0.04580712758008688, 0.06090837843066497, 0.12131338183297732, 0.49053896512961165, 0.06745225379924881, 0.2139343870498563, 0.0051833249808815075, 0.0051833249808815075, 0.02073329992352603, 0.02073329992352603, 0.0051833249808815075, 0.9433651465204344, 0.9513742286113775, 0.013601120688052795, 0.013601120688052795, 0.9520784481636956, 0.013601120688052795, 0.013601120688052795, 0.013601120688052795, 0.929881401445787, 0.15401825844289577, 0.06562003961245215, 0.14540267770241194, 0.05629632894809294, 0.08237911447750287, 0.4963990766366434, 0.004435594789545895, 0.931474905804638, 0.01774237915818358, 0.004435594789545895, 0.01774237915818358, 0.02217797394772948, 0.01418957305146172, 0.01418957305146172, 0.9507013944479353, 0.01418957305146172, 0.01418957305146172, 0.01418957305146172, 0.03883352477614935, 0.558680625350989, 0.03687553193029308, 0.09724697801086139, 0.024148578432227327, 0.24442277359105768, 0.01386663103010144, 0.7746824535483338, 0.017564399304795156, 0.11185749030948494, 0.008319978618060863, 0.07395536549387434, 0.11835632958893717, 0.0962177355651072, 0.1728513302629802, 0.009366328240851143, 0.5645341476076644, 0.0383167973489365, 0.9573281403761437, 0.016527322149509267, 0.9420573625220282, 0.03305464429901853, 0.02253106684312599, 0.7159361443825953, 0.04046395677949158, 0.08322700201236335, 0.022990884533802033, 0.11495442266901017, 0.00644834296402084, 0.00644834296402084, 0.029017543338093782, 0.01773294315105731, 0.00967251444603126, 0.9301734725600062, 0.014252281416402356, 0.008551368849841413, 0.08646384059284096, 0.008551368849841413, 0.5814930817892161, 0.3011982139333031, 0.006723552387323364, 0.006723552387323364, 0.03193687383978598, 0.013447104774646728, 0.010085328580985046, 0.9312120056442859, 0.038695122855261894, 0.6808422856103519, 0.05212648781328669, 0.07323291846161135, 0.03165964597248701, 0.12344063985232308, 0.9684163550198641, 0.012258434873669167, 0.012258434873669167, 0.012258434873669167, 0.012294472893607402, 0.012294472893607402, 0.012294472893607402, 0.012294472893607402, 0.9589688857013774, 0.012294472893607402, 0.034235753749958284, 0.0700516192114531, 0.05214368648070569, 0.04266301621148647, 0.030022122519194186, 0.7710945152298296, 0.12081890679943519, 0.05511627459000659, 0.08586712291308954, 0.0680551561248557, 0.03780842006936428, 0.6323248209823013, 0.007905742213787047, 0.00826509413259555, 0.03952871106893524, 0.020483059372084625, 0.020842411290893127, 0.9026920200469575, 0.9538111500182348, 0.018342522115735286, 0.07647943291498442, 0.46541499460440006, 0.09114129311112133, 0.19516124720533592, 0.03804158321159847, 0.13413620747006336, 0.010882251584310965, 0.9467558878350539, 0.0054411257921554825, 0.0054411257921554825, 0.02176450316862193, 0.010882251584310965, 0.02319704054751863, 0.9510786624482638, 0.02319704054751863, 0.1162876971352186, 0.05859597802769957, 0.049372537041857976, 0.15426657178280165, 0.01935114089186375, 0.6022364408402456, 0.007448127841128512, 0.029792511364514048, 0.007448127841128512, 0.007448127841128512, 0.007448127841128512, 0.9384641079821925, 0.06446927542362582, 0.45345317713882105, 0.25050505450480615, 0.02789813936493225, 0.15799308977135207, 0.04567778258714296, 0.03228060212978523, 0.7040825672081458, 0.060906796471292886, 0.04811636921232138, 0.03349873805921109, 0.12059545701315992, 0.01200215684419655, 0.036006470532589645, 0.9361682338473308, 0.01200215684419655, 0.019886201967642472, 0.006628733989214157, 0.02651493595685663, 0.006628733989214157, 0.9346514924791961, 0.006628733989214157, 0.16006105046694763, 0.01287847532492682, 0.7267139647637277, 0.0091989109463763, 0.06807194100318462, 0.02391716846057838, 0.07146698108123949, 0.6325793595704305, 0.107522394960063, 0.01545232023378151, 0.0833781445947794, 0.08949468802065125, 0.9594341482744668, 0.02085726409292319, 0.016121148519006378, 0.8475118078563353, 0.01266661669350501, 0.04260589251451685, 0.005757553042502277, 0.07599970016103007, 0.013454091112450666, 0.9686945600964479, 0.013454091112450666, 0.013454091112450666, 0.013454091112450666, 0.9685246953425038, 0.012259806270158278, 0.012259806270158278, 0.012259806270158278, 0.20448246096651623, 0.051834875334825475, 0.46692202663811294, 0.03612115328450437, 0.0826500964984422, 0.1579535177525784, 0.2814600186992606, 0.10245665245630922, 0.19793300180069898, 0.024726836447307884, 0.1695385484640775, 0.2238429404703661, 0.010237130274681632, 0.010237130274681632, 0.972527376094755, 0.013323004962396932, 0.9326103473677853, 0.0399690148871908, 0.17843790865010692, 0.05418589529062176, 0.1182432804163667, 0.06867123363563946, 0.04914285157050449, 0.5312363714532047, 0.01874261660228391, 0.9558734467164793, 0.06600768182530665, 0.05222585814749538, 0.06455696354343178, 0.5944318159982286, 0.015595221530154869, 0.2067273551671692, 0.10609485241774881, 0.02233575840373659, 0.7035763897177026, 0.006514596201089839, 0.14332111642397646, 0.016751818802802444, 0.2941500669566771, 0.06092945529668952, 0.2373282153878543, 0.04564004142074122, 0.10987839972043448, 0.25216122884959524, 0.017382380369101648, 0.9560309203005907, 0.017382380369101648, 0.017382380369101648, 0.06761533882751729, 0.03914572247908896, 0.17584174803441027, 0.019677528946707816, 0.5945125766877681, 0.1032023592630527, 0.007393580088711564, 0.007393580088711564, 0.06407769410216689, 0.017251686873660316, 0.017251686873660316, 0.8847650839491505, 0.9545214940423321, 0.05616715611329937, 0.4338687540409676, 0.0722363692259278, 0.08875612102395702, 0.05226248750649246, 0.29690499367912526, 0.17377217827013416, 0.07791919737379681, 0.38774076788389367, 0.03623861084209915, 0.15336476943413976, 0.17092750915966223, 0.9684726816902149, 0.012259147869496391, 0.012259147869496391, 0.012259147869496391, 0.012259147869496391, 0.968616296089346, 0.01226096577328286, 0.01226096577328286, 0.01226096577328286, 0.01226096577328286, 0.2722339808661764, 0.061902974698747316, 0.30033375814515834, 0.09848832828474854, 0.0891681051278585, 0.1779188868307816, 0.012203420372063137, 0.05423742387583617, 0.029090981897039396, 0.694362292483148, 0.1612330691581675, 0.04881368148825255, 0.934243209439942, 0.018082126634321457, 0.0060273755447738196, 0.012054751089547639, 0.0060273755447738196, 0.024109502179095278, 0.9684037819389554, 0.01225827572074627, 0.01225827572074627, 0.01225827572074627, 0.01225827572074627, 0.9418589281910688, 0.037761885853681405, 0.006293647642280234, 0.04405553349596164, 0.006293647642280234, 0.8936979652037932, 0.012587295284560467, 0.02872203004224531, 0.9478269913940953, 0.5721179681192647, 0.009615428035617895, 0.2884628410685368, 0.024038570089044736, 0.09495235185172671, 0.009615428035617895, 0.35976864437820183, 0.0198983151458561, 0.22083576541338512, 0.03535504208951218, 0.25494716280628127, 0.10926306977412055, 0.9326247822745906, 0.00764446542848025, 0.0152889308569605, 0.0152889308569605, 0.0152889308569605, 0.02293339628544075, 0.4961910404328265, 0.13475605365779963, 0.14967547388419888, 0.018769593188050663, 0.09721686728169832, 0.10347339834438186, 0.9685476486402719, 0.01226009681823129, 0.01226009681823129, 0.01226009681823129, 0.01226009681823129, 0.019960205614279938, 0.8937736513949793, 0.0317884756079273, 0.008871202495235528, 0.01182826999364737, 0.03400627623173619, 0.08838240073877103, 0.5832689489748089, 0.12241785940835988, 0.04281880284238596, 0.04885735196118399, 0.11418347424636258, 0.13689678127921814, 0.039683843616035885, 0.19879359396334959, 0.05278699952699113, 0.033444245563200053, 0.5383525199986755, 0.20796298560710494, 0.0612794157341035, 0.35096979053606014, 0.07443836395490046, 0.22189598960559584, 0.08346901469466309, 0.04762864771135202, 0.009525729542270404, 0.8858928474311476, 0.014288594313405607, 0.028577188626811214, 0.019051459084540808, 0.025885740225678765, 0.025885740225678765, 0.9318866481244356, 0.026559735663914282, 0.05824503435068922, 0.07195757958068005, 0.569935981840687, 0.02722539319935073, 0.24602702509731125, 0.009526428412878428, 0.009526428412878428, 0.009526428412878428, 0.9716956981135996, 0.18841655927413678, 0.04302221298419079, 0.4989021686419715, 0.03071163999172656, 0.1428026467125851, 0.0962816392989571, 0.32397315289786593, 0.11066123499442783, 0.2345357517792351, 0.03906176429280923, 0.12693008819883253, 0.16483569033498355, 0.013203645679390238, 0.004401215226463413, 0.03080850658524389, 0.9286564127837802, 0.008802430452926826, 0.017604860905853652, 0.031875310044853084, 0.006375062008970618, 0.0382503720538237, 0.006375062008970618, 0.9052588052738276, 0.01912518602691185, 0.006016865448605918, 0.006508038138288033, 0.02861080917398324, 0.01817338951823828, 0.013138869448996596, 0.9275796244646756, 0.013876412687319775, 0.006938206343659888, 0.041629238061959326, 0.02544008992675292, 0.011563677239433147, 0.8996540892278988, 0.036610680306861335, 0.055992805175199695, 0.025842833157784472, 0.8226635221894724, 0.01722855543852298, 0.04307138859630746, 0.04830331347896661, 0.05032800326551012, 0.17470180443889718, 0.04550731329754938, 0.058330348612324945, 0.6229295576598868, 0.02620787423962693, 0.048685090224502695, 0.030871197058065885, 0.724120767247201, 0.01669469569001146, 0.15333005427027285, 0.3730318694173706, 0.053078461546668794, 0.18948121189006345, 0.061677765372665415, 0.10971525571099136, 0.21290690162295078, 0.007104234816479137, 0.007104234816479137, 0.007104234816479137, 0.007104234816479137, 0.03552117408239568, 0.9377589957752461, 0.96859137484901, 0.012260650314544432, 0.012260650314544432, 0.012260650314544432, 0.012260650314544432, 0.012283317476378904, 0.006141658738189452, 0.09826653981103123, 0.006141658738189452, 0.8721155408229021, 0.006141658738189452, 0.03159504769121576, 0.9478514307364727, 0.7908662468784045, 0.009249897624308823, 0.12949856674032353, 0.009249897624308823, 0.05549938574585294, 0.009249897624308823, 0.05982594181768026, 0.23629921480129543, 0.21411854804171235, 0.041621888620572235, 0.10197804557991583, 0.34623048750616137, 0.0060679242585938795, 0.9587320328578329, 0.012135848517187759, 0.0060679242585938795, 0.012135848517187759, 0.012135848517187759, 0.03321216482315233, 0.7159066639657281, 0.09816039825509468, 0.03542630914469582, 0.08930382096892071, 0.02730777996570303, 0.013679372866027486, 0.013679372866027486, 0.013679372866027486, 0.9301973548898691, 0.013679372866027486, 0.013679372866027486, 0.9422755977852026, 0.13473781970663604, 0.05521166819844989, 0.23857845452455842, 0.0993335598629469, 0.08753213991505052, 0.38458396161863323, 0.02106644486810163, 0.9479900190645734, 0.02106644486810163, 0.9419935555171709, 0.010629941917819595, 0.010629941917819595, 0.9673247145215831, 0.010629941917819595, 0.010629941917819595, 0.06373515132737632, 0.028326733923278367, 0.711709189822369, 0.007081683480819592, 0.1664195617992604, 0.023015471312663672, 0.03749398768086022, 0.02687069117128316, 0.1452445665637133, 0.03740471628162008, 0.6138301411752259, 0.1390848400161434, 0.1755885750163356, 0.07041765684495001, 0.4260203158105756, 0.03215002077763891, 0.09176422934508273, 0.2040940590256592, 0.939219631325127, 0.013111230299142988, 0.9571198118374381, 0.013111230299142988, 0.013111230299142988, 0.013111230299142988, 0.24512649156030195, 0.030582447994666244, 0.39733837012917517, 0.03256680530729726, 0.125481418298726, 0.16878709847437934, 0.07495796403644685, 0.049866103193737944, 0.12911191686786289, 0.3868593228660689, 0.05875942096077401, 0.3004670931291471, 0.1181437056237876, 0.059283579882904176, 0.1993763252014337, 0.16119487672922994, 0.0947125764319731, 0.36727589251265874, 0.9543611601505689, 0.06984114630428795, 0.15882771633189247, 0.07301316916968952, 0.3771308613900642, 0.046390834406497834, 0.27483312398086385, 0.00955084813823504, 0.9646356619617391, 0.01910169627647008, 0.17693276810310105, 0.12135819283138341, 0.14486774795926396, 0.14192006673527893, 0.12315555943137428, 0.29182044117451733, 0.013184599013902842, 0.9492911290010045, 0.006592299506951421, 0.006592299506951421, 0.013184599013902842, 0.006592299506951421, 0.022467860060074545, 0.7477764707173529, 0.04839231397554517, 0.04493572012014909, 0.03629423548165888, 0.09966512283058708, 0.015275373392616682, 0.02350057445017951, 0.04846993480349524, 0.03290080423025132, 0.08254576775625554, 0.7972569882223399, 0.08638856694725355, 0.06104841971012588, 0.21103065010771901, 0.370931845081145, 0.08945783145751125, 0.18112403616020795, 0.006888797681641104, 0.005904683727120947, 0.03050753259012489, 0.01672993722684268, 0.006888797681641104, 0.9339241428396297, 0.09113910226763416, 0.5441364164991974, 0.18977319649806718, 0.030879366886731312, 0.04496995177679317, 0.09893389390894498, 0.006283287070176472, 0.9613429217370002, 0.006283287070176472, 0.006283287070176472, 0.012566574140352943, 0.012566574140352943, 0.004440639886821545, 0.9414156560061675, 0.013321919660464634, 0.00888127977364309, 0.013321919660464634, 0.013321919660464634, 0.06409822299876576, 0.47914035659230647, 0.1392478637559394, 0.047889476953100855, 0.04494243221752542, 0.2247121610876271, 0.9547738011081094, 0.018014600020907726, 0.018014600020907726, 0.018014600020907726, 0.014907692928393662, 0.007453846464196831, 0.08944615757036198, 0.0037269232320984156, 0.860919266614734, 0.026088462624688908, 0.5392043212802085, 0.03189949228947798, 0.298414605288665, 0.00823212704244593, 0.10907568331240856, 0.014406222324280377, 0.009578660139690495, 0.9403051370462835, 0.01277154685292066, 0.00638577342646033, 0.014367990209535742, 0.015964433566150824, 0.9356129199829761, 0.025989247777304894, 0.025989247777304894, 0.17951897967139968, 0.035768309911886426, 0.35239914424551744, 0.016258322687221105, 0.30254028800470606, 0.1135372867657607, 0.9568180356273013, 0.029900563613353165, 0.013081014891575088, 0.013081014891575088, 0.9679951019765565, 0.013081014891575088, 0.9581835221598648, 0.06893465747249106, 0.03862387116269443, 0.06330733849514485, 0.6320502360464765, 0.0323570841197407, 0.1647269737004981, 0.9601386610563086, 0.025266806869902857, 0.18985908222667114, 0.03915260942808603, 0.48521269541235185, 0.05670913667163254, 0.11279680335234309, 0.11621488830241408, 0.9404595287296927, 0.057240088297240636, 0.03154045681684688, 0.0554878406963047, 0.6249683110004844, 0.01810655854300469, 0.21260604224689378, 0.7184093555398725, 0.014063478411873524, 0.13711891451576685, 0.010547608808905144, 0.04922217444155734, 0.07148934859369042, 0.017369575914433225, 0.017369575914433225, 0.9553266752938274, 0.017369575914433225, 0.017369575914433225, 0.045400613286651736, 0.022700306643325868, 0.7020880554685787, 0.01297160379618621, 0.11188008274210606, 0.10377283036948969, 0.0893489716168443, 0.05901683700071386, 0.15728132422357732, 0.1535988286471781, 0.07364991152798446, 0.46709549153274355, 0.179836327030213, 0.05193134577343049, 0.12453906069739348, 0.21699883769612024, 0.039017201586386926, 0.387630402380249, 0.0220352260199156, 0.9585323318663286, 0.0110176130099578, 0.08726133218850605, 0.07484610199908447, 0.04646843299469225, 0.044694828681917737, 0.019509647440519647, 0.7268230473749956, 0.9389732260196771, 0.9684313136972504, 0.01225862422401583, 0.01225862422401583, 0.01225862422401583, 0.0034012075485426035, 0.006802415097085207, 0.0034012075485426035, 0.9659429437860994, 0.0034012075485426035, 0.017006037742713018, 0.1173115587103317, 0.07453351828575884, 0.361251365916715, 0.017321169742465083, 0.28068168241767283, 0.14880459460572276, 0.08253701449591783, 0.043123271618653695, 0.20572428144956298, 0.022875427238568988, 0.5544199831401821, 0.09134714525671805, 0.9684837456251694, 0.012259287919305941, 0.012259287919305941, 0.012259287919305941, 0.20162080725056683, 0.07408257326930048, 0.11417431880327487, 0.32179920388743205, 0.03137614867876256, 0.25691642729863295, 0.0160492788101881, 0.0160492788101881, 0.9469074498010979, 0.0160492788101881, 0.17190507660588158, 0.053659876610177536, 0.37180661057359493, 0.06987733666733617, 0.10737665658897667, 0.2254511464788159, 0.007856671898957772, 0.007856671898957772, 0.039283359494788866, 0.9192306121780593, 0.007856671898957772, 0.015713343797915544, 0.029527909824629547, 0.021605787676558207, 0.02520675228931791, 0.7410785173059464, 0.015124051373590745, 0.16708475803205014, 0.028584639155127555, 0.059353416168547495, 0.026103628189882804, 0.8023843924264625, 0.01355013681018287, 0.07001964279690741, 0.004662477341707882, 0.004662477341707882, 0.01864990936683153, 0.004662477341707882, 0.9558078550501158, 0.009324954683415765, 0.045255130037241666, 0.03232509288374405, 0.045255130037241666, 0.8016623035168524, 0.008620024768998412, 0.06680519195973769, 0.006300554258355955, 0.9639848015284612, 0.009450831387533934, 0.0031502771291779777, 0.009450831387533934, 0.009450831387533934, 0.08443474163501262, 0.23206424843292686, 0.13187457919497478, 0.03810358416562767, 0.07183079955266104, 0.44172148871945094, 0.060529036563592944, 0.7300733025516442, 0.06239146845785735, 0.08101578740050133, 0.024211614625437177, 0.04097350167381676, 0.004576762897155002, 0.9519666826082405, 0.013730288691465007, 0.009153525794310004, 0.009153525794310004, 0.013730288691465007, 0.004616195275931456, 0.9601686173937428, 0.009232390551862911, 0.004616195275931456, 0.009232390551862911, 0.013848585827794368, 0.9685243994518341, 0.012259802524706761, 0.012259802524706761, 0.012259802524706761, 0.11895745563813331, 0.012273388280124866, 0.28606435760598725, 0.0764726500530857, 0.47252544878480734, 0.033515791072648675, 0.04634283830753341, 0.7605677581059895, 0.027942005450130442, 0.09404870127117075, 0.015674783545195126, 0.05520249857220892, 0.009918029193158298, 0.009918029193158298, 0.9223767149637218, 0.04959014596579149, 0.2613190010845374, 0.03718992410512034, 0.26511220842120153, 0.06036147327039488, 0.04213758584859533, 0.3338847066555039, 0.014595905567517517, 0.9633297674561562, 0.014595905567517517, 0.0937124824492004, 0.007496998595936032, 0.8284183448509315, 0.007496998595936032, 0.022490995787808093, 0.04123349227764817, 0.9549599121580553, 0.09529167030305045, 0.06298940918337234, 0.7477973449205485, 0.00807556527991953, 0.07591031363124359, 0.011305791391887343, 0.952569151229241, 0.012803242442997397, 0.01707098992399653, 0.021338737404995662, 0.004267747480999133, 0.9389044458198091, 0.018167263771372177, 0.01076578593859092, 0.05652037617760233, 0.019176556203115078, 0.01682154052904831, 0.8784208464269029, 0.947898454522736, 0.24343906543699267, 0.07589948384028342, 0.2723869326604563, 0.057220171617908364, 0.09589614357924549, 0.2551600805204721, 0.15140563127398174, 0.1589741927100817, 0.21319261463414332, 0.07317422806629383, 0.26455562474367633, 0.13871108959252315, 0.968278240353784, 0.012256686586756759, 0.012256686586756759, 0.012256686586756759, 0.009016193125427127, 0.009016193125427127, 0.03005397708475709, 0.003005397708475709, 0.9436948804613726, 0.003005397708475709, 0.03289415462363008, 0.8100185576068908, 0.023025908236541055, 0.04769652420426362, 0.018091785042996543, 0.06825537084403242, 0.02456702013904497, 0.01474021208342698, 0.08844127250056188, 0.0049134040278089935, 0.8549323008387648, 0.009826808055617987, 0.008883371935789608, 0.9371957392258037, 0.013325057903684413, 0.013325057903684413, 0.013325057903684413, 0.013325057903684413, 0.9608669168804453, 0.007448580751011204, 0.007448580751011204, 0.007448580751011204, 0.007448580751011204, 0.014897161502022409, 0.004758640624858233, 0.9517281249716465, 0.014275921874574696, 0.004758640624858233, 0.014275921874574696, 0.009517281249716465, 0.9514122686492363, 0.9686302702589493, 0.012261142661505688, 0.012261142661505688, 0.012261142661505688, 0.012261142661505688, 0.968377259366199, 0.012257939991977202, 0.012257939991977202, 0.012257939991977202, 0.013702864563836237, 0.9729033840323728, 0.3935325625119809, 0.04300010019148892, 0.25214932169249676, 0.021091821296458174, 0.15580732506093298, 0.13444335123161727, 0.057980078604045485, 0.07823227507419095, 0.0849285658425455, 0.4063505227235638, 0.06336977605174549, 0.30900932033480016, 0.05364044607053397, 0.06119803469215559, 0.08147449196967702, 0.09695833207251156, 0.04626718887870799, 0.660275181528016, 0.9616095398753861, 0.02913968302652685, 0.06835680286974165, 0.015774646816094227, 0.14144599978431158, 0.028131453488701372, 0.03943661704023557, 0.7069670881412896, 0.9459764641272417, 0.04711582926104626, 0.03672263162993312, 0.04503718973482363, 0.7621678262816307, 0.06166630594460466, 0.04642294941897205, 0.010129073578607725, 0.010129073578607725, 0.010129073578607725, 0.9723910635463415, 0.022885761604242546, 0.5711490069928357, 0.010199089410586351, 0.36492839427634577, 0.008457781462437463, 0.022139486769321592, 0.004819487112181738, 0.9681144736595065, 0.007229230668272606, 0.003614615334136303, 0.010241410113386192, 0.006626794779249889, 0.021087458646226874, 0.0511271403026444, 0.15437611235350993, 0.05291758490468253, 0.03759933664280075, 0.6829551465329892, 0.013066294224551403, 0.9538394783922525, 0.013066294224551403, 0.06261295721977807, 0.03041200779246363, 0.7334660702888287, 0.007155766539403207, 0.13238168097895933, 0.03398989106216523, 0.6859017014403649, 0.035645285271704005, 0.10369537533586619, 0.03780560559120121, 0.048607207188687274, 0.0885731330993857, 0.9494073291384865, 0.14026283716646465, 0.16683436843091914, 0.38053917561684325, 0.015071721012297134, 0.13494853091357376, 0.16230414014976624, 0.006373516529619955, 0.006373516529619955, 0.05736164876657959, 0.006373516529619955, 0.9177863802652735, 0.006373516529619955, 0.02666426464502206, 0.10973370450066772, 0.08409498849583881, 0.6337890596393705, 0.04409859152830572, 0.10152931537912246, 0.03965198842684739, 0.8173426001534027, 0.02174463881472276, 0.07290849484936456, 0.016628253211258583, 0.03197741002165112, 0.9604848466165554, 0.019601731563603172, 0.947355699348976, 0.940746678472241, 0.9288751533286078, 0.02731985745084141, 0.0870350015213289, 0.01535911791552863, 0.8498711913259175, 0.010239411943685753, 0.020478823887371506, 0.020478823887371506, 0.09452367045432623, 0.0728157027369674, 0.09734399696878623, 0.10358290107653109, 0.04102293111941825, 0.5907302081196228, 0.15009952135526633, 0.05927225417153983, 0.268644029698346, 0.021960583380102885, 0.37652806067244365, 0.123661537480191, 0.06677004580751335, 0.015805469780522483, 0.08144655346085565, 0.7014080415866559, 0.08112399285308988, 0.05354506088911698, 0.20649123047270676, 0.291832525878157, 0.25491965503735226, 0.054501696049136884, 0.1125527066021973, 0.07974126585481532, 0.006542895129705134, 0.006542895129705134, 0.02486300149287951, 0.018320106363174375, 0.007851474155646162, 0.9369425825737752, 0.026471473444804328, 0.008823824481601442, 0.8823824481601442, 0.008823824481601442, 0.061766771371210095, 0.008823824481601442, 0.012991103032952795, 0.008660735355301864, 0.02165183838825466, 0.9180379476619975, 0.012991103032952795, 0.02165183838825466, 0.17951854132511555, 0.04371198638003147, 0.2879003157742347, 0.21484740702952454, 0.23221244271474253, 0.04191560337811237, 0.005754862116924638, 0.005754862116924638, 0.06330348328617101, 0.005754862116924638, 0.9150230765910173, 0.005754862116924638, 0.03533069846247931, 0.059437556253176524, 0.10199055219141127, 0.03708747352414955, 0.09779381176631013, 0.6683553123509899, 0.006349617705905852, 0.8413243460325254, 0.016932313882415607, 0.09312772635328583, 0.012699235411811704, 0.02963154929422731, 0.011852031301658109, 0.023704062603316218, 0.9481625041326488, 0.011852031301658109, 0.011852031301658109, 0.24700578227377143, 0.11952209759049187, 0.33389520190370137, 0.0442310394043761, 0.13800084294165343, 0.11726140002093487, 0.006472145996795709, 0.9514054615289692, 0.006472145996795709, 0.006472145996795709, 0.012944291993591418, 0.012944291993591418, 0.010464650423872901, 0.027637410093818173, 0.01931935462868843, 0.020124327738217117, 0.011806272273087375, 0.9106929112467853, 0.1245280627908154, 0.27069758440557473, 0.07735924784028571, 0.19154484550253123, 0.04310356854161205, 0.2927575244774954, 0.005784227015185605, 0.9630737980284031, 0.005784227015185605, 0.005784227015185605, 0.01156845403037121, 0.008676340522778407, 0.9773551204203927, 0.011498295534357562, 0.01143358883618233, 0.01143358883618233, 0.01143358883618233, 0.9261206957307687, 0.01143358883618233, 0.04573435534472932, 0.6783551872584752, 0.013301082103107357, 0.08867388068738238, 0.1093644528477716, 0.01034528608019461, 0.10049706477903336, 0.07745491506973418, 0.08293521566429084, 0.10704853828034015, 0.16806255156640434, 0.042502775722228346, 0.5220290777459364, 0.05935701397283688, 0.0638157568064772, 0.08555212812047382, 0.07356925675506543, 0.030932528408379782, 0.6863677249535082, 0.053685846557907306, 0.20282233301432975, 0.16459274855885211, 0.02729510115960984, 0.28577642057471025, 0.265880593825838, 0.013627699401315148, 0.013627699401315148, 0.013627699401315148, 0.013627699401315148, 0.9539389580920603, 0.013627699401315148, 0.9474392421800675, 0.08153747070437423, 0.041284795293354035, 0.12488650576239596, 0.019610277764343167, 0.6677815638700015, 0.06605567246936646, 0.0741860433917294, 0.30016814480038206, 0.13848061433122824, 0.014456767430183167, 0.415061401745522, 0.057446628472569955, 0.0063048601803706115, 0.9226112063942329, 0.018914580541111836, 0.0063048601803706115, 0.0336259209619766, 0.012609720360741223, 0.04830459655975438, 0.66888448291771, 0.05903895135081091, 0.0831912496306881, 0.026164989803200287, 0.11472341682941664, 0.17580832893567047, 0.05727267324473111, 0.4092414172220848, 0.07593323686340374, 0.20127589060392181, 0.08062771827690629, 0.09013662328232223, 0.3638654773199171, 0.27198202025305374, 0.029696174337199184, 0.08891383963314343, 0.1551188400672522, 0.009133301566999753, 0.014613282507199605, 0.20275929478739452, 0.0036533206267999013, 0.7635440110011793, 0.009133301566999753, 0.026222715865612936, 0.024248963058523792, 0.07246492448884435, 0.03891112676832887, 0.028478433359429102, 0.8098025802800038, 0.0443461940981108, 0.029955707271571534, 0.05991141454314307, 0.693386518315494, 0.06372929880324532, 0.10836917630597938, 0.017890235959083244, 0.031094933928882778, 0.08476564180613251, 0.5695058446974832, 0.2402403114505464, 0.05622645587140448, 0.023683601103992306, 0.9473440441596923, 0.023683601103992306, 0.06422739159810531, 0.2701873444631834, 0.10449302556153287, 0.03810413520772209, 0.06354806341774073, 0.4594728783556764, 0.05351335028573268, 0.05582072525659346, 0.1253082099559777, 0.521466743414536, 0.10671609240231103, 0.13715569297943592, 0.004754162019306994, 0.009508324038613987, 0.04278745817376294, 0.01426248605792098, 0.004754162019306994, 0.9223074317455567, 0.08193304054459048, 0.07100380987123964, 0.12239290773931318, 0.4755301028073847, 0.026201202011609324, 0.22285497512084285, 0.013252447665211341, 0.013252447665211341, 0.9541762318952166, 0.013252447665211341, 0.013252447665211341, 0.0678662613461943, 0.530273950140129, 0.07281866420118686, 0.048056649926224076, 0.0491571838940002, 0.23166240021687406, 0.010422307822613474, 0.013027884778266843, 0.03126692346784043, 0.9223742423012925, 0.010422307822613474, 0.013027884778266843, 0.006282338770536666, 0.9611978318921099, 0.006282338770536666, 0.006282338770536666, 0.012564677541073332, 0.012564677541073332, 0.053113114943412885, 0.07308928649292659, 0.05546325277276744, 0.5771938508894782, 0.03266691582802828, 0.2084572254637488, 0.4401847471730179, 0.03542359252980661, 0.24330414869156647, 0.049593029541729255, 0.09583013979116105, 0.13572829137736428, 0.16565343741439228, 0.07649471308469778, 0.378184142259861, 0.043609135496883784, 0.1962921742974488, 0.13971264018673776, 0.9684611996084987, 0.012259002526689858, 0.012259002526689858, 0.012259002526689858, 0.012259002526689858, 0.006628889098121162, 0.006628889098121162, 0.01988666729436349, 0.006628889098121162, 0.9479311410313263, 0.006628889098121162, 0.968515331180649, 0.012259687736463912, 0.012259687736463912, 0.012259687736463912, 0.012259687736463912, 0.94640322898719, 0.24286454527766185, 0.523166708206821, 0.12799185521879414, 0.029758106338369634, 0.04031743439392015, 0.03583771946126236, 0.2247786055651962, 0.03955731153838857, 0.4577789268619006, 0.01737419173450792, 0.18692768785787536, 0.07368518815974341, 0.9684542086758496, 0.012258914033871514, 0.012258914033871514, 0.012258914033871514, 0.08896321841875093, 0.045254487447024504, 0.49628649387761614, 0.01378025453510412, 0.17108564222341677, 0.18460278927336377, 0.05865351207050143, 0.05936446373196205, 0.1617415029822918, 0.013152605737021532, 0.6263484137468092, 0.08104848940651106, 0.04730432648377008, 0.022167717850134935, 0.3948624742055285, 0.011083858925067467, 0.346172665356125, 0.1783313730622462, 0.00914779885746219, 0.00914779885746219, 0.8964842880312947, 0.00914779885746219, 0.02744339657238657, 0.05488679314477314, 0.03943269206565214, 0.01971634603282607, 0.06966442264931878, 0.7571076876605211, 0.01051538455084057, 0.10383942243955063, 0.01221586060978669, 0.006107930304893345, 0.02443172121957338, 0.006107930304893345, 0.9345133366486819, 0.01221586060978669, 0.03390846624085086, 0.8245111264880577, 0.012492592825576632, 0.058001323833034364, 0.006246296412788316, 0.06513994830479243, 0.9757761573411, 0.2374003483269076, 0.08713500046075191, 0.3297332067327152, 0.03865316180959602, 0.11992875876864878, 0.1871228860220052, 0.20007060732600432, 0.03525473256845891, 0.6398733961175292, 0.014983261341595036, 0.06433988693743752, 0.04583115233899658, 0.026100537613211464, 0.030565103257576585, 0.01751483445097085, 0.8393383411406424, 0.018545118830439727, 0.06834219717143529, 0.95983778275152, 0.025258889019776843, 0.01098686693903708, 0.00676114888556128, 0.0059160052748661205, 0.9262773973218954, 0.005070861664170961, 0.04479261136684348, 0.01774956060956524, 0.01774956060956524, 0.9584762729165229, 0.7809744870689082, 0.026577665790303157, 0.06746638239076955, 0.042933152430489716, 0.00817774332009328, 0.0715552540508162, 0.1072194617095209, 0.24610427611422347, 0.11588171624619674, 0.1569793016590921, 0.06621812356925529, 0.3076062833246219, 0.30284306654200027, 0.054667946109300904, 0.2518196501733194, 0.07323769288293645, 0.11298042195922187, 0.2044407635452586, 0.004259703039744833, 0.9413943717836082, 0.008519406079489667, 0.008519406079489667, 0.012779109119234501, 0.025558218238469002, 0.17697981485598038, 0.2623433507465761, 0.27770335003899227, 0.017398937251586397, 0.17752353164509246, 0.08794619063887811, 0.3228773699174715, 0.12998700527503632, 0.31053557156057676, 0.047973764580832697, 0.07823107668160685, 0.11047900142058982, 0.03642174279938081, 0.018210871399690406, 0.0250125221634302, 0.8256326394823494, 0.016236198597314337, 0.07832868782758404, 0.9438116572371114, 0.005530207481525074, 0.9622561017853629, 0.005530207481525074, 0.005530207481525074, 0.011060414963050148, 0.011060414963050148, 0.05125518721370612, 0.08004854238375869, 0.0378383882077654, 0.1055253854399832, 0.029320982097252476, 0.6960906675273177, 0.10024551461891643, 0.02475197891825097, 0.7029562012783275, 0.009900791567300388, 0.14851187350950582, 0.013613588405038032, 0.012795326483517798, 0.004265108827839266, 0.008530217655678532, 0.004265108827839266, 0.9596494862638348, 0.008530217655678532, 0.9454618328282454, 0.9425815441454016, 0.06569324632730815, 0.17088625958507112, 0.29525289976133073, 0.03164172311139882, 0.38535846888650616, 0.0511296717826577, 0.00628328178585656, 0.9613421132360538, 0.00628328178585656, 0.00628328178585656, 0.01256656357171312, 0.01256656357171312, 0.02593664554467264, 0.002593664554467264, 0.005187329108934528, 0.07780993663401793, 0.8870332776278044, 0.06989914863934225, 0.07768267829132142, 0.11278487083946273, 0.01907727855877245, 0.06333656481512454, 0.6571740917925933, 0.9685177378883844, 0.01225971820111879, 0.01225971820111879, 0.01225971820111879, 0.007629185770531895, 0.0038145928852659477, 0.007629185770531895, 0.9689065928575507, 0.0038145928852659477, 0.007629185770531895, 0.05769584507783311, 0.7158115219200041, 0.0559003312268632, 0.0458454536614317, 0.04416964073385979, 0.08043902052345196, 0.009402694380312607, 0.9590748267918858, 0.009402694380312607, 0.009402694380312607, 0.009402694380312607, 0.4680980717225388, 0.0388697476164209, 0.20032869925386154, 0.0345508867701519, 0.09169273796694159, 0.16611003254880724, 0.006947707117782401, 0.006947707117782401, 0.013895414235564802, 0.006947707117782401, 0.9587835822539714, 0.006947707117782401, 0.13477877261565993, 0.04396377379031893, 0.3074669857666161, 0.02160931254100422, 0.4386131584292624, 0.053557563409816496, 0.00621025011917586, 0.00621025011917586, 0.02484100047670344, 0.01863075035752758, 0.01242050023835172, 0.931537517876379, 0.05078583510566308, 0.0398713354557618, 0.5891602362038545, 0.013364693448858704, 0.11449087387855622, 0.19245158566356532, 0.10943660997973832, 0.036705446825502294, 0.18641608873877785, 0.4678245144009621, 0.046051741156070004, 0.1532792270213105, 0.008179223648860527, 0.008179223648860527, 0.008179223648860527, 0.9651483905655422, 0.008179223648860527, 0.008179223648860527, 0.02619678250539245, 0.004366130417565408, 0.01746452167026163, 0.02183065208782704, 0.9037889964360394, 0.02619678250539245, 0.9621163804251922, 0.02915504183106643, 0.005133324858465698, 0.005133324858465698, 0.002566662429232849, 0.9573650861038526, 0.005133324858465698, 0.025666624292328487, 0.017985649273754366, 0.08586697072631116, 0.01972619597766608, 0.012183826927381989, 0.011023462458107515, 0.8522877026821021, 0.9395004678714202, 0.0037655329373604014, 0.03012426349888321, 0.008472449109060903, 0.009413832343401003, 0.008472449109060903, 0.7072111572448817, 0.02635569530105149, 0.11860062885473172, 0.03294461912631436, 0.06369293031087445, 0.050515082660348695, 0.1767927578756488, 0.0462266087923647, 0.41507864892543633, 0.048361787027577846, 0.14124204025934986, 0.17230888358170118, 0.050121152202898124, 0.027517495327081323, 0.6928512216282976, 0.008844909212276139, 0.1523289919892002, 0.06879373831770332, 0.00855483761178963, 0.00855483761178963, 0.038496769253053335, 0.01710967522357926, 0.012832256417684445, 0.9196450432673853, 0.00591434298795492, 0.00887151448193238, 0.0443575724096619, 0.020700200457842217, 0.014785857469887299, 0.9019373056631252, 0.007559155914495392, 0.007559155914495392, 0.022677467743486175, 0.015118311828990785, 0.007559155914495392, 0.9373353333974287, 0.23072750424256022, 0.17609681054281046, 0.3400857545741515, 0.013851399289120953, 0.11691355903474819, 0.12233788323188646, 0.9561874739403531, 0.027319642112581515, 0.07965438078657688, 0.15875539265993172, 0.19893612430333424, 0.08690966209326625, 0.08669446307145767, 0.3890490887125166, 0.006280289071247866, 0.9608842279009235, 0.006280289071247866, 0.006280289071247866, 0.009420433606871798, 0.012560578142495732, 0.9273224493770804, 0.007188546119202174, 0.03594273059601087, 0.007188546119202174, 0.014377092238404348, 0.007188546119202174, 0.8451571299217839, 0.0030511087722808086, 0.015255543861404042, 0.12204435089123233, 0.009153326316842425, 0.006102217544561617, 0.02291993391017474, 0.9626372242273391, 0.02291993391017474, 0.027226383222496188, 0.9256970295648703, 0.013613191611248094, 0.013613191611248094, 0.013613191611248094, 0.12268536058519666, 0.031129121342512587, 0.6451662991967805, 0.01159712363740665, 0.1501522323580019, 0.039369182874354154, 0.962075763536083, 0.021865358262183707, 0.18943742704674738, 0.03719150404706521, 0.5011065808446681, 0.03001419624850877, 0.14767854530969168, 0.0948274606112306, 0.9489944729357069, 0.19874078751959262, 0.05824882430960418, 0.3486850564774641, 0.052189653958397086, 0.07165978802027588, 0.27048136447788457, 0.9508958035507085, 0.005689394549140928, 0.901769036038837, 0.02275757819656371, 0.028446972745704634, 0.019912880921993246, 0.02275757819656371, 0.0068791131060362415, 0.013758226212072483, 0.0068791131060362415, 0.9493176086330014, 0.013758226212072483, 0.013758226212072483, 0.06125026918205204, 0.9187540377307806, 0.01531256729551301, 0.06450492323825388, 0.01612623080956347, 0.131697551611435, 0.005375410269854491, 0.7713713737241193, 0.010750820539708982, 0.18030091125708514, 0.07604345437519387, 0.3307755912928045, 0.05526361760835644, 0.07335640651741318, 0.2842000950912723, 0.12901605670648245, 0.06528523351412366, 0.17193505281298968, 0.259241099218782, 0.26580416502178916, 0.10872236639455249, 0.9685529777604205, 0.01226016427544836, 0.01226016427544836, 0.01226016427544836, 0.13661677464823557, 0.017387589500684527, 0.14986446188685237, 0.019457540631718402, 0.5721344926177624, 0.10432553700410717, 0.08253021668186253, 0.45143034185018777, 0.27717226385625515, 0.033807558640762965, 0.11832645524267037, 0.036790578520830286, 0.006285751735904557, 0.9617200155933973, 0.006285751735904557, 0.006285751735904557, 0.012571503471809114, 0.006285751735904557, 0.11418039373701216, 0.1278778585534486, 0.12808698015369954, 0.5090019750107831, 0.053848812064616544, 0.06702347288042564, 0.9683584914854044, 0.012257702423865879, 0.012257702423865879, 0.012257702423865879, 0.012257702423865879, 0.006330510035038095, 0.907373105022127, 0.00844068004671746, 0.006330510035038095, 0.01688136009343492, 0.05275425029198413, 0.9394027523338092, 0.008584472168491388, 0.008584472168491388, 0.03004565258971986, 0.017168944336982777, 0.008584472168491388, 0.9314152302813156, 0.12709589722570236, 0.11410483447690824, 0.11756911787658667, 0.49864029184121383, 0.029446408897266643, 0.11302224591450873, 0.019145949875004276, 0.019145949875004276, 0.9572974937502138, 0.02433579131080661, 0.012167895655403304, 0.961263756776861, 0.20727110523143785, 0.0786663650684084, 0.27600349245844313, 0.08081425216925232, 0.24579883010282558, 0.11155588630008087, 0.03369374036884299, 0.9434247303276038, 0.9693692486070354, 0.2473316850293566, 0.05218498894570523, 0.3248707016232111, 0.05680724425588562, 0.10075969563730507, 0.21806651827259318, 0.3008201707954088, 0.05030346369817389, 0.2638885139030786, 0.05758063747006161, 0.06776868075070443, 0.25970413898424316, 0.005925321793008841, 0.006771796334867247, 0.03047308350690261, 0.016083016295309713, 0.007618270876725653, 0.9328149451279633, 0.00759785865623194, 0.00759785865623194, 0.05318501059362358, 0.01519571731246388, 0.01519571731246388, 0.9016125605395235, 0.9684193649560381, 0.012258472974127065, 0.012258472974127065, 0.012258472974127065, 0.006449325494546398, 0.006449325494546398, 0.012898650989092797, 0.8609849535219442, 0.003224662747273199, 0.10963853340728877, 0.01132028093940399, 0.01132028093940399, 0.01132028093940399, 0.01132028093940399, 0.01132028093940399, 0.9622238798493392, 0.9735092456996653, 0.01371139782675585, 0.00437211675464041, 0.9356329854930477, 0.02186058377320205, 0.02186058377320205, 0.00874423350928082, 0.013116350263921231, 0.9361872512723624, 0.008029050182438786, 0.014452290328389813, 0.017663910401365328, 0.004817430109463271, 0.02087553047434084, 0.13748177877969028, 0.06701962044934288, 0.2975964129898144, 0.02072847277285687, 0.39039844480327607, 0.08672265640658139, 0.003689541317875428, 0.007379082635750856, 0.03689541317875428, 0.014758165271501712, 0.011068623953626283, 0.9260748707867323, 0.06856785649360089, 0.017694930708026035, 0.8172846120769525, 0.013271198031019527, 0.05640259163183299, 0.026542396062039054, 0.6592998901482007, 0.014027657237195758, 0.14167933809567715, 0.009819360066037031, 0.11502678934500522, 0.05891616039622218, 0.9684884618683519, 0.012259347618586732, 0.012259347618586732, 0.012259347618586732, 0.9685779401512462, 0.012260480255079066, 0.012260480255079066, 0.012260480255079066, 0.012260480255079066, 0.04231882395687983, 0.10187865026656255, 0.11441756106860101, 0.004702091550764426, 0.695909549513135, 0.04231882395687983, 0.9683330872103616, 0.01225738085076407, 0.01225738085076407, 0.01225738085076407, 0.8182880115075086, 0.00974152394651796, 0.08280295354540265, 0.04383685775933082, 0.01461228591977694, 0.02922457183955388, 0.054863235512574514, 0.03267136496816235, 0.584385924336187, 0.014178139514485549, 0.23424752241323948, 0.07952086945081024, 0.15658710017575875, 0.03334902745481275, 0.3106826063462728, 0.018016141268691947, 0.4118796551746702, 0.06938130999219665, 0.959249231219653, 0.020853244156948978, 0.020853244156948978, 0.006995515590918925, 0.006995515590918925, 0.006995515590918925, 0.006995515590918925, 0.9583856359558927, 0.006995515590918925, 0.022103329458434115, 0.014055450527414514, 0.13613383938245832, 0.010428237488081736, 0.4910339651996748, 0.32622247272499166, 0.4151227166934306, 0.039887236123568065, 0.2644376024488401, 0.07072597886725263, 0.04727376133163622, 0.16250355457749951, 0.9685091061619615, 0.012259608938759006, 0.012259608938759006, 0.012259608938759006, 0.9683598820664068, 0.012257720026157047, 0.012257720026157047, 0.012257720026157047, 0.012257720026157047, 0.1319640000344746, 0.0812912564662842, 0.3507699810957065, 0.05407480055686747, 0.3113777422794454, 0.07054791860730392, 0.21610280626692538, 0.06593723114420226, 0.23055724665306987, 0.10564232973577195, 0.07164762734613588, 0.31014589371751966, 0.007995325328514104, 0.007995325328514104, 0.007995325328514104, 0.007995325328514104, 0.9594390394216924, 0.007995325328514104, 0.021025476785094335, 0.946146455329245, 0.021025476785094335, 0.007141551660198453, 0.004761034440132301, 0.011902586100330754, 0.007141551660198453, 0.964109474126791, 0.007141551660198453, 0.012137022465981981, 0.012137022465981981, 0.9709617972785585, 0.012137022465981981, 0.6840371490970049, 0.01969740481692946, 0.19518337500411917, 0.0226818600922218, 0.032232116973157296, 0.046557502294560536, 0.9358801386374852, 0.9628639646057486, 0.9697057199436802, 0.05295981629482232, 0.01323995407370558, 0.913556831085685, 0.01323995407370558, 0.01323995407370558, 0.011727916283712453, 0.023455832567424905, 0.023455832567424905, 0.9382333026969962, 0.011727916283712453, 0.18313814547604804, 0.05571104611357653, 0.3542895622039427, 0.027378778163395803, 0.11816462714798935, 0.2613243079924122, 0.10333844197250443, 0.07786118573355501, 0.3291863306121683, 0.07575910188545687, 0.0986297741527646, 0.31522849386079665, 0.1642351864478132, 0.035549438006823426, 0.49527927431225943, 0.02139400567831455, 0.07142059038474934, 0.21200977055653067, 0.020573548560809698, 0.010286774280404849, 0.956670008077651, 0.010286774280404849, 0.007991550576272858, 0.9749691703052886, 0.007991550576272858, 0.007991550576272858, 0.007991550576272858, 0.007991550576272858, 0.11907655526546149, 0.07796195398779646, 0.32661385067693705, 0.09455680952820492, 0.14617019696408753, 0.23564694867380007, 0.9476864305323878, 0.9501594937116858, 0.9414883164966891, 0.007186933713715184, 0.014373867427430367, 0.014373867427430367, 0.014373867427430367, 0.007186933713715184, 0.01310815505082829, 0.9568953187104652, 0.01310815505082829, 0.01310815505082829, 0.01310815505082829, 0.005531427994104188, 0.9624684709741288, 0.005531427994104188, 0.005531427994104188, 0.011062855988208376, 0.011062855988208376], \"Term\": [\"aboriginal\", \"aboriginal\", \"aboriginal\", \"aboriginal\", \"aboriginal\", \"aboriginal\", \"accelerate\", \"accelerate\", \"accelerate\", \"accelerate\", \"accelerate\", \"accelerate\", \"account\", \"account\", \"account\", \"account\", \"account\", \"account\", \"accountsign\", \"accountsign\", \"accountsign\", \"accountsign\", \"accountsign\", \"actress\", \"actress\", \"actress\", \"actress\", \"actress\", \"actress\", \"adaripple\", \"adaripple\", \"adaripple\", \"addedit\", \"addedit\", \"addedit\", \"addedit\", \"addedit\", \"addedit\", \"advertisingat\", \"advertisingat\", \"advertisingat\", \"advertisingat\", \"advertisingat\", \"advertisingat\", \"ago\", \"ago\", \"ago\", \"ago\", \"ago\", \"ago\", \"ai\", \"ai\", \"ai\", \"ai\", \"ai\", \"ai\", \"aicadium\", \"alert\", \"alert\", \"alert\", \"alert\", \"alert\", \"alert\", \"allentown\", \"allentown\", \"allentown\", \"allentown\", \"allentown\", \"allentown\", \"also\", \"also\", \"also\", \"also\", \"also\", \"also\", \"altcoinshow\", \"ambow\", \"analysis\", \"analysis\", \"analysis\", \"analysis\", \"analysis\", \"analysis\", \"aorus\", \"app\", \"app\", \"app\", \"app\", \"app\", \"app\", \"application\", \"application\", \"application\", \"application\", \"application\", \"application\", \"artificial\", \"artificial\", \"artificial\", \"artificial\", \"artificial\", \"artificial\", \"artinvest\", \"artinvest\", \"artinvest\", \"asig\", \"asig\", \"ask\", \"ask\", \"ask\", \"ask\", \"ask\", \"ask\", \"aspirion\", \"atrbollinger\", \"atrbollinger\", \"atrbollinger\", \"atrbollinger\", \"automotion\", \"autor\", \"autor\", \"autor\", \"autor\", \"autor\", \"autor\", \"badwe\", \"ban\", \"ban\", \"ban\", \"ban\", \"ban\", \"ban\", \"becker\", \"becker\", \"becker\", \"becker\", \"becker\", \"berk\", \"berk\", \"berk\", \"berk\", \"berk\", \"berk\", \"bestreview\", \"bestreview\", \"bestreview\", \"bestreview\", \"bestreview\", \"bestreview\", \"bing\", \"bing\", \"bing\", \"bing\", \"bing\", \"bing\", \"blog\", \"blog\", \"blog\", \"blog\", \"blog\", \"blog\", \"bogus\", \"bogus\", \"bogus\", \"bogus\", \"bogus\", \"bollywood\", \"bollywood\", \"bollywood\", \"bollywood\", \"bollywood\", \"bollywood\", \"bottomdouble\", \"bottomdouble\", \"bottomdouble\", \"bottomdouble\", \"bottomrise\", \"bottomrise\", \"bottomrise\", \"brainomix\", \"brainomix\", \"brandvoice\", \"brandvoice\", \"brandvoice\", \"brandvoice\", \"brandvoice\", \"brandvoice\", \"braumiller\", \"braumiller\", \"bridal\", \"bridal\", \"bridal\", \"bridal\", \"bridal\", \"bridal\", \"brokersforex\", \"brokersforex\", \"brokersindex\", \"brokersindex\", \"brokersindex\", \"brokersmutual\", \"brokersmutual\", \"brokersshort\", \"brokersshort\", \"brokersshort\", \"browser\", \"browser\", \"browser\", \"browser\", \"browser\", \"browser\", \"btcethereum\", \"btcethereum\", \"btcethereum\", \"bureaus\", \"bureaus\", \"bureaus\", \"bureaus\", \"bureaus\", \"bureaus\", \"business\", \"business\", \"business\", \"business\", \"business\", \"business\", \"byohoste\", \"byohoste\", \"byohoste\", \"byohoste\", \"byohoste\", \"byohoste\", \"cagr\", \"cagr\", \"cagr\", \"cagr\", \"cagr\", \"cagr\", \"calamos\", \"calamos\", \"calculatorage\", \"calculatorgpa\", \"calculatorlog\", \"calendar\", \"calendar\", \"calendar\", \"calendar\", \"calendar\", \"calendar\", \"call\", \"call\", \"call\", \"call\", \"call\", \"call\", \"capability\", \"capability\", \"capability\", \"capability\", \"capability\", \"capability\", \"castel\", \"catheter\", \"catheter\", \"catheter\", \"catheter\", \"catheter\", \"catheter\", \"caylent\", \"cdtupdate\", \"cdtupdate\", \"cdtupdate\", \"cdtupdate\", \"cdtupdate\", \"cdtupdate\", \"cdtupdated\", \"cdtupdated\", \"cdtupdated\", \"cdtupdated\", \"cdtupdated\", \"cdtupdated\", \"chail\", \"chapter\", \"chapter\", \"chapter\", \"chapter\", \"chapter\", \"chapter\", \"chaque\", \"chaque\", \"chaque\", \"chaque\", \"chaque\", \"chatbot\", \"chatbot\", \"chatbot\", \"chatbot\", \"chatbot\", \"chatbot\", \"chatgpt\", \"chatgpt\", \"chatgpt\", \"chatgpt\", \"chatgpt\", \"chatgpt\", \"chatgptproof\", \"cheat\", \"cheat\", \"cheat\", \"cheat\", \"cheat\", \"cheat\", \"chennai\", \"chennai\", \"chennai\", \"chennai\", \"chennai\", \"chennai\", \"cision\", \"cision\", \"cision\", \"cision\", \"cision\", \"cision\", \"claim\", \"claim\", \"claim\", \"claim\", \"claim\", \"claim\", \"clearfield\", \"clearfield\", \"clearview\", \"clearview\", \"clearview\", \"clearview\", \"clearview\", \"clearview\", \"clinical\", \"clinical\", \"clinical\", \"clinical\", \"clinical\", \"clinical\", \"close\", \"close\", \"close\", \"close\", \"close\", \"close\", \"closing\", \"closing\", \"closing\", \"closing\", \"closing\", \"closing\", \"cloudy\", \"cloudy\", \"cloudy\", \"cloudy\", \"cloudy\", \"cloudy\", \"cocounsel\", \"cocounsel\", \"cocounsel\", \"come\", \"come\", \"come\", \"come\", \"come\", \"come\", \"community\", \"community\", \"community\", \"community\", \"community\", \"community\", \"company\", \"company\", \"company\", \"company\", \"company\", \"company\", \"competitive\", \"competitive\", \"competitive\", \"competitive\", \"competitive\", \"competitive\", \"consent\", \"consent\", \"consent\", \"consent\", \"consent\", \"consent\", \"consumer\", \"consumer\", \"consumer\", \"consumer\", \"consumer\", \"consumer\", \"contact\", \"contact\", \"contact\", \"contact\", \"contact\", \"contact\", \"content\", \"content\", \"content\", \"content\", \"content\", \"content\", \"contest\", \"contest\", \"contest\", \"contest\", \"contest\", \"contest\", \"cookie\", \"cookie\", \"cookie\", \"cookie\", \"cookie\", \"cookie\", \"cosmetic\", \"cosmetic\", \"cosmetic\", \"cosmetic\", \"cosmetic\", \"cosmetic\", \"countrywise\", \"courtesy\", \"courtesy\", \"courtesy\", \"courtesy\", \"courtesy\", \"courtesy\", \"covid\", \"covid\", \"covid\", \"covid\", \"covid\", \"covid\", \"cricket\", \"cricket\", \"cricket\", \"cricket\", \"cricket\", \"cricket\", \"crushonai\", \"crushonai\", \"crushonai\", \"crushonai\", \"crushonai\", \"crushonai\", \"cstupdate\", \"cstupdate\", \"cstupdate\", \"cstupdate\", \"cstupdate\", \"cstupdate\", \"culture\", \"culture\", \"culture\", \"culture\", \"culture\", \"culture\", \"curiouser\", \"customer\", \"customer\", \"customer\", \"customer\", \"customer\", \"customer\", \"datum\", \"datum\", \"datum\", \"datum\", \"datum\", \"datum\", \"daughter\", \"daughter\", \"daughter\", \"daughter\", \"daughter\", \"daughter\", \"day\", \"day\", \"day\", \"day\", \"day\", \"day\", \"deconsecrate\", \"deepfake\", \"deepfake\", \"deepfake\", \"deepfake\", \"deepfake\", \"deepfake\", \"deepx\", \"deepx\", \"deepxs\", \"delhi\", \"delhi\", \"delhi\", \"delhi\", \"delhi\", \"delhi\", \"deliver\", \"deliver\", \"deliver\", \"deliver\", \"deliver\", \"deliver\", \"demand\", \"demand\", \"demand\", \"demand\", \"demand\", \"demand\", \"descriptionat\", \"descriptionat\", \"descriptionat\", \"descriptionat\", \"descriptionat\", \"descriptionat\", \"detailswill\", \"dh\", \"dh\", \"dh\", \"dh\", \"dh\", \"dh\", \"dieluca\", \"digital\", \"digital\", \"digital\", \"digital\", \"digital\", \"digital\", \"disabilitie\", \"disabilitie\", \"disabilitie\", \"disabilitie\", \"disabilitie\", \"disabilitie\", \"displayedwill\", \"displayedwill\", \"displayedwill\", \"displayedwill\", \"displayedwill\", \"displayedwill\", \"distribution\", \"distribution\", \"distribution\", \"distribution\", \"distribution\", \"distribution\", \"dividend\", \"dividend\", \"dividend\", \"dividend\", \"dividend\", \"dividend\", \"donate\", \"donate\", \"donate\", \"donate\", \"donate\", \"donate\", \"drep\", \"dten\", \"dten\", \"dten\", \"earning\", \"earning\", \"earning\", \"earning\", \"earning\", \"earning\", \"edtupdate\", \"edtupdate\", \"edtupdate\", \"edtupdate\", \"edtupdate\", \"edtupdate\", \"eeo\", \"eeo\", \"eeo\", \"eeo\", \"eeo\", \"eeo\", \"effectdismiss\", \"effectdismiss\", \"effectdismiss\", \"effectdismiss\", \"effectdismiss\", \"effectdismiss\", \"electronic\", \"electronic\", \"electronic\", \"electronic\", \"electronic\", \"electronic\", \"emasimple\", \"emasimple\", \"emasimple\", \"emasimple\", \"emmaus\", \"emmaus\", \"emmaus\", \"emmaus\", \"emmaus\", \"emmaus\", \"empower\", \"empower\", \"empower\", \"empower\", \"empower\", \"empower\", \"enable\", \"enable\", \"enable\", \"enable\", \"enable\", \"enable\", \"endorse\", \"endorse\", \"endorse\", \"endorse\", \"endorse\", \"endorse\", \"endotracheal\", \"endotracheal\", \"energy\", \"energy\", \"energy\", \"energy\", \"energy\", \"energy\", \"englishonly\", \"englishonly\", \"englishonly\", \"englishonly\", \"englishonly\", \"englishonly\", \"enteral\", \"enteral\", \"enteral\", \"enterprise\", \"enterprise\", \"enterprise\", \"enterprise\", \"enterprise\", \"enterprise\", \"enterreturn\", \"enterreturn\", \"enterreturn\", \"enterreturn\", \"enterreturn\", \"enterreturn\", \"entertainment\", \"entertainment\", \"entertainment\", \"entertainment\", \"entertainment\", \"entertainment\", \"environmental\", \"environmental\", \"environmental\", \"environmental\", \"environmental\", \"environmental\", \"errorrequire\", \"errorrequire\", \"errorrequire\", \"errorrequire\", \"espanol\", \"espanol\", \"espanol\", \"espanol\", \"espanol\", \"espanol\", \"essay\", \"essay\", \"essay\", \"essay\", \"essay\", \"essay\", \"estate\", \"estate\", \"estate\", \"estate\", \"estate\", \"estate\", \"estateinv\", \"estateinv\", \"etf\", \"etf\", \"etf\", \"etf\", \"etf\", \"etf\", \"etfsb\", \"etfsb\", \"etfsb\", \"etfsb\", \"etfsb\", \"eurjapanese\", \"eurjapanese\", \"eurjapanese\", \"eurjapanese\", \"even\", \"even\", \"even\", \"even\", \"even\", \"even\", \"event\", \"event\", \"event\", \"event\", \"event\", \"event\", \"evisort\", \"evisort\", \"evisort\", \"exbulletin\", \"exbulletin\", \"exbulletin\", \"experience\", \"experience\", \"experience\", \"experience\", \"experience\", \"experience\", \"eyeart\", \"eyeart\", \"factor\", \"factor\", \"factor\", \"factor\", \"factor\", \"factor\", \"fake\", \"fake\", \"fake\", \"fake\", \"fake\", \"fake\", \"feature\", \"feature\", \"feature\", \"feature\", \"feature\", \"feature\", \"feedopen\", \"feedopen\", \"feedopen\", \"feedopen\", \"file\", \"file\", \"file\", \"file\", \"file\", \"file\", \"filefcc\", \"filefcc\", \"filefcc\", \"filefcc\", \"filefcc\", \"filefcc\", \"fileopen\", \"financial\", \"financial\", \"financial\", \"financial\", \"financial\", \"financial\", \"find\", \"find\", \"find\", \"find\", \"find\", \"find\", \"focusbitcoin\", \"focusbitcoin\", \"focusbitcoin\", \"focusbitcoin\", \"focusbitcoin\", \"focuseuro\", \"focuseuro\", \"focuseuro\", \"focuseuro\", \"focuseuro\", \"follow\", \"follow\", \"follow\", \"follow\", \"follow\", \"follow\", \"forecast\", \"forecast\", \"forecast\", \"forecast\", \"forecast\", \"forecast\", \"forextv\", \"forextv\", \"forextv\", \"forextv\", \"forextv\", \"forextv\", \"formationhead\", \"formationhead\", \"formationhead\", \"formationhead\", \"formationhead\", \"forumbecker\", \"furry\", \"furry\", \"furry\", \"furry\", \"furry\", \"furry\", \"futureschool\", \"futureschool\", \"gadget\", \"gadget\", \"gadget\", \"gadget\", \"gadget\", \"gadget\", \"game\", \"game\", \"game\", \"game\", \"game\", \"game\", \"gamesbeat\", \"gamesbeat\", \"gamesbeat\", \"gamesbeat\", \"gamesbeat\", \"gamesbeat\", \"gaming\", \"gaming\", \"gaming\", \"gaming\", \"gaming\", \"gaming\", \"gbpswiss\", \"gbpswiss\", \"gbpswiss\", \"gbpswiss\", \"gbpswiss\", \"gdpr\", \"gdpr\", \"gdpr\", \"gdpr\", \"gdpr\", \"gdpr\", \"general\", \"general\", \"general\", \"general\", \"general\", \"general\", \"generative\", \"generative\", \"generative\", \"generative\", \"generative\", \"generative\", \"get\", \"get\", \"get\", \"get\", \"get\", \"get\", \"girlfriend\", \"girlfriend\", \"girlfriend\", \"girlfriend\", \"girlfriend\", \"girlfriend\", \"giroux\", \"giroux\", \"giroux\", \"global\", \"global\", \"global\", \"global\", \"global\", \"global\", \"globant\", \"globant\", \"globant\", \"globant\", \"go\", \"go\", \"go\", \"go\", \"go\", \"go\", \"good\", \"good\", \"good\", \"good\", \"good\", \"good\", \"graft\", \"graft\", \"graft\", \"graft\", \"graft\", \"graft\", \"gran\", \"gran\", \"gran\", \"gran\", \"gran\", \"gran\", \"gray\", \"gray\", \"gray\", \"gray\", \"gray\", \"gray\", \"greta\", \"greta\", \"greta\", \"greta\", \"greta\", \"greta\", \"gross\", \"gross\", \"gross\", \"gross\", \"gross\", \"gross\", \"group\", \"group\", \"group\", \"group\", \"group\", \"group\", \"growth\", \"growth\", \"growth\", \"growth\", \"growth\", \"growth\", \"guide\", \"guide\", \"guide\", \"guide\", \"guide\", \"guide\", \"hailo\", \"hailo\", \"hailo\", \"hailo\", \"hailo\", \"hailo\", \"handleflag\", \"handleflag\", \"handleflag\", \"handleflag\", \"handleflag\", \"hawaii\", \"hawaii\", \"hawaii\", \"hawaii\", \"hawaii\", \"hawaii\", \"hdpe\", \"hdpe\", \"headphone\", \"headphone\", \"headphone\", \"headphone\", \"headphone\", \"headphone\", \"health\", \"health\", \"health\", \"health\", \"health\", \"health\", \"healthall\", \"healthall\", \"healthall\", \"healthall\", \"healthall\", \"healthall\", \"heavy\", \"heavy\", \"heavy\", \"heavy\", \"heavy\", \"heavy\", \"hector\", \"hector\", \"hector\", \"hector\", \"hector\", \"hector\", \"heka\", \"help\", \"help\", \"help\", \"help\", \"help\", \"help\", \"hemodialysis\", \"hemodialysis\", \"hemodialysis\", \"hemostasis\", \"hemostatic\", \"hemostatic\", \"hemostatic\", \"hemostatic\", \"hemostatic\", \"hollywood\", \"hollywood\", \"hollywood\", \"hollywood\", \"hollywood\", \"hollywood\", \"hour\", \"hour\", \"hour\", \"hour\", \"hour\", \"hour\", \"human\", \"human\", \"human\", \"human\", \"human\", \"human\", \"hybriu\", \"ihrer\", \"ihrer\", \"ihrer\", \"ihrer\", \"ihrer\", \"image\", \"image\", \"image\", \"image\", \"image\", \"image\", \"impact\", \"impact\", \"impact\", \"impact\", \"impact\", \"impact\", \"include\", \"include\", \"include\", \"include\", \"include\", \"include\", \"inconnect\", \"industry\", \"industry\", \"industry\", \"industry\", \"industry\", \"industry\", \"inforgrowth\", \"inforgrowth\", \"inforgrowth\", \"information\", \"information\", \"information\", \"information\", \"information\", \"information\", \"inlanguage\", \"inlanguage\", \"inlanguage\", \"inlanguage\", \"inlanguage\", \"inlanguage\", \"inquiry\", \"inquiry\", \"inquiry\", \"inquiry\", \"inquiry\", \"inquiry\", \"inspection\", \"inspection\", \"inspection\", \"inspection\", \"inspection\", \"inspection\", \"intelligence\", \"intelligence\", \"intelligence\", \"intelligence\", \"intelligence\", \"intelligence\", \"intelligencea\", \"intelligencea\", \"intelligencea\", \"intelligencea\", \"intelligencea\", \"intelligencea\", \"interest\", \"interest\", \"interest\", \"interest\", \"interest\", \"interest\", \"interestall\", \"interestall\", \"interestall\", \"interestall\", \"interestall\", \"interestall\", \"intermodal\", \"intermodal\", \"intermodal\", \"intermodal\", \"intermodal\", \"intermodal\", \"invest\", \"invest\", \"invest\", \"invest\", \"invest\", \"invest\", \"investingall\", \"investingall\", \"investingall\", \"investingall\", \"ios\", \"ios\", \"ios\", \"ios\", \"ios\", \"ios\", \"iphone\", \"iphone\", \"iphone\", \"iphone\", \"iphone\", \"iphone\", \"ir\", \"ir\", \"ir\", \"ir\", \"ir\", \"ir\", \"janitor\", \"janitor\", \"janitor\", \"job\", \"job\", \"job\", \"job\", \"job\", \"job\", \"jute\", \"jute\", \"kbbi\", \"kbbi\", \"kbbi\", \"kbbi\", \"kenai\", \"key\", \"key\", \"key\", \"key\", \"key\", \"key\", \"keyplayer\", \"keyplayer\", \"know\", \"know\", \"know\", \"know\", \"know\", \"know\", \"lampoon\", \"landscape\", \"landscape\", \"landscape\", \"landscape\", \"landscape\", \"landscape\", \"laptop\", \"laptop\", \"laptop\", \"laptop\", \"laptop\", \"laptop\", \"latestly\", \"latestly\", \"latestly\", \"latestly\", \"latestly\", \"lawyer\", \"lawyer\", \"lawyer\", \"lawyer\", \"lawyer\", \"lawyer\", \"lead\", \"lead\", \"lead\", \"lead\", \"lead\", \"lead\", \"learn\", \"learn\", \"learn\", \"learn\", \"learn\", \"learn\", \"legaltech\", \"legaltech\", \"legaltech\", \"leverage\", \"leverage\", \"leverage\", \"leverage\", \"leverage\", \"leverage\", \"levidow\", \"lineskeltn\", \"lineskeltn\", \"lineskeltn\", \"lineskeltn\", \"lisk\", \"lisk\", \"lisk\", \"lisk\", \"lisk\", \"lisk\", \"live\", \"live\", \"live\", \"live\", \"live\", \"live\", \"local\", \"local\", \"local\", \"local\", \"local\", \"local\", \"macdmove\", \"macdmove\", \"macdmove\", \"macdmove\", \"machine\", \"machine\", \"machine\", \"machine\", \"machine\", \"machine\", \"mahjong\", \"mahjong\", \"mahjong\", \"mahjong\", \"make\", \"make\", \"make\", \"make\", \"make\", \"make\", \"manmade\", \"manmade\", \"manmade\", \"manmade\", \"manmade\", \"manmade\", \"manufacturer\", \"manufacturer\", \"manufacturer\", \"manufacturer\", \"manufacturer\", \"manufacturer\", \"market\", \"market\", \"market\", \"market\", \"market\", \"market\", \"matchup\", \"matchup\", \"matchup\", \"matchup\", \"matchup\", \"matchup\", \"matrix\", \"matrix\", \"matrix\", \"matrix\", \"matrix\", \"matrix\", \"mediaall\", \"mediaall\", \"mediaall\", \"mediaall\", \"mediaall\", \"mediaall\", \"medium\", \"medium\", \"medium\", \"medium\", \"medium\", \"medium\", \"metal\", \"metal\", \"metal\", \"metal\", \"metal\", \"metal\", \"metallurgy\", \"metallurgy\", \"metallurgy\", \"metallurgy\", \"metallurgy\", \"metallurgy\", \"metalworke\", \"metalworke\", \"metalworke\", \"metalworke\", \"metalworke\", \"metalworke\", \"mfimove\", \"mfimove\", \"mfimove\", \"mfimove\", \"min\", \"min\", \"min\", \"min\", \"min\", \"min\", \"mining\", \"mining\", \"mining\", \"mining\", \"mining\", \"mining\", \"mlaas\", \"mlaas\", \"mlaas\", \"mlaas\", \"model\", \"model\", \"model\", \"model\", \"model\", \"model\", \"moxa\", \"moxa\", \"moxa\", \"mumbai\", \"mumbai\", \"mumbai\", \"mumbai\", \"mumbai\", \"mumbai\", \"murano\", \"musk\", \"musk\", \"musk\", \"musk\", \"musk\", \"musk\", \"mustlog\", \"nav\", \"nav\", \"nav\", \"nav\", \"nav\", \"necessarily\", \"necessarily\", \"necessarily\", \"necessarily\", \"necessarily\", \"necessarily\", \"nephrostomy\", \"new\", \"new\", \"new\", \"new\", \"new\", \"new\", \"news\", \"news\", \"news\", \"news\", \"news\", \"news\", \"newseconomic\", \"newseconomic\", \"newseconomic\", \"newseconomic\", \"newsfeed\", \"newsfeed\", \"newsfeed\", \"newsfeed\", \"newsfeed\", \"newsfeed\", \"newswire\", \"newswire\", \"newswire\", \"newswire\", \"newswire\", \"newswire\", \"nhl\", \"nhl\", \"nhl\", \"nhl\", \"nhl\", \"nhl\", \"nonalcoholic\", \"nonalcoholic\", \"nonalcoholic\", \"nonalcoholic\", \"nonalcoholic\", \"nonalcoholic\", \"nonnecessary\", \"nonnecessary\", \"nonnecessary\", \"nonnecessary\", \"nonnecessary\", \"nonnecessary\", \"nonus\", \"nonus\", \"nonus\", \"nonus\", \"nonus\", \"nonus\", \"nowfeatured\", \"nzdcanadian\", \"nzdcanadian\", \"nzdcanadian\", \"nzdcanadian\", \"nzdcanadian\", \"obvparabolic\", \"obvparabolic\", \"obvparabolic\", \"obvparabolic\", \"onesoil\", \"onesoil\", \"open\", \"open\", \"open\", \"open\", \"open\", \"open\", \"opportunity\", \"opportunity\", \"opportunity\", \"opportunity\", \"opportunity\", \"opportunity\", \"organization\", \"organization\", \"organization\", \"organization\", \"organization\", \"organization\", \"orian\", \"orian\", \"original\", \"original\", \"original\", \"original\", \"original\", \"original\", \"ouret\", \"outlook\", \"outlook\", \"outlook\", \"outlook\", \"outlook\", \"outlook\", \"overjet\", \"overjet\", \"overjet\", \"overjet\", \"overview\", \"overview\", \"overview\", \"overview\", \"overview\", \"overview\", \"overviewview\", \"overviewview\", \"overviewview\", \"overviewview\", \"overviewview\", \"overviewview\", \"patient\", \"patient\", \"patient\", \"patient\", \"patient\", \"patient\", \"patr\\u00f3n\", \"patr\\u00f3n\", \"patr\\u00f3n\", \"pause\", \"pause\", \"pause\", \"pause\", \"pause\", \"pause\", \"pc\", \"pc\", \"pc\", \"pc\", \"pc\", \"pc\", \"pensioner\", \"people\", \"people\", \"people\", \"people\", \"people\", \"people\", \"percnt\", \"percnt\", \"percnt\", \"percnt\", \"percnt\", \"percnt\", \"period\", \"period\", \"period\", \"period\", \"period\", \"period\", \"peripheral\", \"peripheral\", \"peripheral\", \"peripheral\", \"peripheral\", \"peripheral\", \"pestel\", \"pestel\", \"pestle\", \"philler\", \"piercey\", \"piercey\", \"plagiarism\", \"plagiarism\", \"plagiarism\", \"plagiarism\", \"plagiarism\", \"plagiarism\", \"platform\", \"platform\", \"platform\", \"platform\", \"platform\", \"platform\", \"play\", \"play\", \"play\", \"play\", \"play\", \"play\", \"player\", \"player\", \"player\", \"player\", \"player\", \"player\", \"policy\", \"policy\", \"policy\", \"policy\", \"policy\", \"policy\", \"policyeeo\", \"policyeeo\", \"policyeeo\", \"policyeeo\", \"policyeeo\", \"policyeeo\", \"porn\", \"porn\", \"porn\", \"porn\", \"porn\", \"porn\", \"porter\", \"porter\", \"porter\", \"porter\", \"porter\", \"porter\", \"post\", \"post\", \"post\", \"post\", \"post\", \"post\", \"precip\", \"precip\", \"precip\", \"precip\", \"precip\", \"precip\", \"press\", \"press\", \"press\", \"press\", \"press\", \"press\", \"presswire\", \"presswire\", \"presswire\", \"presswire\", \"presswire\", \"presswire\", \"prisma\", \"prisma\", \"prisma\", \"prisma\", \"prisma\", \"privacy\", \"privacy\", \"privacy\", \"privacy\", \"privacy\", \"privacy\", \"prn\", \"prn\", \"prn\", \"prn\", \"prn\", \"prn\", \"prnewswire\", \"prnewswire\", \"prnewswire\", \"prnewswire\", \"prnewswire\", \"prnewswire\", \"product\", \"product\", \"product\", \"product\", \"product\", \"product\", \"profnet\", \"profnet\", \"profnet\", \"profnet\", \"profnet\", \"profnet\", \"prolapse\", \"prolapse\", \"prosthesis\", \"prosthesis\", \"prosthesis\", \"prosthesis\", \"prosthesis\", \"prosthesis\", \"protein\", \"protein\", \"protein\", \"protein\", \"protein\", \"protein\", \"provide\", \"provide\", \"provide\", \"provide\", \"provide\", \"provide\", \"provider\", \"provider\", \"provider\", \"provider\", \"provider\", \"provider\", \"public\", \"public\", \"public\", \"public\", \"public\", \"public\", \"quakertown\", \"quakertown\", \"quakertown\", \"quakertown\", \"quakertown\", \"quakertown\", \"racy\", \"radar\", \"radar\", \"radar\", \"radar\", \"radar\", \"radar\", \"radio\", \"radio\", \"radio\", \"radio\", \"radio\", \"radio\", \"railroad\", \"railroad\", \"railroad\", \"railroad\", \"railroad\", \"railroad\", \"rating\", \"rating\", \"rating\", \"rating\", \"rating\", \"rating\", \"read\", \"read\", \"read\", \"read\", \"read\", \"read\", \"real\", \"real\", \"real\", \"real\", \"real\", \"real\", \"redistribute\", \"redistribute\", \"redistribute\", \"redistribute\", \"redistribute\", \"redistribute\", \"reflect\", \"reflect\", \"reflect\", \"reflect\", \"reflect\", \"reflect\", \"region\", \"region\", \"region\", \"region\", \"region\", \"region\", \"regional\", \"regional\", \"regional\", \"regional\", \"regional\", \"regional\", \"regionwise\", \"regionwise\", \"regionwise\", \"release\", \"release\", \"release\", \"release\", \"release\", \"release\", \"report\", \"report\", \"report\", \"report\", \"report\", \"report\", \"reportclose\", \"reportclose\", \"reportclose\", \"reportclose\", \"reportclose\", \"reportclose\", \"research\", \"research\", \"research\", \"research\", \"research\", \"research\", \"reservedmost\", \"reservedmost\", \"reservedmost\", \"reservedmost\", \"reservedmost\", \"resource\", \"resource\", \"resource\", \"resource\", \"resource\", \"resource\", \"restraint\", \"restraint\", \"restraint\", \"restraint\", \"restraint\", \"restraint\", \"retailall\", \"retailall\", \"retailall\", \"retailall\", \"retailall\", \"retailall\", \"revenue\", \"revenue\", \"revenue\", \"revenue\", \"revenue\", \"revenue\", \"review\", \"review\", \"review\", \"review\", \"review\", \"review\", \"right\", \"right\", \"right\", \"right\", \"right\", \"right\", \"rlive\", \"rlive\", \"rlive\", \"rlive\", \"rlive\", \"roadwork\", \"roadwork\", \"roadwork\", \"roadwork\", \"roadwork\", \"roadwork\", \"rocrelative\", \"rocrelative\", \"rocrelative\", \"rocrelative\", \"rocrelative\", \"rokit\", \"rss\", \"rss\", \"rss\", \"rss\", \"rss\", \"rss\", \"s\", \"s\", \"s\", \"s\", \"s\", \"s\", \"sarrate\", \"sarrate\", \"sarrate\", \"sarrate\", \"say\", \"say\", \"say\", \"say\", \"say\", \"say\", \"schedule\", \"schedule\", \"schedule\", \"schedule\", \"schedule\", \"schedule\", \"school\", \"school\", \"school\", \"school\", \"school\", \"school\", \"schwartz\", \"schwartz\", \"schwartz\", \"schwartz\", \"schwartz\", \"schwartz\", \"scope\", \"scope\", \"scope\", \"scope\", \"scope\", \"scope\", \"scoreboard\", \"scoreboard\", \"scoreboard\", \"scoreboard\", \"scoreboard\", \"scoreboard\", \"screener\", \"screener\", \"screener\", \"screener\", \"screener\", \"screener\", \"sealant\", \"see\", \"see\", \"see\", \"see\", \"see\", \"see\", \"seem\", \"seem\", \"seem\", \"seem\", \"seem\", \"seem\", \"segment\", \"segment\", \"segment\", \"segment\", \"segment\", \"segment\", \"segmental\", \"segmental\", \"segmentation\", \"segmentation\", \"segmentation\", \"segmentation\", \"segmentation\", \"segmentation\", \"sensiml\", \"sensiml\", \"sensiml\", \"seo\", \"seo\", \"seo\", \"seo\", \"seo\", \"seo\", \"service\", \"service\", \"service\", \"service\", \"service\", \"service\", \"set\", \"set\", \"set\", \"set\", \"set\", \"set\", \"shipbuilding\", \"shipbuilding\", \"shipbuilding\", \"shipbuilding\", \"shipbuilding\", \"shipbuilding\", \"sign\", \"sign\", \"sign\", \"sign\", \"sign\", \"sign\", \"site\", \"site\", \"site\", \"site\", \"site\", \"site\", \"size\", \"size\", \"size\", \"size\", \"size\", \"size\", \"skitai\", \"slovensko\", \"slovensko\", \"slovensko\", \"slovensko\", \"slovensko\", \"slovensko\", \"solution\", \"solution\", \"solution\", \"solution\", \"solution\", \"solution\", \"song\", \"song\", \"song\", \"song\", \"song\", \"song\", \"sophy\", \"sophy\", \"sophy\", \"sophy\", \"sophy\", \"sophy\", \"soun\", \"spartannash\", \"sport\", \"sport\", \"sport\", \"sport\", \"sport\", \"sport\", \"sportsall\", \"sportsall\", \"sportsall\", \"sportsall\", \"sportsall\", \"sportsall\", \"starfille\", \"starfille\", \"starfille\", \"starfille\", \"starfille\", \"statement\", \"statement\", \"statement\", \"statement\", \"statement\", \"statement\", \"stcvolatility\", \"stcvolatility\", \"stcvolatility\", \"stcvolatility\", \"stent\", \"stent\", \"stent\", \"stent\", \"stent\", \"stent\", \"stock\", \"stock\", \"stock\", \"stock\", \"stock\", \"stock\", \"stocksbest\", \"stocksbest\", \"stocksbest\", \"stocksbest\", \"stocksbest\", \"store\", \"store\", \"store\", \"store\", \"store\", \"store\", \"stormcenter\", \"stormcenter\", \"stormcenter\", \"stormcenter\", \"stormcenter\", \"stormcenter\", \"story\", \"story\", \"story\", \"story\", \"story\", \"story\", \"storysubmit\", \"storysubmit\", \"storysubmit\", \"storysubmit\", \"storysubmit\", \"storysubmit\", \"student\", \"student\", \"student\", \"student\", \"student\", \"student\", \"study\", \"study\", \"study\", \"study\", \"study\", \"study\", \"subsegment\", \"subsegment\", \"subsegment\", \"subsegment\", \"subsegment\", \"subsegment\", \"sunrise\", \"sunrise\", \"sunrise\", \"sunrise\", \"sunrise\", \"sunrise\", \"supernew\", \"supernew\", \"swot\", \"swot\", \"swot\", \"swot\", \"swot\", \"swot\", \"symbol\", \"symbol\", \"symbol\", \"symbol\", \"symbol\", \"symbol\", \"tab\", \"tab\", \"tab\", \"tab\", \"tab\", \"tab\", \"tablet\", \"tablet\", \"tablet\", \"tablet\", \"tablet\", \"tablet\", \"take\", \"take\", \"take\", \"take\", \"take\", \"take\", \"teacher\", \"teacher\", \"teacher\", \"teacher\", \"teacher\", \"teacher\", \"teamadvertise\", \"teamadvertise\", \"teamadvertise\", \"teamadvertise\", \"teamadvertise\", \"teamadvertise\", \"teamcontact\", \"teamcontact\", \"teamcontact\", \"teamcontact\", \"teamcontact\", \"teamcontact\", \"teammeet\", \"teammeet\", \"teammeet\", \"teammeet\", \"teammeet\", \"teammeet\", \"tech\", \"tech\", \"tech\", \"tech\", \"tech\", \"tech\", \"techdirt\", \"techdirt\", \"technology\", \"technology\", \"technology\", \"technology\", \"technology\", \"technology\", \"technologyall\", \"technologyall\", \"technologyall\", \"technologyall\", \"technologyall\", \"technologyall\", \"techradar\", \"techradar\", \"techradar\", \"techradar\", \"techradar\", \"techradar\", \"techrepublic\", \"techrepublic\", \"techrepublic\", \"techrepublic\", \"techrepublic\", \"techrepublic\", \"telecast\", \"telecast\", \"telecast\", \"telegraph\", \"telegraph\", \"telegraph\", \"telegraph\", \"telegraph\", \"tell\", \"tell\", \"tell\", \"tell\", \"tell\", \"tell\", \"terumo\", \"terumo\", \"think\", \"think\", \"think\", \"think\", \"think\", \"think\", \"thriver\", \"time\", \"time\", \"time\", \"time\", \"time\", \"time\", \"timesorfill\", \"tobacco\", \"tobacco\", \"tobacco\", \"tobacco\", \"tobacco\", \"tobacco\", \"toc\", \"toc\", \"toc\", \"toc\", \"toc\", \"toc\", \"toleranceca\", \"toleranceca\", \"toleranceca\", \"tonight\", \"tonight\", \"tonight\", \"tonight\", \"tonight\", \"tonight\", \"tool\", \"tool\", \"tool\", \"tool\", \"tool\", \"tool\", \"top\", \"top\", \"top\", \"top\", \"top\", \"top\", \"topdouble\", \"topdouble\", \"topdouble\", \"topdouble\", \"traffic\", \"traffic\", \"traffic\", \"traffic\", \"traffic\", \"traffic\", \"travel\", \"travel\", \"travel\", \"travel\", \"travel\", \"travel\", \"travelall\", \"travelall\", \"travelall\", \"travelall\", \"travelall\", \"travelall\", \"trend\", \"trend\", \"trend\", \"trend\", \"trend\", \"trend\", \"triangleprice\", \"triangleprice\", \"triangleprice\", \"triangleprice\", \"triangleprice\", \"trucking\", \"trucking\", \"trucking\", \"trucking\", \"trucking\", \"trucking\", \"tujju\", \"tvgray\", \"tvgray\", \"tvgray\", \"tvgray\", \"tvgray\", \"tvgray\", \"type\", \"type\", \"type\", \"type\", \"type\", \"type\", \"ucit\", \"ucit\", \"ucit\", \"unitq\", \"unitq\", \"unitq\", \"update\", \"update\", \"update\", \"update\", \"update\", \"update\", \"urdupoint\", \"urdupoint\", \"urodynamic\", \"use\", \"use\", \"use\", \"use\", \"use\", \"use\", \"user\", \"user\", \"user\", \"user\", \"user\", \"user\", \"usmeet\", \"usmeet\", \"usmeet\", \"usmeet\", \"usmeet\", \"usmeet\", \"ussubmit\", \"ussubmit\", \"ussubmit\", \"ussubmit\", \"ussubmit\", \"ussubmit\", \"vaowilliam\", \"vaowilliam\", \"vaowilliam\", \"vaowilliam\", \"vascular\", \"vascular\", \"vascular\", \"vascular\", \"vascular\", \"vascular\", \"vbat\", \"vbat\", \"vbat\", \"vbat\", \"vbat\", \"vbat\", \"venous\", \"venous\", \"ventilation\", \"ventilation\", \"ventilation\", \"ventilation\", \"ventilation\", \"ventilation\", \"venturebeat\", \"venturebeat\", \"venturebeat\", \"venturebeat\", \"venturebeat\", \"venturebeat\", \"video\", \"video\", \"video\", \"video\", \"video\", \"video\", \"videoscircle\", \"videoscircle\", \"videoscircle\", \"videoscircle\", \"videoscircle\", \"videoscircle\", \"viral\", \"viral\", \"viral\", \"viral\", \"viral\", \"viral\", \"visitor\", \"visitor\", \"visitor\", \"visitor\", \"visitor\", \"visitor\", \"volavolume\", \"volavolume\", \"volavolume\", \"volavolume\", \"volpvolume\", \"volpvolume\", \"volpvolume\", \"volpvolume\", \"volpvolume\", \"volunteer\", \"volunteer\", \"volunteer\", \"volunteer\", \"volunteer\", \"volunteer\", \"volvolume\", \"volvolume\", \"volvolume\", \"volvolume\", \"vpn\", \"vpn\", \"vpn\", \"vpn\", \"vpn\", \"vpn\", \"warn\", \"warn\", \"warn\", \"warn\", \"warn\", \"warn\", \"watch\", \"watch\", \"watch\", \"watch\", \"watch\", \"watch\", \"watchlistare\", \"watchlistare\", \"watchlistare\", \"wdpntv\", \"wdpntv\", \"wdpntv\", \"wdpntv\", \"wdpntv\", \"wdpntv\", \"weather\", \"weather\", \"weather\", \"weather\", \"weather\", \"weather\", \"website\", \"website\", \"website\", \"website\", \"website\", \"website\", \"wedgefalling\", \"wedgefalling\", \"wedgefalling\", \"wedgefalling\", \"wedgehead\", \"wedgehead\", \"wedgehead\", \"wedgehead\", \"wedgehead\", \"week\", \"week\", \"week\", \"week\", \"week\", \"week\", \"well\", \"well\", \"well\", \"well\", \"well\", \"well\", \"wfmz\", \"wfmz\", \"wfmz\", \"wfmz\", \"wfmz\", \"wfmz\", \"wfmzcom\", \"wfmzcom\", \"wfmzcom\", \"wfmztv\", \"wfmztv\", \"wfmztv\", \"wfmztv\", \"wfmztv\", \"wfmztv\", \"wgn\", \"wgn\", \"wgn\", \"wgn\", \"window\", \"window\", \"window\", \"window\", \"window\", \"window\", \"wivt\", \"wkno\", \"wknofm\", \"wmot\", \"wmot\", \"wmot\", \"wmot\", \"wmot\", \"wnct\", \"wnct\", \"wnct\", \"wnct\", \"wnct\", \"work\", \"work\", \"work\", \"work\", \"work\", \"work\", \"world\", \"world\", \"world\", \"world\", \"world\", \"world\", \"write\", \"write\", \"write\", \"write\", \"write\", \"write\", \"wshu\", \"wshu\", \"wshu\", \"wshu\", \"wunc\", \"wunc\", \"wunc\", \"wunc\", \"wunc\", \"wunc\", \"year\", \"year\", \"year\", \"year\", \"year\", \"year\", \"youget\", \"youmore\", \"zdnet\", \"zdnet\", \"zdnet\", \"zdnet\", \"zdnet\", \"zdnet\", \"\\u043a\\u043e\\u0438\\u0442\\u043e\", \"\\u043a\\u043e\\u0438\\u0442\\u043e\", \"\\u043a\\u043e\\u0438\\u0442\\u043e\", \"\\u043a\\u043e\\u0438\\u0442\\u043e\", \"\\u043a\\u043e\\u0438\\u0442\\u043e\", \"\\u0440\\u043e\\u0441\\u0441\\u0438\\u044f\", \"\\u0440\\u043e\\u0441\\u0441\\u0438\\u044f\", \"\\u0440\\u043e\\u0441\\u0441\\u0438\\u044f\", \"\\u0440\\u043e\\u0441\\u0441\\u0438\\u044f\", \"\\u0440\\u043e\\u0441\\u0441\\u0438\\u044f\", \"\\u0440\\u043e\\u0441\\u0441\\u0438\\u044f\"]}, \"R\": 30, \"lambda.step\": 0.01, \"plot.opts\": {\"xlab\": \"PC1\", \"ylab\": \"PC2\"}, \"topic.order\": [1, 2, 3, 4, 5, 6]};\n",
       "\n",
       "function LDAvis_load_lib(url, callback){\n",
       "  var s = document.createElement('script');\n",
       "  s.src = url;\n",
       "  s.async = true;\n",
       "  s.onreadystatechange = s.onload = callback;\n",
       "  s.onerror = function(){console.warn(\"failed to load library \" + url);};\n",
       "  document.getElementsByTagName(\"head\")[0].appendChild(s);\n",
       "}\n",
       "\n",
       "if(typeof(LDAvis) !== \"undefined\"){\n",
       "   // already loaded: just create the visualization\n",
       "   !function(LDAvis){\n",
       "       new LDAvis(\"#\" + \"ldavis_el9561397050342933281882614770\", ldavis_el9561397050342933281882614770_data);\n",
       "   }(LDAvis);\n",
       "}else if(typeof define === \"function\" && define.amd){\n",
       "   // require.js is available: use it to load d3/LDAvis\n",
       "   require.config({paths: {d3: \"https://d3js.org/d3.v5\"}});\n",
       "   require([\"d3\"], function(d3){\n",
       "      window.d3 = d3;\n",
       "      LDAvis_load_lib(\"https://cdn.jsdelivr.net/gh/bmabey/pyLDAvis@3.3.1/pyLDAvis/js/ldavis.v3.0.0.js\", function(){\n",
       "        new LDAvis(\"#\" + \"ldavis_el9561397050342933281882614770\", ldavis_el9561397050342933281882614770_data);\n",
       "      });\n",
       "    });\n",
       "}else{\n",
       "    // require.js not available: dynamically load d3 & LDAvis\n",
       "    LDAvis_load_lib(\"https://d3js.org/d3.v5.js\", function(){\n",
       "         LDAvis_load_lib(\"https://cdn.jsdelivr.net/gh/bmabey/pyLDAvis@3.3.1/pyLDAvis/js/ldavis.v3.0.0.js\", function(){\n",
       "                 new LDAvis(\"#\" + \"ldavis_el9561397050342933281882614770\", ldavis_el9561397050342933281882614770_data);\n",
       "            })\n",
       "         });\n",
       "}\n",
       "</script>"
      ],
      "text/plain": [
       "<IPython.core.display.HTML object>"
      ]
     },
     "execution_count": 24,
     "metadata": {},
     "output_type": "execute_result"
    }
   ],
   "source": [
    "%%time\n",
    "\n",
    "lda_display_text = gensimvis.prepare(tuned_lda_model_text, doc_term_matrix, dictionary, sort_topics=False, mds='mmds')\n",
    "pyLDAvis.display(lda_display_text)"
   ]
  }
 ],
 "metadata": {
  "environment": {
   "kernel": "python3",
   "name": "tf2-cpu.2-11.m112",
   "type": "gcloud",
   "uri": "gcr.io/deeplearning-platform-release/tf2-cpu.2-11:m112"
  },
  "kernelspec": {
   "display_name": "Python 3 (ipykernel)",
   "language": "python",
   "name": "python3"
  },
  "language_info": {
   "codemirror_mode": {
    "name": "ipython",
    "version": 3
   },
   "file_extension": ".py",
   "mimetype": "text/x-python",
   "name": "python",
   "nbconvert_exporter": "python",
   "pygments_lexer": "ipython3",
   "version": "3.11.4"
  }
 },
 "nbformat": 4,
 "nbformat_minor": 5
}
